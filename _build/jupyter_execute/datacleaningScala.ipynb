{
 "cells": [
  {
   "cell_type": "markdown",
   "metadata": {},
   "source": [
    "# Data Cleaning Scala\n",
    "\n",
    "Here we try to run some scala code to see if this is also possible.  \n",
    " "
   ]
  },
  {
   "cell_type": "markdown",
   "metadata": {},
   "source": [
    "```{figure} ./images/test.drawio.png\n",
    ":height: 250px\n",
    ":name: architecture\n",
    "\n",
    "Some architecture\n",
    "```"
   ]
  },
  {
   "cell_type": "code",
   "execution_count": 1,
   "metadata": {},
   "outputs": [
    {
     "data": {
      "text/plain": [
       "\u001b[32mimport \u001b[39m\u001b[36m$ivy.$                                   // Or use any other 2.x version here\n",
       "\u001b[39m\n",
       "\u001b[32mimport \u001b[39m\u001b[36m$ivy.$                                // Not required since almond 0.7.0 (will be automatically added when importing spark)\u001b[39m"
      ]
     },
     "execution_count": 1,
     "metadata": {},
     "output_type": "execute_result"
    }
   ],
   "source": [
    "import $ivy.`org.apache.spark::spark-sql:2.4.0` // Or use any other 2.x version here\n",
    "import $ivy.`sh.almond::almond-spark:0.10.9` // Not required since almond 0.7.0 (will be automatically added when importing spark)"
   ]
  },
  {
   "cell_type": "code",
   "execution_count": 2,
   "metadata": {},
   "outputs": [
    {
     "data": {
      "text/plain": [
       "\u001b[32mimport \u001b[39m\u001b[36morg.apache.log4j.{Level, Logger}\n",
       "\u001b[39m"
      ]
     },
     "execution_count": 2,
     "metadata": {},
     "output_type": "execute_result"
    }
   ],
   "source": [
    "import org.apache.log4j.{Level, Logger}\n",
    "Logger.getLogger(\"org\").setLevel(Level.OFF)"
   ]
  },
  {
   "cell_type": "code",
   "execution_count": 3,
   "metadata": {},
   "outputs": [
    {
     "name": "stdout",
     "output_type": "stream",
     "text": [
      "Loading spark-stubs"
     ]
    },
    {
     "name": "stdout",
     "output_type": "stream",
     "text": [
      "\n"
     ]
    },
    {
     "name": "stdout",
     "output_type": "stream",
     "text": [
      "Getting spark JARs"
     ]
    },
    {
     "name": "stdout",
     "output_type": "stream",
     "text": [
      "\n"
     ]
    },
    {
     "ename": "",
     "evalue": "",
     "output_type": "error",
     "traceback": [
      "\u001b[31mjava.lang.Exception: Error starting class server at http://x86_64-conda-linux-gnu:38629\u001b[39m\n  org.apache.spark.sql.ammonitesparkinternals.AmmoniteClassServer.<init>(\u001b[32mAmmoniteClassServer.scala\u001b[39m:\u001b[32m60\u001b[39m)\n  org.apache.spark.sql.ammonitesparkinternals.AmmoniteSparkSessionBuilder.getOrCreate(\u001b[32mAmmoniteSparkSessionBuilder.scala\u001b[39m:\u001b[32m268\u001b[39m)\n  org.apache.spark.sql.almondinternals.NotebookSparkSessionBuilder.getOrCreate(\u001b[32mNotebookSparkSessionBuilder.scala\u001b[39m:\u001b[32m62\u001b[39m)\n  ammonite.$sess.cmd2$Helper.<init>(\u001b[32mcmd2.sc\u001b[39m:\u001b[32m5\u001b[39m)\n  ammonite.$sess.cmd2$.<init>(\u001b[32mcmd2.sc\u001b[39m:\u001b[32m7\u001b[39m)\n  ammonite.$sess.cmd2$.<clinit>(\u001b[32mcmd2.sc\u001b[39m:\u001b[32m-1\u001b[39m)\n\u001b[31mjava.net.SocketException: Unresolved address\u001b[39m\n  sun.nio.ch.Net.translateToSocketException(\u001b[32mNet.java\u001b[39m:\u001b[32m131\u001b[39m)\n  sun.nio.ch.Net.translateException(\u001b[32mNet.java\u001b[39m:\u001b[32m157\u001b[39m)\n  sun.nio.ch.Net.translateException(\u001b[32mNet.java\u001b[39m:\u001b[32m163\u001b[39m)\n  sun.nio.ch.ServerSocketAdaptor.bind(\u001b[32mServerSocketAdaptor.java\u001b[39m:\u001b[32m76\u001b[39m)\n  org.eclipse.jetty.server.ServerConnector.openAcceptChannel(\u001b[32mServerConnector.java\u001b[39m:\u001b[32m345\u001b[39m)\n  org.eclipse.jetty.server.ServerConnector.open(\u001b[32mServerConnector.java\u001b[39m:\u001b[32m310\u001b[39m)\n  org.eclipse.jetty.server.AbstractNetworkConnector.doStart(\u001b[32mAbstractNetworkConnector.java\u001b[39m:\u001b[32m80\u001b[39m)\n  org.eclipse.jetty.server.ServerConnector.doStart(\u001b[32mServerConnector.java\u001b[39m:\u001b[32m234\u001b[39m)\n  org.eclipse.jetty.util.component.AbstractLifeCycle.start(\u001b[32mAbstractLifeCycle.java\u001b[39m:\u001b[32m72\u001b[39m)\n  org.eclipse.jetty.server.Server.doStart(\u001b[32mServer.java\u001b[39m:\u001b[32m386\u001b[39m)\n  org.eclipse.jetty.util.component.AbstractLifeCycle.start(\u001b[32mAbstractLifeCycle.java\u001b[39m:\u001b[32m72\u001b[39m)\n  org.apache.spark.sql.ammonitesparkinternals.AmmoniteClassServer.<init>(\u001b[32mAmmoniteClassServer.scala\u001b[39m:\u001b[32m57\u001b[39m)\n  org.apache.spark.sql.ammonitesparkinternals.AmmoniteSparkSessionBuilder.getOrCreate(\u001b[32mAmmoniteSparkSessionBuilder.scala\u001b[39m:\u001b[32m268\u001b[39m)\n  org.apache.spark.sql.almondinternals.NotebookSparkSessionBuilder.getOrCreate(\u001b[32mNotebookSparkSessionBuilder.scala\u001b[39m:\u001b[32m62\u001b[39m)\n  ammonite.$sess.cmd2$Helper.<init>(\u001b[32mcmd2.sc\u001b[39m:\u001b[32m5\u001b[39m)\n  ammonite.$sess.cmd2$.<init>(\u001b[32mcmd2.sc\u001b[39m:\u001b[32m7\u001b[39m)\n  ammonite.$sess.cmd2$.<clinit>(\u001b[32mcmd2.sc\u001b[39m:\u001b[32m-1\u001b[39m)\n\u001b[31mjava.nio.channels.UnresolvedAddressException\u001b[39m\n  sun.nio.ch.Net.checkAddress(\u001b[32mNet.java\u001b[39m:\u001b[32m101\u001b[39m)\n  sun.nio.ch.ServerSocketChannelImpl.bind(\u001b[32mServerSocketChannelImpl.java\u001b[39m:\u001b[32m218\u001b[39m)\n  sun.nio.ch.ServerSocketAdaptor.bind(\u001b[32mServerSocketAdaptor.java\u001b[39m:\u001b[32m74\u001b[39m)\n  org.eclipse.jetty.server.ServerConnector.openAcceptChannel(\u001b[32mServerConnector.java\u001b[39m:\u001b[32m345\u001b[39m)\n  org.eclipse.jetty.server.ServerConnector.open(\u001b[32mServerConnector.java\u001b[39m:\u001b[32m310\u001b[39m)\n  org.eclipse.jetty.server.AbstractNetworkConnector.doStart(\u001b[32mAbstractNetworkConnector.java\u001b[39m:\u001b[32m80\u001b[39m)\n  org.eclipse.jetty.server.ServerConnector.doStart(\u001b[32mServerConnector.java\u001b[39m:\u001b[32m234\u001b[39m)\n  org.eclipse.jetty.util.component.AbstractLifeCycle.start(\u001b[32mAbstractLifeCycle.java\u001b[39m:\u001b[32m72\u001b[39m)\n  org.eclipse.jetty.server.Server.doStart(\u001b[32mServer.java\u001b[39m:\u001b[32m386\u001b[39m)\n  org.eclipse.jetty.util.component.AbstractLifeCycle.start(\u001b[32mAbstractLifeCycle.java\u001b[39m:\u001b[32m72\u001b[39m)\n  org.apache.spark.sql.ammonitesparkinternals.AmmoniteClassServer.<init>(\u001b[32mAmmoniteClassServer.scala\u001b[39m:\u001b[32m57\u001b[39m)\n  org.apache.spark.sql.ammonitesparkinternals.AmmoniteSparkSessionBuilder.getOrCreate(\u001b[32mAmmoniteSparkSessionBuilder.scala\u001b[39m:\u001b[32m268\u001b[39m)\n  org.apache.spark.sql.almondinternals.NotebookSparkSessionBuilder.getOrCreate(\u001b[32mNotebookSparkSessionBuilder.scala\u001b[39m:\u001b[32m62\u001b[39m)\n  ammonite.$sess.cmd2$Helper.<init>(\u001b[32mcmd2.sc\u001b[39m:\u001b[32m5\u001b[39m)\n  ammonite.$sess.cmd2$.<init>(\u001b[32mcmd2.sc\u001b[39m:\u001b[32m7\u001b[39m)\n  ammonite.$sess.cmd2$.<clinit>(\u001b[32mcmd2.sc\u001b[39m:\u001b[32m-1\u001b[39m)"
     ]
    }
   ],
   "source": [
    "import org.apache.spark.sql._\n",
    "\n",
    "val spark = {\n",
    "  NotebookSparkSession.builder()\n",
    "    .master(\"local[*]\")\n",
    "    .getOrCreate()\n",
    "}"
   ]
  },
  {
   "cell_type": "code",
   "execution_count": 3,
   "metadata": {},
   "outputs": [
    {
     "data": {
      "text/plain": [
       "\u001b[36mtest\u001b[39m: \u001b[32mString\u001b[39m = \u001b[32m\"test\"\u001b[39m"
      ]
     },
     "execution_count": 3,
     "metadata": {},
     "output_type": "execute_result"
    }
   ],
   "source": [
    "val test = \"test\""
   ]
  },
  {
   "cell_type": "code",
   "execution_count": 4,
   "metadata": {},
   "outputs": [
    {
     "name": "stdout",
     "output_type": "stream",
     "text": [
      "test\n"
     ]
    }
   ],
   "source": [
    "println(test)"
   ]
  },
  {
   "cell_type": "markdown",
   "metadata": {},
   "source": [
    "There is a lot more that you can do with outputs (such as including interactive outputs)\n",
    "with your book. For more information about this, see [the Jupyter Book documentation](https://jupyterbook.org)"
   ]
  }
 ],
 "metadata": {
  "interpreter": {
   "hash": "98b0a9b7b4eaaa670588a142fd0a9b87eaafe866f1db4228be72b4211d12040f"
  },
  "kernelspec": {
   "display_name": "Scala",
   "language": "scala",
   "name": "scala"
  },
  "language_info": {
   "codemirror_mode": "text/x-scala",
   "file_extension": ".sc",
   "mimetype": "text/x-scala",
   "name": "scala",
   "nbconvert_exporter": "script",
   "version": "2.12.8"
  },
  "widgets": {
   "application/vnd.jupyter.widget-state+json": {
    "state": {},
    "version_major": 2,
    "version_minor": 0
   }
  }
 },
 "nbformat": 4,
 "nbformat_minor": 4
}