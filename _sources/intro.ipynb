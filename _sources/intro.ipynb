{
 "cells": [
  {
   "cell_type": "markdown",
   "source": [
    "# Welkom in deze basis ML cursus\n",
    "\n",
    "In deze cursus zullen we de basis principes van Machine Learning belichten en bespreken. \n",
    "We zullen verschillende topics licht aanraken en hopen een volledig holistisch beeld te geven over de basis principes.  \n",
    "\n",
    "Dit zijn de topics die we gaan bekijken.\n",
    "\n",
    "* EDA  \n",
    "* Data Cleaning\n",
    "* Feature engineering\n",
    "* Modellen trainen en selecteren\n",
    "* Modellen tunen\n",
    "* Modellen in productie\n",
    "* Cloud en Spark\n",
    "\n",
    "Deze cursus is gemaakt met jupyter notebooks. Jupyter notebooks worden veel gebruikt door data scientist om eerste prototypes in te maken. Notebooks zijn gebaseerd op de principes van het literal programming. Notebooks combineren documentatie met uit te voerden code. \n",
    "\n",
    "Deze cursus kan dus zowel als website bekeken worden maar alle code examples kunnen ook uitgevoerd worden door de colab button uit te voeren.\n",
    "\n",
    "Hieronder een voorbeeld van een code cell die uitgevoerd kan worden.\n"
   ],
   "metadata": {}
  },
  {
   "cell_type": "code",
   "execution_count": 1,
   "source": [
    "print('hello world')"
   ],
   "outputs": [
    {
     "output_type": "stream",
     "name": "stdout",
     "text": [
      "hello world\n"
     ]
    }
   ],
   "metadata": {}
  }
 ],
 "metadata": {
  "orig_nbformat": 4,
  "language_info": {
   "name": "python",
   "version": "3.8.8",
   "mimetype": "text/x-python",
   "codemirror_mode": {
    "name": "ipython",
    "version": 3
   },
   "pygments_lexer": "ipython3",
   "nbconvert_exporter": "python",
   "file_extension": ".py"
  },
  "kernelspec": {
   "name": "python3",
   "display_name": "Python 3.8.8 64-bit ('base': conda)"
  },
  "interpreter": {
   "hash": "98b0a9b7b4eaaa670588a142fd0a9b87eaafe866f1db4228be72b4211d12040f"
  }
 },
 "nbformat": 4,
 "nbformat_minor": 2
}