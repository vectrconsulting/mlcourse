{
 "cells": [
  {
   "cell_type": "code",
   "execution_count": null,
   "metadata": {
    "tags": [
     "remove-cell"
    ]
   },
   "outputs": [],
   "source": [
    "# HIDDEN\": \"remove-cell\n",
    "# cell to import all dependencies to run in colab\n",
    "import sys\n",
    "IN_COLAB = 'google.colab' in sys.modules\n",
    "if IN_COLAB:\n",
    "  !\"{sys.executable}\" -m pip install -U mlxtend pycaret pandas-profiling\n",
    "else:\n",
    "  print('Not running on CoLab')"
   ]
  },
  {
   "cell_type": "markdown",
   "metadata": {},
   "source": [
    "# Model Tuning\n",
    "\n",
    "Bij model tuning gaan we search capaciteiten gebruiken om hyperparameters te zoeken die optimaal performatie geven.  Er zijn verschillende frameworks die we hiervoor kunnen gebruiken. Hieronder een voorbeeld met optuna. Waar we tijdens het trainen de parameters zoeken van een ML model zoals de gewichten bij linieare regresssie en de spilts bij een decision tree gaan we hier meerdere modelen gaan trainen met andere begin waarden. bijvoorbeeld hoeveel leafs heeft een decision tree."
   ]
  },
  {
   "cell_type": "code",
   "execution_count": 1,
   "metadata": {},
   "outputs": [
    {
     "name": "stderr",
     "output_type": "stream",
     "text": [
      "\u001b[32m[I 2021-08-30 18:06:40,772]\u001b[0m A new study created in memory with name: no-name-57635065-d92c-4581-a6cb-37e337ffa2e9\u001b[0m\n",
      "\u001b[32m[I 2021-08-30 18:06:41,899]\u001b[0m Trial 0 finished with value: 0.9666666666666667 and parameters: {'classifier': 'RandomForest', 'rf_max_depth': 11}. Best is trial 0 with value: 0.9666666666666667.\u001b[0m\n",
      "\u001b[32m[I 2021-08-30 18:06:42,633]\u001b[0m Trial 1 finished with value: 0.9533333333333333 and parameters: {'classifier': 'RandomForest', 'rf_max_depth': 3}. Best is trial 0 with value: 0.9666666666666667.\u001b[0m\n",
      "\u001b[32m[I 2021-08-30 18:06:42,683]\u001b[0m Trial 2 finished with value: 0.9533333333333333 and parameters: {'classifier': 'RandomForest', 'rf_max_depth': 9}. Best is trial 0 with value: 0.9666666666666667.\u001b[0m\n",
      "\u001b[32m[I 2021-08-30 18:06:42,705]\u001b[0m Trial 3 finished with value: 0.32 and parameters: {'classifier': 'SVC', 'svc_c': 1.5617287595894665e-08}. Best is trial 0 with value: 0.9666666666666667.\u001b[0m\n",
      "\u001b[32m[I 2021-08-30 18:06:42,721]\u001b[0m Trial 4 finished with value: 0.32 and parameters: {'classifier': 'SVC', 'svc_c': 0.0001596705066574521}. Best is trial 0 with value: 0.9666666666666667.\u001b[0m\n",
      "\u001b[32m[I 2021-08-30 18:06:42,772]\u001b[0m Trial 5 finished with value: 0.96 and parameters: {'classifier': 'RandomForest', 'rf_max_depth': 5}. Best is trial 0 with value: 0.9666666666666667.\u001b[0m\n",
      "\u001b[32m[I 2021-08-30 18:06:42,817]\u001b[0m Trial 6 finished with value: 0.96 and parameters: {'classifier': 'RandomForest', 'rf_max_depth': 4}. Best is trial 0 with value: 0.9666666666666667.\u001b[0m\n",
      "\u001b[32m[I 2021-08-30 18:06:42,860]\u001b[0m Trial 7 finished with value: 0.96 and parameters: {'classifier': 'RandomForest', 'rf_max_depth': 9}. Best is trial 0 with value: 0.9666666666666667.\u001b[0m\n",
      "\u001b[32m[I 2021-08-30 18:06:42,876]\u001b[0m Trial 8 finished with value: 0.96 and parameters: {'classifier': 'SVC', 'svc_c': 120454090.41468972}. Best is trial 0 with value: 0.9666666666666667.\u001b[0m\n",
      "\u001b[32m[I 2021-08-30 18:06:42,915]\u001b[0m Trial 9 finished with value: 0.96 and parameters: {'classifier': 'RandomForest', 'rf_max_depth': 2}. Best is trial 0 with value: 0.9666666666666667.\u001b[0m\n",
      "\u001b[32m[I 2021-08-30 18:06:42,945]\u001b[0m Trial 10 finished with value: 0.96 and parameters: {'classifier': 'SVC', 'svc_c': 749019.7528252173}. Best is trial 0 with value: 0.9666666666666667.\u001b[0m\n",
      "\u001b[32m[I 2021-08-30 18:06:42,999]\u001b[0m Trial 11 finished with value: 0.9466666666666667 and parameters: {'classifier': 'RandomForest', 'rf_max_depth': 29}. Best is trial 0 with value: 0.9666666666666667.\u001b[0m\n",
      "\u001b[32m[I 2021-08-30 18:06:43,040]\u001b[0m Trial 12 finished with value: 0.96 and parameters: {'classifier': 'RandomForest', 'rf_max_depth': 19}. Best is trial 0 with value: 0.9666666666666667.\u001b[0m\n",
      "\u001b[32m[I 2021-08-30 18:06:43,085]\u001b[0m Trial 13 finished with value: 0.9466666666666667 and parameters: {'classifier': 'RandomForest', 'rf_max_depth': 6}. Best is trial 0 with value: 0.9666666666666667.\u001b[0m\n",
      "\u001b[32m[I 2021-08-30 18:06:43,135]\u001b[0m Trial 14 finished with value: 0.9533333333333333 and parameters: {'classifier': 'RandomForest', 'rf_max_depth': 15}. Best is trial 0 with value: 0.9666666666666667.\u001b[0m\n",
      "\u001b[32m[I 2021-08-30 18:06:43,178]\u001b[0m Trial 15 finished with value: 0.9666666666666667 and parameters: {'classifier': 'RandomForest', 'rf_max_depth': 6}. Best is trial 0 with value: 0.9666666666666667.\u001b[0m\n",
      "\u001b[32m[I 2021-08-30 18:06:43,226]\u001b[0m Trial 16 finished with value: 0.9466666666666667 and parameters: {'classifier': 'RandomForest', 'rf_max_depth': 13}. Best is trial 0 with value: 0.9666666666666667.\u001b[0m\n",
      "\u001b[32m[I 2021-08-30 18:06:43,272]\u001b[0m Trial 17 finished with value: 0.9466666666666667 and parameters: {'classifier': 'RandomForest', 'rf_max_depth': 8}. Best is trial 0 with value: 0.9666666666666667.\u001b[0m\n",
      "\u001b[32m[I 2021-08-30 18:06:43,297]\u001b[0m Trial 18 finished with value: 0.9666666666666667 and parameters: {'classifier': 'SVC', 'svc_c': 19.35822243795842}. Best is trial 0 with value: 0.9666666666666667.\u001b[0m\n",
      "\u001b[32m[I 2021-08-30 18:06:43,344]\u001b[0m Trial 19 finished with value: 0.9666666666666667 and parameters: {'classifier': 'RandomForest', 'rf_max_depth': 3}. Best is trial 0 with value: 0.9666666666666667.\u001b[0m\n",
      "\u001b[32m[I 2021-08-30 18:06:43,399]\u001b[0m Trial 20 finished with value: 0.9533333333333333 and parameters: {'classifier': 'RandomForest', 'rf_max_depth': 12}. Best is trial 0 with value: 0.9666666666666667.\u001b[0m\n",
      "\u001b[32m[I 2021-08-30 18:06:43,419]\u001b[0m Trial 21 finished with value: 0.96 and parameters: {'classifier': 'SVC', 'svc_c': 45.65361432167246}. Best is trial 0 with value: 0.9666666666666667.\u001b[0m\n",
      "\u001b[32m[I 2021-08-30 18:06:43,445]\u001b[0m Trial 22 finished with value: 0.9666666666666667 and parameters: {'classifier': 'SVC', 'svc_c': 2.187095203301572}. Best is trial 0 with value: 0.9666666666666667.\u001b[0m\n",
      "\u001b[32m[I 2021-08-30 18:06:43,464]\u001b[0m Trial 23 finished with value: 0.32 and parameters: {'classifier': 'SVC', 'svc_c': 3.2224905115393525e-05}. Best is trial 0 with value: 0.9666666666666667.\u001b[0m\n",
      "\u001b[32m[I 2021-08-30 18:06:43,484]\u001b[0m Trial 24 finished with value: 0.96 and parameters: {'classifier': 'SVC', 'svc_c': 3738.9670087977242}. Best is trial 0 with value: 0.9666666666666667.\u001b[0m\n",
      "\u001b[32m[I 2021-08-30 18:06:43,506]\u001b[0m Trial 25 finished with value: 0.32 and parameters: {'classifier': 'SVC', 'svc_c': 0.0013905106250935743}. Best is trial 0 with value: 0.9666666666666667.\u001b[0m\n",
      "\u001b[32m[I 2021-08-30 18:06:43,529]\u001b[0m Trial 26 finished with value: 0.32 and parameters: {'classifier': 'SVC', 'svc_c': 8.085619732002556e-10}. Best is trial 0 with value: 0.9666666666666667.\u001b[0m\n",
      "\u001b[32m[I 2021-08-30 18:06:43,571]\u001b[0m Trial 27 finished with value: 0.96 and parameters: {'classifier': 'RandomForest', 'rf_max_depth': 2}. Best is trial 0 with value: 0.9666666666666667.\u001b[0m\n",
      "\u001b[32m[I 2021-08-30 18:06:43,595]\u001b[0m Trial 28 finished with value: 0.96 and parameters: {'classifier': 'SVC', 'svc_c': 5769462722.07153}. Best is trial 0 with value: 0.9666666666666667.\u001b[0m\n",
      "\u001b[32m[I 2021-08-30 18:06:43,639]\u001b[0m Trial 29 finished with value: 0.96 and parameters: {'classifier': 'RandomForest', 'rf_max_depth': 3}. Best is trial 0 with value: 0.9666666666666667.\u001b[0m\n",
      "\u001b[32m[I 2021-08-30 18:06:43,685]\u001b[0m Trial 30 finished with value: 0.94 and parameters: {'classifier': 'RandomForest', 'rf_max_depth': 24}. Best is trial 0 with value: 0.9666666666666667.\u001b[0m\n",
      "\u001b[32m[I 2021-08-30 18:06:43,702]\u001b[0m Trial 31 finished with value: 0.94 and parameters: {'classifier': 'SVC', 'svc_c': 0.1241755326881025}. Best is trial 0 with value: 0.9666666666666667.\u001b[0m\n",
      "\u001b[32m[I 2021-08-30 18:06:43,724]\u001b[0m Trial 32 finished with value: 0.96 and parameters: {'classifier': 'SVC', 'svc_c': 126.80219965742803}. Best is trial 0 with value: 0.9666666666666667.\u001b[0m\n",
      "\u001b[32m[I 2021-08-30 18:06:43,743]\u001b[0m Trial 33 finished with value: 0.96 and parameters: {'classifier': 'SVC', 'svc_c': 0.30935964678098665}. Best is trial 0 with value: 0.9666666666666667.\u001b[0m\n",
      "\u001b[32m[I 2021-08-30 18:06:43,759]\u001b[0m Trial 34 finished with value: 0.96 and parameters: {'classifier': 'SVC', 'svc_c': 27335.60052663873}. Best is trial 0 with value: 0.9666666666666667.\u001b[0m\n",
      "\u001b[32m[I 2021-08-30 18:06:43,782]\u001b[0m Trial 35 finished with value: 0.32 and parameters: {'classifier': 'SVC', 'svc_c': 5.577578282530747e-07}. Best is trial 0 with value: 0.9666666666666667.\u001b[0m\n",
      "\u001b[32m[I 2021-08-30 18:06:43,823]\u001b[0m Trial 36 finished with value: 0.96 and parameters: {'classifier': 'RandomForest', 'rf_max_depth': 4}. Best is trial 0 with value: 0.9666666666666667.\u001b[0m\n",
      "\u001b[32m[I 2021-08-30 18:06:43,874]\u001b[0m Trial 37 finished with value: 0.9533333333333333 and parameters: {'classifier': 'RandomForest', 'rf_max_depth': 6}. Best is trial 0 with value: 0.9666666666666667.\u001b[0m\n",
      "\u001b[32m[I 2021-08-30 18:06:43,924]\u001b[0m Trial 38 finished with value: 0.96 and parameters: {'classifier': 'RandomForest', 'rf_max_depth': 3}. Best is trial 0 with value: 0.9666666666666667.\u001b[0m\n",
      "\u001b[32m[I 2021-08-30 18:06:43,944]\u001b[0m Trial 39 finished with value: 0.98 and parameters: {'classifier': 'SVC', 'svc_c': 6.754459870236584}. Best is trial 39 with value: 0.98.\u001b[0m\n",
      "\u001b[32m[I 2021-08-30 18:06:43,966]\u001b[0m Trial 40 finished with value: 0.98 and parameters: {'classifier': 'SVC', 'svc_c': 6.941610878051618}. Best is trial 39 with value: 0.98.\u001b[0m\n",
      "\u001b[32m[I 2021-08-30 18:06:43,983]\u001b[0m Trial 41 finished with value: 0.9733333333333333 and parameters: {'classifier': 'SVC', 'svc_c': 1.6942659611325688}. Best is trial 39 with value: 0.98.\u001b[0m\n",
      "\u001b[32m[I 2021-08-30 18:06:44,006]\u001b[0m Trial 42 finished with value: 0.9199999999999999 and parameters: {'classifier': 'SVC', 'svc_c': 0.05793838182414822}. Best is trial 39 with value: 0.98.\u001b[0m\n",
      "\u001b[32m[I 2021-08-30 18:06:44,025]\u001b[0m Trial 43 finished with value: 0.96 and parameters: {'classifier': 'SVC', 'svc_c': 1652.1702408585688}. Best is trial 39 with value: 0.98.\u001b[0m\n",
      "\u001b[32m[I 2021-08-30 18:06:44,046]\u001b[0m Trial 44 finished with value: 0.96 and parameters: {'classifier': 'SVC', 'svc_c': 48929.75815251971}. Best is trial 39 with value: 0.98.\u001b[0m\n",
      "\u001b[32m[I 2021-08-30 18:06:44,068]\u001b[0m Trial 45 finished with value: 0.32 and parameters: {'classifier': 'SVC', 'svc_c': 0.007721029158247893}. Best is trial 39 with value: 0.98.\u001b[0m\n",
      "\u001b[32m[I 2021-08-30 18:06:44,088]\u001b[0m Trial 46 finished with value: 0.96 and parameters: {'classifier': 'SVC', 'svc_c': 2644160.3564301594}. Best is trial 39 with value: 0.98.\u001b[0m\n",
      "\u001b[32m[I 2021-08-30 18:06:44,110]\u001b[0m Trial 47 finished with value: 0.9866666666666667 and parameters: {'classifier': 'SVC', 'svc_c': 3.89501930288337}. Best is trial 47 with value: 0.9866666666666667.\u001b[0m\n",
      "\u001b[32m[I 2021-08-30 18:06:44,132]\u001b[0m Trial 48 finished with value: 0.98 and parameters: {'classifier': 'SVC', 'svc_c': 6.819745617847632}. Best is trial 47 with value: 0.9866666666666667.\u001b[0m\n",
      "\u001b[32m[I 2021-08-30 18:06:44,151]\u001b[0m Trial 49 finished with value: 0.9866666666666667 and parameters: {'classifier': 'SVC', 'svc_c': 4.731247311709935}. Best is trial 47 with value: 0.9866666666666667.\u001b[0m\n",
      "\u001b[32m[I 2021-08-30 18:06:44,175]\u001b[0m Trial 50 finished with value: 0.96 and parameters: {'classifier': 'SVC', 'svc_c': 100.70697104929589}. Best is trial 47 with value: 0.9866666666666667.\u001b[0m\n",
      "\u001b[32m[I 2021-08-30 18:06:44,195]\u001b[0m Trial 51 finished with value: 0.9733333333333333 and parameters: {'classifier': 'SVC', 'svc_c': 1.9684887479547555}. Best is trial 47 with value: 0.9866666666666667.\u001b[0m\n",
      "\u001b[32m[I 2021-08-30 18:06:44,220]\u001b[0m Trial 52 finished with value: 0.98 and parameters: {'classifier': 'SVC', 'svc_c': 8.027342320549279}. Best is trial 47 with value: 0.9866666666666667.\u001b[0m\n",
      "\u001b[32m[I 2021-08-30 18:06:44,244]\u001b[0m Trial 53 finished with value: 0.9666666666666667 and parameters: {'classifier': 'SVC', 'svc_c': 18.851697812955624}. Best is trial 47 with value: 0.9866666666666667.\u001b[0m\n",
      "\u001b[32m[I 2021-08-30 18:06:44,266]\u001b[0m Trial 54 finished with value: 0.32 and parameters: {'classifier': 'SVC', 'svc_c': 0.01747924801844848}. Best is trial 47 with value: 0.9866666666666667.\u001b[0m\n",
      "\u001b[32m[I 2021-08-30 18:06:44,291]\u001b[0m Trial 55 finished with value: 0.96 and parameters: {'classifier': 'SVC', 'svc_c': 776.9504777667105}. Best is trial 47 with value: 0.9866666666666667.\u001b[0m\n",
      "\u001b[32m[I 2021-08-30 18:06:44,308]\u001b[0m Trial 56 finished with value: 0.9733333333333333 and parameters: {'classifier': 'SVC', 'svc_c': 2.0876809146258233}. Best is trial 47 with value: 0.9866666666666667.\u001b[0m\n",
      "\u001b[32m[I 2021-08-30 18:06:44,325]\u001b[0m Trial 57 finished with value: 0.9733333333333333 and parameters: {'classifier': 'SVC', 'svc_c': 12.17514128219953}. Best is trial 47 with value: 0.9866666666666667.\u001b[0m\n",
      "\u001b[32m[I 2021-08-30 18:06:44,353]\u001b[0m Trial 58 finished with value: 0.9466666666666667 and parameters: {'classifier': 'SVC', 'svc_c': 0.11297501268518496}. Best is trial 47 with value: 0.9866666666666667.\u001b[0m\n",
      "\u001b[32m[I 2021-08-30 18:06:44,378]\u001b[0m Trial 59 finished with value: 0.32 and parameters: {'classifier': 'SVC', 'svc_c': 0.0011923059554645558}. Best is trial 47 with value: 0.9866666666666667.\u001b[0m\n",
      "\u001b[32m[I 2021-08-30 18:06:44,398]\u001b[0m Trial 60 finished with value: 0.96 and parameters: {'classifier': 'SVC', 'svc_c': 809.0299364343541}. Best is trial 47 with value: 0.9866666666666667.\u001b[0m\n",
      "\u001b[32m[I 2021-08-30 18:06:44,418]\u001b[0m Trial 61 finished with value: 0.98 and parameters: {'classifier': 'SVC', 'svc_c': 9.717884403505732}. Best is trial 47 with value: 0.9866666666666667.\u001b[0m\n",
      "\u001b[32m[I 2021-08-30 18:06:44,442]\u001b[0m Trial 62 finished with value: 0.9733333333333333 and parameters: {'classifier': 'SVC', 'svc_c': 13.115099737406181}. Best is trial 47 with value: 0.9866666666666667.\u001b[0m\n",
      "\u001b[32m[I 2021-08-30 18:06:44,462]\u001b[0m Trial 63 finished with value: 0.9466666666666667 and parameters: {'classifier': 'SVC', 'svc_c': 194.14268946471333}. Best is trial 47 with value: 0.9866666666666667.\u001b[0m\n",
      "\u001b[32m[I 2021-08-30 18:06:44,485]\u001b[0m Trial 64 finished with value: 0.9666666666666667 and parameters: {'classifier': 'SVC', 'svc_c': 0.7829951968980882}. Best is trial 47 with value: 0.9866666666666667.\u001b[0m\n",
      "\u001b[32m[I 2021-08-30 18:06:44,508]\u001b[0m Trial 65 finished with value: 0.98 and parameters: {'classifier': 'SVC', 'svc_c': 9.589042311896316}. Best is trial 47 with value: 0.9866666666666667.\u001b[0m\n",
      "\u001b[32m[I 2021-08-30 18:06:44,528]\u001b[0m Trial 66 finished with value: 0.96 and parameters: {'classifier': 'SVC', 'svc_c': 10048.174660114284}. Best is trial 47 with value: 0.9866666666666667.\u001b[0m\n",
      "\u001b[32m[I 2021-08-30 18:06:44,549]\u001b[0m Trial 67 finished with value: 0.96 and parameters: {'classifier': 'SVC', 'svc_c': 0.32898774326621233}. Best is trial 47 with value: 0.9866666666666667.\u001b[0m\n",
      "\u001b[32m[I 2021-08-30 18:06:44,572]\u001b[0m Trial 68 finished with value: 0.96 and parameters: {'classifier': 'SVC', 'svc_c': 92.08364703582072}. Best is trial 47 with value: 0.9866666666666667.\u001b[0m\n",
      "\u001b[32m[I 2021-08-30 18:06:44,599]\u001b[0m Trial 69 finished with value: 0.32 and parameters: {'classifier': 'SVC', 'svc_c': 0.0029585429602118725}. Best is trial 47 with value: 0.9866666666666667.\u001b[0m\n",
      "\u001b[32m[I 2021-08-30 18:06:44,623]\u001b[0m Trial 70 finished with value: 0.9666666666666667 and parameters: {'classifier': 'SVC', 'svc_c': 28.82731950788482}. Best is trial 47 with value: 0.9866666666666667.\u001b[0m\n",
      "\u001b[32m[I 2021-08-30 18:06:44,642]\u001b[0m Trial 71 finished with value: 0.98 and parameters: {'classifier': 'SVC', 'svc_c': 6.123530225685035}. Best is trial 47 with value: 0.9866666666666667.\u001b[0m\n",
      "\u001b[32m[I 2021-08-30 18:06:44,661]\u001b[0m Trial 72 finished with value: 0.9866666666666667 and parameters: {'classifier': 'SVC', 'svc_c': 4.6429435207192915}. Best is trial 47 with value: 0.9866666666666667.\u001b[0m\n",
      "\u001b[32m[I 2021-08-30 18:06:44,680]\u001b[0m Trial 73 finished with value: 0.8933333333333332 and parameters: {'classifier': 'SVC', 'svc_c': 0.04656458546467579}. Best is trial 47 with value: 0.9866666666666667.\u001b[0m\n",
      "\u001b[32m[I 2021-08-30 18:06:44,700]\u001b[0m Trial 74 finished with value: 0.9666666666666667 and parameters: {'classifier': 'SVC', 'svc_c': 0.5802363501394521}. Best is trial 47 with value: 0.9866666666666667.\u001b[0m\n",
      "\u001b[32m[I 2021-08-30 18:06:44,725]\u001b[0m Trial 75 finished with value: 0.9533333333333333 and parameters: {'classifier': 'SVC', 'svc_c': 169.68650138803045}. Best is trial 47 with value: 0.9866666666666667.\u001b[0m\n",
      "\u001b[32m[I 2021-08-30 18:06:44,749]\u001b[0m Trial 76 finished with value: 0.9733333333333333 and parameters: {'classifier': 'SVC', 'svc_c': 2.441734116755544}. Best is trial 47 with value: 0.9866666666666667.\u001b[0m\n",
      "\u001b[32m[I 2021-08-30 18:06:44,772]\u001b[0m Trial 77 finished with value: 0.96 and parameters: {'classifier': 'SVC', 'svc_c': 0.2885842930913965}. Best is trial 47 with value: 0.9866666666666667.\u001b[0m\n",
      "\u001b[32m[I 2021-08-30 18:06:44,795]\u001b[0m Trial 78 finished with value: 0.32 and parameters: {'classifier': 'SVC', 'svc_c': 2.4247810240936732e-05}. Best is trial 47 with value: 0.9866666666666667.\u001b[0m\n",
      "\u001b[32m[I 2021-08-30 18:06:44,831]\u001b[0m Trial 79 finished with value: 0.96 and parameters: {'classifier': 'SVC', 'svc_c': 555.8340970219689}. Best is trial 47 with value: 0.9866666666666667.\u001b[0m\n",
      "\u001b[32m[I 2021-08-30 18:06:44,869]\u001b[0m Trial 80 finished with value: 0.96 and parameters: {'classifier': 'SVC', 'svc_c': 35.23578149433149}. Best is trial 47 with value: 0.9866666666666667.\u001b[0m\n",
      "\u001b[32m[I 2021-08-30 18:06:44,898]\u001b[0m Trial 81 finished with value: 0.98 and parameters: {'classifier': 'SVC', 'svc_c': 5.239586096993611}. Best is trial 47 with value: 0.9866666666666667.\u001b[0m\n",
      "\u001b[32m[I 2021-08-30 18:06:44,921]\u001b[0m Trial 82 finished with value: 0.98 and parameters: {'classifier': 'SVC', 'svc_c': 9.468760448608645}. Best is trial 47 with value: 0.9866666666666667.\u001b[0m\n",
      "\u001b[32m[I 2021-08-30 18:06:44,945]\u001b[0m Trial 83 finished with value: 0.9666666666666667 and parameters: {'classifier': 'SVC', 'svc_c': 0.7900728249887327}. Best is trial 47 with value: 0.9866666666666667.\u001b[0m\n",
      "\u001b[32m[I 2021-08-30 18:06:44,977]\u001b[0m Trial 84 finished with value: 0.96 and parameters: {'classifier': 'SVC', 'svc_c': 60.822623754169044}. Best is trial 47 with value: 0.9866666666666667.\u001b[0m\n",
      "\u001b[32m[I 2021-08-30 18:06:45,003]\u001b[0m Trial 85 finished with value: 0.9866666666666667 and parameters: {'classifier': 'SVC', 'svc_c': 4.291155380115617}. Best is trial 47 with value: 0.9866666666666667.\u001b[0m\n",
      "\u001b[32m[I 2021-08-30 18:06:45,027]\u001b[0m Trial 86 finished with value: 0.96 and parameters: {'classifier': 'SVC', 'svc_c': 3105.179771492555}. Best is trial 47 with value: 0.9866666666666667.\u001b[0m\n",
      "\u001b[32m[I 2021-08-30 18:06:45,053]\u001b[0m Trial 87 finished with value: 0.9199999999999999 and parameters: {'classifier': 'SVC', 'svc_c': 0.05802991140037515}. Best is trial 47 with value: 0.9866666666666667.\u001b[0m\n",
      "\u001b[32m[I 2021-08-30 18:06:45,073]\u001b[0m Trial 88 finished with value: 0.9733333333333333 and parameters: {'classifier': 'SVC', 'svc_c': 2.969302972019091}. Best is trial 47 with value: 0.9866666666666667.\u001b[0m\n",
      "\u001b[32m[I 2021-08-30 18:06:45,096]\u001b[0m Trial 89 finished with value: 0.96 and parameters: {'classifier': 'SVC', 'svc_c': 186741.73305190846}. Best is trial 47 with value: 0.9866666666666667.\u001b[0m\n",
      "\u001b[32m[I 2021-08-30 18:06:45,120]\u001b[0m Trial 90 finished with value: 0.96 and parameters: {'classifier': 'SVC', 'svc_c': 0.2696405532014328}. Best is trial 47 with value: 0.9866666666666667.\u001b[0m\n",
      "\u001b[32m[I 2021-08-30 18:06:45,146]\u001b[0m Trial 91 finished with value: 0.98 and parameters: {'classifier': 'SVC', 'svc_c': 6.071394145080039}. Best is trial 47 with value: 0.9866666666666667.\u001b[0m\n",
      "\u001b[32m[I 2021-08-30 18:06:45,171]\u001b[0m Trial 92 finished with value: 0.9466666666666667 and parameters: {'classifier': 'SVC', 'svc_c': 276.33399553125645}. Best is trial 47 with value: 0.9866666666666667.\u001b[0m\n",
      "\u001b[32m[I 2021-08-30 18:06:45,197]\u001b[0m Trial 93 finished with value: 0.9733333333333333 and parameters: {'classifier': 'SVC', 'svc_c': 2.9039974401191877}. Best is trial 47 with value: 0.9866666666666667.\u001b[0m\n",
      "\u001b[32m[I 2021-08-30 18:06:45,222]\u001b[0m Trial 94 finished with value: 0.96 and parameters: {'classifier': 'SVC', 'svc_c': 72.71175439357619}. Best is trial 47 with value: 0.9866666666666667.\u001b[0m\n",
      "\u001b[32m[I 2021-08-30 18:06:45,244]\u001b[0m Trial 95 finished with value: 0.9666666666666667 and parameters: {'classifier': 'SVC', 'svc_c': 18.813328070595112}. Best is trial 47 with value: 0.9866666666666667.\u001b[0m\n",
      "\u001b[32m[I 2021-08-30 18:06:45,276]\u001b[0m Trial 96 finished with value: 0.32 and parameters: {'classifier': 'SVC', 'svc_c': 0.010733001778286604}. Best is trial 47 with value: 0.9866666666666667.\u001b[0m\n",
      "\u001b[32m[I 2021-08-30 18:06:45,297]\u001b[0m Trial 97 finished with value: 0.9666666666666667 and parameters: {'classifier': 'SVC', 'svc_c': 25.50086668492484}. Best is trial 47 with value: 0.9866666666666667.\u001b[0m\n",
      "\u001b[32m[I 2021-08-30 18:06:45,318]\u001b[0m Trial 98 finished with value: 0.9733333333333333 and parameters: {'classifier': 'SVC', 'svc_c': 1.0391872230681707}. Best is trial 47 with value: 0.9866666666666667.\u001b[0m\n",
      "\u001b[32m[I 2021-08-30 18:06:45,343]\u001b[0m Trial 99 finished with value: 0.98 and parameters: {'classifier': 'SVC', 'svc_c': 6.849251034812295}. Best is trial 47 with value: 0.9866666666666667.\u001b[0m\n"
     ]
    },
    {
     "data": {
      "text/plain": [
       "FrozenTrial(number=47, values=[0.9866666666666667], datetime_start=datetime.datetime(2021, 8, 30, 18, 6, 44, 89444), datetime_complete=datetime.datetime(2021, 8, 30, 18, 6, 44, 110203), params={'classifier': 'SVC', 'svc_c': 3.89501930288337}, distributions={'classifier': CategoricalDistribution(choices=('SVC', 'RandomForest')), 'svc_c': LogUniformDistribution(high=10000000000.0, low=1e-10)}, user_attrs={}, system_attrs={}, intermediate_values={}, trial_id=47, state=TrialState.COMPLETE, value=None)"
      ]
     },
     "execution_count": 1,
     "metadata": {},
     "output_type": "execute_result"
    }
   ],
   "source": [
    "\"\"\"\n",
    "Optuna example that optimizes a classifier configuration for Iris dataset using sklearn.\n",
    "In this example, we optimize a classifier configuration for Iris dataset. Classifiers are from\n",
    "scikit-learn. We optimize both the choice of classifier (among SVC and RandomForest) and their\n",
    "hyperparameters.\n",
    "\"\"\"\n",
    "\n",
    "import optuna\n",
    "\n",
    "import sklearn.datasets\n",
    "import sklearn.ensemble\n",
    "import sklearn.model_selection\n",
    "import sklearn.svm\n",
    "\n",
    "\n",
    "# FYI: Objective functions can take additional arguments\n",
    "# (https://optuna.readthedocs.io/en/stable/faq.html#objective-func-additional-args).\n",
    "def objective(trial):\n",
    "    iris = sklearn.datasets.load_iris()\n",
    "    x, y = iris.data, iris.target\n",
    "\n",
    "    classifier_name = trial.suggest_categorical(\"classifier\", [\"SVC\", \"RandomForest\"])\n",
    "    if classifier_name == \"SVC\":\n",
    "        svc_c = trial.suggest_float(\"svc_c\", 1e-10, 1e10, log=True)\n",
    "        classifier_obj = sklearn.svm.SVC(C=svc_c, gamma=\"auto\")\n",
    "    else:\n",
    "        rf_max_depth = trial.suggest_int(\"rf_max_depth\", 2, 32, log=True)\n",
    "        classifier_obj = sklearn.ensemble.RandomForestClassifier(\n",
    "            max_depth=rf_max_depth, n_estimators=10\n",
    "        )\n",
    "\n",
    "    score = sklearn.model_selection.cross_val_score(classifier_obj, x, y, n_jobs=-1, cv=3)\n",
    "    accuracy = score.mean()\n",
    "    return accuracy\n",
    "\n",
    "\n",
    "study = optuna.create_study(direction=\"maximize\")\n",
    "study.optimize(objective, n_trials=100)\n",
    "study.best_trial"
   ]
  },
  {
   "cell_type": "markdown",
   "metadata": {},
   "source": [
    "Pycaret voorziet ook een tuning stap die gebaseerd is op een grid search."
   ]
  },
  {
   "cell_type": "code",
   "execution_count": null,
   "metadata": {},
   "outputs": [],
   "source": [
    "from pycaret.datasets import get_data \n",
    "diabetes = get_data('diabetes') \n",
    "# Importing module and initializing setup \n",
    "from pycaret.classification import * \n",
    "clf1 = setup(data = diabetes, target = 'Class variable')\n",
    "# train a decision tree model\n",
    "dt = create_model('dt')\n",
    "# tune hyperparameters with custom_grid\n",
    "params = {\"max_depth\": np.random.randint(1, (len(data.columns)*.85),20),\n",
    "          \"max_features\": np.random.randint(1, len(data.columns),20),\n",
    "          \"min_samples_leaf\": [2,3,4,5,6],\n",
    "          \"criterion\": [\"gini\", \"entropy\"]\n",
    "          }\n",
    "tuned_dt_custom = tune_model(dt, custom_grid = params)"
   ]
  }
 ],
 "metadata": {
  "interpreter": {
   "hash": "98b0a9b7b4eaaa670588a142fd0a9b87eaafe866f1db4228be72b4211d12040f"
  },
  "kernelspec": {
   "display_name": "Python 3.8.8 64-bit ('base': conda)",
   "name": "python3"
  },
  "language_info": {
   "codemirror_mode": {
    "name": "ipython",
    "version": 3
   },
   "file_extension": ".py",
   "mimetype": "text/x-python",
   "name": "python",
   "nbconvert_exporter": "python",
   "pygments_lexer": "ipython3",
   "version": "3.8.8"
  }
 },
 "nbformat": 4,
 "nbformat_minor": 2
}
