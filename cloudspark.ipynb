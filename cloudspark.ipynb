{
 "cells": [
  {
   "cell_type": "markdown",
   "metadata": {},
   "source": [
    "# Cloud & Spark\n",
    "\n",
    "## Elastic scaling\n",
    "\n",
    "We hebben niet altijd dezelfde workload nodig. Er zijn verschillende fases exploratie training en productie die allen verschillende noden hebben. Cloud maakt het mogelijk om elke fase zijn infrastructuur te geven. \n",
    "\n",
    "## Infrastructure as Code\n",
    "\n",
    "Omdat het inpluggen aanmaken van een server geen fysieke actie meer is maar gedigitaliseerd is het mogelijk om het aanmaak plan ook te digitaliseren. Het is dus mogelijk om de aanmaak en configuratie stappen digitaal bij te houden. \n",
    "\n",
    "\n",
    "## Lakehouse\n",
    "\n",
    "De toekomstige data die we willen gaan binnenhalen is niet  enkel meer gestructureerde data die we ophalen uit transactionele systemen maar zal in de toekomst zeer divers worden. We hebben nood aan infrastructuur die ons in staat zal stellen om deze data in een performante manier te verwerken. Lake houses zijn de geknipte kandidaat.  Een lakehouse kunnen we ergens situeren tussen een data lake en een datawarehouse.  Waar een data lake perfect geschikt is voor het opslaan van allerlei data blijkt toch uit jaren gebruik dat het waarde creëren uit de opgeslagen data niet triviaal is.  Om op een eenvoudigere  manier data te kunnen opzetten naar waardevolle inzichten moet een lake house implementatie voldoen aan de volgende vereisten.\n",
    "\n",
    "### Transactie-ondersteuning\n",
    "\n",
    "In een enterprise lakehouse zullen veel data pijplijnen vaak gelijktijdig data lezen en schrijven. Ondersteuning voor ACID-transacties zorgt voor consistentie omdat meerdere partijen gelijktijdig gegevens lezen of schrijven, meestal met behulp van SQL.\n",
    "\n",
    "### Schema-handhaving en beheer: \n",
    "\n",
    "Een lakehouse moet schema-handhaving en evolutie ondersteunen. Zowel DW-schema-architecturen als ster en sneeuwvlok schema's worden ondersteund. Het systeem moet kunnen redeneren over gegevensintegriteit en moet beschikken over robuuste governance- en controlemechanismen.\n",
    "\n",
    "### BI-ondersteuning \n",
    "\n",
    "Lakehouses maken het mogelijk om BI-tools rechtstreeks op de brongegevens te gebruiken.\n",
    "\n",
    "\n",
    "###Opslag is losgekoppeld van rekenkracht\n",
    "\n",
    "In de praktijk betekent dit dat opslag en rekenkracht afzonderlijke clusters gebruiken, waardoor deze systemen kunnen worden geschaald naar veel meer gelijktijdige gebruikers en grotere gegevens omvang.\n",
    "\n",
    "### Openheid\n",
    "\n",
    "De opslagformaten die we gebruiken zijn open en gestandaardiseerd, zoals parquet, en ze bieden een API zodat een verscheidenheid aan tools en engines, waaronder machine learning en Python/R-bibliotheken, efficiënt rechtstreeks toegang hebben tot de gegevens.\n",
    "Ondersteuning voor diverse gegevenstypen, variërend van ongestructureerde tot gestructureerde gegevens\n",
    "\n",
    "### Ondersteuning voor diverse workloads\n",
    "\n",
    "Data science, machine learning en SQL worden ondersteund. \n",
    "\n",
    "### End-to-end streaming\n",
    "\n",
    "Realtime rapporten zijn de norm in veel ondernemingen. Ondersteuning voor streaming elimineert de noodzaak voor afzonderlijke systemen die zijn bedoeld voor het bedienen van realtime gegevens toepassingen.\n",
    "\n",
    "Als al deze vereiste zijn voldaan kunnen we spreken van een lakehouse. ER zijn mogelijkheden om dit zowel on premise als in de cloud te implementeren.\n",
    "\n",
    "\n",
    "\n"
   ]
  }
 ],
 "metadata": {
  "interpreter": {
   "hash": "98b0a9b7b4eaaa670588a142fd0a9b87eaafe866f1db4228be72b4211d12040f"
  },
  "kernelspec": {
   "display_name": "Python 3.8.8 64-bit ('base': conda)",
   "name": "python3"
  },
  "language_info": {
   "name": "python",
   "version": "3.8.8"
  }
 },
 "nbformat": 4,
 "nbformat_minor": 2
}
