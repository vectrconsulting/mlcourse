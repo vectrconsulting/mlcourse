{
 "cells": [
  {
   "cell_type": "markdown",
   "source": [
    "# ML Canvas\n",
    "\n",
    "Een hulpmiddel dat kan helpen bij het starten vn een nieuwe ML project is het ML Canvas. Verdere informatie hieromtrent kan je hier vinden. \n",
    "\n",
    "[ML Canvas](https://www.ownml.co/machine-learning-canvas)\n"
   ],
   "metadata": {}
  }
 ],
 "metadata": {
  "interpreter": {
   "hash": "98b0a9b7b4eaaa670588a142fd0a9b87eaafe866f1db4228be72b4211d12040f"
  },
  "kernelspec": {
   "display_name": "Python 3.8.8 64-bit ('base': conda)",
   "name": "python3"
  },
  "language_info": {
   "name": "python",
   "version": "3.8.8"
  }
 },
 "nbformat": 4,
 "nbformat_minor": 2
}