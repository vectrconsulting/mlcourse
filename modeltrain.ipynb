{
 "cells": [
  {
   "cell_type": "markdown",
   "source": [
    "# Model Training\n",
    "\n",
    "Onze data is nu klaar om getrained te worden. We kunnen ML toepasssingen opdelen in 2 grote categorien.  We zullen gebruik maken van de low code library pycaret om alles te demonstreren."
   ],
   "metadata": {}
  },
  {
   "cell_type": "markdown",
   "source": [
    "## Unsupervised\n",
    "\n",
    "Unsupervised learning maakt gebruik van machine learning-algoritmen om ongelabelde datasets te analyseren en te clusteren. Deze algoritmen ontdekken verborgen patronen in gegevens zonder dat menselijke tussenkomst nodig is (daarom zijn ze \"zonder toezicht\").\n",
    "\n",
    "Niet-gesuperviseerde leermodellen worden gebruikt voor drie hoofdtaken: clustering, associatie en dimensionaliteitsreductie:\n",
    "\n",
    "Dimensionaliteitsreductie is een leertechniek die wordt gebruikt wanneer het aantal kenmerken (of dimensies) in een bepaalde dataset te hoog is. Het reduceert het aantal gegevensinvoer tot een beheersbare omvang en behoudt tegelijkertijd de gegevensintegriteit. "
   ],
   "metadata": {}
  },
  {
   "cell_type": "markdown",
   "source": [
    "### Clustering \n",
    "\n",
    "is een dataminingtechniek voor het groeperen van niet-gelabelde gegevens op basis van hun overeenkomsten of verschillen. K-means clusteringalgoritmen wijzen bijvoorbeeld vergelijkbare gegevenspunten toe aan groepen, waarbij de K-waarde de grootte van de groepering en granulariteit vertegenwoordigt. Deze techniek is handig voor marktsegmentatie, beeldcompressie, enz."
   ],
   "metadata": {}
  },
  {
   "cell_type": "code",
   "execution_count": 2,
   "source": [
    "from pycaret.datasets import get_data\n",
    "jewellery = get_data('jewellery')\n",
    "from pycaret.clustering import *\n",
    "exp_name = setup(data = jewellery,silent=True)"
   ],
   "outputs": [
    {
     "output_type": "display_data",
     "data": {
      "text/plain": [
       "<pandas.io.formats.style.Styler at 0x7fa6f4f34790>"
      ],
      "text/html": [
       "<style  type=\"text/css\" >\n",
       "</style><table id=\"T_ae3be_\" ><thead>    <tr>        <th class=\"blank level0\" ></th>        <th class=\"col_heading level0 col0\" >Description</th>        <th class=\"col_heading level0 col1\" >Value</th>    </tr></thead><tbody>\n",
       "                <tr>\n",
       "                        <th id=\"T_ae3be_level0_row0\" class=\"row_heading level0 row0\" >0</th>\n",
       "                        <td id=\"T_ae3be_row0_col0\" class=\"data row0 col0\" >session_id</td>\n",
       "                        <td id=\"T_ae3be_row0_col1\" class=\"data row0 col1\" >3482</td>\n",
       "            </tr>\n",
       "            <tr>\n",
       "                        <th id=\"T_ae3be_level0_row1\" class=\"row_heading level0 row1\" >1</th>\n",
       "                        <td id=\"T_ae3be_row1_col0\" class=\"data row1 col0\" >Original Data</td>\n",
       "                        <td id=\"T_ae3be_row1_col1\" class=\"data row1 col1\" >(505, 4)</td>\n",
       "            </tr>\n",
       "            <tr>\n",
       "                        <th id=\"T_ae3be_level0_row2\" class=\"row_heading level0 row2\" >2</th>\n",
       "                        <td id=\"T_ae3be_row2_col0\" class=\"data row2 col0\" >Missing Values</td>\n",
       "                        <td id=\"T_ae3be_row2_col1\" class=\"data row2 col1\" >False</td>\n",
       "            </tr>\n",
       "            <tr>\n",
       "                        <th id=\"T_ae3be_level0_row3\" class=\"row_heading level0 row3\" >3</th>\n",
       "                        <td id=\"T_ae3be_row3_col0\" class=\"data row3 col0\" >Numeric Features</td>\n",
       "                        <td id=\"T_ae3be_row3_col1\" class=\"data row3 col1\" >4</td>\n",
       "            </tr>\n",
       "            <tr>\n",
       "                        <th id=\"T_ae3be_level0_row4\" class=\"row_heading level0 row4\" >4</th>\n",
       "                        <td id=\"T_ae3be_row4_col0\" class=\"data row4 col0\" >Categorical Features</td>\n",
       "                        <td id=\"T_ae3be_row4_col1\" class=\"data row4 col1\" >0</td>\n",
       "            </tr>\n",
       "            <tr>\n",
       "                        <th id=\"T_ae3be_level0_row5\" class=\"row_heading level0 row5\" >5</th>\n",
       "                        <td id=\"T_ae3be_row5_col0\" class=\"data row5 col0\" >Ordinal Features</td>\n",
       "                        <td id=\"T_ae3be_row5_col1\" class=\"data row5 col1\" >False</td>\n",
       "            </tr>\n",
       "            <tr>\n",
       "                        <th id=\"T_ae3be_level0_row6\" class=\"row_heading level0 row6\" >6</th>\n",
       "                        <td id=\"T_ae3be_row6_col0\" class=\"data row6 col0\" >High Cardinality Features</td>\n",
       "                        <td id=\"T_ae3be_row6_col1\" class=\"data row6 col1\" >False</td>\n",
       "            </tr>\n",
       "            <tr>\n",
       "                        <th id=\"T_ae3be_level0_row7\" class=\"row_heading level0 row7\" >7</th>\n",
       "                        <td id=\"T_ae3be_row7_col0\" class=\"data row7 col0\" >High Cardinality Method</td>\n",
       "                        <td id=\"T_ae3be_row7_col1\" class=\"data row7 col1\" >None</td>\n",
       "            </tr>\n",
       "            <tr>\n",
       "                        <th id=\"T_ae3be_level0_row8\" class=\"row_heading level0 row8\" >8</th>\n",
       "                        <td id=\"T_ae3be_row8_col0\" class=\"data row8 col0\" >Transformed Data</td>\n",
       "                        <td id=\"T_ae3be_row8_col1\" class=\"data row8 col1\" >(505, 4)</td>\n",
       "            </tr>\n",
       "            <tr>\n",
       "                        <th id=\"T_ae3be_level0_row9\" class=\"row_heading level0 row9\" >9</th>\n",
       "                        <td id=\"T_ae3be_row9_col0\" class=\"data row9 col0\" >CPU Jobs</td>\n",
       "                        <td id=\"T_ae3be_row9_col1\" class=\"data row9 col1\" >-1</td>\n",
       "            </tr>\n",
       "            <tr>\n",
       "                        <th id=\"T_ae3be_level0_row10\" class=\"row_heading level0 row10\" >10</th>\n",
       "                        <td id=\"T_ae3be_row10_col0\" class=\"data row10 col0\" >Use GPU</td>\n",
       "                        <td id=\"T_ae3be_row10_col1\" class=\"data row10 col1\" >False</td>\n",
       "            </tr>\n",
       "            <tr>\n",
       "                        <th id=\"T_ae3be_level0_row11\" class=\"row_heading level0 row11\" >11</th>\n",
       "                        <td id=\"T_ae3be_row11_col0\" class=\"data row11 col0\" >Log Experiment</td>\n",
       "                        <td id=\"T_ae3be_row11_col1\" class=\"data row11 col1\" >False</td>\n",
       "            </tr>\n",
       "            <tr>\n",
       "                        <th id=\"T_ae3be_level0_row12\" class=\"row_heading level0 row12\" >12</th>\n",
       "                        <td id=\"T_ae3be_row12_col0\" class=\"data row12 col0\" >Experiment Name</td>\n",
       "                        <td id=\"T_ae3be_row12_col1\" class=\"data row12 col1\" >cluster-default-name</td>\n",
       "            </tr>\n",
       "            <tr>\n",
       "                        <th id=\"T_ae3be_level0_row13\" class=\"row_heading level0 row13\" >13</th>\n",
       "                        <td id=\"T_ae3be_row13_col0\" class=\"data row13 col0\" >USI</td>\n",
       "                        <td id=\"T_ae3be_row13_col1\" class=\"data row13 col1\" >09ee</td>\n",
       "            </tr>\n",
       "            <tr>\n",
       "                        <th id=\"T_ae3be_level0_row14\" class=\"row_heading level0 row14\" >14</th>\n",
       "                        <td id=\"T_ae3be_row14_col0\" class=\"data row14 col0\" >Imputation Type</td>\n",
       "                        <td id=\"T_ae3be_row14_col1\" class=\"data row14 col1\" >simple</td>\n",
       "            </tr>\n",
       "            <tr>\n",
       "                        <th id=\"T_ae3be_level0_row15\" class=\"row_heading level0 row15\" >15</th>\n",
       "                        <td id=\"T_ae3be_row15_col0\" class=\"data row15 col0\" >Iterative Imputation Iteration</td>\n",
       "                        <td id=\"T_ae3be_row15_col1\" class=\"data row15 col1\" >None</td>\n",
       "            </tr>\n",
       "            <tr>\n",
       "                        <th id=\"T_ae3be_level0_row16\" class=\"row_heading level0 row16\" >16</th>\n",
       "                        <td id=\"T_ae3be_row16_col0\" class=\"data row16 col0\" >Numeric Imputer</td>\n",
       "                        <td id=\"T_ae3be_row16_col1\" class=\"data row16 col1\" >mean</td>\n",
       "            </tr>\n",
       "            <tr>\n",
       "                        <th id=\"T_ae3be_level0_row17\" class=\"row_heading level0 row17\" >17</th>\n",
       "                        <td id=\"T_ae3be_row17_col0\" class=\"data row17 col0\" >Iterative Imputation Numeric Model</td>\n",
       "                        <td id=\"T_ae3be_row17_col1\" class=\"data row17 col1\" >None</td>\n",
       "            </tr>\n",
       "            <tr>\n",
       "                        <th id=\"T_ae3be_level0_row18\" class=\"row_heading level0 row18\" >18</th>\n",
       "                        <td id=\"T_ae3be_row18_col0\" class=\"data row18 col0\" >Categorical Imputer</td>\n",
       "                        <td id=\"T_ae3be_row18_col1\" class=\"data row18 col1\" >mode</td>\n",
       "            </tr>\n",
       "            <tr>\n",
       "                        <th id=\"T_ae3be_level0_row19\" class=\"row_heading level0 row19\" >19</th>\n",
       "                        <td id=\"T_ae3be_row19_col0\" class=\"data row19 col0\" >Iterative Imputation Categorical Model</td>\n",
       "                        <td id=\"T_ae3be_row19_col1\" class=\"data row19 col1\" >None</td>\n",
       "            </tr>\n",
       "            <tr>\n",
       "                        <th id=\"T_ae3be_level0_row20\" class=\"row_heading level0 row20\" >20</th>\n",
       "                        <td id=\"T_ae3be_row20_col0\" class=\"data row20 col0\" >Unknown Categoricals Handling</td>\n",
       "                        <td id=\"T_ae3be_row20_col1\" class=\"data row20 col1\" >least_frequent</td>\n",
       "            </tr>\n",
       "            <tr>\n",
       "                        <th id=\"T_ae3be_level0_row21\" class=\"row_heading level0 row21\" >21</th>\n",
       "                        <td id=\"T_ae3be_row21_col0\" class=\"data row21 col0\" >Normalize</td>\n",
       "                        <td id=\"T_ae3be_row21_col1\" class=\"data row21 col1\" >False</td>\n",
       "            </tr>\n",
       "            <tr>\n",
       "                        <th id=\"T_ae3be_level0_row22\" class=\"row_heading level0 row22\" >22</th>\n",
       "                        <td id=\"T_ae3be_row22_col0\" class=\"data row22 col0\" >Normalize Method</td>\n",
       "                        <td id=\"T_ae3be_row22_col1\" class=\"data row22 col1\" >None</td>\n",
       "            </tr>\n",
       "            <tr>\n",
       "                        <th id=\"T_ae3be_level0_row23\" class=\"row_heading level0 row23\" >23</th>\n",
       "                        <td id=\"T_ae3be_row23_col0\" class=\"data row23 col0\" >Transformation</td>\n",
       "                        <td id=\"T_ae3be_row23_col1\" class=\"data row23 col1\" >False</td>\n",
       "            </tr>\n",
       "            <tr>\n",
       "                        <th id=\"T_ae3be_level0_row24\" class=\"row_heading level0 row24\" >24</th>\n",
       "                        <td id=\"T_ae3be_row24_col0\" class=\"data row24 col0\" >Transformation Method</td>\n",
       "                        <td id=\"T_ae3be_row24_col1\" class=\"data row24 col1\" >None</td>\n",
       "            </tr>\n",
       "            <tr>\n",
       "                        <th id=\"T_ae3be_level0_row25\" class=\"row_heading level0 row25\" >25</th>\n",
       "                        <td id=\"T_ae3be_row25_col0\" class=\"data row25 col0\" >PCA</td>\n",
       "                        <td id=\"T_ae3be_row25_col1\" class=\"data row25 col1\" >False</td>\n",
       "            </tr>\n",
       "            <tr>\n",
       "                        <th id=\"T_ae3be_level0_row26\" class=\"row_heading level0 row26\" >26</th>\n",
       "                        <td id=\"T_ae3be_row26_col0\" class=\"data row26 col0\" >PCA Method</td>\n",
       "                        <td id=\"T_ae3be_row26_col1\" class=\"data row26 col1\" >None</td>\n",
       "            </tr>\n",
       "            <tr>\n",
       "                        <th id=\"T_ae3be_level0_row27\" class=\"row_heading level0 row27\" >27</th>\n",
       "                        <td id=\"T_ae3be_row27_col0\" class=\"data row27 col0\" >PCA Components</td>\n",
       "                        <td id=\"T_ae3be_row27_col1\" class=\"data row27 col1\" >None</td>\n",
       "            </tr>\n",
       "            <tr>\n",
       "                        <th id=\"T_ae3be_level0_row28\" class=\"row_heading level0 row28\" >28</th>\n",
       "                        <td id=\"T_ae3be_row28_col0\" class=\"data row28 col0\" >Ignore Low Variance</td>\n",
       "                        <td id=\"T_ae3be_row28_col1\" class=\"data row28 col1\" >False</td>\n",
       "            </tr>\n",
       "            <tr>\n",
       "                        <th id=\"T_ae3be_level0_row29\" class=\"row_heading level0 row29\" >29</th>\n",
       "                        <td id=\"T_ae3be_row29_col0\" class=\"data row29 col0\" >Combine Rare Levels</td>\n",
       "                        <td id=\"T_ae3be_row29_col1\" class=\"data row29 col1\" >False</td>\n",
       "            </tr>\n",
       "            <tr>\n",
       "                        <th id=\"T_ae3be_level0_row30\" class=\"row_heading level0 row30\" >30</th>\n",
       "                        <td id=\"T_ae3be_row30_col0\" class=\"data row30 col0\" >Rare Level Threshold</td>\n",
       "                        <td id=\"T_ae3be_row30_col1\" class=\"data row30 col1\" >None</td>\n",
       "            </tr>\n",
       "            <tr>\n",
       "                        <th id=\"T_ae3be_level0_row31\" class=\"row_heading level0 row31\" >31</th>\n",
       "                        <td id=\"T_ae3be_row31_col0\" class=\"data row31 col0\" >Numeric Binning</td>\n",
       "                        <td id=\"T_ae3be_row31_col1\" class=\"data row31 col1\" >False</td>\n",
       "            </tr>\n",
       "            <tr>\n",
       "                        <th id=\"T_ae3be_level0_row32\" class=\"row_heading level0 row32\" >32</th>\n",
       "                        <td id=\"T_ae3be_row32_col0\" class=\"data row32 col0\" >Remove Outliers</td>\n",
       "                        <td id=\"T_ae3be_row32_col1\" class=\"data row32 col1\" >False</td>\n",
       "            </tr>\n",
       "            <tr>\n",
       "                        <th id=\"T_ae3be_level0_row33\" class=\"row_heading level0 row33\" >33</th>\n",
       "                        <td id=\"T_ae3be_row33_col0\" class=\"data row33 col0\" >Outliers Threshold</td>\n",
       "                        <td id=\"T_ae3be_row33_col1\" class=\"data row33 col1\" >None</td>\n",
       "            </tr>\n",
       "            <tr>\n",
       "                        <th id=\"T_ae3be_level0_row34\" class=\"row_heading level0 row34\" >34</th>\n",
       "                        <td id=\"T_ae3be_row34_col0\" class=\"data row34 col0\" >Remove Multicollinearity</td>\n",
       "                        <td id=\"T_ae3be_row34_col1\" class=\"data row34 col1\" >False</td>\n",
       "            </tr>\n",
       "            <tr>\n",
       "                        <th id=\"T_ae3be_level0_row35\" class=\"row_heading level0 row35\" >35</th>\n",
       "                        <td id=\"T_ae3be_row35_col0\" class=\"data row35 col0\" >Multicollinearity Threshold</td>\n",
       "                        <td id=\"T_ae3be_row35_col1\" class=\"data row35 col1\" >None</td>\n",
       "            </tr>\n",
       "            <tr>\n",
       "                        <th id=\"T_ae3be_level0_row36\" class=\"row_heading level0 row36\" >36</th>\n",
       "                        <td id=\"T_ae3be_row36_col0\" class=\"data row36 col0\" >Remove Perfect Collinearity</td>\n",
       "                        <td id=\"T_ae3be_row36_col1\" class=\"data row36 col1\" >False</td>\n",
       "            </tr>\n",
       "            <tr>\n",
       "                        <th id=\"T_ae3be_level0_row37\" class=\"row_heading level0 row37\" >37</th>\n",
       "                        <td id=\"T_ae3be_row37_col0\" class=\"data row37 col0\" >Clustering</td>\n",
       "                        <td id=\"T_ae3be_row37_col1\" class=\"data row37 col1\" >False</td>\n",
       "            </tr>\n",
       "            <tr>\n",
       "                        <th id=\"T_ae3be_level0_row38\" class=\"row_heading level0 row38\" >38</th>\n",
       "                        <td id=\"T_ae3be_row38_col0\" class=\"data row38 col0\" >Clustering Iteration</td>\n",
       "                        <td id=\"T_ae3be_row38_col1\" class=\"data row38 col1\" >None</td>\n",
       "            </tr>\n",
       "            <tr>\n",
       "                        <th id=\"T_ae3be_level0_row39\" class=\"row_heading level0 row39\" >39</th>\n",
       "                        <td id=\"T_ae3be_row39_col0\" class=\"data row39 col0\" >Polynomial Features</td>\n",
       "                        <td id=\"T_ae3be_row39_col1\" class=\"data row39 col1\" >False</td>\n",
       "            </tr>\n",
       "            <tr>\n",
       "                        <th id=\"T_ae3be_level0_row40\" class=\"row_heading level0 row40\" >40</th>\n",
       "                        <td id=\"T_ae3be_row40_col0\" class=\"data row40 col0\" >Polynomial Degree</td>\n",
       "                        <td id=\"T_ae3be_row40_col1\" class=\"data row40 col1\" >None</td>\n",
       "            </tr>\n",
       "            <tr>\n",
       "                        <th id=\"T_ae3be_level0_row41\" class=\"row_heading level0 row41\" >41</th>\n",
       "                        <td id=\"T_ae3be_row41_col0\" class=\"data row41 col0\" >Trignometry Features</td>\n",
       "                        <td id=\"T_ae3be_row41_col1\" class=\"data row41 col1\" >False</td>\n",
       "            </tr>\n",
       "            <tr>\n",
       "                        <th id=\"T_ae3be_level0_row42\" class=\"row_heading level0 row42\" >42</th>\n",
       "                        <td id=\"T_ae3be_row42_col0\" class=\"data row42 col0\" >Polynomial Threshold</td>\n",
       "                        <td id=\"T_ae3be_row42_col1\" class=\"data row42 col1\" >None</td>\n",
       "            </tr>\n",
       "            <tr>\n",
       "                        <th id=\"T_ae3be_level0_row43\" class=\"row_heading level0 row43\" >43</th>\n",
       "                        <td id=\"T_ae3be_row43_col0\" class=\"data row43 col0\" >Group Features</td>\n",
       "                        <td id=\"T_ae3be_row43_col1\" class=\"data row43 col1\" >False</td>\n",
       "            </tr>\n",
       "            <tr>\n",
       "                        <th id=\"T_ae3be_level0_row44\" class=\"row_heading level0 row44\" >44</th>\n",
       "                        <td id=\"T_ae3be_row44_col0\" class=\"data row44 col0\" >Feature Selection</td>\n",
       "                        <td id=\"T_ae3be_row44_col1\" class=\"data row44 col1\" >False</td>\n",
       "            </tr>\n",
       "            <tr>\n",
       "                        <th id=\"T_ae3be_level0_row45\" class=\"row_heading level0 row45\" >45</th>\n",
       "                        <td id=\"T_ae3be_row45_col0\" class=\"data row45 col0\" >Feature Selection Method</td>\n",
       "                        <td id=\"T_ae3be_row45_col1\" class=\"data row45 col1\" >classic</td>\n",
       "            </tr>\n",
       "            <tr>\n",
       "                        <th id=\"T_ae3be_level0_row46\" class=\"row_heading level0 row46\" >46</th>\n",
       "                        <td id=\"T_ae3be_row46_col0\" class=\"data row46 col0\" >Features Selection Threshold</td>\n",
       "                        <td id=\"T_ae3be_row46_col1\" class=\"data row46 col1\" >None</td>\n",
       "            </tr>\n",
       "            <tr>\n",
       "                        <th id=\"T_ae3be_level0_row47\" class=\"row_heading level0 row47\" >47</th>\n",
       "                        <td id=\"T_ae3be_row47_col0\" class=\"data row47 col0\" >Feature Interaction</td>\n",
       "                        <td id=\"T_ae3be_row47_col1\" class=\"data row47 col1\" >False</td>\n",
       "            </tr>\n",
       "            <tr>\n",
       "                        <th id=\"T_ae3be_level0_row48\" class=\"row_heading level0 row48\" >48</th>\n",
       "                        <td id=\"T_ae3be_row48_col0\" class=\"data row48 col0\" >Feature Ratio</td>\n",
       "                        <td id=\"T_ae3be_row48_col1\" class=\"data row48 col1\" >False</td>\n",
       "            </tr>\n",
       "            <tr>\n",
       "                        <th id=\"T_ae3be_level0_row49\" class=\"row_heading level0 row49\" >49</th>\n",
       "                        <td id=\"T_ae3be_row49_col0\" class=\"data row49 col0\" >Interaction Threshold</td>\n",
       "                        <td id=\"T_ae3be_row49_col1\" class=\"data row49 col1\" >None</td>\n",
       "            </tr>\n",
       "    </tbody></table>"
      ]
     },
     "metadata": {}
    }
   ],
   "metadata": {}
  },
  {
   "cell_type": "code",
   "execution_count": 3,
   "source": [
    "kmeans = create_model('kmeans')"
   ],
   "outputs": [
    {
     "output_type": "display_data",
     "data": {
      "text/plain": [
       "   Silhouette  Calinski-Harabasz  Davies-Bouldin  Homogeneity  Rand Index  \\\n",
       "0      0.7207          5011.8113          0.4114            0           0   \n",
       "\n",
       "   Completeness  \n",
       "0             0  "
      ],
      "text/html": [
       "<div>\n",
       "<style scoped>\n",
       "    .dataframe tbody tr th:only-of-type {\n",
       "        vertical-align: middle;\n",
       "    }\n",
       "\n",
       "    .dataframe tbody tr th {\n",
       "        vertical-align: top;\n",
       "    }\n",
       "\n",
       "    .dataframe thead th {\n",
       "        text-align: right;\n",
       "    }\n",
       "</style>\n",
       "<table border=\"1\" class=\"dataframe\">\n",
       "  <thead>\n",
       "    <tr style=\"text-align: right;\">\n",
       "      <th></th>\n",
       "      <th>Silhouette</th>\n",
       "      <th>Calinski-Harabasz</th>\n",
       "      <th>Davies-Bouldin</th>\n",
       "      <th>Homogeneity</th>\n",
       "      <th>Rand Index</th>\n",
       "      <th>Completeness</th>\n",
       "    </tr>\n",
       "  </thead>\n",
       "  <tbody>\n",
       "    <tr>\n",
       "      <th>0</th>\n",
       "      <td>0.7207</td>\n",
       "      <td>5011.8113</td>\n",
       "      <td>0.4114</td>\n",
       "      <td>0</td>\n",
       "      <td>0</td>\n",
       "      <td>0</td>\n",
       "    </tr>\n",
       "  </tbody>\n",
       "</table>\n",
       "</div>"
      ]
     },
     "metadata": {}
    }
   ],
   "metadata": {}
  },
  {
   "cell_type": "code",
   "execution_count": 6,
   "source": [
    "kmeans_df = assign_model(kmeans)\n",
    "kmeans_df.head()"
   ],
   "outputs": [
    {
     "output_type": "execute_result",
     "data": {
      "text/plain": [
       "   Age  Income  SpendingScore       Savings    Cluster\n",
       "0   58   77769       0.791329   6559.829923  Cluster 0\n",
       "1   59   81799       0.791082   5417.661426  Cluster 0\n",
       "2   62   74751       0.702657   9258.992965  Cluster 0\n",
       "3   59   74373       0.765680   7346.334504  Cluster 0\n",
       "4   87   17760       0.348778  16869.507130  Cluster 2"
      ],
      "text/html": [
       "<div>\n",
       "<style scoped>\n",
       "    .dataframe tbody tr th:only-of-type {\n",
       "        vertical-align: middle;\n",
       "    }\n",
       "\n",
       "    .dataframe tbody tr th {\n",
       "        vertical-align: top;\n",
       "    }\n",
       "\n",
       "    .dataframe thead th {\n",
       "        text-align: right;\n",
       "    }\n",
       "</style>\n",
       "<table border=\"1\" class=\"dataframe\">\n",
       "  <thead>\n",
       "    <tr style=\"text-align: right;\">\n",
       "      <th></th>\n",
       "      <th>Age</th>\n",
       "      <th>Income</th>\n",
       "      <th>SpendingScore</th>\n",
       "      <th>Savings</th>\n",
       "      <th>Cluster</th>\n",
       "    </tr>\n",
       "  </thead>\n",
       "  <tbody>\n",
       "    <tr>\n",
       "      <th>0</th>\n",
       "      <td>58</td>\n",
       "      <td>77769</td>\n",
       "      <td>0.791329</td>\n",
       "      <td>6559.829923</td>\n",
       "      <td>Cluster 0</td>\n",
       "    </tr>\n",
       "    <tr>\n",
       "      <th>1</th>\n",
       "      <td>59</td>\n",
       "      <td>81799</td>\n",
       "      <td>0.791082</td>\n",
       "      <td>5417.661426</td>\n",
       "      <td>Cluster 0</td>\n",
       "    </tr>\n",
       "    <tr>\n",
       "      <th>2</th>\n",
       "      <td>62</td>\n",
       "      <td>74751</td>\n",
       "      <td>0.702657</td>\n",
       "      <td>9258.992965</td>\n",
       "      <td>Cluster 0</td>\n",
       "    </tr>\n",
       "    <tr>\n",
       "      <th>3</th>\n",
       "      <td>59</td>\n",
       "      <td>74373</td>\n",
       "      <td>0.765680</td>\n",
       "      <td>7346.334504</td>\n",
       "      <td>Cluster 0</td>\n",
       "    </tr>\n",
       "    <tr>\n",
       "      <th>4</th>\n",
       "      <td>87</td>\n",
       "      <td>17760</td>\n",
       "      <td>0.348778</td>\n",
       "      <td>16869.507130</td>\n",
       "      <td>Cluster 2</td>\n",
       "    </tr>\n",
       "  </tbody>\n",
       "</table>\n",
       "</div>"
      ]
     },
     "metadata": {},
     "execution_count": 6
    }
   ],
   "metadata": {}
  },
  {
   "cell_type": "code",
   "execution_count": 8,
   "source": [
    " plot_model(kmeans,plot= 'distribution')"
   ],
   "outputs": [
    {
     "output_type": "display_data",
     "data": {
      "text/html": [
       "<div>                            <div id=\"ce5e46fa-796c-4c4f-a860-9eba27912250\" class=\"plotly-graph-div\" style=\"height:600px; width:100%;\"></div>            <script type=\"text/javascript\">                require([\"plotly\"], function(Plotly) {                    window.PLOTLYENV=window.PLOTLYENV || {};                                    if (document.getElementById(\"ce5e46fa-796c-4c4f-a860-9eba27912250\")) {                    Plotly.newPlot(                        \"ce5e46fa-796c-4c4f-a860-9eba27912250\",                        [{\"alignmentgroup\":\"True\",\"bingroup\":\"x\",\"hovertemplate\":\"Cluster=%{x}<br>count=%{y}<extra></extra>\",\"legendgroup\":\"Cluster 0\",\"marker\":{\"color\":\"#636efa\",\"opacity\":0.7,\"pattern\":{\"shape\":\"\"}},\"name\":\"Cluster 0\",\"offsetgroup\":\"Cluster 0\",\"orientation\":\"v\",\"showlegend\":true,\"type\":\"histogram\",\"x\":[\"Cluster 0\",\"Cluster 0\",\"Cluster 0\",\"Cluster 0\",\"Cluster 0\",\"Cluster 0\",\"Cluster 0\",\"Cluster 0\",\"Cluster 0\",\"Cluster 0\",\"Cluster 0\",\"Cluster 0\",\"Cluster 0\",\"Cluster 0\",\"Cluster 0\",\"Cluster 0\",\"Cluster 0\",\"Cluster 0\",\"Cluster 0\",\"Cluster 0\",\"Cluster 0\",\"Cluster 0\",\"Cluster 0\",\"Cluster 0\",\"Cluster 0\",\"Cluster 0\",\"Cluster 0\",\"Cluster 0\",\"Cluster 0\",\"Cluster 0\",\"Cluster 0\",\"Cluster 0\",\"Cluster 0\",\"Cluster 0\",\"Cluster 0\",\"Cluster 0\",\"Cluster 0\",\"Cluster 0\",\"Cluster 0\",\"Cluster 0\",\"Cluster 0\",\"Cluster 0\",\"Cluster 0\",\"Cluster 0\",\"Cluster 0\",\"Cluster 0\",\"Cluster 0\",\"Cluster 0\",\"Cluster 0\",\"Cluster 0\",\"Cluster 0\",\"Cluster 0\",\"Cluster 0\",\"Cluster 0\",\"Cluster 0\",\"Cluster 0\",\"Cluster 0\",\"Cluster 0\",\"Cluster 0\",\"Cluster 0\",\"Cluster 0\",\"Cluster 0\",\"Cluster 0\",\"Cluster 0\",\"Cluster 0\",\"Cluster 0\",\"Cluster 0\",\"Cluster 0\",\"Cluster 0\",\"Cluster 0\",\"Cluster 0\",\"Cluster 0\",\"Cluster 0\",\"Cluster 0\",\"Cluster 0\",\"Cluster 0\",\"Cluster 0\",\"Cluster 0\",\"Cluster 0\",\"Cluster 0\",\"Cluster 0\",\"Cluster 0\",\"Cluster 0\",\"Cluster 0\",\"Cluster 0\",\"Cluster 0\",\"Cluster 0\",\"Cluster 0\",\"Cluster 0\",\"Cluster 0\",\"Cluster 0\",\"Cluster 0\",\"Cluster 0\",\"Cluster 0\",\"Cluster 0\",\"Cluster 0\",\"Cluster 0\",\"Cluster 0\",\"Cluster 0\",\"Cluster 0\",\"Cluster 0\",\"Cluster 0\",\"Cluster 0\",\"Cluster 0\",\"Cluster 0\",\"Cluster 0\",\"Cluster 0\",\"Cluster 0\",\"Cluster 0\",\"Cluster 0\",\"Cluster 0\",\"Cluster 0\",\"Cluster 0\",\"Cluster 0\",\"Cluster 0\",\"Cluster 0\",\"Cluster 0\",\"Cluster 0\",\"Cluster 0\",\"Cluster 0\",\"Cluster 0\",\"Cluster 0\",\"Cluster 0\",\"Cluster 0\",\"Cluster 0\",\"Cluster 0\",\"Cluster 0\",\"Cluster 0\",\"Cluster 0\",\"Cluster 0\",\"Cluster 0\",\"Cluster 0\",\"Cluster 0\",\"Cluster 0\",\"Cluster 0\",\"Cluster 0\",\"Cluster 0\",\"Cluster 0\",\"Cluster 0\",\"Cluster 0\",\"Cluster 0\",\"Cluster 0\",\"Cluster 0\",\"Cluster 0\",\"Cluster 0\",\"Cluster 0\",\"Cluster 0\",\"Cluster 0\",\"Cluster 0\",\"Cluster 0\",\"Cluster 0\",\"Cluster 0\",\"Cluster 0\",\"Cluster 0\",\"Cluster 0\",\"Cluster 0\"],\"xaxis\":\"x\",\"yaxis\":\"y\"},{\"alignmentgroup\":\"True\",\"customdata\":[[58.0,77769.0,0.7913287771988531,6559.829923004832],[58.0,83351.0,0.840697803869219,6673.909711092488],[55.0,76057.0,0.8778279844516369,6132.898204816149],[60.0,67491.0,0.84661848692906,7180.713788260257],[56.0,60059.0,0.7275840223364691,7166.858605155183],[60.0,65340.0,0.7316484923943142,8354.196507802662],[58.0,80278.0,0.823358991009156,6335.97831998802],[56.0,67274.0,0.7798516671891869,6652.391024403152],[64.0,64331.0,0.7571277508774099,5815.660096290825],[63.0,75078.0,0.7831591503681397,7468.8510795028],[62.0,62747.0,0.7705945596869115,5852.326242628098],[59.0,75505.0,0.7682786576081454,5006.528691371692],[67.0,59243.0,0.7436599996604758,5446.557472721708],[58.0,77559.0,0.7122963723872477,5742.524488088997],[58.0,70272.0,0.8229596005059499,5290.087044285296],[57.0,65608.0,0.7662313009024402,6904.318224287021],[66.0,71672.0,0.7538892176112998,7387.835437850722],[64.0,78801.0,0.7403674891662984,6420.944071200261],[59.0,69460.0,0.7527238381125997,6101.372146632122],[68.0,77648.0,0.7965446939835457,6190.864082788901],[61.0,71171.0,0.7210804930623951,6457.790641224787],[64.0,76410.0,0.7756041848937439,6135.308197117818],[63.0,56875.0,0.7622805817657738,7837.233619544163],[55.0,73895.0,0.7471254610291731,5563.906948891499],[57.0,76573.0,0.8405990704520518,6225.376082433229],[57.0,69655.0,0.6748906779058501,5889.831167170132],[53.0,74996.0,0.7387310917031671,7821.447803561914],[61.0,73495.0,0.7727563051023116,9288.189785744367],[61.0,71033.0,0.8380950724014863,9456.876962701135],[62.0,67030.0,0.7467384433463651,6740.765182071713],[62.0,63596.0,0.7453271943508174,6142.2016193458685],[62.0,62650.0,0.766572365027147,7533.673609198676],[60.0,71436.0,0.8320590985324969,8557.86012627717],[65.0,65736.0,0.7785687658100923,6387.2196944302905],[60.0,70663.0,0.7153396972946453,7557.937593550947],[63.0,80705.0,0.7626699527314824,5154.330634621805],[56.0,84386.0,0.7849450699605269,7270.41953428175],[58.0,75757.0,0.8097944168848634,7390.577293437033],[62.0,71050.0,0.7353568506694507,6988.19736827388],[56.0,68698.0,0.7162678503859907,7070.967006969191],[59.0,67781.0,0.7225483489421433,6701.527664794541],[65.0,66017.0,0.7861892594159869,6159.662935925753],[62.0,80093.0,0.6909167811268888,6756.749072752338],[59.0,67988.0,0.8114707012366371,7255.90311433466],[66.0,82526.0,0.7696800667721441,6205.662650191711],[64.0,76364.0,0.6993887663543108,5772.117135854975],[62.0,68279.0,0.7196850779929922,7028.675510384213],[61.0,69698.0,0.7416839698444291,8777.077471725162],[56.0,68463.0,0.8157116929554062,8995.180087953215],[62.0,78413.0,0.7907090657200839,6961.204192368095],[60.0,65054.0,0.7086131723969877,5417.237293788359],[62.0,69391.0,0.7921059737158539,6518.283467894094],[64.0,86283.0,0.7568019251873561,6852.554866914717],[63.0,69849.0,0.7403870808915297,7670.690965941329],[58.0,78635.0,0.7864400503429185,7162.7390430553605],[59.0,71302.0,0.7020090041734849,6595.726010227134],[59.0,75495.0,0.7945029052198103,6702.9519263157545],[59.0,56321.0,0.806565925193039,6129.288986032587],[59.0,67401.0,0.7114339697492305,6529.586309935448],[55.0,64768.0,0.7332568512323248,6486.353872691102],[51.0,72086.0,0.7911147257599156,6732.096068632267],[57.0,72055.0,0.7549723463413129,6544.847498075687],[61.0,78837.0,0.7459489746307642,6811.303235949058],[60.0,74460.0,0.7545393292392412,7567.647652220367],[64.0,62886.0,0.7480162682831766,8302.588638401632],[65.0,74430.0,0.7517741617758547,7145.251128357927],[59.0,67346.0,0.7251568963089163,8857.849116294088],[58.0,78078.0,0.7837795500405715,6483.049643745244],[63.0,82343.0,0.7323186222078123,8090.706739679063],[61.0,67372.0,0.7340673095092516,6618.549336247915],[59.0,68038.0,0.8014869916095588,7719.283632687175],[56.0,65313.0,0.7546029986455771,5574.243676707098],[61.0,72027.0,0.7623249166772856,6926.123598416466],[63.0,70580.0,0.7665090449070475,7262.108723452132],[58.0,70676.0,0.7640283880376706,7664.415650964042],[62.0,73675.0,0.7966191667425384,4688.657157271711],[60.0,63476.0,0.7519000198498227,7543.542801728055],[62.0,67731.0,0.8191699488980382,5956.555677017446],[65.0,70430.0,0.6969942581249643,6971.164886262858],[59.0,69408.0,0.8799059975919311,6491.771149967825],[65.0,71229.0,0.7878897626638453,9024.337460598084],[58.0,70369.0,0.9045204855363144,7461.567502649429],[61.0,74282.0,0.6922364738673796,7286.754751068365],[66.0,77052.0,0.7072624347132287,6296.41731122746],[58.0,78611.0,0.910416682938019,7665.884294519009],[68.0,68944.0,0.7455674638713768,6828.709702363695],[58.0,69247.0,0.7237211912021976,8715.67957429646],[67.0,78702.0,0.7632736815688779,5030.364838791924],[58.0,76052.0,0.7215881830727278,6681.984386377028],[56.0,75599.0,0.7737370986430746,6799.625271842961],[61.0,72060.0,0.8334590233217959,7924.641138154016],[56.0,78992.0,0.8122757021441627,7285.180436851739],[61.0,65647.0,0.717489977384151,7497.231607003855],[59.0,77978.0,0.7188952048526104,8316.31110205122],[62.0,69326.0,0.798012338054483,7003.095703317772],[59.0,69115.0,0.75988343384532,5997.690199856996],[59.0,80876.0,0.6573140731575163,7232.825142650887],[59.0,73057.0,0.8302949092020397,7819.393215767329],[57.0,64803.0,0.7285849289103553,6255.55264105716],[59.0,73350.0,0.6797735912164855,6710.5740183754415],[64.0,71692.0,0.8426521453196145,7002.976554303355],[61.0,65914.0,0.7781022309770123,6406.877130352032],[63.0,67370.0,0.8999405530923943,5985.077029740456],[56.0,80431.0,0.7594315957853627,8150.55743948241],[59.0,82199.0,0.8035145098215853,5880.814834306346],[58.0,80248.0,0.7249557054919687,7641.16038162423],[61.0,68842.0,0.7544065421993587,4077.6586565080543],[55.0,76831.0,0.742113734041324,7806.398750466399],[59.0,73596.0,0.8567042188430352,8281.718740320448],[60.0,70054.0,0.7143393610830643,6609.918507412547],[60.0,65942.0,0.8005783854654352,5253.265006608644],[67.0,80914.0,0.819664259296033,6833.507136694643],[57.0,79794.0,0.82240840085096,5893.975284946178],[56.0,73516.0,0.806499154055182,7696.832373798451],[67.0,68663.0,0.7738336308243648,7451.99401402587],[63.0,72815.0,0.8200359737627068,5504.385543801038],[57.0,74014.0,0.787378081122989,5783.846928267083],[59.0,65700.0,0.8114711740198254,6932.487932327357],[61.0,69001.0,0.8216687745413516,5074.12121172259],[59.0,74576.0,0.7812961239072382,10547.775367695343],[64.0,60493.0,0.7680563479442216,7708.112609459161],[62.0,69741.0,0.8462196017575947,5781.658046536959],[55.0,71621.0,0.753342683616619,7780.589913955976],[54.0,76500.0,0.7851978501165687,6878.884248553975],[61.0,63846.0,0.8278622414878984,7283.504772674617],[58.0,69879.0,0.7209986871945887,6669.033518051874],[59.0,69738.0,0.742112121715572,7151.650866065036],[53.0,76667.0,0.7600576501232099,5168.225474983632],[55.0,71056.0,0.7565897119333272,7464.163256732262],[58.0,77101.0,0.7667195837506832,8148.49184821177],[58.0,74340.0,0.7351650452097145,7259.540921675671],[61.0,74117.0,0.7702140596767938,5103.609230428381],[62.0,73480.0,0.7391949797931453,6277.675150528886],[57.0,79470.0,0.7734352958312237,6773.04908977712],[56.0,63866.0,0.7618879582513512,7762.255066659052],[61.0,71933.0,0.8441067966472876,8022.208541100705],[59.0,72588.0,0.8017156979122673,6300.8437570950255],[60.0,70012.0,0.7944610508231513,7263.242447729872],[61.0,76955.0,0.777117564607447,7467.0367023144945],[66.0,72571.0,0.8115483367376335,6509.411506109981],[58.0,70798.0,0.7535283874245788,5330.73989989779],[63.0,85761.0,0.8005979105724924,7175.090218501248],[58.0,70259.0,0.7697129169369328,7101.674514204499],[60.0,79969.0,0.812104912914789,4879.334872972362],[62.0,74751.0,0.7026569520102857,9258.992965034067],[66.0,64866.0,0.766594189137425,5037.899138583947],[59.0,74373.0,0.7656795619984281,7346.334503537976],[56.0,86484.0,0.7321233689266612,8777.496176839057],[59.0,81799.0,0.7910820467274178,5417.661426197439],[64.0,88361.0,0.7745562258521365,7240.759687480846],[61.0,73245.0,0.811160373170345,7413.784487271214],[57.0,75332.0,0.7215024376129366,6845.056822204781],[55.0,78761.0,0.8271741985123882,8376.74947779104],[53.0,62117.0,0.7331388477995737,7500.452413594261],[57.0,76594.0,0.7906578552491133,6584.654681310476],[55.0,74356.0,0.7998269700906482,6484.630737953293]],\"hovertemplate\":\"Cluster=%{x}<br>Age=%{customdata[0]}<br>Income=%{customdata[1]}<br>SpendingScore=%{customdata[2]}<br>Savings=%{customdata[3]}<extra></extra>\",\"legendgroup\":\"Cluster 0\",\"marker\":{\"color\":\"#636efa\"},\"name\":\"Cluster 0\",\"notched\":true,\"offsetgroup\":\"Cluster 0\",\"showlegend\":false,\"type\":\"box\",\"x\":[\"Cluster 0\",\"Cluster 0\",\"Cluster 0\",\"Cluster 0\",\"Cluster 0\",\"Cluster 0\",\"Cluster 0\",\"Cluster 0\",\"Cluster 0\",\"Cluster 0\",\"Cluster 0\",\"Cluster 0\",\"Cluster 0\",\"Cluster 0\",\"Cluster 0\",\"Cluster 0\",\"Cluster 0\",\"Cluster 0\",\"Cluster 0\",\"Cluster 0\",\"Cluster 0\",\"Cluster 0\",\"Cluster 0\",\"Cluster 0\",\"Cluster 0\",\"Cluster 0\",\"Cluster 0\",\"Cluster 0\",\"Cluster 0\",\"Cluster 0\",\"Cluster 0\",\"Cluster 0\",\"Cluster 0\",\"Cluster 0\",\"Cluster 0\",\"Cluster 0\",\"Cluster 0\",\"Cluster 0\",\"Cluster 0\",\"Cluster 0\",\"Cluster 0\",\"Cluster 0\",\"Cluster 0\",\"Cluster 0\",\"Cluster 0\",\"Cluster 0\",\"Cluster 0\",\"Cluster 0\",\"Cluster 0\",\"Cluster 0\",\"Cluster 0\",\"Cluster 0\",\"Cluster 0\",\"Cluster 0\",\"Cluster 0\",\"Cluster 0\",\"Cluster 0\",\"Cluster 0\",\"Cluster 0\",\"Cluster 0\",\"Cluster 0\",\"Cluster 0\",\"Cluster 0\",\"Cluster 0\",\"Cluster 0\",\"Cluster 0\",\"Cluster 0\",\"Cluster 0\",\"Cluster 0\",\"Cluster 0\",\"Cluster 0\",\"Cluster 0\",\"Cluster 0\",\"Cluster 0\",\"Cluster 0\",\"Cluster 0\",\"Cluster 0\",\"Cluster 0\",\"Cluster 0\",\"Cluster 0\",\"Cluster 0\",\"Cluster 0\",\"Cluster 0\",\"Cluster 0\",\"Cluster 0\",\"Cluster 0\",\"Cluster 0\",\"Cluster 0\",\"Cluster 0\",\"Cluster 0\",\"Cluster 0\",\"Cluster 0\",\"Cluster 0\",\"Cluster 0\",\"Cluster 0\",\"Cluster 0\",\"Cluster 0\",\"Cluster 0\",\"Cluster 0\",\"Cluster 0\",\"Cluster 0\",\"Cluster 0\",\"Cluster 0\",\"Cluster 0\",\"Cluster 0\",\"Cluster 0\",\"Cluster 0\",\"Cluster 0\",\"Cluster 0\",\"Cluster 0\",\"Cluster 0\",\"Cluster 0\",\"Cluster 0\",\"Cluster 0\",\"Cluster 0\",\"Cluster 0\",\"Cluster 0\",\"Cluster 0\",\"Cluster 0\",\"Cluster 0\",\"Cluster 0\",\"Cluster 0\",\"Cluster 0\",\"Cluster 0\",\"Cluster 0\",\"Cluster 0\",\"Cluster 0\",\"Cluster 0\",\"Cluster 0\",\"Cluster 0\",\"Cluster 0\",\"Cluster 0\",\"Cluster 0\",\"Cluster 0\",\"Cluster 0\",\"Cluster 0\",\"Cluster 0\",\"Cluster 0\",\"Cluster 0\",\"Cluster 0\",\"Cluster 0\",\"Cluster 0\",\"Cluster 0\",\"Cluster 0\",\"Cluster 0\",\"Cluster 0\",\"Cluster 0\",\"Cluster 0\",\"Cluster 0\",\"Cluster 0\",\"Cluster 0\",\"Cluster 0\",\"Cluster 0\",\"Cluster 0\",\"Cluster 0\",\"Cluster 0\"],\"xaxis\":\"x2\",\"yaxis\":\"y2\"},{\"alignmentgroup\":\"True\",\"bingroup\":\"x\",\"hovertemplate\":\"Cluster=%{x}<br>count=%{y}<extra></extra>\",\"legendgroup\":\"Cluster 1\",\"marker\":{\"color\":\"#EF553B\",\"opacity\":0.7,\"pattern\":{\"shape\":\"\"}},\"name\":\"Cluster 1\",\"offsetgroup\":\"Cluster 1\",\"orientation\":\"v\",\"showlegend\":true,\"type\":\"histogram\",\"x\":[\"Cluster 1\",\"Cluster 1\",\"Cluster 1\",\"Cluster 1\",\"Cluster 1\",\"Cluster 1\",\"Cluster 1\",\"Cluster 1\",\"Cluster 1\",\"Cluster 1\",\"Cluster 1\",\"Cluster 1\",\"Cluster 1\",\"Cluster 1\",\"Cluster 1\",\"Cluster 1\",\"Cluster 1\",\"Cluster 1\",\"Cluster 1\",\"Cluster 1\",\"Cluster 1\",\"Cluster 1\",\"Cluster 1\",\"Cluster 1\",\"Cluster 1\",\"Cluster 1\",\"Cluster 1\",\"Cluster 1\",\"Cluster 1\",\"Cluster 1\",\"Cluster 1\",\"Cluster 1\",\"Cluster 1\",\"Cluster 1\",\"Cluster 1\",\"Cluster 1\",\"Cluster 1\",\"Cluster 1\",\"Cluster 1\",\"Cluster 1\",\"Cluster 1\",\"Cluster 1\",\"Cluster 1\",\"Cluster 1\",\"Cluster 1\",\"Cluster 1\",\"Cluster 1\",\"Cluster 1\",\"Cluster 1\",\"Cluster 1\",\"Cluster 1\",\"Cluster 1\",\"Cluster 1\",\"Cluster 1\",\"Cluster 1\",\"Cluster 1\",\"Cluster 1\",\"Cluster 1\",\"Cluster 1\",\"Cluster 1\",\"Cluster 1\",\"Cluster 1\",\"Cluster 1\",\"Cluster 1\",\"Cluster 1\",\"Cluster 1\",\"Cluster 1\",\"Cluster 1\",\"Cluster 1\",\"Cluster 1\",\"Cluster 1\",\"Cluster 1\"],\"xaxis\":\"x\",\"yaxis\":\"y\"},{\"alignmentgroup\":\"True\",\"customdata\":[[88.0,123651.0,0.0290271402910519,13504.577571797936],[21.0,129726.0,0.9517923119702948,4550.799521687883],[26.0,125662.0,0.9268183658411524,6089.47832250152],[25.0,130361.0,0.9254385568124625,4691.55213906238],[23.0,129937.0,0.8727356634334804,4102.065424707484],[20.0,129469.0,0.9399954311014268,5522.573424346325],[30.0,122788.0,0.8728724057273831,5706.149573297764],[17.0,134966.0,0.9072421746334024,4128.044795832437],[24.0,134384.0,0.8747208244890404,3731.339761444919],[29.0,119366.0,0.3587713900686116,15012.8530142263],[29.0,122264.0,0.8985788437238403,2494.55627432471],[25.0,120957.0,0.8776734245644572,5590.447216086322],[23.0,126500.0,0.8650328592458483,3270.1504344070872],[87.0,117564.0,0.1282795957567026,14000.248964992144],[85.0,118169.0,0.123196057747337,14855.95102392762],[22.0,134209.0,0.8706980046008759,5138.109568643242],[83.0,117347.0,0.1556940923286098,15086.701120471578],[25.0,138021.0,0.944017175810026,3005.577482475175],[83.0,119429.0,0.0421548010785584,15607.561541234569],[90.0,124170.0,0.0307513143939138,14773.40720559984],[18.0,130813.0,0.890891247267583,5256.434559627984],[17.0,134734.0,0.8579216672301577,0.0],[24.0,129087.0,0.8271179432765905,3290.829468618805],[20.0,122581.0,0.8940806156500202,4444.447684252053],[20.0,129142.0,0.8870519941988757,5603.121027746489],[23.0,138443.0,0.9226565539031124,3297.058843994153],[91.0,118794.0,0.0192120658984376,14047.388986415734],[26.0,131827.0,0.8807194909406801,4352.699304837541],[77.0,128596.0,0.0408240706625097,14503.410786381415],[21.0,123678.0,0.8320252689431032,2838.815820835909],[83.0,117943.0,0.0772132400334304,15391.952192206512],[28.0,117108.0,0.857078493256913,4749.879237491619],[28.0,129019.0,0.9308319590820414,3016.8206434862623],[29.0,142000.0,0.9400873084125808,5349.821181717665],[24.0,134389.0,0.9388521378701832,4573.60634580409],[90.0,117668.0,0.0827227429940155,12554.69274242066],[28.0,123153.0,0.9842407862639496,3697.51364538533],[25.0,131009.0,0.8640569016468125,4792.426581212785],[34.0,119877.0,0.3054369951589357,15634.788286084158],[89.0,119697.0,0.0916792017028315,16215.399076555512],[27.0,121468.0,0.9206489879585448,5011.112062373317],[27.0,122671.0,0.910107112831516,4206.28723870951],[22.0,132948.0,0.8898001728484242,2839.7863574778585],[82.0,121642.0,0.0546531904642098,14177.513323069668],[92.0,122879.0,0.0607240352184939,13709.670274517475],[26.0,127320.0,0.8250298045601994,5495.642137901323],[93.0,126601.0,0.0251701694773457,14117.44703707058],[17.0,123828.0,0.9420129076091708,3798.8403998790254],[28.0,127699.0,0.8814245468734898,5490.8149556706885],[24.0,127352.0,0.9054521594192038,2961.716874324024],[24.0,120465.0,0.9074853865005544,4838.3483502815925],[26.0,123005.0,0.9845261943505972,4371.23473281147],[24.0,130974.0,0.9118386021444842,4420.0727101369375],[18.0,123718.0,0.8065528615489801,4420.445820614172],[32.0,117050.0,0.3113555349689566,14310.546206532164],[26.0,126617.0,0.8770521049168103,2913.368146562765],[28.0,123229.0,0.8733219541371664,610.4462190811464],[23.0,120226.0,0.8819129663041946,4698.294710949844],[28.0,121216.0,0.8569692823607705,5349.065446955783],[29.0,131578.0,0.847034102512837,3535.5143522162816],[82.0,126257.0,0.0780961943994333,15816.101922357922],[17.0,136255.0,0.935876103673024,4126.22665140887],[86.0,128378.0,0.1260834097584985,13585.778624417357],[27.0,125008.0,0.9596454072349518,2963.637708058779],[88.0,120678.0,0.0632728512966028,14264.473846639945],[84.0,122696.0,0.0821868319247355,13809.734086698068],[24.0,136644.0,0.8716976842508705,1617.2257000775644],[86.0,124372.0,0.0,15374.465952896948],[25.0,130934.0,0.9137660194970426,3942.389134492165],[25.0,128625.0,0.8167389887954251,4914.117127206948],[31.0,122924.0,0.89046022417733,3071.9445761529696],[22.0,120525.0,1.0,5495.165732288548]],\"hovertemplate\":\"Cluster=%{x}<br>Age=%{customdata[0]}<br>Income=%{customdata[1]}<br>SpendingScore=%{customdata[2]}<br>Savings=%{customdata[3]}<extra></extra>\",\"legendgroup\":\"Cluster 1\",\"marker\":{\"color\":\"#EF553B\"},\"name\":\"Cluster 1\",\"notched\":true,\"offsetgroup\":\"Cluster 1\",\"showlegend\":false,\"type\":\"box\",\"x\":[\"Cluster 1\",\"Cluster 1\",\"Cluster 1\",\"Cluster 1\",\"Cluster 1\",\"Cluster 1\",\"Cluster 1\",\"Cluster 1\",\"Cluster 1\",\"Cluster 1\",\"Cluster 1\",\"Cluster 1\",\"Cluster 1\",\"Cluster 1\",\"Cluster 1\",\"Cluster 1\",\"Cluster 1\",\"Cluster 1\",\"Cluster 1\",\"Cluster 1\",\"Cluster 1\",\"Cluster 1\",\"Cluster 1\",\"Cluster 1\",\"Cluster 1\",\"Cluster 1\",\"Cluster 1\",\"Cluster 1\",\"Cluster 1\",\"Cluster 1\",\"Cluster 1\",\"Cluster 1\",\"Cluster 1\",\"Cluster 1\",\"Cluster 1\",\"Cluster 1\",\"Cluster 1\",\"Cluster 1\",\"Cluster 1\",\"Cluster 1\",\"Cluster 1\",\"Cluster 1\",\"Cluster 1\",\"Cluster 1\",\"Cluster 1\",\"Cluster 1\",\"Cluster 1\",\"Cluster 1\",\"Cluster 1\",\"Cluster 1\",\"Cluster 1\",\"Cluster 1\",\"Cluster 1\",\"Cluster 1\",\"Cluster 1\",\"Cluster 1\",\"Cluster 1\",\"Cluster 1\",\"Cluster 1\",\"Cluster 1\",\"Cluster 1\",\"Cluster 1\",\"Cluster 1\",\"Cluster 1\",\"Cluster 1\",\"Cluster 1\",\"Cluster 1\",\"Cluster 1\",\"Cluster 1\",\"Cluster 1\",\"Cluster 1\",\"Cluster 1\"],\"xaxis\":\"x2\",\"yaxis\":\"y2\"},{\"alignmentgroup\":\"True\",\"bingroup\":\"x\",\"hovertemplate\":\"Cluster=%{x}<br>count=%{y}<extra></extra>\",\"legendgroup\":\"Cluster 2\",\"marker\":{\"color\":\"#00cc96\",\"opacity\":0.7,\"pattern\":{\"shape\":\"\"}},\"name\":\"Cluster 2\",\"offsetgroup\":\"Cluster 2\",\"orientation\":\"v\",\"showlegend\":true,\"type\":\"histogram\",\"x\":[\"Cluster 2\",\"Cluster 2\",\"Cluster 2\",\"Cluster 2\",\"Cluster 2\",\"Cluster 2\",\"Cluster 2\",\"Cluster 2\",\"Cluster 2\",\"Cluster 2\",\"Cluster 2\",\"Cluster 2\",\"Cluster 2\",\"Cluster 2\",\"Cluster 2\",\"Cluster 2\",\"Cluster 2\",\"Cluster 2\",\"Cluster 2\",\"Cluster 2\",\"Cluster 2\",\"Cluster 2\",\"Cluster 2\",\"Cluster 2\",\"Cluster 2\",\"Cluster 2\",\"Cluster 2\",\"Cluster 2\",\"Cluster 2\",\"Cluster 2\",\"Cluster 2\",\"Cluster 2\",\"Cluster 2\",\"Cluster 2\",\"Cluster 2\",\"Cluster 2\",\"Cluster 2\",\"Cluster 2\",\"Cluster 2\",\"Cluster 2\",\"Cluster 2\",\"Cluster 2\",\"Cluster 2\",\"Cluster 2\",\"Cluster 2\",\"Cluster 2\",\"Cluster 2\",\"Cluster 2\",\"Cluster 2\",\"Cluster 2\",\"Cluster 2\",\"Cluster 2\",\"Cluster 2\",\"Cluster 2\",\"Cluster 2\",\"Cluster 2\",\"Cluster 2\",\"Cluster 2\",\"Cluster 2\",\"Cluster 2\",\"Cluster 2\",\"Cluster 2\",\"Cluster 2\",\"Cluster 2\",\"Cluster 2\",\"Cluster 2\",\"Cluster 2\",\"Cluster 2\",\"Cluster 2\",\"Cluster 2\",\"Cluster 2\",\"Cluster 2\",\"Cluster 2\",\"Cluster 2\",\"Cluster 2\",\"Cluster 2\",\"Cluster 2\",\"Cluster 2\",\"Cluster 2\",\"Cluster 2\",\"Cluster 2\",\"Cluster 2\",\"Cluster 2\",\"Cluster 2\",\"Cluster 2\",\"Cluster 2\",\"Cluster 2\",\"Cluster 2\",\"Cluster 2\",\"Cluster 2\",\"Cluster 2\",\"Cluster 2\",\"Cluster 2\",\"Cluster 2\",\"Cluster 2\",\"Cluster 2\",\"Cluster 2\",\"Cluster 2\",\"Cluster 2\",\"Cluster 2\",\"Cluster 2\",\"Cluster 2\",\"Cluster 2\",\"Cluster 2\",\"Cluster 2\",\"Cluster 2\",\"Cluster 2\",\"Cluster 2\",\"Cluster 2\",\"Cluster 2\",\"Cluster 2\",\"Cluster 2\",\"Cluster 2\",\"Cluster 2\",\"Cluster 2\",\"Cluster 2\",\"Cluster 2\",\"Cluster 2\",\"Cluster 2\",\"Cluster 2\",\"Cluster 2\",\"Cluster 2\",\"Cluster 2\",\"Cluster 2\",\"Cluster 2\",\"Cluster 2\",\"Cluster 2\",\"Cluster 2\",\"Cluster 2\",\"Cluster 2\",\"Cluster 2\",\"Cluster 2\",\"Cluster 2\",\"Cluster 2\",\"Cluster 2\",\"Cluster 2\",\"Cluster 2\",\"Cluster 2\",\"Cluster 2\",\"Cluster 2\",\"Cluster 2\",\"Cluster 2\",\"Cluster 2\",\"Cluster 2\",\"Cluster 2\",\"Cluster 2\",\"Cluster 2\"],\"xaxis\":\"x\",\"yaxis\":\"y\"},{\"alignmentgroup\":\"True\",\"customdata\":[[84.0,24105.0,0.2718090229374729,16524.902538052145],[90.0,22288.0,0.2713268321051207,18434.099152391347],[84.0,18244.0,0.2926633744644019,17815.348406878897],[90.0,22782.0,0.3563068710287742,15924.071707885843],[91.0,28165.0,0.3036929225036061,17460.179350212424],[86.0,18812.0,0.3415457603870515,16157.734142403424],[94.0,18937.0,0.3470950600753079,17739.776098377628],[90.0,35297.0,0.3551490190566364,16091.401954058958],[86.0,23400.0,0.2780355384470266,15215.28126373834],[88.0,26351.0,0.3041682062164746,14035.91755354235],[87.0,23042.0,0.3663120107544869,18149.035872923057],[84.0,30481.0,0.3970228936031003,16837.205964813103],[87.0,30178.0,0.2793159778940049,16123.070750832],[93.0,19934.0,0.2031402397953781,17969.693768505334],[86.0,31994.0,0.2494769403551006,18210.088099070614],[91.0,30756.0,0.3036980300982536,15492.004711465304],[91.0,12038.0,0.3498032558856572,16464.960504438823],[87.0,29909.0,0.3421516318130468,18142.232746738577],[92.0,36032.0,0.3369683066109672,17348.5998812573],[88.0,35051.0,0.3860515062876168,17593.24679258195],[89.0,26940.0,0.3260051328059917,16555.159377159824],[87.0,12000.0,0.3429910076112659,16180.26525174153],[93.0,17672.0,0.3032923688871533,18516.451810726718],[91.0,36639.0,0.3261988874784867,16275.703341192586],[84.0,36463.0,0.3536209572557781,16563.37259114783],[97.0,27271.0,0.283922895270403,14928.165597390327],[90.0,33490.0,0.4199085281737912,17091.904228934392],[92.0,18724.0,0.3278623148176303,15341.381109594677],[92.0,22484.0,0.3317732623948493,18615.632589788456],[82.0,33610.0,0.3012532342412973,17755.664940228176],[87.0,15671.0,0.3507250914944152,14326.601120246103],[87.0,42592.0,0.3552896820382759,18086.287157859304],[83.0,26882.0,0.347979632373841,17775.22817123954],[92.0,33550.0,0.3685156285793065,17106.32591058189],[89.0,34524.0,0.348118273264174,14051.256515312789],[87.0,26665.0,0.4021456613889217,17376.914743318182],[88.0,17851.0,0.2898659849627828,17472.470686173863],[92.0,35484.0,0.3970636039704499,17324.045112814925],[87.0,30102.0,0.3903905943444749,16330.081190027213],[88.0,31366.0,0.3796208481334848,16079.622699815933],[87.0,31481.0,0.317423970601333,16180.68808203422],[82.0,33636.0,0.3717829785401914,17866.83359752812],[90.0,37503.0,0.3577883144645876,17258.57497274541],[89.0,28160.0,0.3388488510290433,15607.061781887898],[90.0,24376.0,0.2812794569155435,15134.994226396466],[89.0,22008.0,0.3819060693389532,16458.398097731257],[86.0,15695.0,0.2571749664748936,17366.186263516567],[79.0,32421.0,0.3032762059432743,15319.46766227239],[91.0,22672.0,0.2710645345158168,15407.646761130874],[82.0,24391.0,0.276101346355296,17053.03010738692],[85.0,21652.0,0.3184561372216806,14175.16988549895],[85.0,28408.0,0.3580738593579665,15063.335797441836],[86.0,36031.0,0.2401766350783482,16945.326244896307],[79.0,38201.0,0.3697828881534748,16393.395697309446],[83.0,18162.0,0.3013734548863508,16029.46921391427],[83.0,30492.0,0.3016314685914632,15365.858462932552],[91.0,29750.0,0.2884703320713124,19201.119916275755],[84.0,20704.0,0.3794963151514172,16816.911895743782],[90.0,29029.0,0.303758971334624,15592.991530526488],[83.0,34384.0,0.3247186821733416,14783.3790857945],[88.0,22602.0,0.3567448288797468,16740.343496726702],[91.0,27168.0,0.3322388165540652,15893.729773516614],[87.0,17760.0,0.3487775484305074,16869.507130301474],[91.0,28777.0,0.3241935550357819,17808.2662415687],[92.0,22616.0,0.3228506824321553,17275.661313984565],[84.0,27384.0,0.3136467169954889,16734.672754073246],[87.0,25566.0,0.3167603729756968,15188.058749407255],[86.0,27705.0,0.3293769514872405,17130.85610211788],[89.0,25252.0,0.3217652209320886,16539.364186086335],[94.0,23854.0,0.3144466826182581,16828.410118749016],[94.0,38923.0,0.3302260180973432,16971.181554867213],[86.0,28779.0,0.336523330181688,16047.268331461928],[84.0,27693.0,0.3670629731870412,17879.558905551898],[85.0,21250.0,0.3104101151420251,16033.971166673777],[89.0,30267.0,0.2893100658351509,14386.351879589123],[89.0,26127.0,0.3044743722681633,17194.828018777476],[91.0,36991.0,0.2685979050949867,19047.77233878285],[83.0,34529.0,0.3172075114569807,16517.208746949746],[88.0,17388.0,0.4661894446652393,16698.6210372462],[83.0,28497.0,0.3938023931664612,15510.112981164848],[91.0,25886.0,0.3017537675837046,17266.045729118025],[84.0,27544.0,0.2309337663207005,18207.36169648481],[81.0,34425.0,0.272609779232364,16262.623790655764],[91.0,20681.0,0.3546791690549572,18401.08844474873],[92.0,35877.0,0.3668917159124752,17287.907016982324],[85.0,30794.0,0.2862292747117071,17096.39150937826],[91.0,16950.0,0.32300404344763,17172.609400509067],[82.0,24221.0,0.4735496605323542,16251.75944521267],[83.0,30721.0,0.3311418077630257,17705.99238527814],[86.0,35998.0,0.3216356471662456,20000.0],[83.0,23206.0,0.3212403632065312,16870.672003783384],[94.0,27169.0,0.3141730453838618,15061.77621514237],[83.0,33170.0,0.2410777442746463,16620.010473689304],[94.0,20719.0,0.3364022697976639,16281.832273239006],[82.0,32494.0,0.3273154026360584,16799.44426666245],[85.0,34802.0,0.2987969233586417,16450.003270402787],[85.0,29204.0,0.3254914498834959,16918.90346036913],[89.0,31096.0,0.2785878455435617,17736.94259966666],[89.0,20292.0,0.3121481952107594,16023.4456584523],[84.0,27179.0,0.3474234168306904,15612.6285477669],[87.0,24578.0,0.3761654587506353,17789.247521813828],[88.0,33303.0,0.3997156855452149,15232.598068845287],[87.0,18459.0,0.2645499059687874,15637.59765457844],[87.0,26045.0,0.3752921226023747,15903.558359374923],[94.0,27771.0,0.3025032231546656,17303.957194969433],[88.0,33251.0,0.3043913649608802,18868.24161249696],[88.0,28585.0,0.3977396663840212,16725.841854363774],[85.0,26355.0,0.3423406666949811,17971.19363998381],[94.0,28352.0,0.3768757353168557,16798.886114738052],[95.0,27038.0,0.3313520070109343,18126.577451151075],[88.0,19510.0,0.3167510258154691,16529.20080632274],[86.0,46977.0,0.2827283910152334,15628.957075805023],[85.0,27599.0,0.2819950483303406,13470.970605037028],[92.0,32915.0,0.3885749195868542,16694.706839244012],[87.0,25701.0,0.3152205738281264,15738.859295516551],[89.0,19202.0,0.3819877440174351,16626.222361477227],[89.0,33311.0,0.376146968508639,17093.06995548225],[85.0,28401.0,0.3694371368158696,15990.49413056604],[88.0,17946.0,0.2696436303999441,16715.160017840968],[93.0,20440.0,0.2975730342292497,17406.074017844054],[91.0,26424.0,0.3193886529047028,16501.46877669979],[84.0,42018.0,0.2979936021899302,16148.370454036614],[87.0,30812.0,0.3144631516753479,15238.118997598336],[88.0,34001.0,0.337569323887528,15530.934134298665],[85.0,29610.0,0.3181352453742131,18475.487468080937],[91.0,29082.0,0.2824885213712914,18794.488169074688],[90.0,30178.0,0.2823512821567113,16182.8384364088],[88.0,28802.0,0.4083878319987072,16293.038332542192],[85.0,34634.0,0.3690001696241634,16719.815875018445],[91.0,26917.0,0.3767135304583465,17986.618644605885],[90.0,33188.0,0.2488100687902313,15866.913937696345],[88.0,28409.0,0.3056535336752106,17326.175608364214],[84.0,38042.0,0.3660858718547989,17465.856285855403],[90.0,33259.0,0.377571058498228,15315.028503741696],[87.0,46910.0,0.3085616998317755,14789.14847617646],[91.0,25237.0,0.3535018242414266,17292.73310384825],[88.0,26092.0,0.3128732065230775,17105.79392615357],[89.0,24520.0,0.4438327068456706,13556.9358834699],[88.0,32708.0,0.3682153159958089,16711.0679804242],[91.0,30148.0,0.2773889467565771,15324.287405101715],[84.0,22286.0,0.3955062459001081,17886.53737311577],[83.0,28727.0,0.3082630418510537,18205.33626089001],[84.0,29492.0,0.3336031402694437,17954.09505703969],[87.0,23322.0,0.3068211973464496,16131.267659393412],[91.0,24370.0,0.2963285713632805,16141.048981383728],[90.0,25733.0,0.3385629680709827,17631.56888411863],[88.0,27169.0,0.2800595048614143,15260.635546195435]],\"hovertemplate\":\"Cluster=%{x}<br>Age=%{customdata[0]}<br>Income=%{customdata[1]}<br>SpendingScore=%{customdata[2]}<br>Savings=%{customdata[3]}<extra></extra>\",\"legendgroup\":\"Cluster 2\",\"marker\":{\"color\":\"#00cc96\"},\"name\":\"Cluster 2\",\"notched\":true,\"offsetgroup\":\"Cluster 2\",\"showlegend\":false,\"type\":\"box\",\"x\":[\"Cluster 2\",\"Cluster 2\",\"Cluster 2\",\"Cluster 2\",\"Cluster 2\",\"Cluster 2\",\"Cluster 2\",\"Cluster 2\",\"Cluster 2\",\"Cluster 2\",\"Cluster 2\",\"Cluster 2\",\"Cluster 2\",\"Cluster 2\",\"Cluster 2\",\"Cluster 2\",\"Cluster 2\",\"Cluster 2\",\"Cluster 2\",\"Cluster 2\",\"Cluster 2\",\"Cluster 2\",\"Cluster 2\",\"Cluster 2\",\"Cluster 2\",\"Cluster 2\",\"Cluster 2\",\"Cluster 2\",\"Cluster 2\",\"Cluster 2\",\"Cluster 2\",\"Cluster 2\",\"Cluster 2\",\"Cluster 2\",\"Cluster 2\",\"Cluster 2\",\"Cluster 2\",\"Cluster 2\",\"Cluster 2\",\"Cluster 2\",\"Cluster 2\",\"Cluster 2\",\"Cluster 2\",\"Cluster 2\",\"Cluster 2\",\"Cluster 2\",\"Cluster 2\",\"Cluster 2\",\"Cluster 2\",\"Cluster 2\",\"Cluster 2\",\"Cluster 2\",\"Cluster 2\",\"Cluster 2\",\"Cluster 2\",\"Cluster 2\",\"Cluster 2\",\"Cluster 2\",\"Cluster 2\",\"Cluster 2\",\"Cluster 2\",\"Cluster 2\",\"Cluster 2\",\"Cluster 2\",\"Cluster 2\",\"Cluster 2\",\"Cluster 2\",\"Cluster 2\",\"Cluster 2\",\"Cluster 2\",\"Cluster 2\",\"Cluster 2\",\"Cluster 2\",\"Cluster 2\",\"Cluster 2\",\"Cluster 2\",\"Cluster 2\",\"Cluster 2\",\"Cluster 2\",\"Cluster 2\",\"Cluster 2\",\"Cluster 2\",\"Cluster 2\",\"Cluster 2\",\"Cluster 2\",\"Cluster 2\",\"Cluster 2\",\"Cluster 2\",\"Cluster 2\",\"Cluster 2\",\"Cluster 2\",\"Cluster 2\",\"Cluster 2\",\"Cluster 2\",\"Cluster 2\",\"Cluster 2\",\"Cluster 2\",\"Cluster 2\",\"Cluster 2\",\"Cluster 2\",\"Cluster 2\",\"Cluster 2\",\"Cluster 2\",\"Cluster 2\",\"Cluster 2\",\"Cluster 2\",\"Cluster 2\",\"Cluster 2\",\"Cluster 2\",\"Cluster 2\",\"Cluster 2\",\"Cluster 2\",\"Cluster 2\",\"Cluster 2\",\"Cluster 2\",\"Cluster 2\",\"Cluster 2\",\"Cluster 2\",\"Cluster 2\",\"Cluster 2\",\"Cluster 2\",\"Cluster 2\",\"Cluster 2\",\"Cluster 2\",\"Cluster 2\",\"Cluster 2\",\"Cluster 2\",\"Cluster 2\",\"Cluster 2\",\"Cluster 2\",\"Cluster 2\",\"Cluster 2\",\"Cluster 2\",\"Cluster 2\",\"Cluster 2\",\"Cluster 2\",\"Cluster 2\",\"Cluster 2\",\"Cluster 2\",\"Cluster 2\",\"Cluster 2\",\"Cluster 2\",\"Cluster 2\",\"Cluster 2\",\"Cluster 2\",\"Cluster 2\",\"Cluster 2\"],\"xaxis\":\"x2\",\"yaxis\":\"y2\"},{\"alignmentgroup\":\"True\",\"bingroup\":\"x\",\"hovertemplate\":\"Cluster=%{x}<br>count=%{y}<extra></extra>\",\"legendgroup\":\"Cluster 3\",\"marker\":{\"color\":\"#ab63fa\",\"opacity\":0.7,\"pattern\":{\"shape\":\"\"}},\"name\":\"Cluster 3\",\"offsetgroup\":\"Cluster 3\",\"orientation\":\"v\",\"showlegend\":true,\"type\":\"histogram\",\"x\":[\"Cluster 3\",\"Cluster 3\",\"Cluster 3\",\"Cluster 3\",\"Cluster 3\",\"Cluster 3\",\"Cluster 3\",\"Cluster 3\",\"Cluster 3\",\"Cluster 3\",\"Cluster 3\",\"Cluster 3\",\"Cluster 3\",\"Cluster 3\",\"Cluster 3\",\"Cluster 3\",\"Cluster 3\",\"Cluster 3\",\"Cluster 3\",\"Cluster 3\",\"Cluster 3\",\"Cluster 3\",\"Cluster 3\",\"Cluster 3\",\"Cluster 3\",\"Cluster 3\",\"Cluster 3\",\"Cluster 3\",\"Cluster 3\",\"Cluster 3\",\"Cluster 3\",\"Cluster 3\",\"Cluster 3\",\"Cluster 3\",\"Cluster 3\",\"Cluster 3\",\"Cluster 3\",\"Cluster 3\",\"Cluster 3\",\"Cluster 3\",\"Cluster 3\",\"Cluster 3\",\"Cluster 3\",\"Cluster 3\",\"Cluster 3\",\"Cluster 3\",\"Cluster 3\",\"Cluster 3\",\"Cluster 3\",\"Cluster 3\",\"Cluster 3\",\"Cluster 3\",\"Cluster 3\",\"Cluster 3\",\"Cluster 3\",\"Cluster 3\",\"Cluster 3\",\"Cluster 3\",\"Cluster 3\",\"Cluster 3\",\"Cluster 3\",\"Cluster 3\",\"Cluster 3\",\"Cluster 3\",\"Cluster 3\",\"Cluster 3\",\"Cluster 3\",\"Cluster 3\",\"Cluster 3\",\"Cluster 3\",\"Cluster 3\",\"Cluster 3\",\"Cluster 3\",\"Cluster 3\",\"Cluster 3\",\"Cluster 3\",\"Cluster 3\",\"Cluster 3\",\"Cluster 3\",\"Cluster 3\",\"Cluster 3\",\"Cluster 3\",\"Cluster 3\",\"Cluster 3\",\"Cluster 3\",\"Cluster 3\",\"Cluster 3\",\"Cluster 3\",\"Cluster 3\",\"Cluster 3\",\"Cluster 3\",\"Cluster 3\",\"Cluster 3\",\"Cluster 3\",\"Cluster 3\",\"Cluster 3\",\"Cluster 3\",\"Cluster 3\",\"Cluster 3\",\"Cluster 3\",\"Cluster 3\",\"Cluster 3\",\"Cluster 3\",\"Cluster 3\",\"Cluster 3\",\"Cluster 3\",\"Cluster 3\",\"Cluster 3\",\"Cluster 3\",\"Cluster 3\",\"Cluster 3\",\"Cluster 3\",\"Cluster 3\",\"Cluster 3\",\"Cluster 3\",\"Cluster 3\",\"Cluster 3\",\"Cluster 3\",\"Cluster 3\",\"Cluster 3\",\"Cluster 3\",\"Cluster 3\",\"Cluster 3\",\"Cluster 3\",\"Cluster 3\",\"Cluster 3\",\"Cluster 3\",\"Cluster 3\",\"Cluster 3\",\"Cluster 3\"],\"xaxis\":\"x\",\"yaxis\":\"y\"},{\"alignmentgroup\":\"True\",\"customdata\":[[34.0,98993.0,0.3229930887837502,16138.079373431863],[35.0,108499.0,0.2612719132713158,16046.08301542436],[29.0,102028.0,0.2889604994756899,14634.430692347907],[32.0,101905.0,0.3074763135926986,17532.16478349903],[30.0,96241.0,0.3773384910014747,15485.156009739389],[33.0,99637.0,0.2282170773869075,15139.40314264753],[34.0,107255.0,0.3283430294033383,15130.595225546444],[35.0,102308.0,0.2751372175012176,14874.557991326978],[28.0,97965.0,0.3134915614599665,14981.402201916082],[31.0,104388.0,0.2864732316476225,14406.561248437842],[35.0,107131.0,0.2424731551814768,16200.013010637644],[32.0,95536.0,0.2662460568101488,15420.62564400274],[30.0,101073.0,0.3143871202044516,14324.555977118507],[37.0,106894.0,0.3432357689892068,14075.217365594552],[29.0,106014.0,0.347945113577731,15038.010746320377],[22.0,109152.0,0.3234464163624235,16022.482482363524],[30.0,98030.0,0.4111117138132285,16316.842905166694],[29.0,111426.0,0.4002811559385194,14352.643773230728],[28.0,101206.0,0.3874406981253432,14936.775388622864],[36.0,101811.0,0.3406667947415742,15048.89961242685],[28.0,99611.0,0.2795578681222758,15345.658121390226],[36.0,104285.0,0.2123600508972585,13347.558779497918],[31.0,116247.0,0.2943151380482853,16178.204715186295],[28.0,111937.0,0.2537347301209012,13669.110632506934],[33.0,106757.0,0.2583961137212551,14431.65279923437],[31.0,101209.0,0.3043229953712127,16917.571691218804],[85.0,111389.0,0.0367953622110323,16009.237762922365],[33.0,107100.0,0.3424354833732075,14895.473479049117],[36.0,99780.0,0.2654326074020303,16398.40133318453],[86.0,115689.0,0.057842956133581,14803.153273493916],[30.0,99949.0,0.3446792235097859,13621.63972633141],[34.0,98752.0,0.3720337099315751,14975.384238944334],[27.0,106758.0,0.2662947092346973,14942.560723173168],[28.0,94762.0,0.3035961911057213,15352.521936894913],[31.0,107963.0,0.2905086327499087,13407.081391032512],[33.0,116616.0,0.3209300476959025,15104.49811363824],[32.0,108417.0,0.2873708671400807,16696.398659007995],[28.0,100592.0,0.2595983487762325,15520.355775683653],[32.0,110439.0,0.3069901582742725,13873.50756985278],[30.0,107926.0,0.2301607310342209,15520.536309707046],[38.0,115146.0,0.3144900731288347,14798.868153501797],[35.0,110106.0,0.2867692710102035,14924.537223475552],[37.0,110595.0,0.2866485050019983,15235.445457133226],[31.0,99457.0,0.3658064971511748,14580.613477014092],[31.0,107932.0,0.3742421881649844,12207.526078087716],[31.0,107994.0,0.2944689389706671,13685.97236173889],[31.0,107115.0,0.3280420856997338,15693.499570389358],[33.0,111813.0,0.2382437868013801,15901.238967721654],[34.0,102291.0,0.2478622761143138,15819.57760116052],[32.0,102035.0,0.2620703561646911,14209.93280239609],[30.0,106350.0,0.3694162857692796,14863.233588279092],[30.0,107525.0,0.2948164301396663,12702.847385049916],[35.0,104678.0,0.3279928581002429,15422.055799721802],[33.0,105667.0,0.2507508056238616,12869.761073905089],[40.0,98821.0,0.279080850187049,15995.160053914662],[42.0,106990.0,0.330065422314764,14856.938997469417],[37.0,97831.0,0.3744658274308825,14935.144813058325],[25.0,101503.0,0.2884688560740983,15026.262148820157],[34.0,89598.0,0.3401523810436963,12832.768720823738],[84.0,115237.0,0.0687782098136733,14396.568282311468],[43.0,101641.0,0.3819838041034955,14424.09799559298],[28.0,109075.0,0.3627619606240113,14082.458238005996],[36.0,105567.0,0.3126388486955741,14355.31094653896],[37.0,106664.0,0.2775867542026021,14479.374117495969],[37.0,108635.0,0.2864957031483905,14558.054542315444],[35.0,112878.0,0.3009135799974076,13755.482301873282],[31.0,112943.0,0.341239503307387,14297.702229457282],[36.0,100158.0,0.316060414098024,13832.37937073453],[31.0,105826.0,0.2862743235826754,13856.805832195869],[29.0,116451.0,0.3406596106851227,15294.661511529368],[33.0,114555.0,0.2792568364789493,13746.745438440072],[36.0,108004.0,0.3089229914936124,15813.964573146995],[30.0,102056.0,0.2607006223919937,15370.66882713054],[36.0,98137.0,0.297401293159654,15978.332837131276],[34.0,98165.0,0.1741204938230648,15721.86284266975],[37.0,97678.0,0.2574704443875843,15834.113173627364],[35.0,117112.0,0.3047918711384766,15908.035997555322],[35.0,101691.0,0.3491110181825554,14152.671689505803],[88.0,114767.0,0.0322075423389263,17833.093470094427],[31.0,111449.0,0.2941062030828216,13929.62155143948],[30.0,108581.0,0.3094467811568004,15628.791650531211],[33.0,106345.0,0.3392354218755358,15300.45379012999],[31.0,101481.0,0.2702350511848681,15226.614133627569],[31.0,108067.0,0.2686742663930692,13316.767286164832],[33.0,100275.0,0.3630856827120957,13735.43874238108],[26.0,97750.0,0.293408760516068,15823.032361634105],[24.0,110564.0,0.3049430059244968,14967.839625179657],[29.0,91375.0,0.2354504258588228,13104.962760687613],[33.0,94964.0,0.3302325026567214,14018.349867336628],[39.0,100540.0,0.3849229829012918,16741.013894847743],[37.0,107958.0,0.346669076543185,13641.009538079368],[29.0,110860.0,0.3194403010352474,16260.42103081417],[37.0,110732.0,0.3226762482802641,14265.35184049776],[29.0,101943.0,0.3256230614429721,14619.354282159027],[33.0,92569.0,0.3360798055671445,13765.685995748696],[34.0,103204.0,0.3010873537839331,15149.810421179482],[84.0,114406.0,0.1238383746409725,16840.570583774286],[44.0,114642.0,0.3092049154534187,14067.617788950563],[31.0,105036.0,0.2722279930569666,16465.063521972657],[31.0,102618.0,0.2763779214063509,13209.301612848927],[25.0,106772.0,0.3909047196000217,16353.471790615497],[36.0,109038.0,0.3242132027621541,16502.389477657125],[29.0,103223.0,0.3388162937437745,16252.88305306563],[29.0,112531.0,0.3427661743407053,14361.334979176148],[38.0,104738.0,0.4059588503683713,15634.313868027426],[39.0,100661.0,0.3766412501689559,16873.128638209408],[32.0,106543.0,0.3107432443044589,14337.288328489092],[36.0,109809.0,0.355660187354229,14978.502144076489],[29.0,99161.0,0.3079200040396055,15631.836772980836],[34.0,104284.0,0.3445454117798671,13541.801770810564],[31.0,105006.0,0.3741658782934958,15419.417763123292],[37.0,108651.0,0.1923436158292553,15881.242198260685],[84.0,110582.0,0.0790490322794597,14937.995169685584],[34.0,111303.0,0.345312577109288,14624.318634976556],[33.0,108345.0,0.32541328975821,15646.321717359428],[35.0,106588.0,0.3422142051018276,15648.65667046098],[36.0,96336.0,0.2880975671929816,15286.769335194169],[31.0,114833.0,0.3050696862135815,13953.029721407644],[39.0,99216.0,0.2166061433945727,15230.345105300736],[37.0,107877.0,0.3346179841546032,17968.55392863446],[38.0,113659.0,0.3334859873871594,14364.693391418998],[31.0,110882.0,0.3252806065281125,14004.61374291491],[35.0,105991.0,0.3433779781521022,16616.088239618915],[59.0,90422.0,0.8062102206275251,6746.28108382082],[33.0,101058.0,0.3150815497840024,14911.868398206978],[30.0,107302.0,0.2396771776819925,13993.24401848172],[33.0,98033.0,0.3095111158545869,15774.690605560643],[34.0,103428.0,0.2474244093916155,13791.035761571968],[38.0,94775.0,0.3803902009461493,16867.13082002739],[30.0,108928.0,0.303863615036657,14339.652917342728]],\"hovertemplate\":\"Cluster=%{x}<br>Age=%{customdata[0]}<br>Income=%{customdata[1]}<br>SpendingScore=%{customdata[2]}<br>Savings=%{customdata[3]}<extra></extra>\",\"legendgroup\":\"Cluster 3\",\"marker\":{\"color\":\"#ab63fa\"},\"name\":\"Cluster 3\",\"notched\":true,\"offsetgroup\":\"Cluster 3\",\"showlegend\":false,\"type\":\"box\",\"x\":[\"Cluster 3\",\"Cluster 3\",\"Cluster 3\",\"Cluster 3\",\"Cluster 3\",\"Cluster 3\",\"Cluster 3\",\"Cluster 3\",\"Cluster 3\",\"Cluster 3\",\"Cluster 3\",\"Cluster 3\",\"Cluster 3\",\"Cluster 3\",\"Cluster 3\",\"Cluster 3\",\"Cluster 3\",\"Cluster 3\",\"Cluster 3\",\"Cluster 3\",\"Cluster 3\",\"Cluster 3\",\"Cluster 3\",\"Cluster 3\",\"Cluster 3\",\"Cluster 3\",\"Cluster 3\",\"Cluster 3\",\"Cluster 3\",\"Cluster 3\",\"Cluster 3\",\"Cluster 3\",\"Cluster 3\",\"Cluster 3\",\"Cluster 3\",\"Cluster 3\",\"Cluster 3\",\"Cluster 3\",\"Cluster 3\",\"Cluster 3\",\"Cluster 3\",\"Cluster 3\",\"Cluster 3\",\"Cluster 3\",\"Cluster 3\",\"Cluster 3\",\"Cluster 3\",\"Cluster 3\",\"Cluster 3\",\"Cluster 3\",\"Cluster 3\",\"Cluster 3\",\"Cluster 3\",\"Cluster 3\",\"Cluster 3\",\"Cluster 3\",\"Cluster 3\",\"Cluster 3\",\"Cluster 3\",\"Cluster 3\",\"Cluster 3\",\"Cluster 3\",\"Cluster 3\",\"Cluster 3\",\"Cluster 3\",\"Cluster 3\",\"Cluster 3\",\"Cluster 3\",\"Cluster 3\",\"Cluster 3\",\"Cluster 3\",\"Cluster 3\",\"Cluster 3\",\"Cluster 3\",\"Cluster 3\",\"Cluster 3\",\"Cluster 3\",\"Cluster 3\",\"Cluster 3\",\"Cluster 3\",\"Cluster 3\",\"Cluster 3\",\"Cluster 3\",\"Cluster 3\",\"Cluster 3\",\"Cluster 3\",\"Cluster 3\",\"Cluster 3\",\"Cluster 3\",\"Cluster 3\",\"Cluster 3\",\"Cluster 3\",\"Cluster 3\",\"Cluster 3\",\"Cluster 3\",\"Cluster 3\",\"Cluster 3\",\"Cluster 3\",\"Cluster 3\",\"Cluster 3\",\"Cluster 3\",\"Cluster 3\",\"Cluster 3\",\"Cluster 3\",\"Cluster 3\",\"Cluster 3\",\"Cluster 3\",\"Cluster 3\",\"Cluster 3\",\"Cluster 3\",\"Cluster 3\",\"Cluster 3\",\"Cluster 3\",\"Cluster 3\",\"Cluster 3\",\"Cluster 3\",\"Cluster 3\",\"Cluster 3\",\"Cluster 3\",\"Cluster 3\",\"Cluster 3\",\"Cluster 3\",\"Cluster 3\",\"Cluster 3\",\"Cluster 3\",\"Cluster 3\",\"Cluster 3\",\"Cluster 3\",\"Cluster 3\",\"Cluster 3\"],\"xaxis\":\"x2\",\"yaxis\":\"y2\"}],                        {\"barmode\":\"relative\",\"height\":600,\"legend\":{\"title\":{\"text\":\"Cluster\"},\"tracegroupgap\":0},\"margin\":{\"t\":60},\"template\":{\"data\":{\"bar\":[{\"error_x\":{\"color\":\"#2a3f5f\"},\"error_y\":{\"color\":\"#2a3f5f\"},\"marker\":{\"line\":{\"color\":\"#E5ECF6\",\"width\":0.5},\"pattern\":{\"fillmode\":\"overlay\",\"size\":10,\"solidity\":0.2}},\"type\":\"bar\"}],\"barpolar\":[{\"marker\":{\"line\":{\"color\":\"#E5ECF6\",\"width\":0.5},\"pattern\":{\"fillmode\":\"overlay\",\"size\":10,\"solidity\":0.2}},\"type\":\"barpolar\"}],\"carpet\":[{\"aaxis\":{\"endlinecolor\":\"#2a3f5f\",\"gridcolor\":\"white\",\"linecolor\":\"white\",\"minorgridcolor\":\"white\",\"startlinecolor\":\"#2a3f5f\"},\"baxis\":{\"endlinecolor\":\"#2a3f5f\",\"gridcolor\":\"white\",\"linecolor\":\"white\",\"minorgridcolor\":\"white\",\"startlinecolor\":\"#2a3f5f\"},\"type\":\"carpet\"}],\"choropleth\":[{\"colorbar\":{\"outlinewidth\":0,\"ticks\":\"\"},\"type\":\"choropleth\"}],\"contour\":[{\"colorbar\":{\"outlinewidth\":0,\"ticks\":\"\"},\"colorscale\":[[0.0,\"#0d0887\"],[0.1111111111111111,\"#46039f\"],[0.2222222222222222,\"#7201a8\"],[0.3333333333333333,\"#9c179e\"],[0.4444444444444444,\"#bd3786\"],[0.5555555555555556,\"#d8576b\"],[0.6666666666666666,\"#ed7953\"],[0.7777777777777778,\"#fb9f3a\"],[0.8888888888888888,\"#fdca26\"],[1.0,\"#f0f921\"]],\"type\":\"contour\"}],\"contourcarpet\":[{\"colorbar\":{\"outlinewidth\":0,\"ticks\":\"\"},\"type\":\"contourcarpet\"}],\"heatmap\":[{\"colorbar\":{\"outlinewidth\":0,\"ticks\":\"\"},\"colorscale\":[[0.0,\"#0d0887\"],[0.1111111111111111,\"#46039f\"],[0.2222222222222222,\"#7201a8\"],[0.3333333333333333,\"#9c179e\"],[0.4444444444444444,\"#bd3786\"],[0.5555555555555556,\"#d8576b\"],[0.6666666666666666,\"#ed7953\"],[0.7777777777777778,\"#fb9f3a\"],[0.8888888888888888,\"#fdca26\"],[1.0,\"#f0f921\"]],\"type\":\"heatmap\"}],\"heatmapgl\":[{\"colorbar\":{\"outlinewidth\":0,\"ticks\":\"\"},\"colorscale\":[[0.0,\"#0d0887\"],[0.1111111111111111,\"#46039f\"],[0.2222222222222222,\"#7201a8\"],[0.3333333333333333,\"#9c179e\"],[0.4444444444444444,\"#bd3786\"],[0.5555555555555556,\"#d8576b\"],[0.6666666666666666,\"#ed7953\"],[0.7777777777777778,\"#fb9f3a\"],[0.8888888888888888,\"#fdca26\"],[1.0,\"#f0f921\"]],\"type\":\"heatmapgl\"}],\"histogram\":[{\"marker\":{\"pattern\":{\"fillmode\":\"overlay\",\"size\":10,\"solidity\":0.2}},\"type\":\"histogram\"}],\"histogram2d\":[{\"colorbar\":{\"outlinewidth\":0,\"ticks\":\"\"},\"colorscale\":[[0.0,\"#0d0887\"],[0.1111111111111111,\"#46039f\"],[0.2222222222222222,\"#7201a8\"],[0.3333333333333333,\"#9c179e\"],[0.4444444444444444,\"#bd3786\"],[0.5555555555555556,\"#d8576b\"],[0.6666666666666666,\"#ed7953\"],[0.7777777777777778,\"#fb9f3a\"],[0.8888888888888888,\"#fdca26\"],[1.0,\"#f0f921\"]],\"type\":\"histogram2d\"}],\"histogram2dcontour\":[{\"colorbar\":{\"outlinewidth\":0,\"ticks\":\"\"},\"colorscale\":[[0.0,\"#0d0887\"],[0.1111111111111111,\"#46039f\"],[0.2222222222222222,\"#7201a8\"],[0.3333333333333333,\"#9c179e\"],[0.4444444444444444,\"#bd3786\"],[0.5555555555555556,\"#d8576b\"],[0.6666666666666666,\"#ed7953\"],[0.7777777777777778,\"#fb9f3a\"],[0.8888888888888888,\"#fdca26\"],[1.0,\"#f0f921\"]],\"type\":\"histogram2dcontour\"}],\"mesh3d\":[{\"colorbar\":{\"outlinewidth\":0,\"ticks\":\"\"},\"type\":\"mesh3d\"}],\"parcoords\":[{\"line\":{\"colorbar\":{\"outlinewidth\":0,\"ticks\":\"\"}},\"type\":\"parcoords\"}],\"pie\":[{\"automargin\":true,\"type\":\"pie\"}],\"scatter\":[{\"marker\":{\"colorbar\":{\"outlinewidth\":0,\"ticks\":\"\"}},\"type\":\"scatter\"}],\"scatter3d\":[{\"line\":{\"colorbar\":{\"outlinewidth\":0,\"ticks\":\"\"}},\"marker\":{\"colorbar\":{\"outlinewidth\":0,\"ticks\":\"\"}},\"type\":\"scatter3d\"}],\"scattercarpet\":[{\"marker\":{\"colorbar\":{\"outlinewidth\":0,\"ticks\":\"\"}},\"type\":\"scattercarpet\"}],\"scattergeo\":[{\"marker\":{\"colorbar\":{\"outlinewidth\":0,\"ticks\":\"\"}},\"type\":\"scattergeo\"}],\"scattergl\":[{\"marker\":{\"colorbar\":{\"outlinewidth\":0,\"ticks\":\"\"}},\"type\":\"scattergl\"}],\"scattermapbox\":[{\"marker\":{\"colorbar\":{\"outlinewidth\":0,\"ticks\":\"\"}},\"type\":\"scattermapbox\"}],\"scatterpolar\":[{\"marker\":{\"colorbar\":{\"outlinewidth\":0,\"ticks\":\"\"}},\"type\":\"scatterpolar\"}],\"scatterpolargl\":[{\"marker\":{\"colorbar\":{\"outlinewidth\":0,\"ticks\":\"\"}},\"type\":\"scatterpolargl\"}],\"scatterternary\":[{\"marker\":{\"colorbar\":{\"outlinewidth\":0,\"ticks\":\"\"}},\"type\":\"scatterternary\"}],\"surface\":[{\"colorbar\":{\"outlinewidth\":0,\"ticks\":\"\"},\"colorscale\":[[0.0,\"#0d0887\"],[0.1111111111111111,\"#46039f\"],[0.2222222222222222,\"#7201a8\"],[0.3333333333333333,\"#9c179e\"],[0.4444444444444444,\"#bd3786\"],[0.5555555555555556,\"#d8576b\"],[0.6666666666666666,\"#ed7953\"],[0.7777777777777778,\"#fb9f3a\"],[0.8888888888888888,\"#fdca26\"],[1.0,\"#f0f921\"]],\"type\":\"surface\"}],\"table\":[{\"cells\":{\"fill\":{\"color\":\"#EBF0F8\"},\"line\":{\"color\":\"white\"}},\"header\":{\"fill\":{\"color\":\"#C8D4E3\"},\"line\":{\"color\":\"white\"}},\"type\":\"table\"}]},\"layout\":{\"annotationdefaults\":{\"arrowcolor\":\"#2a3f5f\",\"arrowhead\":0,\"arrowwidth\":1},\"autotypenumbers\":\"strict\",\"coloraxis\":{\"colorbar\":{\"outlinewidth\":0,\"ticks\":\"\"}},\"colorscale\":{\"diverging\":[[0,\"#8e0152\"],[0.1,\"#c51b7d\"],[0.2,\"#de77ae\"],[0.3,\"#f1b6da\"],[0.4,\"#fde0ef\"],[0.5,\"#f7f7f7\"],[0.6,\"#e6f5d0\"],[0.7,\"#b8e186\"],[0.8,\"#7fbc41\"],[0.9,\"#4d9221\"],[1,\"#276419\"]],\"sequential\":[[0.0,\"#0d0887\"],[0.1111111111111111,\"#46039f\"],[0.2222222222222222,\"#7201a8\"],[0.3333333333333333,\"#9c179e\"],[0.4444444444444444,\"#bd3786\"],[0.5555555555555556,\"#d8576b\"],[0.6666666666666666,\"#ed7953\"],[0.7777777777777778,\"#fb9f3a\"],[0.8888888888888888,\"#fdca26\"],[1.0,\"#f0f921\"]],\"sequentialminus\":[[0.0,\"#0d0887\"],[0.1111111111111111,\"#46039f\"],[0.2222222222222222,\"#7201a8\"],[0.3333333333333333,\"#9c179e\"],[0.4444444444444444,\"#bd3786\"],[0.5555555555555556,\"#d8576b\"],[0.6666666666666666,\"#ed7953\"],[0.7777777777777778,\"#fb9f3a\"],[0.8888888888888888,\"#fdca26\"],[1.0,\"#f0f921\"]]},\"colorway\":[\"#636efa\",\"#EF553B\",\"#00cc96\",\"#ab63fa\",\"#FFA15A\",\"#19d3f3\",\"#FF6692\",\"#B6E880\",\"#FF97FF\",\"#FECB52\"],\"font\":{\"color\":\"#2a3f5f\"},\"geo\":{\"bgcolor\":\"white\",\"lakecolor\":\"white\",\"landcolor\":\"#E5ECF6\",\"showlakes\":true,\"showland\":true,\"subunitcolor\":\"white\"},\"hoverlabel\":{\"align\":\"left\"},\"hovermode\":\"closest\",\"mapbox\":{\"style\":\"light\"},\"paper_bgcolor\":\"white\",\"plot_bgcolor\":\"#E5ECF6\",\"polar\":{\"angularaxis\":{\"gridcolor\":\"white\",\"linecolor\":\"white\",\"ticks\":\"\"},\"bgcolor\":\"#E5ECF6\",\"radialaxis\":{\"gridcolor\":\"white\",\"linecolor\":\"white\",\"ticks\":\"\"}},\"scene\":{\"xaxis\":{\"backgroundcolor\":\"#E5ECF6\",\"gridcolor\":\"white\",\"gridwidth\":2,\"linecolor\":\"white\",\"showbackground\":true,\"ticks\":\"\",\"zerolinecolor\":\"white\"},\"yaxis\":{\"backgroundcolor\":\"#E5ECF6\",\"gridcolor\":\"white\",\"gridwidth\":2,\"linecolor\":\"white\",\"showbackground\":true,\"ticks\":\"\",\"zerolinecolor\":\"white\"},\"zaxis\":{\"backgroundcolor\":\"#E5ECF6\",\"gridcolor\":\"white\",\"gridwidth\":2,\"linecolor\":\"white\",\"showbackground\":true,\"ticks\":\"\",\"zerolinecolor\":\"white\"}},\"shapedefaults\":{\"line\":{\"color\":\"#2a3f5f\"}},\"ternary\":{\"aaxis\":{\"gridcolor\":\"white\",\"linecolor\":\"white\",\"ticks\":\"\"},\"baxis\":{\"gridcolor\":\"white\",\"linecolor\":\"white\",\"ticks\":\"\"},\"bgcolor\":\"#E5ECF6\",\"caxis\":{\"gridcolor\":\"white\",\"linecolor\":\"white\",\"ticks\":\"\"}},\"title\":{\"x\":0.05},\"xaxis\":{\"automargin\":true,\"gridcolor\":\"white\",\"linecolor\":\"white\",\"ticks\":\"\",\"title\":{\"standoff\":15},\"zerolinecolor\":\"white\",\"zerolinewidth\":2},\"yaxis\":{\"automargin\":true,\"gridcolor\":\"white\",\"linecolor\":\"white\",\"ticks\":\"\",\"title\":{\"standoff\":15},\"zerolinecolor\":\"white\",\"zerolinewidth\":2}}},\"xaxis\":{\"anchor\":\"y\",\"categoryarray\":[\"Cluster 0\",\"Cluster 1\",\"Cluster 2\",\"Cluster 3\"],\"categoryorder\":\"array\",\"domain\":[0.0,1.0],\"title\":{\"text\":\"Cluster\"}},\"xaxis2\":{\"anchor\":\"y2\",\"domain\":[0.0,1.0],\"matches\":\"x\",\"showgrid\":true,\"showticklabels\":false},\"yaxis\":{\"anchor\":\"x\",\"domain\":[0.0,0.7326],\"title\":{\"text\":\"count\"}},\"yaxis2\":{\"anchor\":\"x2\",\"domain\":[0.7426,1.0],\"matches\":\"y2\",\"showgrid\":false,\"showline\":false,\"showticklabels\":false,\"ticks\":\"\"}},                        {\"responsive\": true}                    ).then(function(){\n",
       "                            \n",
       "var gd = document.getElementById('ce5e46fa-796c-4c4f-a860-9eba27912250');\n",
       "var x = new MutationObserver(function (mutations, observer) {{\n",
       "        var display = window.getComputedStyle(gd).display;\n",
       "        if (!display || display === 'none') {{\n",
       "            console.log([gd, 'removed!']);\n",
       "            Plotly.purge(gd);\n",
       "            observer.disconnect();\n",
       "        }}\n",
       "}});\n",
       "\n",
       "// Listen for the removal of the full notebook cells\n",
       "var notebookContainer = gd.closest('#notebook-container');\n",
       "if (notebookContainer) {{\n",
       "    x.observe(notebookContainer, {childList: true});\n",
       "}}\n",
       "\n",
       "// Listen for the clearing of the current output cell\n",
       "var outputEl = gd.closest('.output');\n",
       "if (outputEl) {{\n",
       "    x.observe(outputEl, {childList: true});\n",
       "}}\n",
       "\n",
       "                        })                };                });            </script>        </div>"
      ],
      "application/vnd.plotly.v1+json": {
       "config": {
        "plotlyServerURL": "https://plot.ly"
       },
       "data": [
        {
         "alignmentgroup": "True",
         "bingroup": "x",
         "hovertemplate": "Cluster=%{x}<br>count=%{y}<extra></extra>",
         "legendgroup": "Cluster 0",
         "marker": {
          "color": "#636efa",
          "opacity": 0.7,
          "pattern": {
           "shape": ""
          }
         },
         "name": "Cluster 0",
         "offsetgroup": "Cluster 0",
         "orientation": "v",
         "showlegend": true,
         "type": "histogram",
         "x": [
          "Cluster 0",
          "Cluster 0",
          "Cluster 0",
          "Cluster 0",
          "Cluster 0",
          "Cluster 0",
          "Cluster 0",
          "Cluster 0",
          "Cluster 0",
          "Cluster 0",
          "Cluster 0",
          "Cluster 0",
          "Cluster 0",
          "Cluster 0",
          "Cluster 0",
          "Cluster 0",
          "Cluster 0",
          "Cluster 0",
          "Cluster 0",
          "Cluster 0",
          "Cluster 0",
          "Cluster 0",
          "Cluster 0",
          "Cluster 0",
          "Cluster 0",
          "Cluster 0",
          "Cluster 0",
          "Cluster 0",
          "Cluster 0",
          "Cluster 0",
          "Cluster 0",
          "Cluster 0",
          "Cluster 0",
          "Cluster 0",
          "Cluster 0",
          "Cluster 0",
          "Cluster 0",
          "Cluster 0",
          "Cluster 0",
          "Cluster 0",
          "Cluster 0",
          "Cluster 0",
          "Cluster 0",
          "Cluster 0",
          "Cluster 0",
          "Cluster 0",
          "Cluster 0",
          "Cluster 0",
          "Cluster 0",
          "Cluster 0",
          "Cluster 0",
          "Cluster 0",
          "Cluster 0",
          "Cluster 0",
          "Cluster 0",
          "Cluster 0",
          "Cluster 0",
          "Cluster 0",
          "Cluster 0",
          "Cluster 0",
          "Cluster 0",
          "Cluster 0",
          "Cluster 0",
          "Cluster 0",
          "Cluster 0",
          "Cluster 0",
          "Cluster 0",
          "Cluster 0",
          "Cluster 0",
          "Cluster 0",
          "Cluster 0",
          "Cluster 0",
          "Cluster 0",
          "Cluster 0",
          "Cluster 0",
          "Cluster 0",
          "Cluster 0",
          "Cluster 0",
          "Cluster 0",
          "Cluster 0",
          "Cluster 0",
          "Cluster 0",
          "Cluster 0",
          "Cluster 0",
          "Cluster 0",
          "Cluster 0",
          "Cluster 0",
          "Cluster 0",
          "Cluster 0",
          "Cluster 0",
          "Cluster 0",
          "Cluster 0",
          "Cluster 0",
          "Cluster 0",
          "Cluster 0",
          "Cluster 0",
          "Cluster 0",
          "Cluster 0",
          "Cluster 0",
          "Cluster 0",
          "Cluster 0",
          "Cluster 0",
          "Cluster 0",
          "Cluster 0",
          "Cluster 0",
          "Cluster 0",
          "Cluster 0",
          "Cluster 0",
          "Cluster 0",
          "Cluster 0",
          "Cluster 0",
          "Cluster 0",
          "Cluster 0",
          "Cluster 0",
          "Cluster 0",
          "Cluster 0",
          "Cluster 0",
          "Cluster 0",
          "Cluster 0",
          "Cluster 0",
          "Cluster 0",
          "Cluster 0",
          "Cluster 0",
          "Cluster 0",
          "Cluster 0",
          "Cluster 0",
          "Cluster 0",
          "Cluster 0",
          "Cluster 0",
          "Cluster 0",
          "Cluster 0",
          "Cluster 0",
          "Cluster 0",
          "Cluster 0",
          "Cluster 0",
          "Cluster 0",
          "Cluster 0",
          "Cluster 0",
          "Cluster 0",
          "Cluster 0",
          "Cluster 0",
          "Cluster 0",
          "Cluster 0",
          "Cluster 0",
          "Cluster 0",
          "Cluster 0",
          "Cluster 0",
          "Cluster 0",
          "Cluster 0",
          "Cluster 0",
          "Cluster 0",
          "Cluster 0",
          "Cluster 0",
          "Cluster 0",
          "Cluster 0",
          "Cluster 0"
         ],
         "xaxis": "x",
         "yaxis": "y"
        },
        {
         "alignmentgroup": "True",
         "customdata": [
          [
           58,
           77769,
           0.7913287771988531,
           6559.829923004832
          ],
          [
           58,
           83351,
           0.840697803869219,
           6673.909711092488
          ],
          [
           55,
           76057,
           0.8778279844516369,
           6132.898204816149
          ],
          [
           60,
           67491,
           0.84661848692906,
           7180.713788260257
          ],
          [
           56,
           60059,
           0.7275840223364691,
           7166.858605155183
          ],
          [
           60,
           65340,
           0.7316484923943142,
           8354.196507802662
          ],
          [
           58,
           80278,
           0.823358991009156,
           6335.97831998802
          ],
          [
           56,
           67274,
           0.7798516671891869,
           6652.391024403152
          ],
          [
           64,
           64331,
           0.7571277508774099,
           5815.660096290825
          ],
          [
           63,
           75078,
           0.7831591503681397,
           7468.8510795028
          ],
          [
           62,
           62747,
           0.7705945596869115,
           5852.326242628098
          ],
          [
           59,
           75505,
           0.7682786576081454,
           5006.528691371692
          ],
          [
           67,
           59243,
           0.7436599996604758,
           5446.557472721708
          ],
          [
           58,
           77559,
           0.7122963723872477,
           5742.524488088997
          ],
          [
           58,
           70272,
           0.8229596005059499,
           5290.087044285296
          ],
          [
           57,
           65608,
           0.7662313009024402,
           6904.318224287021
          ],
          [
           66,
           71672,
           0.7538892176112998,
           7387.835437850722
          ],
          [
           64,
           78801,
           0.7403674891662984,
           6420.944071200261
          ],
          [
           59,
           69460,
           0.7527238381125997,
           6101.372146632122
          ],
          [
           68,
           77648,
           0.7965446939835457,
           6190.864082788901
          ],
          [
           61,
           71171,
           0.7210804930623951,
           6457.790641224787
          ],
          [
           64,
           76410,
           0.7756041848937439,
           6135.308197117818
          ],
          [
           63,
           56875,
           0.7622805817657738,
           7837.233619544163
          ],
          [
           55,
           73895,
           0.7471254610291731,
           5563.906948891499
          ],
          [
           57,
           76573,
           0.8405990704520518,
           6225.376082433229
          ],
          [
           57,
           69655,
           0.6748906779058501,
           5889.831167170132
          ],
          [
           53,
           74996,
           0.7387310917031671,
           7821.447803561914
          ],
          [
           61,
           73495,
           0.7727563051023116,
           9288.189785744367
          ],
          [
           61,
           71033,
           0.8380950724014863,
           9456.876962701135
          ],
          [
           62,
           67030,
           0.7467384433463651,
           6740.765182071713
          ],
          [
           62,
           63596,
           0.7453271943508174,
           6142.2016193458685
          ],
          [
           62,
           62650,
           0.766572365027147,
           7533.673609198676
          ],
          [
           60,
           71436,
           0.8320590985324969,
           8557.86012627717
          ],
          [
           65,
           65736,
           0.7785687658100923,
           6387.2196944302905
          ],
          [
           60,
           70663,
           0.7153396972946453,
           7557.937593550947
          ],
          [
           63,
           80705,
           0.7626699527314824,
           5154.330634621805
          ],
          [
           56,
           84386,
           0.7849450699605269,
           7270.41953428175
          ],
          [
           58,
           75757,
           0.8097944168848634,
           7390.577293437033
          ],
          [
           62,
           71050,
           0.7353568506694507,
           6988.19736827388
          ],
          [
           56,
           68698,
           0.7162678503859907,
           7070.967006969191
          ],
          [
           59,
           67781,
           0.7225483489421433,
           6701.527664794541
          ],
          [
           65,
           66017,
           0.7861892594159869,
           6159.662935925753
          ],
          [
           62,
           80093,
           0.6909167811268888,
           6756.749072752338
          ],
          [
           59,
           67988,
           0.8114707012366371,
           7255.90311433466
          ],
          [
           66,
           82526,
           0.7696800667721441,
           6205.662650191711
          ],
          [
           64,
           76364,
           0.6993887663543108,
           5772.117135854975
          ],
          [
           62,
           68279,
           0.7196850779929922,
           7028.675510384213
          ],
          [
           61,
           69698,
           0.7416839698444291,
           8777.077471725162
          ],
          [
           56,
           68463,
           0.8157116929554062,
           8995.180087953215
          ],
          [
           62,
           78413,
           0.7907090657200839,
           6961.204192368095
          ],
          [
           60,
           65054,
           0.7086131723969877,
           5417.237293788359
          ],
          [
           62,
           69391,
           0.7921059737158539,
           6518.283467894094
          ],
          [
           64,
           86283,
           0.7568019251873561,
           6852.554866914717
          ],
          [
           63,
           69849,
           0.7403870808915297,
           7670.690965941329
          ],
          [
           58,
           78635,
           0.7864400503429185,
           7162.7390430553605
          ],
          [
           59,
           71302,
           0.7020090041734849,
           6595.726010227134
          ],
          [
           59,
           75495,
           0.7945029052198103,
           6702.9519263157545
          ],
          [
           59,
           56321,
           0.806565925193039,
           6129.288986032587
          ],
          [
           59,
           67401,
           0.7114339697492305,
           6529.586309935448
          ],
          [
           55,
           64768,
           0.7332568512323248,
           6486.353872691102
          ],
          [
           51,
           72086,
           0.7911147257599156,
           6732.096068632267
          ],
          [
           57,
           72055,
           0.7549723463413129,
           6544.847498075687
          ],
          [
           61,
           78837,
           0.7459489746307642,
           6811.303235949058
          ],
          [
           60,
           74460,
           0.7545393292392412,
           7567.647652220367
          ],
          [
           64,
           62886,
           0.7480162682831766,
           8302.588638401632
          ],
          [
           65,
           74430,
           0.7517741617758547,
           7145.251128357927
          ],
          [
           59,
           67346,
           0.7251568963089163,
           8857.849116294088
          ],
          [
           58,
           78078,
           0.7837795500405715,
           6483.049643745244
          ],
          [
           63,
           82343,
           0.7323186222078123,
           8090.706739679063
          ],
          [
           61,
           67372,
           0.7340673095092516,
           6618.549336247915
          ],
          [
           59,
           68038,
           0.8014869916095588,
           7719.283632687175
          ],
          [
           56,
           65313,
           0.7546029986455771,
           5574.243676707098
          ],
          [
           61,
           72027,
           0.7623249166772856,
           6926.123598416466
          ],
          [
           63,
           70580,
           0.7665090449070475,
           7262.108723452132
          ],
          [
           58,
           70676,
           0.7640283880376706,
           7664.415650964042
          ],
          [
           62,
           73675,
           0.7966191667425384,
           4688.657157271711
          ],
          [
           60,
           63476,
           0.7519000198498227,
           7543.542801728055
          ],
          [
           62,
           67731,
           0.8191699488980382,
           5956.555677017446
          ],
          [
           65,
           70430,
           0.6969942581249643,
           6971.164886262858
          ],
          [
           59,
           69408,
           0.8799059975919311,
           6491.771149967825
          ],
          [
           65,
           71229,
           0.7878897626638453,
           9024.337460598084
          ],
          [
           58,
           70369,
           0.9045204855363144,
           7461.567502649429
          ],
          [
           61,
           74282,
           0.6922364738673796,
           7286.754751068365
          ],
          [
           66,
           77052,
           0.7072624347132287,
           6296.41731122746
          ],
          [
           58,
           78611,
           0.910416682938019,
           7665.884294519009
          ],
          [
           68,
           68944,
           0.7455674638713768,
           6828.709702363695
          ],
          [
           58,
           69247,
           0.7237211912021976,
           8715.67957429646
          ],
          [
           67,
           78702,
           0.7632736815688779,
           5030.364838791924
          ],
          [
           58,
           76052,
           0.7215881830727278,
           6681.984386377028
          ],
          [
           56,
           75599,
           0.7737370986430746,
           6799.625271842961
          ],
          [
           61,
           72060,
           0.8334590233217959,
           7924.641138154016
          ],
          [
           56,
           78992,
           0.8122757021441627,
           7285.180436851739
          ],
          [
           61,
           65647,
           0.717489977384151,
           7497.231607003855
          ],
          [
           59,
           77978,
           0.7188952048526104,
           8316.31110205122
          ],
          [
           62,
           69326,
           0.798012338054483,
           7003.095703317772
          ],
          [
           59,
           69115,
           0.75988343384532,
           5997.690199856996
          ],
          [
           59,
           80876,
           0.6573140731575163,
           7232.825142650887
          ],
          [
           59,
           73057,
           0.8302949092020397,
           7819.393215767329
          ],
          [
           57,
           64803,
           0.7285849289103553,
           6255.55264105716
          ],
          [
           59,
           73350,
           0.6797735912164855,
           6710.5740183754415
          ],
          [
           64,
           71692,
           0.8426521453196145,
           7002.976554303355
          ],
          [
           61,
           65914,
           0.7781022309770123,
           6406.877130352032
          ],
          [
           63,
           67370,
           0.8999405530923943,
           5985.077029740456
          ],
          [
           56,
           80431,
           0.7594315957853627,
           8150.55743948241
          ],
          [
           59,
           82199,
           0.8035145098215853,
           5880.814834306346
          ],
          [
           58,
           80248,
           0.7249557054919687,
           7641.16038162423
          ],
          [
           61,
           68842,
           0.7544065421993587,
           4077.6586565080543
          ],
          [
           55,
           76831,
           0.742113734041324,
           7806.398750466399
          ],
          [
           59,
           73596,
           0.8567042188430352,
           8281.718740320448
          ],
          [
           60,
           70054,
           0.7143393610830643,
           6609.918507412547
          ],
          [
           60,
           65942,
           0.8005783854654352,
           5253.265006608644
          ],
          [
           67,
           80914,
           0.819664259296033,
           6833.507136694643
          ],
          [
           57,
           79794,
           0.82240840085096,
           5893.975284946178
          ],
          [
           56,
           73516,
           0.806499154055182,
           7696.832373798451
          ],
          [
           67,
           68663,
           0.7738336308243648,
           7451.99401402587
          ],
          [
           63,
           72815,
           0.8200359737627068,
           5504.385543801038
          ],
          [
           57,
           74014,
           0.787378081122989,
           5783.846928267083
          ],
          [
           59,
           65700,
           0.8114711740198254,
           6932.487932327357
          ],
          [
           61,
           69001,
           0.8216687745413516,
           5074.12121172259
          ],
          [
           59,
           74576,
           0.7812961239072382,
           10547.775367695343
          ],
          [
           64,
           60493,
           0.7680563479442216,
           7708.112609459161
          ],
          [
           62,
           69741,
           0.8462196017575947,
           5781.658046536959
          ],
          [
           55,
           71621,
           0.753342683616619,
           7780.589913955976
          ],
          [
           54,
           76500,
           0.7851978501165687,
           6878.884248553975
          ],
          [
           61,
           63846,
           0.8278622414878984,
           7283.504772674617
          ],
          [
           58,
           69879,
           0.7209986871945887,
           6669.033518051874
          ],
          [
           59,
           69738,
           0.742112121715572,
           7151.650866065036
          ],
          [
           53,
           76667,
           0.7600576501232099,
           5168.225474983632
          ],
          [
           55,
           71056,
           0.7565897119333272,
           7464.163256732262
          ],
          [
           58,
           77101,
           0.7667195837506832,
           8148.49184821177
          ],
          [
           58,
           74340,
           0.7351650452097145,
           7259.540921675671
          ],
          [
           61,
           74117,
           0.7702140596767938,
           5103.609230428381
          ],
          [
           62,
           73480,
           0.7391949797931453,
           6277.675150528886
          ],
          [
           57,
           79470,
           0.7734352958312237,
           6773.04908977712
          ],
          [
           56,
           63866,
           0.7618879582513512,
           7762.255066659052
          ],
          [
           61,
           71933,
           0.8441067966472876,
           8022.208541100705
          ],
          [
           59,
           72588,
           0.8017156979122673,
           6300.8437570950255
          ],
          [
           60,
           70012,
           0.7944610508231513,
           7263.242447729872
          ],
          [
           61,
           76955,
           0.777117564607447,
           7467.0367023144945
          ],
          [
           66,
           72571,
           0.8115483367376335,
           6509.411506109981
          ],
          [
           58,
           70798,
           0.7535283874245788,
           5330.73989989779
          ],
          [
           63,
           85761,
           0.8005979105724924,
           7175.090218501248
          ],
          [
           58,
           70259,
           0.7697129169369328,
           7101.674514204499
          ],
          [
           60,
           79969,
           0.812104912914789,
           4879.334872972362
          ],
          [
           62,
           74751,
           0.7026569520102857,
           9258.992965034067
          ],
          [
           66,
           64866,
           0.766594189137425,
           5037.899138583947
          ],
          [
           59,
           74373,
           0.7656795619984281,
           7346.334503537976
          ],
          [
           56,
           86484,
           0.7321233689266612,
           8777.496176839057
          ],
          [
           59,
           81799,
           0.7910820467274178,
           5417.661426197439
          ],
          [
           64,
           88361,
           0.7745562258521365,
           7240.759687480846
          ],
          [
           61,
           73245,
           0.811160373170345,
           7413.784487271214
          ],
          [
           57,
           75332,
           0.7215024376129366,
           6845.056822204781
          ],
          [
           55,
           78761,
           0.8271741985123882,
           8376.74947779104
          ],
          [
           53,
           62117,
           0.7331388477995737,
           7500.452413594261
          ],
          [
           57,
           76594,
           0.7906578552491133,
           6584.654681310476
          ],
          [
           55,
           74356,
           0.7998269700906482,
           6484.630737953293
          ]
         ],
         "hovertemplate": "Cluster=%{x}<br>Age=%{customdata[0]}<br>Income=%{customdata[1]}<br>SpendingScore=%{customdata[2]}<br>Savings=%{customdata[3]}<extra></extra>",
         "legendgroup": "Cluster 0",
         "marker": {
          "color": "#636efa"
         },
         "name": "Cluster 0",
         "notched": true,
         "offsetgroup": "Cluster 0",
         "showlegend": false,
         "type": "box",
         "x": [
          "Cluster 0",
          "Cluster 0",
          "Cluster 0",
          "Cluster 0",
          "Cluster 0",
          "Cluster 0",
          "Cluster 0",
          "Cluster 0",
          "Cluster 0",
          "Cluster 0",
          "Cluster 0",
          "Cluster 0",
          "Cluster 0",
          "Cluster 0",
          "Cluster 0",
          "Cluster 0",
          "Cluster 0",
          "Cluster 0",
          "Cluster 0",
          "Cluster 0",
          "Cluster 0",
          "Cluster 0",
          "Cluster 0",
          "Cluster 0",
          "Cluster 0",
          "Cluster 0",
          "Cluster 0",
          "Cluster 0",
          "Cluster 0",
          "Cluster 0",
          "Cluster 0",
          "Cluster 0",
          "Cluster 0",
          "Cluster 0",
          "Cluster 0",
          "Cluster 0",
          "Cluster 0",
          "Cluster 0",
          "Cluster 0",
          "Cluster 0",
          "Cluster 0",
          "Cluster 0",
          "Cluster 0",
          "Cluster 0",
          "Cluster 0",
          "Cluster 0",
          "Cluster 0",
          "Cluster 0",
          "Cluster 0",
          "Cluster 0",
          "Cluster 0",
          "Cluster 0",
          "Cluster 0",
          "Cluster 0",
          "Cluster 0",
          "Cluster 0",
          "Cluster 0",
          "Cluster 0",
          "Cluster 0",
          "Cluster 0",
          "Cluster 0",
          "Cluster 0",
          "Cluster 0",
          "Cluster 0",
          "Cluster 0",
          "Cluster 0",
          "Cluster 0",
          "Cluster 0",
          "Cluster 0",
          "Cluster 0",
          "Cluster 0",
          "Cluster 0",
          "Cluster 0",
          "Cluster 0",
          "Cluster 0",
          "Cluster 0",
          "Cluster 0",
          "Cluster 0",
          "Cluster 0",
          "Cluster 0",
          "Cluster 0",
          "Cluster 0",
          "Cluster 0",
          "Cluster 0",
          "Cluster 0",
          "Cluster 0",
          "Cluster 0",
          "Cluster 0",
          "Cluster 0",
          "Cluster 0",
          "Cluster 0",
          "Cluster 0",
          "Cluster 0",
          "Cluster 0",
          "Cluster 0",
          "Cluster 0",
          "Cluster 0",
          "Cluster 0",
          "Cluster 0",
          "Cluster 0",
          "Cluster 0",
          "Cluster 0",
          "Cluster 0",
          "Cluster 0",
          "Cluster 0",
          "Cluster 0",
          "Cluster 0",
          "Cluster 0",
          "Cluster 0",
          "Cluster 0",
          "Cluster 0",
          "Cluster 0",
          "Cluster 0",
          "Cluster 0",
          "Cluster 0",
          "Cluster 0",
          "Cluster 0",
          "Cluster 0",
          "Cluster 0",
          "Cluster 0",
          "Cluster 0",
          "Cluster 0",
          "Cluster 0",
          "Cluster 0",
          "Cluster 0",
          "Cluster 0",
          "Cluster 0",
          "Cluster 0",
          "Cluster 0",
          "Cluster 0",
          "Cluster 0",
          "Cluster 0",
          "Cluster 0",
          "Cluster 0",
          "Cluster 0",
          "Cluster 0",
          "Cluster 0",
          "Cluster 0",
          "Cluster 0",
          "Cluster 0",
          "Cluster 0",
          "Cluster 0",
          "Cluster 0",
          "Cluster 0",
          "Cluster 0",
          "Cluster 0",
          "Cluster 0",
          "Cluster 0",
          "Cluster 0",
          "Cluster 0",
          "Cluster 0",
          "Cluster 0",
          "Cluster 0",
          "Cluster 0",
          "Cluster 0",
          "Cluster 0"
         ],
         "xaxis": "x2",
         "yaxis": "y2"
        },
        {
         "alignmentgroup": "True",
         "bingroup": "x",
         "hovertemplate": "Cluster=%{x}<br>count=%{y}<extra></extra>",
         "legendgroup": "Cluster 1",
         "marker": {
          "color": "#EF553B",
          "opacity": 0.7,
          "pattern": {
           "shape": ""
          }
         },
         "name": "Cluster 1",
         "offsetgroup": "Cluster 1",
         "orientation": "v",
         "showlegend": true,
         "type": "histogram",
         "x": [
          "Cluster 1",
          "Cluster 1",
          "Cluster 1",
          "Cluster 1",
          "Cluster 1",
          "Cluster 1",
          "Cluster 1",
          "Cluster 1",
          "Cluster 1",
          "Cluster 1",
          "Cluster 1",
          "Cluster 1",
          "Cluster 1",
          "Cluster 1",
          "Cluster 1",
          "Cluster 1",
          "Cluster 1",
          "Cluster 1",
          "Cluster 1",
          "Cluster 1",
          "Cluster 1",
          "Cluster 1",
          "Cluster 1",
          "Cluster 1",
          "Cluster 1",
          "Cluster 1",
          "Cluster 1",
          "Cluster 1",
          "Cluster 1",
          "Cluster 1",
          "Cluster 1",
          "Cluster 1",
          "Cluster 1",
          "Cluster 1",
          "Cluster 1",
          "Cluster 1",
          "Cluster 1",
          "Cluster 1",
          "Cluster 1",
          "Cluster 1",
          "Cluster 1",
          "Cluster 1",
          "Cluster 1",
          "Cluster 1",
          "Cluster 1",
          "Cluster 1",
          "Cluster 1",
          "Cluster 1",
          "Cluster 1",
          "Cluster 1",
          "Cluster 1",
          "Cluster 1",
          "Cluster 1",
          "Cluster 1",
          "Cluster 1",
          "Cluster 1",
          "Cluster 1",
          "Cluster 1",
          "Cluster 1",
          "Cluster 1",
          "Cluster 1",
          "Cluster 1",
          "Cluster 1",
          "Cluster 1",
          "Cluster 1",
          "Cluster 1",
          "Cluster 1",
          "Cluster 1",
          "Cluster 1",
          "Cluster 1",
          "Cluster 1",
          "Cluster 1"
         ],
         "xaxis": "x",
         "yaxis": "y"
        },
        {
         "alignmentgroup": "True",
         "customdata": [
          [
           88,
           123651,
           0.0290271402910519,
           13504.577571797936
          ],
          [
           21,
           129726,
           0.9517923119702948,
           4550.799521687883
          ],
          [
           26,
           125662,
           0.9268183658411524,
           6089.47832250152
          ],
          [
           25,
           130361,
           0.9254385568124625,
           4691.55213906238
          ],
          [
           23,
           129937,
           0.8727356634334804,
           4102.065424707484
          ],
          [
           20,
           129469,
           0.9399954311014268,
           5522.573424346325
          ],
          [
           30,
           122788,
           0.8728724057273831,
           5706.149573297764
          ],
          [
           17,
           134966,
           0.9072421746334024,
           4128.044795832437
          ],
          [
           24,
           134384,
           0.8747208244890404,
           3731.339761444919
          ],
          [
           29,
           119366,
           0.3587713900686116,
           15012.8530142263
          ],
          [
           29,
           122264,
           0.8985788437238403,
           2494.55627432471
          ],
          [
           25,
           120957,
           0.8776734245644572,
           5590.447216086322
          ],
          [
           23,
           126500,
           0.8650328592458483,
           3270.1504344070872
          ],
          [
           87,
           117564,
           0.1282795957567026,
           14000.248964992144
          ],
          [
           85,
           118169,
           0.123196057747337,
           14855.95102392762
          ],
          [
           22,
           134209,
           0.8706980046008759,
           5138.109568643242
          ],
          [
           83,
           117347,
           0.1556940923286098,
           15086.701120471578
          ],
          [
           25,
           138021,
           0.944017175810026,
           3005.577482475175
          ],
          [
           83,
           119429,
           0.0421548010785584,
           15607.561541234569
          ],
          [
           90,
           124170,
           0.0307513143939138,
           14773.40720559984
          ],
          [
           18,
           130813,
           0.890891247267583,
           5256.434559627984
          ],
          [
           17,
           134734,
           0.8579216672301577,
           0
          ],
          [
           24,
           129087,
           0.8271179432765905,
           3290.829468618805
          ],
          [
           20,
           122581,
           0.8940806156500202,
           4444.447684252053
          ],
          [
           20,
           129142,
           0.8870519941988757,
           5603.121027746489
          ],
          [
           23,
           138443,
           0.9226565539031124,
           3297.058843994153
          ],
          [
           91,
           118794,
           0.0192120658984376,
           14047.388986415734
          ],
          [
           26,
           131827,
           0.8807194909406801,
           4352.699304837541
          ],
          [
           77,
           128596,
           0.0408240706625097,
           14503.410786381415
          ],
          [
           21,
           123678,
           0.8320252689431032,
           2838.815820835909
          ],
          [
           83,
           117943,
           0.0772132400334304,
           15391.952192206512
          ],
          [
           28,
           117108,
           0.857078493256913,
           4749.879237491619
          ],
          [
           28,
           129019,
           0.9308319590820414,
           3016.8206434862623
          ],
          [
           29,
           142000,
           0.9400873084125808,
           5349.821181717665
          ],
          [
           24,
           134389,
           0.9388521378701832,
           4573.60634580409
          ],
          [
           90,
           117668,
           0.0827227429940155,
           12554.69274242066
          ],
          [
           28,
           123153,
           0.9842407862639496,
           3697.51364538533
          ],
          [
           25,
           131009,
           0.8640569016468125,
           4792.426581212785
          ],
          [
           34,
           119877,
           0.3054369951589357,
           15634.788286084158
          ],
          [
           89,
           119697,
           0.0916792017028315,
           16215.399076555512
          ],
          [
           27,
           121468,
           0.9206489879585448,
           5011.112062373317
          ],
          [
           27,
           122671,
           0.910107112831516,
           4206.28723870951
          ],
          [
           22,
           132948,
           0.8898001728484242,
           2839.7863574778585
          ],
          [
           82,
           121642,
           0.0546531904642098,
           14177.513323069668
          ],
          [
           92,
           122879,
           0.0607240352184939,
           13709.670274517475
          ],
          [
           26,
           127320,
           0.8250298045601994,
           5495.642137901323
          ],
          [
           93,
           126601,
           0.0251701694773457,
           14117.44703707058
          ],
          [
           17,
           123828,
           0.9420129076091708,
           3798.8403998790254
          ],
          [
           28,
           127699,
           0.8814245468734898,
           5490.8149556706885
          ],
          [
           24,
           127352,
           0.9054521594192038,
           2961.716874324024
          ],
          [
           24,
           120465,
           0.9074853865005544,
           4838.3483502815925
          ],
          [
           26,
           123005,
           0.9845261943505972,
           4371.23473281147
          ],
          [
           24,
           130974,
           0.9118386021444842,
           4420.0727101369375
          ],
          [
           18,
           123718,
           0.8065528615489801,
           4420.445820614172
          ],
          [
           32,
           117050,
           0.3113555349689566,
           14310.546206532164
          ],
          [
           26,
           126617,
           0.8770521049168103,
           2913.368146562765
          ],
          [
           28,
           123229,
           0.8733219541371664,
           610.4462190811464
          ],
          [
           23,
           120226,
           0.8819129663041946,
           4698.294710949844
          ],
          [
           28,
           121216,
           0.8569692823607705,
           5349.065446955783
          ],
          [
           29,
           131578,
           0.847034102512837,
           3535.5143522162816
          ],
          [
           82,
           126257,
           0.0780961943994333,
           15816.101922357922
          ],
          [
           17,
           136255,
           0.935876103673024,
           4126.22665140887
          ],
          [
           86,
           128378,
           0.1260834097584985,
           13585.778624417357
          ],
          [
           27,
           125008,
           0.9596454072349518,
           2963.637708058779
          ],
          [
           88,
           120678,
           0.0632728512966028,
           14264.473846639945
          ],
          [
           84,
           122696,
           0.0821868319247355,
           13809.734086698068
          ],
          [
           24,
           136644,
           0.8716976842508705,
           1617.2257000775644
          ],
          [
           86,
           124372,
           0,
           15374.465952896948
          ],
          [
           25,
           130934,
           0.9137660194970426,
           3942.389134492165
          ],
          [
           25,
           128625,
           0.8167389887954251,
           4914.117127206948
          ],
          [
           31,
           122924,
           0.89046022417733,
           3071.9445761529696
          ],
          [
           22,
           120525,
           1,
           5495.165732288548
          ]
         ],
         "hovertemplate": "Cluster=%{x}<br>Age=%{customdata[0]}<br>Income=%{customdata[1]}<br>SpendingScore=%{customdata[2]}<br>Savings=%{customdata[3]}<extra></extra>",
         "legendgroup": "Cluster 1",
         "marker": {
          "color": "#EF553B"
         },
         "name": "Cluster 1",
         "notched": true,
         "offsetgroup": "Cluster 1",
         "showlegend": false,
         "type": "box",
         "x": [
          "Cluster 1",
          "Cluster 1",
          "Cluster 1",
          "Cluster 1",
          "Cluster 1",
          "Cluster 1",
          "Cluster 1",
          "Cluster 1",
          "Cluster 1",
          "Cluster 1",
          "Cluster 1",
          "Cluster 1",
          "Cluster 1",
          "Cluster 1",
          "Cluster 1",
          "Cluster 1",
          "Cluster 1",
          "Cluster 1",
          "Cluster 1",
          "Cluster 1",
          "Cluster 1",
          "Cluster 1",
          "Cluster 1",
          "Cluster 1",
          "Cluster 1",
          "Cluster 1",
          "Cluster 1",
          "Cluster 1",
          "Cluster 1",
          "Cluster 1",
          "Cluster 1",
          "Cluster 1",
          "Cluster 1",
          "Cluster 1",
          "Cluster 1",
          "Cluster 1",
          "Cluster 1",
          "Cluster 1",
          "Cluster 1",
          "Cluster 1",
          "Cluster 1",
          "Cluster 1",
          "Cluster 1",
          "Cluster 1",
          "Cluster 1",
          "Cluster 1",
          "Cluster 1",
          "Cluster 1",
          "Cluster 1",
          "Cluster 1",
          "Cluster 1",
          "Cluster 1",
          "Cluster 1",
          "Cluster 1",
          "Cluster 1",
          "Cluster 1",
          "Cluster 1",
          "Cluster 1",
          "Cluster 1",
          "Cluster 1",
          "Cluster 1",
          "Cluster 1",
          "Cluster 1",
          "Cluster 1",
          "Cluster 1",
          "Cluster 1",
          "Cluster 1",
          "Cluster 1",
          "Cluster 1",
          "Cluster 1",
          "Cluster 1",
          "Cluster 1"
         ],
         "xaxis": "x2",
         "yaxis": "y2"
        },
        {
         "alignmentgroup": "True",
         "bingroup": "x",
         "hovertemplate": "Cluster=%{x}<br>count=%{y}<extra></extra>",
         "legendgroup": "Cluster 2",
         "marker": {
          "color": "#00cc96",
          "opacity": 0.7,
          "pattern": {
           "shape": ""
          }
         },
         "name": "Cluster 2",
         "offsetgroup": "Cluster 2",
         "orientation": "v",
         "showlegend": true,
         "type": "histogram",
         "x": [
          "Cluster 2",
          "Cluster 2",
          "Cluster 2",
          "Cluster 2",
          "Cluster 2",
          "Cluster 2",
          "Cluster 2",
          "Cluster 2",
          "Cluster 2",
          "Cluster 2",
          "Cluster 2",
          "Cluster 2",
          "Cluster 2",
          "Cluster 2",
          "Cluster 2",
          "Cluster 2",
          "Cluster 2",
          "Cluster 2",
          "Cluster 2",
          "Cluster 2",
          "Cluster 2",
          "Cluster 2",
          "Cluster 2",
          "Cluster 2",
          "Cluster 2",
          "Cluster 2",
          "Cluster 2",
          "Cluster 2",
          "Cluster 2",
          "Cluster 2",
          "Cluster 2",
          "Cluster 2",
          "Cluster 2",
          "Cluster 2",
          "Cluster 2",
          "Cluster 2",
          "Cluster 2",
          "Cluster 2",
          "Cluster 2",
          "Cluster 2",
          "Cluster 2",
          "Cluster 2",
          "Cluster 2",
          "Cluster 2",
          "Cluster 2",
          "Cluster 2",
          "Cluster 2",
          "Cluster 2",
          "Cluster 2",
          "Cluster 2",
          "Cluster 2",
          "Cluster 2",
          "Cluster 2",
          "Cluster 2",
          "Cluster 2",
          "Cluster 2",
          "Cluster 2",
          "Cluster 2",
          "Cluster 2",
          "Cluster 2",
          "Cluster 2",
          "Cluster 2",
          "Cluster 2",
          "Cluster 2",
          "Cluster 2",
          "Cluster 2",
          "Cluster 2",
          "Cluster 2",
          "Cluster 2",
          "Cluster 2",
          "Cluster 2",
          "Cluster 2",
          "Cluster 2",
          "Cluster 2",
          "Cluster 2",
          "Cluster 2",
          "Cluster 2",
          "Cluster 2",
          "Cluster 2",
          "Cluster 2",
          "Cluster 2",
          "Cluster 2",
          "Cluster 2",
          "Cluster 2",
          "Cluster 2",
          "Cluster 2",
          "Cluster 2",
          "Cluster 2",
          "Cluster 2",
          "Cluster 2",
          "Cluster 2",
          "Cluster 2",
          "Cluster 2",
          "Cluster 2",
          "Cluster 2",
          "Cluster 2",
          "Cluster 2",
          "Cluster 2",
          "Cluster 2",
          "Cluster 2",
          "Cluster 2",
          "Cluster 2",
          "Cluster 2",
          "Cluster 2",
          "Cluster 2",
          "Cluster 2",
          "Cluster 2",
          "Cluster 2",
          "Cluster 2",
          "Cluster 2",
          "Cluster 2",
          "Cluster 2",
          "Cluster 2",
          "Cluster 2",
          "Cluster 2",
          "Cluster 2",
          "Cluster 2",
          "Cluster 2",
          "Cluster 2",
          "Cluster 2",
          "Cluster 2",
          "Cluster 2",
          "Cluster 2",
          "Cluster 2",
          "Cluster 2",
          "Cluster 2",
          "Cluster 2",
          "Cluster 2",
          "Cluster 2",
          "Cluster 2",
          "Cluster 2",
          "Cluster 2",
          "Cluster 2",
          "Cluster 2",
          "Cluster 2",
          "Cluster 2",
          "Cluster 2",
          "Cluster 2",
          "Cluster 2",
          "Cluster 2",
          "Cluster 2",
          "Cluster 2",
          "Cluster 2",
          "Cluster 2",
          "Cluster 2",
          "Cluster 2",
          "Cluster 2"
         ],
         "xaxis": "x",
         "yaxis": "y"
        },
        {
         "alignmentgroup": "True",
         "customdata": [
          [
           84,
           24105,
           0.2718090229374729,
           16524.902538052145
          ],
          [
           90,
           22288,
           0.2713268321051207,
           18434.099152391347
          ],
          [
           84,
           18244,
           0.2926633744644019,
           17815.348406878897
          ],
          [
           90,
           22782,
           0.3563068710287742,
           15924.071707885843
          ],
          [
           91,
           28165,
           0.3036929225036061,
           17460.179350212424
          ],
          [
           86,
           18812,
           0.3415457603870515,
           16157.734142403424
          ],
          [
           94,
           18937,
           0.3470950600753079,
           17739.776098377628
          ],
          [
           90,
           35297,
           0.3551490190566364,
           16091.401954058958
          ],
          [
           86,
           23400,
           0.2780355384470266,
           15215.28126373834
          ],
          [
           88,
           26351,
           0.3041682062164746,
           14035.91755354235
          ],
          [
           87,
           23042,
           0.3663120107544869,
           18149.035872923057
          ],
          [
           84,
           30481,
           0.3970228936031003,
           16837.205964813103
          ],
          [
           87,
           30178,
           0.2793159778940049,
           16123.070750832
          ],
          [
           93,
           19934,
           0.2031402397953781,
           17969.693768505334
          ],
          [
           86,
           31994,
           0.2494769403551006,
           18210.088099070614
          ],
          [
           91,
           30756,
           0.3036980300982536,
           15492.004711465304
          ],
          [
           91,
           12038,
           0.3498032558856572,
           16464.960504438823
          ],
          [
           87,
           29909,
           0.3421516318130468,
           18142.232746738577
          ],
          [
           92,
           36032,
           0.3369683066109672,
           17348.5998812573
          ],
          [
           88,
           35051,
           0.3860515062876168,
           17593.24679258195
          ],
          [
           89,
           26940,
           0.3260051328059917,
           16555.159377159824
          ],
          [
           87,
           12000,
           0.3429910076112659,
           16180.26525174153
          ],
          [
           93,
           17672,
           0.3032923688871533,
           18516.451810726718
          ],
          [
           91,
           36639,
           0.3261988874784867,
           16275.703341192586
          ],
          [
           84,
           36463,
           0.3536209572557781,
           16563.37259114783
          ],
          [
           97,
           27271,
           0.283922895270403,
           14928.165597390327
          ],
          [
           90,
           33490,
           0.4199085281737912,
           17091.904228934392
          ],
          [
           92,
           18724,
           0.3278623148176303,
           15341.381109594677
          ],
          [
           92,
           22484,
           0.3317732623948493,
           18615.632589788456
          ],
          [
           82,
           33610,
           0.3012532342412973,
           17755.664940228176
          ],
          [
           87,
           15671,
           0.3507250914944152,
           14326.601120246103
          ],
          [
           87,
           42592,
           0.3552896820382759,
           18086.287157859304
          ],
          [
           83,
           26882,
           0.347979632373841,
           17775.22817123954
          ],
          [
           92,
           33550,
           0.3685156285793065,
           17106.32591058189
          ],
          [
           89,
           34524,
           0.348118273264174,
           14051.256515312789
          ],
          [
           87,
           26665,
           0.4021456613889217,
           17376.914743318182
          ],
          [
           88,
           17851,
           0.2898659849627828,
           17472.470686173863
          ],
          [
           92,
           35484,
           0.3970636039704499,
           17324.045112814925
          ],
          [
           87,
           30102,
           0.3903905943444749,
           16330.081190027213
          ],
          [
           88,
           31366,
           0.3796208481334848,
           16079.622699815933
          ],
          [
           87,
           31481,
           0.317423970601333,
           16180.68808203422
          ],
          [
           82,
           33636,
           0.3717829785401914,
           17866.83359752812
          ],
          [
           90,
           37503,
           0.3577883144645876,
           17258.57497274541
          ],
          [
           89,
           28160,
           0.3388488510290433,
           15607.061781887898
          ],
          [
           90,
           24376,
           0.2812794569155435,
           15134.994226396466
          ],
          [
           89,
           22008,
           0.3819060693389532,
           16458.398097731257
          ],
          [
           86,
           15695,
           0.2571749664748936,
           17366.186263516567
          ],
          [
           79,
           32421,
           0.3032762059432743,
           15319.46766227239
          ],
          [
           91,
           22672,
           0.2710645345158168,
           15407.646761130874
          ],
          [
           82,
           24391,
           0.276101346355296,
           17053.03010738692
          ],
          [
           85,
           21652,
           0.3184561372216806,
           14175.16988549895
          ],
          [
           85,
           28408,
           0.3580738593579665,
           15063.335797441836
          ],
          [
           86,
           36031,
           0.2401766350783482,
           16945.326244896307
          ],
          [
           79,
           38201,
           0.3697828881534748,
           16393.395697309446
          ],
          [
           83,
           18162,
           0.3013734548863508,
           16029.46921391427
          ],
          [
           83,
           30492,
           0.3016314685914632,
           15365.858462932552
          ],
          [
           91,
           29750,
           0.2884703320713124,
           19201.119916275755
          ],
          [
           84,
           20704,
           0.3794963151514172,
           16816.911895743782
          ],
          [
           90,
           29029,
           0.303758971334624,
           15592.991530526488
          ],
          [
           83,
           34384,
           0.3247186821733416,
           14783.3790857945
          ],
          [
           88,
           22602,
           0.3567448288797468,
           16740.343496726702
          ],
          [
           91,
           27168,
           0.3322388165540652,
           15893.729773516614
          ],
          [
           87,
           17760,
           0.3487775484305074,
           16869.507130301474
          ],
          [
           91,
           28777,
           0.3241935550357819,
           17808.2662415687
          ],
          [
           92,
           22616,
           0.3228506824321553,
           17275.661313984565
          ],
          [
           84,
           27384,
           0.3136467169954889,
           16734.672754073246
          ],
          [
           87,
           25566,
           0.3167603729756968,
           15188.058749407255
          ],
          [
           86,
           27705,
           0.3293769514872405,
           17130.85610211788
          ],
          [
           89,
           25252,
           0.3217652209320886,
           16539.364186086335
          ],
          [
           94,
           23854,
           0.3144466826182581,
           16828.410118749016
          ],
          [
           94,
           38923,
           0.3302260180973432,
           16971.181554867213
          ],
          [
           86,
           28779,
           0.336523330181688,
           16047.268331461928
          ],
          [
           84,
           27693,
           0.3670629731870412,
           17879.558905551898
          ],
          [
           85,
           21250,
           0.3104101151420251,
           16033.971166673777
          ],
          [
           89,
           30267,
           0.2893100658351509,
           14386.351879589123
          ],
          [
           89,
           26127,
           0.3044743722681633,
           17194.828018777476
          ],
          [
           91,
           36991,
           0.2685979050949867,
           19047.77233878285
          ],
          [
           83,
           34529,
           0.3172075114569807,
           16517.208746949746
          ],
          [
           88,
           17388,
           0.4661894446652393,
           16698.6210372462
          ],
          [
           83,
           28497,
           0.3938023931664612,
           15510.112981164848
          ],
          [
           91,
           25886,
           0.3017537675837046,
           17266.045729118025
          ],
          [
           84,
           27544,
           0.2309337663207005,
           18207.36169648481
          ],
          [
           81,
           34425,
           0.272609779232364,
           16262.623790655764
          ],
          [
           91,
           20681,
           0.3546791690549572,
           18401.08844474873
          ],
          [
           92,
           35877,
           0.3668917159124752,
           17287.907016982324
          ],
          [
           85,
           30794,
           0.2862292747117071,
           17096.39150937826
          ],
          [
           91,
           16950,
           0.32300404344763,
           17172.609400509067
          ],
          [
           82,
           24221,
           0.4735496605323542,
           16251.75944521267
          ],
          [
           83,
           30721,
           0.3311418077630257,
           17705.99238527814
          ],
          [
           86,
           35998,
           0.3216356471662456,
           20000
          ],
          [
           83,
           23206,
           0.3212403632065312,
           16870.672003783384
          ],
          [
           94,
           27169,
           0.3141730453838618,
           15061.77621514237
          ],
          [
           83,
           33170,
           0.2410777442746463,
           16620.010473689304
          ],
          [
           94,
           20719,
           0.3364022697976639,
           16281.832273239006
          ],
          [
           82,
           32494,
           0.3273154026360584,
           16799.44426666245
          ],
          [
           85,
           34802,
           0.2987969233586417,
           16450.003270402787
          ],
          [
           85,
           29204,
           0.3254914498834959,
           16918.90346036913
          ],
          [
           89,
           31096,
           0.2785878455435617,
           17736.94259966666
          ],
          [
           89,
           20292,
           0.3121481952107594,
           16023.4456584523
          ],
          [
           84,
           27179,
           0.3474234168306904,
           15612.6285477669
          ],
          [
           87,
           24578,
           0.3761654587506353,
           17789.247521813828
          ],
          [
           88,
           33303,
           0.3997156855452149,
           15232.598068845287
          ],
          [
           87,
           18459,
           0.2645499059687874,
           15637.59765457844
          ],
          [
           87,
           26045,
           0.3752921226023747,
           15903.558359374923
          ],
          [
           94,
           27771,
           0.3025032231546656,
           17303.957194969433
          ],
          [
           88,
           33251,
           0.3043913649608802,
           18868.24161249696
          ],
          [
           88,
           28585,
           0.3977396663840212,
           16725.841854363774
          ],
          [
           85,
           26355,
           0.3423406666949811,
           17971.19363998381
          ],
          [
           94,
           28352,
           0.3768757353168557,
           16798.886114738052
          ],
          [
           95,
           27038,
           0.3313520070109343,
           18126.577451151075
          ],
          [
           88,
           19510,
           0.3167510258154691,
           16529.20080632274
          ],
          [
           86,
           46977,
           0.2827283910152334,
           15628.957075805023
          ],
          [
           85,
           27599,
           0.2819950483303406,
           13470.970605037028
          ],
          [
           92,
           32915,
           0.3885749195868542,
           16694.706839244012
          ],
          [
           87,
           25701,
           0.3152205738281264,
           15738.859295516551
          ],
          [
           89,
           19202,
           0.3819877440174351,
           16626.222361477227
          ],
          [
           89,
           33311,
           0.376146968508639,
           17093.06995548225
          ],
          [
           85,
           28401,
           0.3694371368158696,
           15990.49413056604
          ],
          [
           88,
           17946,
           0.2696436303999441,
           16715.160017840968
          ],
          [
           93,
           20440,
           0.2975730342292497,
           17406.074017844054
          ],
          [
           91,
           26424,
           0.3193886529047028,
           16501.46877669979
          ],
          [
           84,
           42018,
           0.2979936021899302,
           16148.370454036614
          ],
          [
           87,
           30812,
           0.3144631516753479,
           15238.118997598336
          ],
          [
           88,
           34001,
           0.337569323887528,
           15530.934134298665
          ],
          [
           85,
           29610,
           0.3181352453742131,
           18475.487468080937
          ],
          [
           91,
           29082,
           0.2824885213712914,
           18794.488169074688
          ],
          [
           90,
           30178,
           0.2823512821567113,
           16182.8384364088
          ],
          [
           88,
           28802,
           0.4083878319987072,
           16293.038332542192
          ],
          [
           85,
           34634,
           0.3690001696241634,
           16719.815875018445
          ],
          [
           91,
           26917,
           0.3767135304583465,
           17986.618644605885
          ],
          [
           90,
           33188,
           0.2488100687902313,
           15866.913937696345
          ],
          [
           88,
           28409,
           0.3056535336752106,
           17326.175608364214
          ],
          [
           84,
           38042,
           0.3660858718547989,
           17465.856285855403
          ],
          [
           90,
           33259,
           0.377571058498228,
           15315.028503741696
          ],
          [
           87,
           46910,
           0.3085616998317755,
           14789.14847617646
          ],
          [
           91,
           25237,
           0.3535018242414266,
           17292.73310384825
          ],
          [
           88,
           26092,
           0.3128732065230775,
           17105.79392615357
          ],
          [
           89,
           24520,
           0.4438327068456706,
           13556.9358834699
          ],
          [
           88,
           32708,
           0.3682153159958089,
           16711.0679804242
          ],
          [
           91,
           30148,
           0.2773889467565771,
           15324.287405101715
          ],
          [
           84,
           22286,
           0.3955062459001081,
           17886.53737311577
          ],
          [
           83,
           28727,
           0.3082630418510537,
           18205.33626089001
          ],
          [
           84,
           29492,
           0.3336031402694437,
           17954.09505703969
          ],
          [
           87,
           23322,
           0.3068211973464496,
           16131.267659393412
          ],
          [
           91,
           24370,
           0.2963285713632805,
           16141.048981383728
          ],
          [
           90,
           25733,
           0.3385629680709827,
           17631.56888411863
          ],
          [
           88,
           27169,
           0.2800595048614143,
           15260.635546195435
          ]
         ],
         "hovertemplate": "Cluster=%{x}<br>Age=%{customdata[0]}<br>Income=%{customdata[1]}<br>SpendingScore=%{customdata[2]}<br>Savings=%{customdata[3]}<extra></extra>",
         "legendgroup": "Cluster 2",
         "marker": {
          "color": "#00cc96"
         },
         "name": "Cluster 2",
         "notched": true,
         "offsetgroup": "Cluster 2",
         "showlegend": false,
         "type": "box",
         "x": [
          "Cluster 2",
          "Cluster 2",
          "Cluster 2",
          "Cluster 2",
          "Cluster 2",
          "Cluster 2",
          "Cluster 2",
          "Cluster 2",
          "Cluster 2",
          "Cluster 2",
          "Cluster 2",
          "Cluster 2",
          "Cluster 2",
          "Cluster 2",
          "Cluster 2",
          "Cluster 2",
          "Cluster 2",
          "Cluster 2",
          "Cluster 2",
          "Cluster 2",
          "Cluster 2",
          "Cluster 2",
          "Cluster 2",
          "Cluster 2",
          "Cluster 2",
          "Cluster 2",
          "Cluster 2",
          "Cluster 2",
          "Cluster 2",
          "Cluster 2",
          "Cluster 2",
          "Cluster 2",
          "Cluster 2",
          "Cluster 2",
          "Cluster 2",
          "Cluster 2",
          "Cluster 2",
          "Cluster 2",
          "Cluster 2",
          "Cluster 2",
          "Cluster 2",
          "Cluster 2",
          "Cluster 2",
          "Cluster 2",
          "Cluster 2",
          "Cluster 2",
          "Cluster 2",
          "Cluster 2",
          "Cluster 2",
          "Cluster 2",
          "Cluster 2",
          "Cluster 2",
          "Cluster 2",
          "Cluster 2",
          "Cluster 2",
          "Cluster 2",
          "Cluster 2",
          "Cluster 2",
          "Cluster 2",
          "Cluster 2",
          "Cluster 2",
          "Cluster 2",
          "Cluster 2",
          "Cluster 2",
          "Cluster 2",
          "Cluster 2",
          "Cluster 2",
          "Cluster 2",
          "Cluster 2",
          "Cluster 2",
          "Cluster 2",
          "Cluster 2",
          "Cluster 2",
          "Cluster 2",
          "Cluster 2",
          "Cluster 2",
          "Cluster 2",
          "Cluster 2",
          "Cluster 2",
          "Cluster 2",
          "Cluster 2",
          "Cluster 2",
          "Cluster 2",
          "Cluster 2",
          "Cluster 2",
          "Cluster 2",
          "Cluster 2",
          "Cluster 2",
          "Cluster 2",
          "Cluster 2",
          "Cluster 2",
          "Cluster 2",
          "Cluster 2",
          "Cluster 2",
          "Cluster 2",
          "Cluster 2",
          "Cluster 2",
          "Cluster 2",
          "Cluster 2",
          "Cluster 2",
          "Cluster 2",
          "Cluster 2",
          "Cluster 2",
          "Cluster 2",
          "Cluster 2",
          "Cluster 2",
          "Cluster 2",
          "Cluster 2",
          "Cluster 2",
          "Cluster 2",
          "Cluster 2",
          "Cluster 2",
          "Cluster 2",
          "Cluster 2",
          "Cluster 2",
          "Cluster 2",
          "Cluster 2",
          "Cluster 2",
          "Cluster 2",
          "Cluster 2",
          "Cluster 2",
          "Cluster 2",
          "Cluster 2",
          "Cluster 2",
          "Cluster 2",
          "Cluster 2",
          "Cluster 2",
          "Cluster 2",
          "Cluster 2",
          "Cluster 2",
          "Cluster 2",
          "Cluster 2",
          "Cluster 2",
          "Cluster 2",
          "Cluster 2",
          "Cluster 2",
          "Cluster 2",
          "Cluster 2",
          "Cluster 2",
          "Cluster 2",
          "Cluster 2",
          "Cluster 2",
          "Cluster 2",
          "Cluster 2",
          "Cluster 2",
          "Cluster 2",
          "Cluster 2"
         ],
         "xaxis": "x2",
         "yaxis": "y2"
        },
        {
         "alignmentgroup": "True",
         "bingroup": "x",
         "hovertemplate": "Cluster=%{x}<br>count=%{y}<extra></extra>",
         "legendgroup": "Cluster 3",
         "marker": {
          "color": "#ab63fa",
          "opacity": 0.7,
          "pattern": {
           "shape": ""
          }
         },
         "name": "Cluster 3",
         "offsetgroup": "Cluster 3",
         "orientation": "v",
         "showlegend": true,
         "type": "histogram",
         "x": [
          "Cluster 3",
          "Cluster 3",
          "Cluster 3",
          "Cluster 3",
          "Cluster 3",
          "Cluster 3",
          "Cluster 3",
          "Cluster 3",
          "Cluster 3",
          "Cluster 3",
          "Cluster 3",
          "Cluster 3",
          "Cluster 3",
          "Cluster 3",
          "Cluster 3",
          "Cluster 3",
          "Cluster 3",
          "Cluster 3",
          "Cluster 3",
          "Cluster 3",
          "Cluster 3",
          "Cluster 3",
          "Cluster 3",
          "Cluster 3",
          "Cluster 3",
          "Cluster 3",
          "Cluster 3",
          "Cluster 3",
          "Cluster 3",
          "Cluster 3",
          "Cluster 3",
          "Cluster 3",
          "Cluster 3",
          "Cluster 3",
          "Cluster 3",
          "Cluster 3",
          "Cluster 3",
          "Cluster 3",
          "Cluster 3",
          "Cluster 3",
          "Cluster 3",
          "Cluster 3",
          "Cluster 3",
          "Cluster 3",
          "Cluster 3",
          "Cluster 3",
          "Cluster 3",
          "Cluster 3",
          "Cluster 3",
          "Cluster 3",
          "Cluster 3",
          "Cluster 3",
          "Cluster 3",
          "Cluster 3",
          "Cluster 3",
          "Cluster 3",
          "Cluster 3",
          "Cluster 3",
          "Cluster 3",
          "Cluster 3",
          "Cluster 3",
          "Cluster 3",
          "Cluster 3",
          "Cluster 3",
          "Cluster 3",
          "Cluster 3",
          "Cluster 3",
          "Cluster 3",
          "Cluster 3",
          "Cluster 3",
          "Cluster 3",
          "Cluster 3",
          "Cluster 3",
          "Cluster 3",
          "Cluster 3",
          "Cluster 3",
          "Cluster 3",
          "Cluster 3",
          "Cluster 3",
          "Cluster 3",
          "Cluster 3",
          "Cluster 3",
          "Cluster 3",
          "Cluster 3",
          "Cluster 3",
          "Cluster 3",
          "Cluster 3",
          "Cluster 3",
          "Cluster 3",
          "Cluster 3",
          "Cluster 3",
          "Cluster 3",
          "Cluster 3",
          "Cluster 3",
          "Cluster 3",
          "Cluster 3",
          "Cluster 3",
          "Cluster 3",
          "Cluster 3",
          "Cluster 3",
          "Cluster 3",
          "Cluster 3",
          "Cluster 3",
          "Cluster 3",
          "Cluster 3",
          "Cluster 3",
          "Cluster 3",
          "Cluster 3",
          "Cluster 3",
          "Cluster 3",
          "Cluster 3",
          "Cluster 3",
          "Cluster 3",
          "Cluster 3",
          "Cluster 3",
          "Cluster 3",
          "Cluster 3",
          "Cluster 3",
          "Cluster 3",
          "Cluster 3",
          "Cluster 3",
          "Cluster 3",
          "Cluster 3",
          "Cluster 3",
          "Cluster 3",
          "Cluster 3",
          "Cluster 3",
          "Cluster 3",
          "Cluster 3",
          "Cluster 3"
         ],
         "xaxis": "x",
         "yaxis": "y"
        },
        {
         "alignmentgroup": "True",
         "customdata": [
          [
           34,
           98993,
           0.3229930887837502,
           16138.079373431863
          ],
          [
           35,
           108499,
           0.2612719132713158,
           16046.08301542436
          ],
          [
           29,
           102028,
           0.2889604994756899,
           14634.430692347907
          ],
          [
           32,
           101905,
           0.3074763135926986,
           17532.16478349903
          ],
          [
           30,
           96241,
           0.3773384910014747,
           15485.156009739389
          ],
          [
           33,
           99637,
           0.2282170773869075,
           15139.40314264753
          ],
          [
           34,
           107255,
           0.3283430294033383,
           15130.595225546444
          ],
          [
           35,
           102308,
           0.2751372175012176,
           14874.557991326978
          ],
          [
           28,
           97965,
           0.3134915614599665,
           14981.402201916082
          ],
          [
           31,
           104388,
           0.2864732316476225,
           14406.561248437842
          ],
          [
           35,
           107131,
           0.2424731551814768,
           16200.013010637644
          ],
          [
           32,
           95536,
           0.2662460568101488,
           15420.62564400274
          ],
          [
           30,
           101073,
           0.3143871202044516,
           14324.555977118507
          ],
          [
           37,
           106894,
           0.3432357689892068,
           14075.217365594552
          ],
          [
           29,
           106014,
           0.347945113577731,
           15038.010746320377
          ],
          [
           22,
           109152,
           0.3234464163624235,
           16022.482482363524
          ],
          [
           30,
           98030,
           0.4111117138132285,
           16316.842905166694
          ],
          [
           29,
           111426,
           0.4002811559385194,
           14352.643773230728
          ],
          [
           28,
           101206,
           0.3874406981253432,
           14936.775388622864
          ],
          [
           36,
           101811,
           0.3406667947415742,
           15048.89961242685
          ],
          [
           28,
           99611,
           0.2795578681222758,
           15345.658121390226
          ],
          [
           36,
           104285,
           0.2123600508972585,
           13347.558779497918
          ],
          [
           31,
           116247,
           0.2943151380482853,
           16178.204715186295
          ],
          [
           28,
           111937,
           0.2537347301209012,
           13669.110632506934
          ],
          [
           33,
           106757,
           0.2583961137212551,
           14431.65279923437
          ],
          [
           31,
           101209,
           0.3043229953712127,
           16917.571691218804
          ],
          [
           85,
           111389,
           0.0367953622110323,
           16009.237762922365
          ],
          [
           33,
           107100,
           0.3424354833732075,
           14895.473479049117
          ],
          [
           36,
           99780,
           0.2654326074020303,
           16398.40133318453
          ],
          [
           86,
           115689,
           0.057842956133581,
           14803.153273493916
          ],
          [
           30,
           99949,
           0.3446792235097859,
           13621.63972633141
          ],
          [
           34,
           98752,
           0.3720337099315751,
           14975.384238944334
          ],
          [
           27,
           106758,
           0.2662947092346973,
           14942.560723173168
          ],
          [
           28,
           94762,
           0.3035961911057213,
           15352.521936894913
          ],
          [
           31,
           107963,
           0.2905086327499087,
           13407.081391032512
          ],
          [
           33,
           116616,
           0.3209300476959025,
           15104.49811363824
          ],
          [
           32,
           108417,
           0.2873708671400807,
           16696.398659007995
          ],
          [
           28,
           100592,
           0.2595983487762325,
           15520.355775683653
          ],
          [
           32,
           110439,
           0.3069901582742725,
           13873.50756985278
          ],
          [
           30,
           107926,
           0.2301607310342209,
           15520.536309707046
          ],
          [
           38,
           115146,
           0.3144900731288347,
           14798.868153501797
          ],
          [
           35,
           110106,
           0.2867692710102035,
           14924.537223475552
          ],
          [
           37,
           110595,
           0.2866485050019983,
           15235.445457133226
          ],
          [
           31,
           99457,
           0.3658064971511748,
           14580.613477014092
          ],
          [
           31,
           107932,
           0.3742421881649844,
           12207.526078087716
          ],
          [
           31,
           107994,
           0.2944689389706671,
           13685.97236173889
          ],
          [
           31,
           107115,
           0.3280420856997338,
           15693.499570389358
          ],
          [
           33,
           111813,
           0.2382437868013801,
           15901.238967721654
          ],
          [
           34,
           102291,
           0.2478622761143138,
           15819.57760116052
          ],
          [
           32,
           102035,
           0.2620703561646911,
           14209.93280239609
          ],
          [
           30,
           106350,
           0.3694162857692796,
           14863.233588279092
          ],
          [
           30,
           107525,
           0.2948164301396663,
           12702.847385049916
          ],
          [
           35,
           104678,
           0.3279928581002429,
           15422.055799721802
          ],
          [
           33,
           105667,
           0.2507508056238616,
           12869.761073905089
          ],
          [
           40,
           98821,
           0.279080850187049,
           15995.160053914662
          ],
          [
           42,
           106990,
           0.330065422314764,
           14856.938997469417
          ],
          [
           37,
           97831,
           0.3744658274308825,
           14935.144813058325
          ],
          [
           25,
           101503,
           0.2884688560740983,
           15026.262148820157
          ],
          [
           34,
           89598,
           0.3401523810436963,
           12832.768720823738
          ],
          [
           84,
           115237,
           0.0687782098136733,
           14396.568282311468
          ],
          [
           43,
           101641,
           0.3819838041034955,
           14424.09799559298
          ],
          [
           28,
           109075,
           0.3627619606240113,
           14082.458238005996
          ],
          [
           36,
           105567,
           0.3126388486955741,
           14355.31094653896
          ],
          [
           37,
           106664,
           0.2775867542026021,
           14479.374117495969
          ],
          [
           37,
           108635,
           0.2864957031483905,
           14558.054542315444
          ],
          [
           35,
           112878,
           0.3009135799974076,
           13755.482301873282
          ],
          [
           31,
           112943,
           0.341239503307387,
           14297.702229457282
          ],
          [
           36,
           100158,
           0.316060414098024,
           13832.37937073453
          ],
          [
           31,
           105826,
           0.2862743235826754,
           13856.805832195869
          ],
          [
           29,
           116451,
           0.3406596106851227,
           15294.661511529368
          ],
          [
           33,
           114555,
           0.2792568364789493,
           13746.745438440072
          ],
          [
           36,
           108004,
           0.3089229914936124,
           15813.964573146995
          ],
          [
           30,
           102056,
           0.2607006223919937,
           15370.66882713054
          ],
          [
           36,
           98137,
           0.297401293159654,
           15978.332837131276
          ],
          [
           34,
           98165,
           0.1741204938230648,
           15721.86284266975
          ],
          [
           37,
           97678,
           0.2574704443875843,
           15834.113173627364
          ],
          [
           35,
           117112,
           0.3047918711384766,
           15908.035997555322
          ],
          [
           35,
           101691,
           0.3491110181825554,
           14152.671689505803
          ],
          [
           88,
           114767,
           0.0322075423389263,
           17833.093470094427
          ],
          [
           31,
           111449,
           0.2941062030828216,
           13929.62155143948
          ],
          [
           30,
           108581,
           0.3094467811568004,
           15628.791650531211
          ],
          [
           33,
           106345,
           0.3392354218755358,
           15300.45379012999
          ],
          [
           31,
           101481,
           0.2702350511848681,
           15226.614133627569
          ],
          [
           31,
           108067,
           0.2686742663930692,
           13316.767286164832
          ],
          [
           33,
           100275,
           0.3630856827120957,
           13735.43874238108
          ],
          [
           26,
           97750,
           0.293408760516068,
           15823.032361634105
          ],
          [
           24,
           110564,
           0.3049430059244968,
           14967.839625179657
          ],
          [
           29,
           91375,
           0.2354504258588228,
           13104.962760687613
          ],
          [
           33,
           94964,
           0.3302325026567214,
           14018.349867336628
          ],
          [
           39,
           100540,
           0.3849229829012918,
           16741.013894847743
          ],
          [
           37,
           107958,
           0.346669076543185,
           13641.009538079368
          ],
          [
           29,
           110860,
           0.3194403010352474,
           16260.42103081417
          ],
          [
           37,
           110732,
           0.3226762482802641,
           14265.35184049776
          ],
          [
           29,
           101943,
           0.3256230614429721,
           14619.354282159027
          ],
          [
           33,
           92569,
           0.3360798055671445,
           13765.685995748696
          ],
          [
           34,
           103204,
           0.3010873537839331,
           15149.810421179482
          ],
          [
           84,
           114406,
           0.1238383746409725,
           16840.570583774286
          ],
          [
           44,
           114642,
           0.3092049154534187,
           14067.617788950563
          ],
          [
           31,
           105036,
           0.2722279930569666,
           16465.063521972657
          ],
          [
           31,
           102618,
           0.2763779214063509,
           13209.301612848927
          ],
          [
           25,
           106772,
           0.3909047196000217,
           16353.471790615497
          ],
          [
           36,
           109038,
           0.3242132027621541,
           16502.389477657125
          ],
          [
           29,
           103223,
           0.3388162937437745,
           16252.88305306563
          ],
          [
           29,
           112531,
           0.3427661743407053,
           14361.334979176148
          ],
          [
           38,
           104738,
           0.4059588503683713,
           15634.313868027426
          ],
          [
           39,
           100661,
           0.3766412501689559,
           16873.128638209408
          ],
          [
           32,
           106543,
           0.3107432443044589,
           14337.288328489092
          ],
          [
           36,
           109809,
           0.355660187354229,
           14978.502144076489
          ],
          [
           29,
           99161,
           0.3079200040396055,
           15631.836772980836
          ],
          [
           34,
           104284,
           0.3445454117798671,
           13541.801770810564
          ],
          [
           31,
           105006,
           0.3741658782934958,
           15419.417763123292
          ],
          [
           37,
           108651,
           0.1923436158292553,
           15881.242198260685
          ],
          [
           84,
           110582,
           0.0790490322794597,
           14937.995169685584
          ],
          [
           34,
           111303,
           0.345312577109288,
           14624.318634976556
          ],
          [
           33,
           108345,
           0.32541328975821,
           15646.321717359428
          ],
          [
           35,
           106588,
           0.3422142051018276,
           15648.65667046098
          ],
          [
           36,
           96336,
           0.2880975671929816,
           15286.769335194169
          ],
          [
           31,
           114833,
           0.3050696862135815,
           13953.029721407644
          ],
          [
           39,
           99216,
           0.2166061433945727,
           15230.345105300736
          ],
          [
           37,
           107877,
           0.3346179841546032,
           17968.55392863446
          ],
          [
           38,
           113659,
           0.3334859873871594,
           14364.693391418998
          ],
          [
           31,
           110882,
           0.3252806065281125,
           14004.61374291491
          ],
          [
           35,
           105991,
           0.3433779781521022,
           16616.088239618915
          ],
          [
           59,
           90422,
           0.8062102206275251,
           6746.28108382082
          ],
          [
           33,
           101058,
           0.3150815497840024,
           14911.868398206978
          ],
          [
           30,
           107302,
           0.2396771776819925,
           13993.24401848172
          ],
          [
           33,
           98033,
           0.3095111158545869,
           15774.690605560643
          ],
          [
           34,
           103428,
           0.2474244093916155,
           13791.035761571968
          ],
          [
           38,
           94775,
           0.3803902009461493,
           16867.13082002739
          ],
          [
           30,
           108928,
           0.303863615036657,
           14339.652917342728
          ]
         ],
         "hovertemplate": "Cluster=%{x}<br>Age=%{customdata[0]}<br>Income=%{customdata[1]}<br>SpendingScore=%{customdata[2]}<br>Savings=%{customdata[3]}<extra></extra>",
         "legendgroup": "Cluster 3",
         "marker": {
          "color": "#ab63fa"
         },
         "name": "Cluster 3",
         "notched": true,
         "offsetgroup": "Cluster 3",
         "showlegend": false,
         "type": "box",
         "x": [
          "Cluster 3",
          "Cluster 3",
          "Cluster 3",
          "Cluster 3",
          "Cluster 3",
          "Cluster 3",
          "Cluster 3",
          "Cluster 3",
          "Cluster 3",
          "Cluster 3",
          "Cluster 3",
          "Cluster 3",
          "Cluster 3",
          "Cluster 3",
          "Cluster 3",
          "Cluster 3",
          "Cluster 3",
          "Cluster 3",
          "Cluster 3",
          "Cluster 3",
          "Cluster 3",
          "Cluster 3",
          "Cluster 3",
          "Cluster 3",
          "Cluster 3",
          "Cluster 3",
          "Cluster 3",
          "Cluster 3",
          "Cluster 3",
          "Cluster 3",
          "Cluster 3",
          "Cluster 3",
          "Cluster 3",
          "Cluster 3",
          "Cluster 3",
          "Cluster 3",
          "Cluster 3",
          "Cluster 3",
          "Cluster 3",
          "Cluster 3",
          "Cluster 3",
          "Cluster 3",
          "Cluster 3",
          "Cluster 3",
          "Cluster 3",
          "Cluster 3",
          "Cluster 3",
          "Cluster 3",
          "Cluster 3",
          "Cluster 3",
          "Cluster 3",
          "Cluster 3",
          "Cluster 3",
          "Cluster 3",
          "Cluster 3",
          "Cluster 3",
          "Cluster 3",
          "Cluster 3",
          "Cluster 3",
          "Cluster 3",
          "Cluster 3",
          "Cluster 3",
          "Cluster 3",
          "Cluster 3",
          "Cluster 3",
          "Cluster 3",
          "Cluster 3",
          "Cluster 3",
          "Cluster 3",
          "Cluster 3",
          "Cluster 3",
          "Cluster 3",
          "Cluster 3",
          "Cluster 3",
          "Cluster 3",
          "Cluster 3",
          "Cluster 3",
          "Cluster 3",
          "Cluster 3",
          "Cluster 3",
          "Cluster 3",
          "Cluster 3",
          "Cluster 3",
          "Cluster 3",
          "Cluster 3",
          "Cluster 3",
          "Cluster 3",
          "Cluster 3",
          "Cluster 3",
          "Cluster 3",
          "Cluster 3",
          "Cluster 3",
          "Cluster 3",
          "Cluster 3",
          "Cluster 3",
          "Cluster 3",
          "Cluster 3",
          "Cluster 3",
          "Cluster 3",
          "Cluster 3",
          "Cluster 3",
          "Cluster 3",
          "Cluster 3",
          "Cluster 3",
          "Cluster 3",
          "Cluster 3",
          "Cluster 3",
          "Cluster 3",
          "Cluster 3",
          "Cluster 3",
          "Cluster 3",
          "Cluster 3",
          "Cluster 3",
          "Cluster 3",
          "Cluster 3",
          "Cluster 3",
          "Cluster 3",
          "Cluster 3",
          "Cluster 3",
          "Cluster 3",
          "Cluster 3",
          "Cluster 3",
          "Cluster 3",
          "Cluster 3",
          "Cluster 3",
          "Cluster 3",
          "Cluster 3",
          "Cluster 3",
          "Cluster 3",
          "Cluster 3"
         ],
         "xaxis": "x2",
         "yaxis": "y2"
        }
       ],
       "layout": {
        "barmode": "relative",
        "height": 600,
        "legend": {
         "title": {
          "text": "Cluster"
         },
         "tracegroupgap": 0
        },
        "margin": {
         "t": 60
        },
        "template": {
         "data": {
          "bar": [
           {
            "error_x": {
             "color": "#2a3f5f"
            },
            "error_y": {
             "color": "#2a3f5f"
            },
            "marker": {
             "line": {
              "color": "#E5ECF6",
              "width": 0.5
             },
             "pattern": {
              "fillmode": "overlay",
              "size": 10,
              "solidity": 0.2
             }
            },
            "type": "bar"
           }
          ],
          "barpolar": [
           {
            "marker": {
             "line": {
              "color": "#E5ECF6",
              "width": 0.5
             },
             "pattern": {
              "fillmode": "overlay",
              "size": 10,
              "solidity": 0.2
             }
            },
            "type": "barpolar"
           }
          ],
          "carpet": [
           {
            "aaxis": {
             "endlinecolor": "#2a3f5f",
             "gridcolor": "white",
             "linecolor": "white",
             "minorgridcolor": "white",
             "startlinecolor": "#2a3f5f"
            },
            "baxis": {
             "endlinecolor": "#2a3f5f",
             "gridcolor": "white",
             "linecolor": "white",
             "minorgridcolor": "white",
             "startlinecolor": "#2a3f5f"
            },
            "type": "carpet"
           }
          ],
          "choropleth": [
           {
            "colorbar": {
             "outlinewidth": 0,
             "ticks": ""
            },
            "type": "choropleth"
           }
          ],
          "contour": [
           {
            "colorbar": {
             "outlinewidth": 0,
             "ticks": ""
            },
            "colorscale": [
             [
              0,
              "#0d0887"
             ],
             [
              0.1111111111111111,
              "#46039f"
             ],
             [
              0.2222222222222222,
              "#7201a8"
             ],
             [
              0.3333333333333333,
              "#9c179e"
             ],
             [
              0.4444444444444444,
              "#bd3786"
             ],
             [
              0.5555555555555556,
              "#d8576b"
             ],
             [
              0.6666666666666666,
              "#ed7953"
             ],
             [
              0.7777777777777778,
              "#fb9f3a"
             ],
             [
              0.8888888888888888,
              "#fdca26"
             ],
             [
              1,
              "#f0f921"
             ]
            ],
            "type": "contour"
           }
          ],
          "contourcarpet": [
           {
            "colorbar": {
             "outlinewidth": 0,
             "ticks": ""
            },
            "type": "contourcarpet"
           }
          ],
          "heatmap": [
           {
            "colorbar": {
             "outlinewidth": 0,
             "ticks": ""
            },
            "colorscale": [
             [
              0,
              "#0d0887"
             ],
             [
              0.1111111111111111,
              "#46039f"
             ],
             [
              0.2222222222222222,
              "#7201a8"
             ],
             [
              0.3333333333333333,
              "#9c179e"
             ],
             [
              0.4444444444444444,
              "#bd3786"
             ],
             [
              0.5555555555555556,
              "#d8576b"
             ],
             [
              0.6666666666666666,
              "#ed7953"
             ],
             [
              0.7777777777777778,
              "#fb9f3a"
             ],
             [
              0.8888888888888888,
              "#fdca26"
             ],
             [
              1,
              "#f0f921"
             ]
            ],
            "type": "heatmap"
           }
          ],
          "heatmapgl": [
           {
            "colorbar": {
             "outlinewidth": 0,
             "ticks": ""
            },
            "colorscale": [
             [
              0,
              "#0d0887"
             ],
             [
              0.1111111111111111,
              "#46039f"
             ],
             [
              0.2222222222222222,
              "#7201a8"
             ],
             [
              0.3333333333333333,
              "#9c179e"
             ],
             [
              0.4444444444444444,
              "#bd3786"
             ],
             [
              0.5555555555555556,
              "#d8576b"
             ],
             [
              0.6666666666666666,
              "#ed7953"
             ],
             [
              0.7777777777777778,
              "#fb9f3a"
             ],
             [
              0.8888888888888888,
              "#fdca26"
             ],
             [
              1,
              "#f0f921"
             ]
            ],
            "type": "heatmapgl"
           }
          ],
          "histogram": [
           {
            "marker": {
             "pattern": {
              "fillmode": "overlay",
              "size": 10,
              "solidity": 0.2
             }
            },
            "type": "histogram"
           }
          ],
          "histogram2d": [
           {
            "colorbar": {
             "outlinewidth": 0,
             "ticks": ""
            },
            "colorscale": [
             [
              0,
              "#0d0887"
             ],
             [
              0.1111111111111111,
              "#46039f"
             ],
             [
              0.2222222222222222,
              "#7201a8"
             ],
             [
              0.3333333333333333,
              "#9c179e"
             ],
             [
              0.4444444444444444,
              "#bd3786"
             ],
             [
              0.5555555555555556,
              "#d8576b"
             ],
             [
              0.6666666666666666,
              "#ed7953"
             ],
             [
              0.7777777777777778,
              "#fb9f3a"
             ],
             [
              0.8888888888888888,
              "#fdca26"
             ],
             [
              1,
              "#f0f921"
             ]
            ],
            "type": "histogram2d"
           }
          ],
          "histogram2dcontour": [
           {
            "colorbar": {
             "outlinewidth": 0,
             "ticks": ""
            },
            "colorscale": [
             [
              0,
              "#0d0887"
             ],
             [
              0.1111111111111111,
              "#46039f"
             ],
             [
              0.2222222222222222,
              "#7201a8"
             ],
             [
              0.3333333333333333,
              "#9c179e"
             ],
             [
              0.4444444444444444,
              "#bd3786"
             ],
             [
              0.5555555555555556,
              "#d8576b"
             ],
             [
              0.6666666666666666,
              "#ed7953"
             ],
             [
              0.7777777777777778,
              "#fb9f3a"
             ],
             [
              0.8888888888888888,
              "#fdca26"
             ],
             [
              1,
              "#f0f921"
             ]
            ],
            "type": "histogram2dcontour"
           }
          ],
          "mesh3d": [
           {
            "colorbar": {
             "outlinewidth": 0,
             "ticks": ""
            },
            "type": "mesh3d"
           }
          ],
          "parcoords": [
           {
            "line": {
             "colorbar": {
              "outlinewidth": 0,
              "ticks": ""
             }
            },
            "type": "parcoords"
           }
          ],
          "pie": [
           {
            "automargin": true,
            "type": "pie"
           }
          ],
          "scatter": [
           {
            "marker": {
             "colorbar": {
              "outlinewidth": 0,
              "ticks": ""
             }
            },
            "type": "scatter"
           }
          ],
          "scatter3d": [
           {
            "line": {
             "colorbar": {
              "outlinewidth": 0,
              "ticks": ""
             }
            },
            "marker": {
             "colorbar": {
              "outlinewidth": 0,
              "ticks": ""
             }
            },
            "type": "scatter3d"
           }
          ],
          "scattercarpet": [
           {
            "marker": {
             "colorbar": {
              "outlinewidth": 0,
              "ticks": ""
             }
            },
            "type": "scattercarpet"
           }
          ],
          "scattergeo": [
           {
            "marker": {
             "colorbar": {
              "outlinewidth": 0,
              "ticks": ""
             }
            },
            "type": "scattergeo"
           }
          ],
          "scattergl": [
           {
            "marker": {
             "colorbar": {
              "outlinewidth": 0,
              "ticks": ""
             }
            },
            "type": "scattergl"
           }
          ],
          "scattermapbox": [
           {
            "marker": {
             "colorbar": {
              "outlinewidth": 0,
              "ticks": ""
             }
            },
            "type": "scattermapbox"
           }
          ],
          "scatterpolar": [
           {
            "marker": {
             "colorbar": {
              "outlinewidth": 0,
              "ticks": ""
             }
            },
            "type": "scatterpolar"
           }
          ],
          "scatterpolargl": [
           {
            "marker": {
             "colorbar": {
              "outlinewidth": 0,
              "ticks": ""
             }
            },
            "type": "scatterpolargl"
           }
          ],
          "scatterternary": [
           {
            "marker": {
             "colorbar": {
              "outlinewidth": 0,
              "ticks": ""
             }
            },
            "type": "scatterternary"
           }
          ],
          "surface": [
           {
            "colorbar": {
             "outlinewidth": 0,
             "ticks": ""
            },
            "colorscale": [
             [
              0,
              "#0d0887"
             ],
             [
              0.1111111111111111,
              "#46039f"
             ],
             [
              0.2222222222222222,
              "#7201a8"
             ],
             [
              0.3333333333333333,
              "#9c179e"
             ],
             [
              0.4444444444444444,
              "#bd3786"
             ],
             [
              0.5555555555555556,
              "#d8576b"
             ],
             [
              0.6666666666666666,
              "#ed7953"
             ],
             [
              0.7777777777777778,
              "#fb9f3a"
             ],
             [
              0.8888888888888888,
              "#fdca26"
             ],
             [
              1,
              "#f0f921"
             ]
            ],
            "type": "surface"
           }
          ],
          "table": [
           {
            "cells": {
             "fill": {
              "color": "#EBF0F8"
             },
             "line": {
              "color": "white"
             }
            },
            "header": {
             "fill": {
              "color": "#C8D4E3"
             },
             "line": {
              "color": "white"
             }
            },
            "type": "table"
           }
          ]
         },
         "layout": {
          "annotationdefaults": {
           "arrowcolor": "#2a3f5f",
           "arrowhead": 0,
           "arrowwidth": 1
          },
          "autotypenumbers": "strict",
          "coloraxis": {
           "colorbar": {
            "outlinewidth": 0,
            "ticks": ""
           }
          },
          "colorscale": {
           "diverging": [
            [
             0,
             "#8e0152"
            ],
            [
             0.1,
             "#c51b7d"
            ],
            [
             0.2,
             "#de77ae"
            ],
            [
             0.3,
             "#f1b6da"
            ],
            [
             0.4,
             "#fde0ef"
            ],
            [
             0.5,
             "#f7f7f7"
            ],
            [
             0.6,
             "#e6f5d0"
            ],
            [
             0.7,
             "#b8e186"
            ],
            [
             0.8,
             "#7fbc41"
            ],
            [
             0.9,
             "#4d9221"
            ],
            [
             1,
             "#276419"
            ]
           ],
           "sequential": [
            [
             0,
             "#0d0887"
            ],
            [
             0.1111111111111111,
             "#46039f"
            ],
            [
             0.2222222222222222,
             "#7201a8"
            ],
            [
             0.3333333333333333,
             "#9c179e"
            ],
            [
             0.4444444444444444,
             "#bd3786"
            ],
            [
             0.5555555555555556,
             "#d8576b"
            ],
            [
             0.6666666666666666,
             "#ed7953"
            ],
            [
             0.7777777777777778,
             "#fb9f3a"
            ],
            [
             0.8888888888888888,
             "#fdca26"
            ],
            [
             1,
             "#f0f921"
            ]
           ],
           "sequentialminus": [
            [
             0,
             "#0d0887"
            ],
            [
             0.1111111111111111,
             "#46039f"
            ],
            [
             0.2222222222222222,
             "#7201a8"
            ],
            [
             0.3333333333333333,
             "#9c179e"
            ],
            [
             0.4444444444444444,
             "#bd3786"
            ],
            [
             0.5555555555555556,
             "#d8576b"
            ],
            [
             0.6666666666666666,
             "#ed7953"
            ],
            [
             0.7777777777777778,
             "#fb9f3a"
            ],
            [
             0.8888888888888888,
             "#fdca26"
            ],
            [
             1,
             "#f0f921"
            ]
           ]
          },
          "colorway": [
           "#636efa",
           "#EF553B",
           "#00cc96",
           "#ab63fa",
           "#FFA15A",
           "#19d3f3",
           "#FF6692",
           "#B6E880",
           "#FF97FF",
           "#FECB52"
          ],
          "font": {
           "color": "#2a3f5f"
          },
          "geo": {
           "bgcolor": "white",
           "lakecolor": "white",
           "landcolor": "#E5ECF6",
           "showlakes": true,
           "showland": true,
           "subunitcolor": "white"
          },
          "hoverlabel": {
           "align": "left"
          },
          "hovermode": "closest",
          "mapbox": {
           "style": "light"
          },
          "paper_bgcolor": "white",
          "plot_bgcolor": "#E5ECF6",
          "polar": {
           "angularaxis": {
            "gridcolor": "white",
            "linecolor": "white",
            "ticks": ""
           },
           "bgcolor": "#E5ECF6",
           "radialaxis": {
            "gridcolor": "white",
            "linecolor": "white",
            "ticks": ""
           }
          },
          "scene": {
           "xaxis": {
            "backgroundcolor": "#E5ECF6",
            "gridcolor": "white",
            "gridwidth": 2,
            "linecolor": "white",
            "showbackground": true,
            "ticks": "",
            "zerolinecolor": "white"
           },
           "yaxis": {
            "backgroundcolor": "#E5ECF6",
            "gridcolor": "white",
            "gridwidth": 2,
            "linecolor": "white",
            "showbackground": true,
            "ticks": "",
            "zerolinecolor": "white"
           },
           "zaxis": {
            "backgroundcolor": "#E5ECF6",
            "gridcolor": "white",
            "gridwidth": 2,
            "linecolor": "white",
            "showbackground": true,
            "ticks": "",
            "zerolinecolor": "white"
           }
          },
          "shapedefaults": {
           "line": {
            "color": "#2a3f5f"
           }
          },
          "ternary": {
           "aaxis": {
            "gridcolor": "white",
            "linecolor": "white",
            "ticks": ""
           },
           "baxis": {
            "gridcolor": "white",
            "linecolor": "white",
            "ticks": ""
           },
           "bgcolor": "#E5ECF6",
           "caxis": {
            "gridcolor": "white",
            "linecolor": "white",
            "ticks": ""
           }
          },
          "title": {
           "x": 0.05
          },
          "xaxis": {
           "automargin": true,
           "gridcolor": "white",
           "linecolor": "white",
           "ticks": "",
           "title": {
            "standoff": 15
           },
           "zerolinecolor": "white",
           "zerolinewidth": 2
          },
          "yaxis": {
           "automargin": true,
           "gridcolor": "white",
           "linecolor": "white",
           "ticks": "",
           "title": {
            "standoff": 15
           },
           "zerolinecolor": "white",
           "zerolinewidth": 2
          }
         }
        },
        "xaxis": {
         "anchor": "y",
         "categoryarray": [
          "Cluster 0",
          "Cluster 1",
          "Cluster 2",
          "Cluster 3"
         ],
         "categoryorder": "array",
         "domain": [
          0,
          1
         ],
         "title": {
          "text": "Cluster"
         }
        },
        "xaxis2": {
         "anchor": "y2",
         "domain": [
          0,
          1
         ],
         "matches": "x",
         "showgrid": true,
         "showticklabels": false
        },
        "yaxis": {
         "anchor": "x",
         "domain": [
          0,
          0.7326
         ],
         "title": {
          "text": "count"
         }
        },
        "yaxis2": {
         "anchor": "x2",
         "domain": [
          0.7426,
          1
         ],
         "matches": "y2",
         "showgrid": false,
         "showline": false,
         "showticklabels": false,
         "ticks": ""
        }
       }
      }
     },
     "metadata": {}
    }
   ],
   "metadata": {}
  },
  {
   "cell_type": "markdown",
   "source": [
    "Met de elbow techniek kunnen we het optimaal aantal clusters gaan berekenen."
   ],
   "metadata": {}
  },
  {
   "cell_type": "code",
   "execution_count": 9,
   "source": [
    " plot_model(kmeans,plot= 'elbow')"
   ],
   "outputs": [
    {
     "output_type": "display_data",
     "data": {
      "text/plain": [
       "<Figure size 576x396 with 1 Axes>"
      ],
      "image/svg+xml": "<?xml version=\"1.0\" encoding=\"utf-8\" standalone=\"no\"?>\n<!DOCTYPE svg PUBLIC \"-//W3C//DTD SVG 1.1//EN\"\n  \"http://www.w3.org/Graphics/SVG/1.1/DTD/svg11.dtd\">\n<svg height=\"358.652187pt\" version=\"1.1\" viewBox=\"0 0 501.515 358.652187\" width=\"501.515pt\" xmlns=\"http://www.w3.org/2000/svg\" xmlns:xlink=\"http://www.w3.org/1999/xlink\">\n <metadata>\n  <rdf:RDF xmlns:cc=\"http://creativecommons.org/ns#\" xmlns:dc=\"http://purl.org/dc/elements/1.1/\" xmlns:rdf=\"http://www.w3.org/1999/02/22-rdf-syntax-ns#\">\n   <cc:Work>\n    <dc:type rdf:resource=\"http://purl.org/dc/dcmitype/StillImage\"/>\n    <dc:date>2021-08-30T17:39:28.458198</dc:date>\n    <dc:format>image/svg+xml</dc:format>\n    <dc:creator>\n     <cc:Agent>\n      <dc:title>Matplotlib v3.4.1, https://matplotlib.org/</dc:title>\n     </cc:Agent>\n    </dc:creator>\n   </cc:Work>\n  </rdf:RDF>\n </metadata>\n <defs>\n  <style type=\"text/css\">*{stroke-linecap:butt;stroke-linejoin:round;}</style>\n </defs>\n <g id=\"figure_1\">\n  <g id=\"patch_1\">\n   <path d=\"M 0 358.652187 \nL 501.515 358.652187 \nL 501.515 0 \nL 0 0 \nz\n\" style=\"fill:#ffffff;\"/>\n  </g>\n  <g id=\"axes_1\">\n   <g id=\"patch_2\">\n    <path d=\"M 47.915 320.87625 \nL 494.315 320.87625 \nL 494.315 21.89625 \nL 47.915 21.89625 \nz\n\" style=\"fill:#ffffff;\"/>\n   </g>\n   <g id=\"matplotlib.axis_1\">\n    <g id=\"xtick_1\">\n     <g id=\"line2d_1\">\n      <path clip-path=\"url(#p357a329640)\" d=\"M 68.205909 320.87625 \nL 68.205909 21.89625 \n\" style=\"fill:none;stroke:#cccccc;stroke-linecap:round;\"/>\n     </g>\n     <g id=\"line2d_2\"/>\n     <g id=\"text_1\">\n      <!-- 2 -->\n      <g style=\"fill:#262626;\" transform=\"translate(65.42544 335.123125)scale(0.1 -0.1)\">\n       <defs>\n        <path d=\"M 322 0 \nL 322 397 \nQ 481 763 711 1042 \nQ 941 1322 1194 1548 \nQ 1447 1775 1695 1969 \nQ 1944 2163 2144 2356 \nQ 2344 2550 2467 2762 \nQ 2591 2975 2591 3244 \nQ 2591 3431 2534 3573 \nQ 2478 3716 2372 3812 \nQ 2266 3909 2117 3957 \nQ 1969 4006 1788 4006 \nQ 1619 4006 1470 3959 \nQ 1322 3913 1206 3819 \nQ 1091 3725 1017 3586 \nQ 944 3447 922 3263 \nL 347 3316 \nQ 375 3553 478 3762 \nQ 581 3972 762 4130 \nQ 944 4288 1198 4378 \nQ 1453 4469 1788 4469 \nQ 2116 4469 2372 4391 \nQ 2628 4313 2804 4159 \nQ 2981 4006 3075 3781 \nQ 3169 3556 3169 3263 \nQ 3169 3041 3089 2841 \nQ 3009 2641 2876 2459 \nQ 2744 2278 2569 2109 \nQ 2394 1941 2203 1780 \nQ 2013 1619 1819 1461 \nQ 1625 1303 1454 1143 \nQ 1284 984 1150 820 \nQ 1016 656 941 478 \nL 3238 478 \nL 3238 0 \nL 322 0 \nz\n\" id=\"LiberationSans-32\" transform=\"scale(0.015625)\"/>\n       </defs>\n       <use xlink:href=\"#LiberationSans-32\"/>\n      </g>\n     </g>\n    </g>\n    <g id=\"xtick_2\">\n     <g id=\"line2d_3\">\n      <path clip-path=\"url(#p357a329640)\" d=\"M 118.933182 320.87625 \nL 118.933182 21.89625 \n\" style=\"fill:none;stroke:#cccccc;stroke-linecap:round;\"/>\n     </g>\n     <g id=\"line2d_4\"/>\n     <g id=\"text_2\">\n      <!-- 3 -->\n      <g style=\"fill:#262626;\" transform=\"translate(116.152713 335.123125)scale(0.1 -0.1)\">\n       <defs>\n        <path d=\"M 3278 1216 \nQ 3278 913 3179 675 \nQ 3081 438 2892 273 \nQ 2703 109 2423 23 \nQ 2144 -63 1784 -63 \nQ 1375 -63 1095 39 \nQ 816 141 634 308 \nQ 453 475 362 689 \nQ 272 903 244 1131 \nL 825 1184 \nQ 850 1009 917 865 \nQ 984 722 1100 619 \nQ 1216 516 1384 459 \nQ 1553 403 1784 403 \nQ 2209 403 2451 612 \nQ 2694 822 2694 1234 \nQ 2694 1478 2586 1626 \nQ 2478 1775 2317 1858 \nQ 2156 1941 1967 1969 \nQ 1778 1997 1619 1997 \nL 1300 1997 \nL 1300 2484 \nL 1606 2484 \nQ 1766 2484 1937 2517 \nQ 2109 2550 2251 2636 \nQ 2394 2722 2486 2869 \nQ 2578 3016 2578 3244 \nQ 2578 3597 2370 3801 \nQ 2163 4006 1753 4006 \nQ 1381 4006 1151 3815 \nQ 922 3625 884 3278 \nL 319 3322 \nQ 353 3613 478 3828 \nQ 603 4044 795 4186 \nQ 988 4328 1234 4398 \nQ 1481 4469 1759 4469 \nQ 2128 4469 2393 4376 \nQ 2659 4284 2828 4126 \nQ 2997 3969 3076 3756 \nQ 3156 3544 3156 3303 \nQ 3156 3109 3103 2940 \nQ 3050 2772 2937 2637 \nQ 2825 2503 2651 2406 \nQ 2478 2309 2234 2259 \nL 2234 2247 \nQ 2500 2219 2697 2126 \nQ 2894 2034 3022 1896 \nQ 3150 1759 3214 1584 \nQ 3278 1409 3278 1216 \nz\n\" id=\"LiberationSans-33\" transform=\"scale(0.015625)\"/>\n       </defs>\n       <use xlink:href=\"#LiberationSans-33\"/>\n      </g>\n     </g>\n    </g>\n    <g id=\"xtick_3\">\n     <g id=\"line2d_5\">\n      <path clip-path=\"url(#p357a329640)\" d=\"M 169.660455 320.87625 \nL 169.660455 21.89625 \n\" style=\"fill:none;stroke:#cccccc;stroke-linecap:round;\"/>\n     </g>\n     <g id=\"line2d_6\"/>\n     <g id=\"text_3\">\n      <!-- 4 -->\n      <g style=\"fill:#262626;\" transform=\"translate(166.879986 335.123125)scale(0.1 -0.1)\">\n       <defs>\n        <path d=\"M 2753 997 \nL 2753 0 \nL 2222 0 \nL 2222 997 \nL 147 997 \nL 147 1434 \nL 2163 4403 \nL 2753 4403 \nL 2753 1441 \nL 3372 1441 \nL 3372 997 \nL 2753 997 \nz\nM 2222 3769 \nQ 2216 3753 2191 3708 \nQ 2166 3663 2134 3606 \nQ 2103 3550 2070 3492 \nQ 2038 3434 2013 3397 \nL 884 1734 \nQ 869 1709 839 1668 \nQ 809 1628 778 1586 \nQ 747 1544 715 1503 \nQ 684 1463 666 1441 \nL 2222 1441 \nL 2222 3769 \nz\n\" id=\"LiberationSans-34\" transform=\"scale(0.015625)\"/>\n       </defs>\n       <use xlink:href=\"#LiberationSans-34\"/>\n      </g>\n     </g>\n    </g>\n    <g id=\"xtick_4\">\n     <g id=\"line2d_7\">\n      <path clip-path=\"url(#p357a329640)\" d=\"M 220.387727 320.87625 \nL 220.387727 21.89625 \n\" style=\"fill:none;stroke:#cccccc;stroke-linecap:round;\"/>\n     </g>\n     <g id=\"line2d_8\"/>\n     <g id=\"text_4\">\n      <!-- 5 -->\n      <g style=\"fill:#262626;\" transform=\"translate(217.607259 335.123125)scale(0.1 -0.1)\">\n       <defs>\n        <path d=\"M 3291 1434 \nQ 3291 1103 3191 828 \nQ 3091 553 2894 354 \nQ 2697 156 2405 46 \nQ 2113 -63 1728 -63 \nQ 1381 -63 1123 18 \nQ 866 100 687 242 \nQ 509 384 404 575 \nQ 300 766 256 984 \nL 825 1050 \nQ 859 925 921 808 \nQ 984 691 1092 598 \nQ 1200 506 1358 451 \nQ 1516 397 1741 397 \nQ 1959 397 2137 464 \nQ 2316 531 2442 662 \nQ 2569 794 2637 984 \nQ 2706 1175 2706 1422 \nQ 2706 1625 2640 1795 \nQ 2575 1966 2453 2089 \nQ 2331 2213 2154 2281 \nQ 1978 2350 1753 2350 \nQ 1613 2350 1494 2325 \nQ 1375 2300 1273 2256 \nQ 1172 2213 1089 2155 \nQ 1006 2097 934 2034 \nL 384 2034 \nL 531 4403 \nL 3034 4403 \nL 3034 3925 \nL 1044 3925 \nL 959 2528 \nQ 1109 2644 1334 2726 \nQ 1559 2809 1869 2809 \nQ 2197 2809 2459 2709 \nQ 2722 2609 2906 2426 \nQ 3091 2244 3191 1991 \nQ 3291 1738 3291 1434 \nz\n\" id=\"LiberationSans-35\" transform=\"scale(0.015625)\"/>\n       </defs>\n       <use xlink:href=\"#LiberationSans-35\"/>\n      </g>\n     </g>\n    </g>\n    <g id=\"xtick_5\">\n     <g id=\"line2d_9\">\n      <path clip-path=\"url(#p357a329640)\" d=\"M 271.115 320.87625 \nL 271.115 21.89625 \n\" style=\"fill:none;stroke:#cccccc;stroke-linecap:round;\"/>\n     </g>\n     <g id=\"line2d_10\"/>\n     <g id=\"text_5\">\n      <!-- 6 -->\n      <g style=\"fill:#262626;\" transform=\"translate(268.334531 335.123125)scale(0.1 -0.1)\">\n       <defs>\n        <path d=\"M 3278 1441 \nQ 3278 1109 3186 832 \nQ 3094 556 2914 357 \nQ 2734 159 2468 48 \nQ 2203 -63 1856 -63 \nQ 1472 -63 1184 84 \nQ 897 231 706 507 \nQ 516 784 420 1186 \nQ 325 1588 325 2100 \nQ 325 2688 433 3131 \nQ 541 3575 744 3872 \nQ 947 4169 1239 4319 \nQ 1531 4469 1900 4469 \nQ 2125 4469 2322 4422 \nQ 2519 4375 2680 4270 \nQ 2841 4166 2962 3994 \nQ 3084 3822 3156 3572 \nL 2619 3475 \nQ 2531 3759 2339 3886 \nQ 2147 4013 1894 4013 \nQ 1663 4013 1475 3903 \nQ 1288 3794 1156 3576 \nQ 1025 3359 954 3031 \nQ 884 2703 884 2266 \nQ 1038 2550 1316 2698 \nQ 1594 2847 1953 2847 \nQ 2253 2847 2497 2750 \nQ 2741 2653 2914 2470 \nQ 3088 2288 3183 2027 \nQ 3278 1766 3278 1441 \nz\nM 2706 1416 \nQ 2706 1644 2650 1828 \nQ 2594 2013 2481 2142 \nQ 2369 2272 2203 2342 \nQ 2038 2413 1819 2413 \nQ 1666 2413 1509 2367 \nQ 1353 2322 1226 2220 \nQ 1100 2119 1020 1953 \nQ 941 1788 941 1550 \nQ 941 1306 1003 1095 \nQ 1066 884 1183 728 \nQ 1300 572 1465 481 \nQ 1631 391 1838 391 \nQ 2041 391 2202 461 \nQ 2363 531 2475 664 \nQ 2588 797 2647 987 \nQ 2706 1178 2706 1416 \nz\n\" id=\"LiberationSans-36\" transform=\"scale(0.015625)\"/>\n       </defs>\n       <use xlink:href=\"#LiberationSans-36\"/>\n      </g>\n     </g>\n    </g>\n    <g id=\"xtick_6\">\n     <g id=\"line2d_11\">\n      <path clip-path=\"url(#p357a329640)\" d=\"M 321.842273 320.87625 \nL 321.842273 21.89625 \n\" style=\"fill:none;stroke:#cccccc;stroke-linecap:round;\"/>\n     </g>\n     <g id=\"line2d_12\"/>\n     <g id=\"text_6\">\n      <!-- 7 -->\n      <g style=\"fill:#262626;\" transform=\"translate(319.061804 335.123125)scale(0.1 -0.1)\">\n       <defs>\n        <path d=\"M 3238 3947 \nQ 2906 3441 2628 2973 \nQ 2350 2506 2150 2032 \nQ 1950 1559 1839 1061 \nQ 1728 563 1728 0 \nL 1141 0 \nQ 1141 528 1266 1036 \nQ 1391 1544 1603 2033 \nQ 1816 2522 2097 2994 \nQ 2378 3466 2694 3925 \nL 328 3925 \nL 328 4403 \nL 3238 4403 \nL 3238 3947 \nz\n\" id=\"LiberationSans-37\" transform=\"scale(0.015625)\"/>\n       </defs>\n       <use xlink:href=\"#LiberationSans-37\"/>\n      </g>\n     </g>\n    </g>\n    <g id=\"xtick_7\">\n     <g id=\"line2d_13\">\n      <path clip-path=\"url(#p357a329640)\" d=\"M 372.569545 320.87625 \nL 372.569545 21.89625 \n\" style=\"fill:none;stroke:#cccccc;stroke-linecap:round;\"/>\n     </g>\n     <g id=\"line2d_14\"/>\n     <g id=\"text_7\">\n      <!-- 8 -->\n      <g style=\"fill:#262626;\" transform=\"translate(369.789077 335.123125)scale(0.1 -0.1)\">\n       <defs>\n        <path d=\"M 3281 1228 \nQ 3281 947 3192 711 \nQ 3103 475 2920 303 \nQ 2738 131 2453 34 \nQ 2169 -63 1781 -63 \nQ 1394 -63 1111 34 \nQ 828 131 642 301 \nQ 456 472 367 708 \nQ 278 944 278 1222 \nQ 278 1463 351 1650 \nQ 425 1838 548 1973 \nQ 672 2109 830 2192 \nQ 988 2275 1156 2303 \nL 1156 2316 \nQ 972 2359 826 2456 \nQ 681 2553 582 2689 \nQ 484 2825 432 2990 \nQ 381 3156 381 3341 \nQ 381 3572 470 3776 \nQ 559 3981 734 4136 \nQ 909 4291 1168 4380 \nQ 1428 4469 1769 4469 \nQ 2128 4469 2392 4378 \nQ 2656 4288 2829 4133 \nQ 3003 3978 3087 3772 \nQ 3172 3566 3172 3334 \nQ 3172 3153 3120 2987 \nQ 3069 2822 2970 2686 \nQ 2872 2550 2726 2454 \nQ 2581 2359 2391 2322 \nL 2391 2309 \nQ 2581 2278 2743 2195 \nQ 2906 2113 3025 1977 \nQ 3144 1841 3212 1653 \nQ 3281 1466 3281 1228 \nz\nM 2588 3303 \nQ 2588 3469 2545 3606 \nQ 2503 3744 2406 3842 \nQ 2309 3941 2153 3995 \nQ 1997 4050 1769 4050 \nQ 1547 4050 1394 3995 \nQ 1241 3941 1142 3842 \nQ 1044 3744 1000 3606 \nQ 956 3469 956 3303 \nQ 956 3172 990 3034 \nQ 1025 2897 1115 2784 \nQ 1206 2672 1365 2600 \nQ 1525 2528 1775 2528 \nQ 2041 2528 2202 2600 \nQ 2363 2672 2448 2784 \nQ 2534 2897 2561 3034 \nQ 2588 3172 2588 3303 \nz\nM 2697 1281 \nQ 2697 1441 2653 1589 \nQ 2609 1738 2503 1852 \nQ 2397 1966 2217 2036 \nQ 2038 2106 1769 2106 \nQ 1522 2106 1348 2036 \nQ 1175 1966 1067 1850 \nQ 959 1734 909 1582 \nQ 859 1431 859 1269 \nQ 859 1066 909 898 \nQ 959 731 1068 611 \nQ 1178 491 1356 425 \nQ 1534 359 1788 359 \nQ 2044 359 2219 425 \nQ 2394 491 2500 611 \nQ 2606 731 2651 901 \nQ 2697 1072 2697 1281 \nz\n\" id=\"LiberationSans-38\" transform=\"scale(0.015625)\"/>\n       </defs>\n       <use xlink:href=\"#LiberationSans-38\"/>\n      </g>\n     </g>\n    </g>\n    <g id=\"xtick_8\">\n     <g id=\"line2d_15\">\n      <path clip-path=\"url(#p357a329640)\" d=\"M 423.296818 320.87625 \nL 423.296818 21.89625 \n\" style=\"fill:none;stroke:#cccccc;stroke-linecap:round;\"/>\n     </g>\n     <g id=\"line2d_16\"/>\n     <g id=\"text_8\">\n      <!-- 9 -->\n      <g style=\"fill:#262626;\" transform=\"translate(420.516349 335.123125)scale(0.1 -0.1)\">\n       <defs>\n        <path d=\"M 3256 2291 \nQ 3256 1703 3145 1261 \nQ 3034 819 2828 525 \nQ 2622 231 2326 84 \nQ 2031 -63 1663 -63 \nQ 1409 -63 1206 -11 \nQ 1003 41 843 150 \nQ 684 259 571 434 \nQ 459 609 391 856 \nL 928 941 \nQ 1016 656 1202 523 \nQ 1388 391 1672 391 \nQ 1900 391 2089 498 \nQ 2278 606 2411 822 \nQ 2544 1038 2619 1363 \nQ 2694 1688 2700 2125 \nQ 2634 1978 2520 1862 \nQ 2406 1747 2261 1667 \nQ 2116 1588 1947 1545 \nQ 1778 1503 1606 1503 \nQ 1306 1503 1064 1611 \nQ 822 1719 653 1912 \nQ 484 2106 392 2379 \nQ 300 2653 300 2988 \nQ 300 3328 398 3603 \nQ 497 3878 684 4070 \nQ 872 4263 1145 4366 \nQ 1419 4469 1766 4469 \nQ 2500 4469 2878 3925 \nQ 3256 3381 3256 2291 \nz\nM 2644 2834 \nQ 2644 3078 2586 3293 \nQ 2528 3509 2414 3668 \nQ 2300 3828 2133 3920 \nQ 1966 4013 1747 4013 \nQ 1544 4013 1381 3941 \nQ 1219 3869 1106 3736 \nQ 994 3603 933 3412 \nQ 872 3222 872 2988 \nQ 872 2766 926 2575 \nQ 981 2384 1090 2245 \nQ 1200 2106 1362 2026 \nQ 1525 1947 1741 1947 \nQ 1897 1947 2058 2000 \nQ 2219 2053 2348 2162 \nQ 2478 2272 2561 2439 \nQ 2644 2606 2644 2834 \nz\n\" id=\"LiberationSans-39\" transform=\"scale(0.015625)\"/>\n       </defs>\n       <use xlink:href=\"#LiberationSans-39\"/>\n      </g>\n     </g>\n    </g>\n    <g id=\"xtick_9\">\n     <g id=\"line2d_17\">\n      <path clip-path=\"url(#p357a329640)\" d=\"M 474.024091 320.87625 \nL 474.024091 21.89625 \n\" style=\"fill:none;stroke:#cccccc;stroke-linecap:round;\"/>\n     </g>\n     <g id=\"line2d_18\"/>\n     <g id=\"text_9\">\n      <!-- 10 -->\n      <g style=\"fill:#262626;\" transform=\"translate(468.463153 335.123125)scale(0.1 -0.1)\">\n       <defs>\n        <path d=\"M 488 0 \nL 488 478 \nL 1609 478 \nL 1609 3866 \nL 616 3156 \nL 616 3688 \nL 1656 4403 \nL 2175 4403 \nL 2175 478 \nL 3247 478 \nL 3247 0 \nL 488 0 \nz\n\" id=\"LiberationSans-31\" transform=\"scale(0.015625)\"/>\n        <path d=\"M 3309 2203 \nQ 3309 1569 3189 1136 \nQ 3069 703 2861 436 \nQ 2653 169 2372 53 \nQ 2091 -63 1772 -63 \nQ 1450 -63 1172 53 \nQ 894 169 689 434 \nQ 484 700 367 1133 \nQ 250 1566 250 2203 \nQ 250 2869 367 3305 \nQ 484 3741 690 4000 \nQ 897 4259 1178 4364 \nQ 1459 4469 1791 4469 \nQ 2106 4469 2382 4364 \nQ 2659 4259 2865 4000 \nQ 3072 3741 3190 3305 \nQ 3309 2869 3309 2203 \nz\nM 2738 2203 \nQ 2738 2728 2675 3076 \nQ 2613 3425 2491 3633 \nQ 2369 3841 2192 3927 \nQ 2016 4013 1791 4013 \nQ 1553 4013 1372 3925 \nQ 1191 3838 1067 3630 \nQ 944 3422 881 3073 \nQ 819 2725 819 2203 \nQ 819 1697 883 1350 \nQ 947 1003 1070 792 \nQ 1194 581 1372 489 \nQ 1550 397 1778 397 \nQ 2000 397 2178 489 \nQ 2356 581 2479 792 \nQ 2603 1003 2670 1350 \nQ 2738 1697 2738 2203 \nz\n\" id=\"LiberationSans-30\" transform=\"scale(0.015625)\"/>\n       </defs>\n       <use xlink:href=\"#LiberationSans-31\"/>\n       <use x=\"55.615234\" xlink:href=\"#LiberationSans-30\"/>\n      </g>\n     </g>\n    </g>\n    <g id=\"text_10\">\n     <!-- k -->\n     <g style=\"fill:#262626;\" transform=\"translate(268.365 349.169687)scale(0.11 -0.11)\">\n      <defs>\n       <path d=\"M 2550 0 \nL 1406 1544 \nL 994 1203 \nL 994 0 \nL 431 0 \nL 431 4638 \nL 994 4638 \nL 994 1741 \nL 2478 3381 \nL 3138 3381 \nL 1766 1928 \nL 3209 0 \nL 2550 0 \nz\n\" id=\"LiberationSans-6b\" transform=\"scale(0.015625)\"/>\n      </defs>\n      <use xlink:href=\"#LiberationSans-6b\"/>\n     </g>\n    </g>\n   </g>\n   <g id=\"matplotlib.axis_2\">\n    <g id=\"ytick_1\">\n     <g id=\"line2d_19\">\n      <path clip-path=\"url(#p357a329640)\" d=\"M 47.915 316.04136 \nL 494.315 316.04136 \n\" style=\"fill:none;stroke:#cccccc;stroke-linecap:round;\"/>\n     </g>\n     <g id=\"line2d_20\"/>\n     <g id=\"text_11\">\n      <!-- 0.00 -->\n      <g style=\"fill:#262626;\" transform=\"translate(21.454063 319.664797)scale(0.1 -0.1)\">\n       <defs>\n        <path d=\"M 584 0 \nL 584 684 \nL 1194 684 \nL 1194 0 \nL 584 0 \nz\n\" id=\"LiberationSans-2e\" transform=\"scale(0.015625)\"/>\n       </defs>\n       <use xlink:href=\"#LiberationSans-30\"/>\n       <use x=\"55.615234\" xlink:href=\"#LiberationSans-2e\"/>\n       <use x=\"83.398438\" xlink:href=\"#LiberationSans-30\"/>\n       <use x=\"139.013672\" xlink:href=\"#LiberationSans-30\"/>\n      </g>\n     </g>\n    </g>\n    <g id=\"ytick_2\">\n     <g id=\"line2d_21\">\n      <path clip-path=\"url(#p357a329640)\" d=\"M 47.915 278.729026 \nL 494.315 278.729026 \n\" style=\"fill:none;stroke:#cccccc;stroke-linecap:round;\"/>\n     </g>\n     <g id=\"line2d_22\"/>\n     <g id=\"text_12\">\n      <!-- 0.25 -->\n      <g style=\"fill:#262626;\" transform=\"translate(21.454063 282.352463)scale(0.1 -0.1)\">\n       <use xlink:href=\"#LiberationSans-30\"/>\n       <use x=\"55.615234\" xlink:href=\"#LiberationSans-2e\"/>\n       <use x=\"83.398438\" xlink:href=\"#LiberationSans-32\"/>\n       <use x=\"139.013672\" xlink:href=\"#LiberationSans-35\"/>\n      </g>\n     </g>\n    </g>\n    <g id=\"ytick_3\">\n     <g id=\"line2d_23\">\n      <path clip-path=\"url(#p357a329640)\" d=\"M 47.915 241.416691 \nL 494.315 241.416691 \n\" style=\"fill:none;stroke:#cccccc;stroke-linecap:round;\"/>\n     </g>\n     <g id=\"line2d_24\"/>\n     <g id=\"text_13\">\n      <!-- 0.50 -->\n      <g style=\"fill:#262626;\" transform=\"translate(21.454063 245.040129)scale(0.1 -0.1)\">\n       <use xlink:href=\"#LiberationSans-30\"/>\n       <use x=\"55.615234\" xlink:href=\"#LiberationSans-2e\"/>\n       <use x=\"83.398438\" xlink:href=\"#LiberationSans-35\"/>\n       <use x=\"139.013672\" xlink:href=\"#LiberationSans-30\"/>\n      </g>\n     </g>\n    </g>\n    <g id=\"ytick_4\">\n     <g id=\"line2d_25\">\n      <path clip-path=\"url(#p357a329640)\" d=\"M 47.915 204.104357 \nL 494.315 204.104357 \n\" style=\"fill:none;stroke:#cccccc;stroke-linecap:round;\"/>\n     </g>\n     <g id=\"line2d_26\"/>\n     <g id=\"text_14\">\n      <!-- 0.75 -->\n      <g style=\"fill:#262626;\" transform=\"translate(21.454063 207.727795)scale(0.1 -0.1)\">\n       <use xlink:href=\"#LiberationSans-30\"/>\n       <use x=\"55.615234\" xlink:href=\"#LiberationSans-2e\"/>\n       <use x=\"83.398438\" xlink:href=\"#LiberationSans-37\"/>\n       <use x=\"139.013672\" xlink:href=\"#LiberationSans-35\"/>\n      </g>\n     </g>\n    </g>\n    <g id=\"ytick_5\">\n     <g id=\"line2d_27\">\n      <path clip-path=\"url(#p357a329640)\" d=\"M 47.915 166.792023 \nL 494.315 166.792023 \n\" style=\"fill:none;stroke:#cccccc;stroke-linecap:round;\"/>\n     </g>\n     <g id=\"line2d_28\"/>\n     <g id=\"text_15\">\n      <!-- 1.00 -->\n      <g style=\"fill:#262626;\" transform=\"translate(21.454063 170.415461)scale(0.1 -0.1)\">\n       <use xlink:href=\"#LiberationSans-31\"/>\n       <use x=\"55.615234\" xlink:href=\"#LiberationSans-2e\"/>\n       <use x=\"83.398438\" xlink:href=\"#LiberationSans-30\"/>\n       <use x=\"139.013672\" xlink:href=\"#LiberationSans-30\"/>\n      </g>\n     </g>\n    </g>\n    <g id=\"ytick_6\">\n     <g id=\"line2d_29\">\n      <path clip-path=\"url(#p357a329640)\" d=\"M 47.915 129.479689 \nL 494.315 129.479689 \n\" style=\"fill:none;stroke:#cccccc;stroke-linecap:round;\"/>\n     </g>\n     <g id=\"line2d_30\"/>\n     <g id=\"text_16\">\n      <!-- 1.25 -->\n      <g style=\"fill:#262626;\" transform=\"translate(21.454063 133.103127)scale(0.1 -0.1)\">\n       <use xlink:href=\"#LiberationSans-31\"/>\n       <use x=\"55.615234\" xlink:href=\"#LiberationSans-2e\"/>\n       <use x=\"83.398438\" xlink:href=\"#LiberationSans-32\"/>\n       <use x=\"139.013672\" xlink:href=\"#LiberationSans-35\"/>\n      </g>\n     </g>\n    </g>\n    <g id=\"ytick_7\">\n     <g id=\"line2d_31\">\n      <path clip-path=\"url(#p357a329640)\" d=\"M 47.915 92.167355 \nL 494.315 92.167355 \n\" style=\"fill:none;stroke:#cccccc;stroke-linecap:round;\"/>\n     </g>\n     <g id=\"line2d_32\"/>\n     <g id=\"text_17\">\n      <!-- 1.50 -->\n      <g style=\"fill:#262626;\" transform=\"translate(21.454063 95.790793)scale(0.1 -0.1)\">\n       <use xlink:href=\"#LiberationSans-31\"/>\n       <use x=\"55.615234\" xlink:href=\"#LiberationSans-2e\"/>\n       <use x=\"83.398438\" xlink:href=\"#LiberationSans-35\"/>\n       <use x=\"139.013672\" xlink:href=\"#LiberationSans-30\"/>\n      </g>\n     </g>\n    </g>\n    <g id=\"ytick_8\">\n     <g id=\"line2d_33\">\n      <path clip-path=\"url(#p357a329640)\" d=\"M 47.915 54.855021 \nL 494.315 54.855021 \n\" style=\"fill:none;stroke:#cccccc;stroke-linecap:round;\"/>\n     </g>\n     <g id=\"line2d_34\"/>\n     <g id=\"text_18\">\n      <!-- 1.75 -->\n      <g style=\"fill:#262626;\" transform=\"translate(21.454063 58.478458)scale(0.1 -0.1)\">\n       <use xlink:href=\"#LiberationSans-31\"/>\n       <use x=\"55.615234\" xlink:href=\"#LiberationSans-2e\"/>\n       <use x=\"83.398438\" xlink:href=\"#LiberationSans-37\"/>\n       <use x=\"139.013672\" xlink:href=\"#LiberationSans-35\"/>\n      </g>\n     </g>\n    </g>\n    <g id=\"text_19\">\n     <!-- distortion score -->\n     <g style=\"fill:#262626;\" transform=\"translate(15.171563 208.677969)rotate(-90)scale(0.11 -0.11)\">\n      <defs>\n       <path d=\"M 2566 544 \nQ 2409 219 2151 78 \nQ 1894 -63 1513 -63 \nQ 872 -63 570 368 \nQ 269 800 269 1675 \nQ 269 3444 1513 3444 \nQ 1897 3444 2153 3303 \nQ 2409 3163 2566 2856 \nL 2572 2856 \nQ 2572 2888 2570 2955 \nQ 2569 3022 2567 3095 \nQ 2566 3169 2566 3234 \nQ 2566 3300 2566 3328 \nL 2566 4638 \nL 3128 4638 \nL 3128 697 \nQ 3128 575 3129 462 \nQ 3131 350 3134 256 \nQ 3138 163 3141 95 \nQ 3144 28 3147 0 \nL 2609 0 \nQ 2603 31 2598 89 \nQ 2594 147 2589 222 \nQ 2584 297 2581 380 \nQ 2578 463 2578 544 \nL 2566 544 \nz\nM 859 1694 \nQ 859 1344 903 1094 \nQ 947 844 1044 683 \nQ 1141 522 1291 447 \nQ 1441 372 1656 372 \nQ 1878 372 2048 444 \nQ 2219 516 2333 677 \nQ 2447 838 2506 1097 \nQ 2566 1356 2566 1731 \nQ 2566 2091 2506 2339 \nQ 2447 2588 2331 2741 \nQ 2216 2894 2048 2961 \nQ 1881 3028 1663 3028 \nQ 1456 3028 1306 2956 \nQ 1156 2884 1056 2725 \nQ 956 2566 907 2311 \nQ 859 2056 859 1694 \nz\n\" id=\"LiberationSans-64\" transform=\"scale(0.015625)\"/>\n       <path d=\"M 428 4100 \nL 428 4638 \nL 991 4638 \nL 991 4100 \nL 428 4100 \nz\nM 428 0 \nL 428 3381 \nL 991 3381 \nL 991 0 \nL 428 0 \nz\n\" id=\"LiberationSans-69\" transform=\"scale(0.015625)\"/>\n       <path d=\"M 2969 934 \nQ 2969 697 2876 511 \nQ 2784 325 2609 198 \nQ 2434 72 2179 4 \nQ 1925 -63 1597 -63 \nQ 1303 -63 1067 -17 \nQ 831 28 653 128 \nQ 475 228 354 392 \nQ 234 556 178 794 \nL 675 891 \nQ 747 619 972 492 \nQ 1197 366 1597 366 \nQ 1778 366 1929 391 \nQ 2081 416 2190 477 \nQ 2300 538 2361 639 \nQ 2422 741 2422 891 \nQ 2422 1044 2350 1142 \nQ 2278 1241 2150 1306 \nQ 2022 1372 1839 1420 \nQ 1656 1469 1438 1528 \nQ 1234 1581 1034 1647 \nQ 834 1713 673 1820 \nQ 513 1928 413 2087 \nQ 313 2247 313 2488 \nQ 313 2950 642 3192 \nQ 972 3434 1603 3434 \nQ 2163 3434 2492 3237 \nQ 2822 3041 2909 2606 \nL 2403 2544 \nQ 2375 2675 2300 2764 \nQ 2225 2853 2119 2908 \nQ 2013 2963 1880 2986 \nQ 1747 3009 1603 3009 \nQ 1222 3009 1040 2893 \nQ 859 2778 859 2544 \nQ 859 2406 926 2317 \nQ 994 2228 1114 2167 \nQ 1234 2106 1403 2061 \nQ 1572 2016 1775 1966 \nQ 1909 1931 2050 1892 \nQ 2191 1853 2323 1798 \nQ 2456 1744 2573 1670 \nQ 2691 1597 2778 1494 \nQ 2866 1391 2917 1253 \nQ 2969 1116 2969 934 \nz\n\" id=\"LiberationSans-73\" transform=\"scale(0.015625)\"/>\n       <path d=\"M 1731 25 \nQ 1603 -9 1470 -29 \nQ 1338 -50 1163 -50 \nQ 488 -50 488 716 \nL 488 2972 \nL 97 2972 \nL 97 3381 \nL 509 3381 \nL 675 4138 \nL 1050 4138 \nL 1050 3381 \nL 1675 3381 \nL 1675 2972 \nL 1050 2972 \nL 1050 838 \nQ 1050 594 1129 495 \nQ 1209 397 1406 397 \nQ 1488 397 1564 409 \nQ 1641 422 1731 441 \nL 1731 25 \nz\n\" id=\"LiberationSans-74\" transform=\"scale(0.015625)\"/>\n       <path d=\"M 3291 1694 \nQ 3291 806 2900 371 \nQ 2509 -63 1766 -63 \nQ 1413 -63 1134 43 \nQ 856 150 664 369 \nQ 472 588 370 917 \nQ 269 1247 269 1694 \nQ 269 3444 1784 3444 \nQ 2178 3444 2464 3334 \nQ 2750 3225 2933 3006 \nQ 3116 2788 3203 2459 \nQ 3291 2131 3291 1694 \nz\nM 2700 1694 \nQ 2700 2088 2639 2344 \nQ 2578 2600 2461 2753 \nQ 2344 2906 2175 2967 \nQ 2006 3028 1794 3028 \nQ 1578 3028 1404 2964 \nQ 1231 2900 1109 2745 \nQ 988 2591 923 2334 \nQ 859 2078 859 1694 \nQ 859 1300 928 1042 \nQ 997 784 1117 631 \nQ 1238 478 1402 415 \nQ 1566 353 1759 353 \nQ 1975 353 2150 414 \nQ 2325 475 2447 628 \nQ 2569 781 2634 1040 \nQ 2700 1300 2700 1694 \nz\n\" id=\"LiberationSans-6f\" transform=\"scale(0.015625)\"/>\n       <path d=\"M 444 0 \nL 444 2594 \nQ 444 2700 442 2811 \nQ 441 2922 437 3025 \nQ 434 3128 431 3218 \nQ 428 3309 425 3381 \nL 956 3381 \nQ 959 3309 964 3217 \nQ 969 3125 973 3028 \nQ 978 2931 979 2842 \nQ 981 2753 981 2691 \nL 994 2691 \nQ 1053 2884 1120 3026 \nQ 1188 3169 1278 3261 \nQ 1369 3353 1494 3398 \nQ 1619 3444 1797 3444 \nQ 1866 3444 1928 3433 \nQ 1991 3422 2025 3413 \nL 2025 2897 \nQ 1969 2913 1894 2920 \nQ 1819 2928 1725 2928 \nQ 1531 2928 1395 2840 \nQ 1259 2753 1173 2598 \nQ 1088 2444 1047 2230 \nQ 1006 2016 1006 1763 \nL 1006 0 \nL 444 0 \nz\n\" id=\"LiberationSans-72\" transform=\"scale(0.015625)\"/>\n       <path d=\"M 2578 0 \nL 2578 2144 \nQ 2578 2391 2542 2556 \nQ 2506 2722 2425 2823 \nQ 2344 2925 2211 2967 \nQ 2078 3009 1881 3009 \nQ 1681 3009 1520 2939 \nQ 1359 2869 1245 2736 \nQ 1131 2603 1068 2408 \nQ 1006 2213 1006 1959 \nL 1006 0 \nL 444 0 \nL 444 2659 \nQ 444 2766 442 2883 \nQ 441 3000 437 3104 \nQ 434 3209 431 3284 \nQ 428 3359 425 3381 \nL 956 3381 \nQ 959 3366 962 3297 \nQ 966 3228 970 3139 \nQ 975 3050 978 2958 \nQ 981 2866 981 2803 \nL 991 2803 \nQ 1072 2950 1169 3069 \nQ 1266 3188 1394 3270 \nQ 1522 3353 1687 3398 \nQ 1853 3444 2072 3444 \nQ 2353 3444 2556 3375 \nQ 2759 3306 2890 3162 \nQ 3022 3019 3083 2792 \nQ 3144 2566 3144 2253 \nL 3144 0 \nL 2578 0 \nz\n\" id=\"LiberationSans-6e\" transform=\"scale(0.015625)\"/>\n       <path id=\"LiberationSans-20\" transform=\"scale(0.015625)\"/>\n       <path d=\"M 859 1706 \nQ 859 1416 901 1172 \nQ 944 928 1044 751 \nQ 1144 575 1308 478 \nQ 1472 381 1713 381 \nQ 2013 381 2214 543 \nQ 2416 706 2463 1044 \nL 3031 1006 \nQ 3003 797 2909 603 \nQ 2816 409 2655 262 \nQ 2494 116 2262 26 \nQ 2031 -63 1728 -63 \nQ 1331 -63 1053 71 \nQ 775 206 601 442 \nQ 428 678 350 998 \nQ 272 1319 272 1694 \nQ 272 2034 328 2295 \nQ 384 2556 486 2751 \nQ 588 2947 725 3080 \nQ 863 3213 1023 3292 \nQ 1184 3372 1362 3408 \nQ 1541 3444 1722 3444 \nQ 2006 3444 2228 3366 \nQ 2450 3288 2611 3152 \nQ 2772 3016 2872 2831 \nQ 2972 2647 3013 2434 \nL 2434 2391 \nQ 2391 2672 2212 2837 \nQ 2034 3003 1706 3003 \nQ 1466 3003 1305 2923 \nQ 1144 2844 1044 2683 \nQ 944 2522 901 2278 \nQ 859 2034 859 1706 \nz\n\" id=\"LiberationSans-63\" transform=\"scale(0.015625)\"/>\n       <path d=\"M 863 1572 \nQ 863 1306 917 1082 \nQ 972 859 1086 698 \nQ 1200 538 1378 448 \nQ 1556 359 1806 359 \nQ 2172 359 2392 506 \nQ 2613 653 2691 878 \nL 3184 738 \nQ 3131 597 3036 455 \nQ 2941 313 2781 198 \nQ 2622 84 2383 10 \nQ 2144 -63 1806 -63 \nQ 1056 -63 664 384 \nQ 272 831 272 1713 \nQ 272 2188 390 2517 \nQ 509 2847 715 3053 \nQ 922 3259 1197 3351 \nQ 1472 3444 1784 3444 \nQ 2209 3444 2495 3306 \nQ 2781 3169 2954 2926 \nQ 3128 2684 3201 2356 \nQ 3275 2028 3275 1647 \nL 3275 1572 \nL 863 1572 \nz\nM 2694 2003 \nQ 2647 2538 2422 2783 \nQ 2197 3028 1775 3028 \nQ 1634 3028 1479 2983 \nQ 1325 2938 1194 2822 \nQ 1063 2706 972 2507 \nQ 881 2309 869 2003 \nL 2694 2003 \nz\n\" id=\"LiberationSans-65\" transform=\"scale(0.015625)\"/>\n      </defs>\n      <use xlink:href=\"#LiberationSans-64\"/>\n      <use x=\"55.615234\" xlink:href=\"#LiberationSans-69\"/>\n      <use x=\"77.832031\" xlink:href=\"#LiberationSans-73\"/>\n      <use x=\"127.832031\" xlink:href=\"#LiberationSans-74\"/>\n      <use x=\"155.615234\" xlink:href=\"#LiberationSans-6f\"/>\n      <use x=\"211.230469\" xlink:href=\"#LiberationSans-72\"/>\n      <use x=\"244.53125\" xlink:href=\"#LiberationSans-74\"/>\n      <use x=\"272.314453\" xlink:href=\"#LiberationSans-69\"/>\n      <use x=\"294.53125\" xlink:href=\"#LiberationSans-6f\"/>\n      <use x=\"350.146484\" xlink:href=\"#LiberationSans-6e\"/>\n      <use x=\"405.761719\" xlink:href=\"#LiberationSans-20\"/>\n      <use x=\"433.544922\" xlink:href=\"#LiberationSans-73\"/>\n      <use x=\"483.544922\" xlink:href=\"#LiberationSans-63\"/>\n      <use x=\"533.544922\" xlink:href=\"#LiberationSans-6f\"/>\n      <use x=\"589.160156\" xlink:href=\"#LiberationSans-72\"/>\n      <use x=\"622.460938\" xlink:href=\"#LiberationSans-65\"/>\n     </g>\n    </g>\n    <g id=\"text_20\">\n     <!-- 1e11 -->\n     <g style=\"fill:#262626;\" transform=\"translate(47.915 18.89625)scale(0.1 -0.1)\">\n      <use xlink:href=\"#LiberationSans-31\"/>\n      <use x=\"55.615234\" xlink:href=\"#LiberationSans-65\"/>\n      <use x=\"111.230469\" xlink:href=\"#LiberationSans-31\"/>\n      <use x=\"166.845703\" xlink:href=\"#LiberationSans-31\"/>\n     </g>\n    </g>\n   </g>\n   <g id=\"line2d_35\">\n    <path clip-path=\"url(#p357a329640)\" d=\"M 68.205909 35.48625 \nL 118.933182 250.775061 \nL 169.660455 284.023034 \nL 220.387727 290.239015 \nL 271.115 295.842233 \nL 321.842273 301.345411 \nL 372.569545 303.978935 \nL 423.296818 305.860825 \nL 474.024091 307.28625 \n\" style=\"fill:none;stroke:#0272a2;stroke-linecap:round;stroke-width:1.75;\"/>\n    <defs>\n     <path d=\"M -0 4.949747 \nL 4.949747 0 \nL 0 -4.949747 \nL -4.949747 -0 \nz\n\" id=\"m463d1ce33a\"/>\n    </defs>\n    <g clip-path=\"url(#p357a329640)\">\n     <use style=\"fill:#0272a2;\" x=\"68.205909\" xlink:href=\"#m463d1ce33a\" y=\"35.48625\"/>\n     <use style=\"fill:#0272a2;\" x=\"118.933182\" xlink:href=\"#m463d1ce33a\" y=\"250.775061\"/>\n     <use style=\"fill:#0272a2;\" x=\"169.660455\" xlink:href=\"#m463d1ce33a\" y=\"284.023034\"/>\n     <use style=\"fill:#0272a2;\" x=\"220.387727\" xlink:href=\"#m463d1ce33a\" y=\"290.239015\"/>\n     <use style=\"fill:#0272a2;\" x=\"271.115\" xlink:href=\"#m463d1ce33a\" y=\"295.842233\"/>\n     <use style=\"fill:#0272a2;\" x=\"321.842273\" xlink:href=\"#m463d1ce33a\" y=\"301.345411\"/>\n     <use style=\"fill:#0272a2;\" x=\"372.569545\" xlink:href=\"#m463d1ce33a\" y=\"303.978935\"/>\n     <use style=\"fill:#0272a2;\" x=\"423.296818\" xlink:href=\"#m463d1ce33a\" y=\"305.860825\"/>\n     <use style=\"fill:#0272a2;\" x=\"474.024091\" xlink:href=\"#m463d1ce33a\" y=\"307.28625\"/>\n    </g>\n   </g>\n   <g id=\"line2d_36\">\n    <path clip-path=\"url(#p357a329640)\" d=\"M 118.933182 320.87625 \nL 118.933182 21.89625 \n\" style=\"fill:none;stroke:#111111;stroke-dasharray:6.475,2.8;stroke-dashoffset:0;stroke-width:1.75;\"/>\n   </g>\n   <g id=\"patch_3\">\n    <path d=\"M 47.915 320.87625 \nL 47.915 21.89625 \n\" style=\"fill:none;stroke:#cccccc;stroke-linecap:square;stroke-linejoin:miter;stroke-width:1.25;\"/>\n   </g>\n   <g id=\"patch_4\">\n    <path d=\"M 494.315 320.87625 \nL 494.315 21.89625 \n\" style=\"fill:none;stroke:#cccccc;stroke-linecap:square;stroke-linejoin:miter;stroke-width:1.25;\"/>\n   </g>\n   <g id=\"patch_5\">\n    <path d=\"M 47.915 320.87625 \nL 494.315 320.87625 \n\" style=\"fill:none;stroke:#cccccc;stroke-linecap:square;stroke-linejoin:miter;stroke-width:1.25;\"/>\n   </g>\n   <g id=\"patch_6\">\n    <path d=\"M 47.915 21.89625 \nL 494.315 21.89625 \n\" style=\"fill:none;stroke:#cccccc;stroke-linecap:square;stroke-linejoin:miter;stroke-width:1.25;\"/>\n   </g>\n   <g id=\"text_21\">\n    <!-- Distortion Score Elbow for KMeans Clustering -->\n    <g style=\"fill:#262626;\" transform=\"translate(149.404063 15.89625)scale(0.12 -0.12)\">\n     <defs>\n      <path d=\"M 4316 2247 \nQ 4316 1697 4150 1276 \nQ 3984 856 3696 573 \nQ 3409 291 3017 145 \nQ 2625 0 2172 0 \nL 525 0 \nL 525 4403 \nL 1981 4403 \nQ 2491 4403 2920 4276 \nQ 3350 4150 3659 3886 \nQ 3969 3622 4142 3215 \nQ 4316 2809 4316 2247 \nz\nM 3716 2247 \nQ 3716 2694 3587 3011 \nQ 3459 3328 3228 3531 \nQ 2997 3734 2675 3829 \nQ 2353 3925 1969 3925 \nL 1122 3925 \nL 1122 478 \nL 2103 478 \nQ 2450 478 2745 590 \nQ 3041 703 3256 925 \nQ 3472 1147 3594 1478 \nQ 3716 1809 3716 2247 \nz\n\" id=\"LiberationSans-44\" transform=\"scale(0.015625)\"/>\n      <path d=\"M 3975 1216 \nQ 3975 938 3867 703 \nQ 3759 469 3534 298 \nQ 3309 128 2967 32 \nQ 2625 -63 2156 -63 \nQ 1334 -63 875 225 \nQ 416 513 291 1056 \nL 869 1172 \nQ 913 1000 1003 859 \nQ 1094 719 1248 617 \nQ 1403 516 1631 459 \nQ 1859 403 2178 403 \nQ 2444 403 2666 448 \nQ 2888 494 3047 587 \nQ 3206 681 3295 829 \nQ 3384 978 3384 1184 \nQ 3384 1400 3286 1534 \nQ 3188 1669 3009 1756 \nQ 2831 1844 2584 1903 \nQ 2338 1963 2038 2031 \nQ 1853 2072 1667 2120 \nQ 1481 2169 1311 2236 \nQ 1141 2303 991 2393 \nQ 841 2484 731 2611 \nQ 622 2738 559 2905 \nQ 497 3072 497 3291 \nQ 497 3603 623 3826 \nQ 750 4050 975 4194 \nQ 1200 4338 1506 4403 \nQ 1813 4469 2169 4469 \nQ 2578 4469 2868 4405 \nQ 3159 4341 3359 4212 \nQ 3559 4084 3679 3895 \nQ 3800 3706 3872 3456 \nL 3284 3353 \nQ 3241 3513 3158 3638 \nQ 3075 3763 2940 3847 \nQ 2806 3931 2614 3975 \nQ 2422 4019 2163 4019 \nQ 1856 4019 1648 3964 \nQ 1441 3909 1314 3815 \nQ 1188 3722 1133 3595 \nQ 1078 3469 1078 3322 \nQ 1078 3125 1176 2998 \nQ 1275 2872 1444 2787 \nQ 1613 2703 1834 2647 \nQ 2056 2591 2306 2534 \nQ 2509 2488 2711 2439 \nQ 2913 2391 3097 2323 \nQ 3281 2256 3442 2165 \nQ 3603 2075 3722 1944 \nQ 3841 1813 3908 1634 \nQ 3975 1456 3975 1216 \nz\n\" id=\"LiberationSans-53\" transform=\"scale(0.015625)\"/>\n      <path d=\"M 525 0 \nL 525 4403 \nL 3866 4403 \nL 3866 3916 \nL 1122 3916 \nL 1122 2503 \nL 3678 2503 \nL 3678 2022 \nL 1122 2022 \nL 1122 488 \nL 3994 488 \nL 3994 0 \nL 525 0 \nz\n\" id=\"LiberationSans-45\" transform=\"scale(0.015625)\"/>\n      <path d=\"M 431 0 \nL 431 4638 \nL 994 4638 \nL 994 0 \nL 431 0 \nz\n\" id=\"LiberationSans-6c\" transform=\"scale(0.015625)\"/>\n      <path d=\"M 3291 1706 \nQ 3291 -63 2047 -63 \nQ 1663 -63 1408 76 \nQ 1153 216 994 525 \nL 988 525 \nQ 988 444 983 356 \nQ 978 269 973 194 \nQ 969 119 964 66 \nQ 959 13 956 0 \nL 413 0 \nQ 416 28 419 95 \nQ 422 163 425 256 \nQ 428 350 429 462 \nQ 431 575 431 697 \nL 431 4638 \nL 994 4638 \nL 994 3316 \nQ 994 3222 992 3136 \nQ 991 3050 988 2984 \nQ 984 2906 981 2838 \nL 994 2838 \nQ 1150 3163 1408 3303 \nQ 1666 3444 2047 3444 \nQ 2688 3444 2989 3012 \nQ 3291 2581 3291 1706 \nz\nM 2700 1688 \nQ 2700 2038 2656 2288 \nQ 2613 2538 2516 2698 \nQ 2419 2859 2269 2934 \nQ 2119 3009 1903 3009 \nQ 1681 3009 1511 2937 \nQ 1341 2866 1227 2706 \nQ 1113 2547 1053 2287 \nQ 994 2028 994 1653 \nQ 994 1291 1053 1044 \nQ 1113 797 1227 642 \nQ 1341 488 1509 420 \nQ 1678 353 1897 353 \nQ 2103 353 2253 425 \nQ 2403 497 2503 656 \nQ 2603 816 2651 1070 \nQ 2700 1325 2700 1688 \nz\n\" id=\"LiberationSans-62\" transform=\"scale(0.015625)\"/>\n      <path d=\"M 3669 0 \nL 3016 0 \nL 2475 2181 \nQ 2450 2266 2423 2391 \nQ 2397 2516 2372 2634 \nQ 2341 2772 2313 2919 \nQ 2284 2778 2253 2641 \nQ 2228 2522 2198 2394 \nQ 2169 2266 2144 2169 \nL 1588 0 \nL 938 0 \nL -9 3381 \nL 547 3381 \nL 1119 1084 \nQ 1141 1013 1162 908 \nQ 1184 803 1206 703 \nQ 1228 588 1253 466 \nQ 1278 584 1306 697 \nQ 1331 794 1356 894 \nQ 1381 994 1400 1059 \nL 2013 3381 \nL 2616 3381 \nL 3206 1059 \nQ 3228 978 3253 875 \nQ 3278 772 3300 681 \nQ 3325 575 3350 466 \nQ 3375 584 3400 697 \nQ 3422 794 3445 898 \nQ 3469 1003 3491 1084 \nL 4088 3381 \nL 4638 3381 \nL 3669 0 \nz\n\" id=\"LiberationSans-77\" transform=\"scale(0.015625)\"/>\n      <path d=\"M 1128 2972 \nL 1128 0 \nL 566 0 \nL 566 2972 \nL 91 2972 \nL 91 3381 \nL 566 3381 \nL 566 3763 \nQ 566 3947 600 4105 \nQ 634 4263 726 4380 \nQ 819 4497 978 4564 \nQ 1138 4631 1391 4631 \nQ 1491 4631 1598 4622 \nQ 1706 4613 1788 4594 \nL 1788 4166 \nQ 1734 4175 1664 4183 \nQ 1594 4191 1538 4191 \nQ 1413 4191 1333 4156 \nQ 1253 4122 1208 4058 \nQ 1163 3994 1145 3900 \nQ 1128 3806 1128 3684 \nL 1128 3381 \nL 1788 3381 \nL 1788 2972 \nL 1128 2972 \nz\n\" id=\"LiberationSans-66\" transform=\"scale(0.015625)\"/>\n      <path d=\"M 3456 0 \nL 1697 2125 \nL 1122 1688 \nL 1122 0 \nL 525 0 \nL 525 4403 \nL 1122 4403 \nL 1122 2197 \nL 3244 4403 \nL 3947 4403 \nL 2072 2491 \nL 4197 0 \nL 3456 0 \nz\n\" id=\"LiberationSans-4b\" transform=\"scale(0.015625)\"/>\n      <path d=\"M 4269 0 \nL 4269 2938 \nQ 4269 3097 4272 3262 \nQ 4275 3428 4281 3566 \nQ 4288 3725 4297 3875 \nQ 4253 3716 4206 3559 \nQ 4166 3425 4117 3273 \nQ 4069 3122 4022 3000 \nL 2884 0 \nL 2466 0 \nL 1313 3000 \nQ 1294 3047 1273 3109 \nQ 1253 3172 1229 3242 \nQ 1206 3313 1182 3386 \nQ 1159 3459 1138 3531 \nQ 1084 3697 1034 3875 \nQ 1038 3700 1044 3528 \nQ 1050 3381 1053 3220 \nQ 1056 3059 1056 2938 \nL 1056 0 \nL 525 0 \nL 525 4403 \nL 1309 4403 \nL 2481 1350 \nQ 2503 1288 2534 1189 \nQ 2566 1091 2594 987 \nQ 2622 884 2645 792 \nQ 2669 700 2678 650 \nQ 2688 700 2713 794 \nQ 2738 888 2770 991 \nQ 2803 1094 2834 1191 \nQ 2866 1288 2891 1350 \nL 4041 4403 \nL 4806 4403 \nL 4806 0 \nL 4269 0 \nz\n\" id=\"LiberationSans-4d\" transform=\"scale(0.015625)\"/>\n      <path d=\"M 1294 -63 \nQ 784 -63 528 206 \nQ 272 475 272 944 \nQ 272 1278 398 1492 \nQ 525 1706 729 1828 \nQ 934 1950 1196 1997 \nQ 1459 2044 1731 2050 \nL 2491 2063 \nL 2491 2247 \nQ 2491 2456 2447 2603 \nQ 2403 2750 2312 2840 \nQ 2222 2931 2086 2973 \nQ 1950 3016 1766 3016 \nQ 1603 3016 1472 2992 \nQ 1341 2969 1244 2908 \nQ 1147 2847 1087 2742 \nQ 1028 2638 1009 2478 \nL 422 2531 \nQ 453 2731 540 2898 \nQ 628 3066 789 3187 \nQ 950 3309 1192 3376 \nQ 1434 3444 1778 3444 \nQ 2416 3444 2737 3151 \nQ 3059 2859 3059 2306 \nL 3059 850 \nQ 3059 600 3125 473 \nQ 3191 347 3375 347 \nQ 3422 347 3469 353 \nQ 3516 359 3559 369 \nL 3559 19 \nQ 3453 -6 3348 -18 \nQ 3244 -31 3125 -31 \nQ 2966 -31 2852 11 \nQ 2738 53 2666 139 \nQ 2594 225 2556 351 \nQ 2519 478 2509 647 \nL 2491 647 \nQ 2400 484 2292 353 \nQ 2184 222 2040 130 \nQ 1897 38 1714 -12 \nQ 1531 -63 1294 -63 \nz\nM 1422 359 \nQ 1691 359 1892 457 \nQ 2094 556 2226 709 \nQ 2359 863 2425 1044 \nQ 2491 1225 2491 1391 \nL 2491 1669 \nL 1875 1656 \nQ 1669 1653 1483 1626 \nQ 1297 1600 1156 1522 \nQ 1016 1444 933 1303 \nQ 850 1163 850 934 \nQ 850 659 998 509 \nQ 1147 359 1422 359 \nz\n\" id=\"LiberationSans-61\" transform=\"scale(0.015625)\"/>\n      <path d=\"M 2475 3981 \nQ 2100 3981 1811 3856 \nQ 1522 3731 1326 3500 \nQ 1131 3269 1031 2944 \nQ 931 2619 931 2222 \nQ 931 1825 1039 1495 \nQ 1147 1166 1348 928 \nQ 1550 691 1842 559 \nQ 2134 428 2500 428 \nQ 2756 428 2967 495 \nQ 3178 563 3348 684 \nQ 3519 806 3653 973 \nQ 3788 1141 3891 1344 \nL 4378 1100 \nQ 4259 853 4084 640 \nQ 3909 428 3673 272 \nQ 3438 116 3139 26 \nQ 2841 -63 2472 -63 \nQ 1938 -63 1536 107 \nQ 1134 278 864 583 \nQ 594 888 459 1306 \nQ 325 1725 325 2222 \nQ 325 2738 467 3153 \nQ 609 3569 882 3861 \nQ 1156 4153 1556 4311 \nQ 1956 4469 2469 4469 \nQ 3172 4469 3644 4194 \nQ 4116 3919 4338 3378 \nL 3772 3191 \nQ 3709 3347 3603 3489 \nQ 3497 3631 3337 3740 \nQ 3178 3850 2964 3915 \nQ 2750 3981 2475 3981 \nz\n\" id=\"LiberationSans-43\" transform=\"scale(0.015625)\"/>\n      <path d=\"M 981 3381 \nL 981 1238 \nQ 981 991 1017 825 \nQ 1053 659 1134 557 \nQ 1216 456 1348 414 \nQ 1481 372 1678 372 \nQ 1878 372 2039 442 \nQ 2200 513 2314 645 \nQ 2428 778 2490 973 \nQ 2553 1169 2553 1422 \nL 2553 3381 \nL 3116 3381 \nL 3116 722 \nQ 3116 616 3117 498 \nQ 3119 381 3122 276 \nQ 3125 172 3128 97 \nQ 3131 22 3134 0 \nL 2603 0 \nQ 2600 16 2597 84 \nQ 2594 153 2589 242 \nQ 2584 331 2581 423 \nQ 2578 516 2578 578 \nL 2569 578 \nQ 2488 431 2391 312 \nQ 2294 194 2166 111 \nQ 2038 28 1872 -17 \nQ 1706 -63 1488 -63 \nQ 1206 -63 1003 6 \nQ 800 75 669 219 \nQ 538 363 477 588 \nQ 416 813 416 1128 \nL 416 3381 \nL 981 3381 \nz\n\" id=\"LiberationSans-75\" transform=\"scale(0.015625)\"/>\n      <path d=\"M 1713 -1328 \nQ 1422 -1328 1197 -1268 \nQ 972 -1209 812 -1098 \nQ 653 -988 553 -834 \nQ 453 -681 409 -494 \nL 975 -413 \nQ 1031 -647 1223 -773 \nQ 1416 -900 1728 -900 \nQ 1919 -900 2075 -847 \nQ 2231 -794 2340 -676 \nQ 2450 -559 2509 -371 \nQ 2569 -184 2569 84 \nL 2569 628 \nL 2563 628 \nQ 2500 500 2408 383 \nQ 2316 266 2183 175 \nQ 2050 84 1875 29 \nQ 1700 -25 1475 -25 \nQ 1153 -25 923 83 \nQ 694 191 548 406 \nQ 403 622 336 942 \nQ 269 1263 269 1684 \nQ 269 2091 336 2416 \nQ 403 2741 554 2967 \nQ 706 3194 948 3314 \nQ 1191 3434 1538 3434 \nQ 1897 3434 2161 3270 \nQ 2425 3106 2569 2803 \nL 2575 2803 \nQ 2575 2881 2579 2978 \nQ 2584 3075 2589 3161 \nQ 2594 3247 2600 3309 \nQ 2606 3372 2613 3381 \nL 3147 3381 \nQ 3144 3353 3141 3286 \nQ 3138 3219 3134 3125 \nQ 3131 3031 3129 2917 \nQ 3128 2803 3128 2681 \nL 3128 97 \nQ 3128 -613 2779 -970 \nQ 2431 -1328 1713 -1328 \nz\nM 2569 1691 \nQ 2569 2044 2492 2295 \nQ 2416 2547 2291 2706 \nQ 2166 2866 2005 2941 \nQ 1844 3016 1675 3016 \nQ 1459 3016 1304 2941 \nQ 1150 2866 1048 2705 \nQ 947 2544 898 2292 \nQ 850 2041 850 1691 \nQ 850 1325 898 1076 \nQ 947 828 1047 675 \nQ 1147 522 1300 456 \nQ 1453 391 1666 391 \nQ 1834 391 1995 462 \nQ 2156 534 2284 690 \nQ 2413 847 2491 1094 \nQ 2569 1341 2569 1691 \nz\n\" id=\"LiberationSans-67\" transform=\"scale(0.015625)\"/>\n     </defs>\n     <use xlink:href=\"#LiberationSans-44\"/>\n     <use x=\"72.216797\" xlink:href=\"#LiberationSans-69\"/>\n     <use x=\"94.433594\" xlink:href=\"#LiberationSans-73\"/>\n     <use x=\"144.433594\" xlink:href=\"#LiberationSans-74\"/>\n     <use x=\"172.216797\" xlink:href=\"#LiberationSans-6f\"/>\n     <use x=\"227.832031\" xlink:href=\"#LiberationSans-72\"/>\n     <use x=\"261.132812\" xlink:href=\"#LiberationSans-74\"/>\n     <use x=\"288.916016\" xlink:href=\"#LiberationSans-69\"/>\n     <use x=\"311.132812\" xlink:href=\"#LiberationSans-6f\"/>\n     <use x=\"366.748047\" xlink:href=\"#LiberationSans-6e\"/>\n     <use x=\"422.363281\" xlink:href=\"#LiberationSans-20\"/>\n     <use x=\"450.146484\" xlink:href=\"#LiberationSans-53\"/>\n     <use x=\"516.845703\" xlink:href=\"#LiberationSans-63\"/>\n     <use x=\"566.845703\" xlink:href=\"#LiberationSans-6f\"/>\n     <use x=\"622.460938\" xlink:href=\"#LiberationSans-72\"/>\n     <use x=\"655.761719\" xlink:href=\"#LiberationSans-65\"/>\n     <use x=\"711.376953\" xlink:href=\"#LiberationSans-20\"/>\n     <use x=\"739.160156\" xlink:href=\"#LiberationSans-45\"/>\n     <use x=\"805.859375\" xlink:href=\"#LiberationSans-6c\"/>\n     <use x=\"828.076172\" xlink:href=\"#LiberationSans-62\"/>\n     <use x=\"883.691406\" xlink:href=\"#LiberationSans-6f\"/>\n     <use x=\"939.306641\" xlink:href=\"#LiberationSans-77\"/>\n     <use x=\"1011.523438\" xlink:href=\"#LiberationSans-20\"/>\n     <use x=\"1039.306641\" xlink:href=\"#LiberationSans-66\"/>\n     <use x=\"1067.089844\" xlink:href=\"#LiberationSans-6f\"/>\n     <use x=\"1122.705078\" xlink:href=\"#LiberationSans-72\"/>\n     <use x=\"1156.005859\" xlink:href=\"#LiberationSans-20\"/>\n     <use x=\"1183.789062\" xlink:href=\"#LiberationSans-4b\"/>\n     <use x=\"1250.488281\" xlink:href=\"#LiberationSans-4d\"/>\n     <use x=\"1333.789062\" xlink:href=\"#LiberationSans-65\"/>\n     <use x=\"1389.404297\" xlink:href=\"#LiberationSans-61\"/>\n     <use x=\"1445.019531\" xlink:href=\"#LiberationSans-6e\"/>\n     <use x=\"1500.634766\" xlink:href=\"#LiberationSans-73\"/>\n     <use x=\"1550.634766\" xlink:href=\"#LiberationSans-20\"/>\n     <use x=\"1578.417969\" xlink:href=\"#LiberationSans-43\"/>\n     <use x=\"1650.634766\" xlink:href=\"#LiberationSans-6c\"/>\n     <use x=\"1672.851562\" xlink:href=\"#LiberationSans-75\"/>\n     <use x=\"1728.466797\" xlink:href=\"#LiberationSans-73\"/>\n     <use x=\"1778.466797\" xlink:href=\"#LiberationSans-74\"/>\n     <use x=\"1806.25\" xlink:href=\"#LiberationSans-65\"/>\n     <use x=\"1861.865234\" xlink:href=\"#LiberationSans-72\"/>\n     <use x=\"1895.166016\" xlink:href=\"#LiberationSans-69\"/>\n     <use x=\"1917.382812\" xlink:href=\"#LiberationSans-6e\"/>\n     <use x=\"1972.998047\" xlink:href=\"#LiberationSans-67\"/>\n    </g>\n   </g>\n   <g id=\"legend_1\">\n    <g id=\"patch_7\">\n     <path d=\"M 205.715 48.6825 \nL 485.915 48.6825 \nQ 488.315 48.6825 488.315 46.2825 \nL 488.315 30.29625 \nQ 488.315 27.89625 485.915 27.89625 \nL 205.715 27.89625 \nQ 203.315 27.89625 203.315 30.29625 \nL 203.315 46.2825 \nQ 203.315 48.6825 205.715 48.6825 \nz\n\" style=\"fill:#ffffff;opacity:0.8;stroke:#cccccc;stroke-linejoin:miter;stroke-width:0.3;\"/>\n    </g>\n    <g id=\"line2d_37\">\n     <path d=\"M 208.115 37.1925 \nL 232.115 37.1925 \n\" style=\"fill:none;stroke:#111111;stroke-dasharray:6.475,2.8;stroke-dashoffset:0;stroke-width:1.75;\"/>\n    </g>\n    <g id=\"line2d_38\"/>\n    <g id=\"text_22\">\n     <!-- elbow at $k=3$, $score=43729707520.000$ -->\n     <g style=\"fill:#262626;\" transform=\"translate(241.715 41.3925)scale(0.12 -0.12)\">\n      <defs>\n       <path d=\"M 1172 4863 \nL 1747 4863 \nL 1197 2028 \nL 3169 3500 \nL 3916 3500 \nL 1716 1825 \nL 3322 0 \nL 2625 0 \nL 1131 1709 \nL 800 0 \nL 225 0 \nL 1172 4863 \nz\n\" id=\"DejaVuSans-Oblique-6b\" transform=\"scale(0.015625)\"/>\n       <path d=\"M 678 2906 \nL 4684 2906 \nL 4684 2381 \nL 678 2381 \nL 678 2906 \nz\nM 678 1631 \nL 4684 1631 \nL 4684 1100 \nL 678 1100 \nL 678 1631 \nz\n\" id=\"DejaVuSans-3d\" transform=\"scale(0.015625)\"/>\n       <path d=\"M 2597 2516 \nQ 3050 2419 3304 2112 \nQ 3559 1806 3559 1356 \nQ 3559 666 3084 287 \nQ 2609 -91 1734 -91 \nQ 1441 -91 1130 -33 \nQ 819 25 488 141 \nL 488 750 \nQ 750 597 1062 519 \nQ 1375 441 1716 441 \nQ 2309 441 2620 675 \nQ 2931 909 2931 1356 \nQ 2931 1769 2642 2001 \nQ 2353 2234 1838 2234 \nL 1294 2234 \nL 1294 2753 \nL 1863 2753 \nQ 2328 2753 2575 2939 \nQ 2822 3125 2822 3475 \nQ 2822 3834 2567 4026 \nQ 2313 4219 1838 4219 \nQ 1578 4219 1281 4162 \nQ 984 4106 628 3988 \nL 628 4550 \nQ 988 4650 1302 4700 \nQ 1616 4750 1894 4750 \nQ 2613 4750 3031 4423 \nQ 3450 4097 3450 3541 \nQ 3450 3153 3228 2886 \nQ 3006 2619 2597 2516 \nz\n\" id=\"DejaVuSans-33\" transform=\"scale(0.015625)\"/>\n       <path d=\"M 1203 684 \nL 1203 159 \nQ 1203 -6 1189 -142 \nQ 1175 -278 1144 -395 \nQ 1113 -513 1067 -616 \nQ 1022 -719 959 -819 \nL 575 -819 \nQ 716 -616 792 -409 \nQ 869 -203 869 0 \nL 594 0 \nL 594 684 \nL 1203 684 \nz\n\" id=\"LiberationSans-2c\" transform=\"scale(0.015625)\"/>\n       <path d=\"M 3200 3397 \nL 3091 2853 \nQ 2863 2978 2609 3040 \nQ 2356 3103 2088 3103 \nQ 1634 3103 1373 2948 \nQ 1113 2794 1113 2528 \nQ 1113 2219 1719 2053 \nQ 1766 2041 1788 2034 \nL 1972 1978 \nQ 2547 1819 2739 1644 \nQ 2931 1469 2931 1166 \nQ 2931 609 2489 259 \nQ 2047 -91 1331 -91 \nQ 1053 -91 747 -37 \nQ 441 16 72 128 \nL 184 722 \nQ 500 559 806 475 \nQ 1113 391 1394 391 \nQ 1816 391 2080 572 \nQ 2344 753 2344 1031 \nQ 2344 1331 1650 1516 \nL 1591 1531 \nL 1394 1581 \nQ 956 1697 753 1886 \nQ 550 2075 550 2369 \nQ 550 2928 970 3256 \nQ 1391 3584 2113 3584 \nQ 2397 3584 2667 3537 \nQ 2938 3491 3200 3397 \nz\n\" id=\"DejaVuSans-Oblique-73\" transform=\"scale(0.015625)\"/>\n       <path d=\"M 3431 3366 \nL 3316 2797 \nQ 3109 2947 2876 3022 \nQ 2644 3097 2394 3097 \nQ 2119 3097 1870 3000 \nQ 1622 2903 1453 2725 \nQ 1184 2453 1037 2087 \nQ 891 1722 891 1331 \nQ 891 859 1127 628 \nQ 1363 397 1844 397 \nQ 2081 397 2348 469 \nQ 2616 541 2906 684 \nL 2797 116 \nQ 2547 13 2283 -39 \nQ 2019 -91 1741 -91 \nQ 1044 -91 669 257 \nQ 294 606 294 1253 \nQ 294 1797 489 2255 \nQ 684 2713 1069 3078 \nQ 1331 3328 1684 3456 \nQ 2038 3584 2456 3584 \nQ 2700 3584 2940 3529 \nQ 3181 3475 3431 3366 \nz\n\" id=\"DejaVuSans-Oblique-63\" transform=\"scale(0.015625)\"/>\n       <path d=\"M 1625 -91 \nQ 1009 -91 651 289 \nQ 294 669 294 1325 \nQ 294 1706 417 2101 \nQ 541 2497 738 2766 \nQ 1047 3184 1428 3384 \nQ 1809 3584 2291 3584 \nQ 2888 3584 3255 3212 \nQ 3622 2841 3622 2241 \nQ 3622 1825 3500 1412 \nQ 3378 1000 3181 728 \nQ 2875 309 2494 109 \nQ 2113 -91 1625 -91 \nz\nM 891 1344 \nQ 891 869 1089 633 \nQ 1288 397 1691 397 \nQ 2269 397 2648 901 \nQ 3028 1406 3028 2181 \nQ 3028 2634 2825 2865 \nQ 2622 3097 2228 3097 \nQ 1903 3097 1650 2945 \nQ 1397 2794 1197 2484 \nQ 1050 2253 970 1956 \nQ 891 1659 891 1344 \nz\n\" id=\"DejaVuSans-Oblique-6f\" transform=\"scale(0.015625)\"/>\n       <path d=\"M 2853 2969 \nQ 2766 3016 2653 3041 \nQ 2541 3066 2413 3066 \nQ 1953 3066 1609 2717 \nQ 1266 2369 1153 1784 \nL 800 0 \nL 225 0 \nL 909 3500 \nL 1484 3500 \nL 1375 2956 \nQ 1603 3259 1920 3421 \nQ 2238 3584 2597 3584 \nQ 2691 3584 2781 3573 \nQ 2872 3563 2963 3538 \nL 2853 2969 \nz\n\" id=\"DejaVuSans-Oblique-72\" transform=\"scale(0.015625)\"/>\n       <path d=\"M 3078 2063 \nQ 3088 2113 3092 2166 \nQ 3097 2219 3097 2272 \nQ 3097 2653 2873 2875 \nQ 2650 3097 2266 3097 \nQ 1838 3097 1509 2826 \nQ 1181 2556 1013 2059 \nL 3078 2063 \nz\nM 3578 1613 \nL 903 1613 \nQ 884 1494 878 1425 \nQ 872 1356 872 1306 \nQ 872 872 1139 634 \nQ 1406 397 1894 397 \nQ 2269 397 2603 481 \nQ 2938 566 3225 728 \nL 3116 159 \nQ 2806 34 2476 -28 \nQ 2147 -91 1806 -91 \nQ 1078 -91 686 257 \nQ 294 606 294 1247 \nQ 294 1794 489 2264 \nQ 684 2734 1063 3103 \nQ 1306 3334 1642 3459 \nQ 1978 3584 2356 3584 \nQ 2950 3584 3301 3228 \nQ 3653 2872 3653 2272 \nQ 3653 2128 3634 1964 \nQ 3616 1800 3578 1613 \nz\n\" id=\"DejaVuSans-Oblique-65\" transform=\"scale(0.015625)\"/>\n       <path d=\"M 2419 4116 \nL 825 1625 \nL 2419 1625 \nL 2419 4116 \nz\nM 2253 4666 \nL 3047 4666 \nL 3047 1625 \nL 3713 1625 \nL 3713 1100 \nL 3047 1100 \nL 3047 0 \nL 2419 0 \nL 2419 1100 \nL 313 1100 \nL 313 1709 \nL 2253 4666 \nz\n\" id=\"DejaVuSans-34\" transform=\"scale(0.015625)\"/>\n       <path d=\"M 525 4666 \nL 3525 4666 \nL 3525 4397 \nL 1831 0 \nL 1172 0 \nL 2766 4134 \nL 525 4134 \nL 525 4666 \nz\n\" id=\"DejaVuSans-37\" transform=\"scale(0.015625)\"/>\n       <path d=\"M 1228 531 \nL 3431 531 \nL 3431 0 \nL 469 0 \nL 469 531 \nQ 828 903 1448 1529 \nQ 2069 2156 2228 2338 \nQ 2531 2678 2651 2914 \nQ 2772 3150 2772 3378 \nQ 2772 3750 2511 3984 \nQ 2250 4219 1831 4219 \nQ 1534 4219 1204 4116 \nQ 875 4013 500 3803 \nL 500 4441 \nQ 881 4594 1212 4672 \nQ 1544 4750 1819 4750 \nQ 2544 4750 2975 4387 \nQ 3406 4025 3406 3419 \nQ 3406 3131 3298 2873 \nQ 3191 2616 2906 2266 \nQ 2828 2175 2409 1742 \nQ 1991 1309 1228 531 \nz\n\" id=\"DejaVuSans-32\" transform=\"scale(0.015625)\"/>\n       <path d=\"M 703 97 \nL 703 672 \nQ 941 559 1184 500 \nQ 1428 441 1663 441 \nQ 2288 441 2617 861 \nQ 2947 1281 2994 2138 \nQ 2813 1869 2534 1725 \nQ 2256 1581 1919 1581 \nQ 1219 1581 811 2004 \nQ 403 2428 403 3163 \nQ 403 3881 828 4315 \nQ 1253 4750 1959 4750 \nQ 2769 4750 3195 4129 \nQ 3622 3509 3622 2328 \nQ 3622 1225 3098 567 \nQ 2575 -91 1691 -91 \nQ 1453 -91 1209 -44 \nQ 966 3 703 97 \nz\nM 1959 2075 \nQ 2384 2075 2632 2365 \nQ 2881 2656 2881 3163 \nQ 2881 3666 2632 3958 \nQ 2384 4250 1959 4250 \nQ 1534 4250 1286 3958 \nQ 1038 3666 1038 3163 \nQ 1038 2656 1286 2365 \nQ 1534 2075 1959 2075 \nz\n\" id=\"DejaVuSans-39\" transform=\"scale(0.015625)\"/>\n       <path d=\"M 2034 4250 \nQ 1547 4250 1301 3770 \nQ 1056 3291 1056 2328 \nQ 1056 1369 1301 889 \nQ 1547 409 2034 409 \nQ 2525 409 2770 889 \nQ 3016 1369 3016 2328 \nQ 3016 3291 2770 3770 \nQ 2525 4250 2034 4250 \nz\nM 2034 4750 \nQ 2819 4750 3233 4129 \nQ 3647 3509 3647 2328 \nQ 3647 1150 3233 529 \nQ 2819 -91 2034 -91 \nQ 1250 -91 836 529 \nQ 422 1150 422 2328 \nQ 422 3509 836 4129 \nQ 1250 4750 2034 4750 \nz\n\" id=\"DejaVuSans-30\" transform=\"scale(0.015625)\"/>\n       <path d=\"M 691 4666 \nL 3169 4666 \nL 3169 4134 \nL 1269 4134 \nL 1269 2991 \nQ 1406 3038 1543 3061 \nQ 1681 3084 1819 3084 \nQ 2600 3084 3056 2656 \nQ 3513 2228 3513 1497 \nQ 3513 744 3044 326 \nQ 2575 -91 1722 -91 \nQ 1428 -91 1123 -41 \nQ 819 9 494 109 \nL 494 744 \nQ 775 591 1075 516 \nQ 1375 441 1709 441 \nQ 2250 441 2565 725 \nQ 2881 1009 2881 1497 \nQ 2881 1984 2565 2268 \nQ 2250 2553 1709 2553 \nQ 1456 2553 1204 2497 \nQ 953 2441 691 2322 \nL 691 4666 \nz\n\" id=\"DejaVuSans-35\" transform=\"scale(0.015625)\"/>\n       <path d=\"M 684 794 \nL 1344 794 \nL 1344 0 \nL 684 0 \nL 684 794 \nz\n\" id=\"DejaVuSans-2e\" transform=\"scale(0.015625)\"/>\n      </defs>\n      <use transform=\"translate(0 0.015625)\" xlink:href=\"#LiberationSans-65\"/>\n      <use transform=\"translate(55.615234 0.015625)\" xlink:href=\"#LiberationSans-6c\"/>\n      <use transform=\"translate(77.832031 0.015625)\" xlink:href=\"#LiberationSans-62\"/>\n      <use transform=\"translate(133.447266 0.015625)\" xlink:href=\"#LiberationSans-6f\"/>\n      <use transform=\"translate(189.0625 0.015625)\" xlink:href=\"#LiberationSans-77\"/>\n      <use transform=\"translate(261.279297 0.015625)\" xlink:href=\"#LiberationSans-20\"/>\n      <use transform=\"translate(289.0625 0.015625)\" xlink:href=\"#LiberationSans-61\"/>\n      <use transform=\"translate(344.677734 0.015625)\" xlink:href=\"#LiberationSans-74\"/>\n      <use transform=\"translate(372.460938 0.015625)\" xlink:href=\"#LiberationSans-20\"/>\n      <use transform=\"translate(400.244141 0.015625)\" xlink:href=\"#DejaVuSans-Oblique-6b\"/>\n      <use transform=\"translate(477.636719 0.015625)\" xlink:href=\"#DejaVuSans-3d\"/>\n      <use transform=\"translate(580.908203 0.015625)\" xlink:href=\"#DejaVuSans-33\"/>\n      <use transform=\"translate(644.53125 0.015625)\" xlink:href=\"#LiberationSans-2c\"/>\n      <use transform=\"translate(672.314453 0.015625)\" xlink:href=\"#LiberationSans-20\"/>\n      <use transform=\"translate(700.097656 0.015625)\" xlink:href=\"#DejaVuSans-Oblique-73\"/>\n      <use transform=\"translate(752.197266 0.015625)\" xlink:href=\"#DejaVuSans-Oblique-63\"/>\n      <use transform=\"translate(807.177734 0.015625)\" xlink:href=\"#DejaVuSans-Oblique-6f\"/>\n      <use transform=\"translate(868.359375 0.015625)\" xlink:href=\"#DejaVuSans-Oblique-72\"/>\n      <use transform=\"translate(909.472656 0.015625)\" xlink:href=\"#DejaVuSans-Oblique-65\"/>\n      <use transform=\"translate(990.478516 0.015625)\" xlink:href=\"#DejaVuSans-3d\"/>\n      <use transform=\"translate(1093.75 0.015625)\" xlink:href=\"#DejaVuSans-34\"/>\n      <use transform=\"translate(1157.373047 0.015625)\" xlink:href=\"#DejaVuSans-33\"/>\n      <use transform=\"translate(1220.996094 0.015625)\" xlink:href=\"#DejaVuSans-37\"/>\n      <use transform=\"translate(1284.619141 0.015625)\" xlink:href=\"#DejaVuSans-32\"/>\n      <use transform=\"translate(1346.492188 0.015625)\" xlink:href=\"#DejaVuSans-39\"/>\n      <use transform=\"translate(1410.115234 0.015625)\" xlink:href=\"#DejaVuSans-37\"/>\n      <use transform=\"translate(1473.738281 0.015625)\" xlink:href=\"#DejaVuSans-30\"/>\n      <use transform=\"translate(1537.361328 0.015625)\" xlink:href=\"#DejaVuSans-37\"/>\n      <use transform=\"translate(1600.984375 0.015625)\" xlink:href=\"#DejaVuSans-35\"/>\n      <use transform=\"translate(1664.607422 0.015625)\" xlink:href=\"#DejaVuSans-32\"/>\n      <use transform=\"translate(1728.230469 0.015625)\" xlink:href=\"#DejaVuSans-30\"/>\n      <use transform=\"translate(1791.853516 0.015625)\" xlink:href=\"#DejaVuSans-2e\"/>\n      <use transform=\"translate(1823.640625 0.015625)\" xlink:href=\"#DejaVuSans-30\"/>\n      <use transform=\"translate(1887.263672 0.015625)\" xlink:href=\"#DejaVuSans-30\"/>\n      <use transform=\"translate(1950.886719 0.015625)\" xlink:href=\"#DejaVuSans-30\"/>\n     </g>\n    </g>\n   </g>\n  </g>\n </g>\n <defs>\n  <clipPath id=\"p357a329640\">\n   <rect height=\"298.98\" width=\"446.4\" x=\"47.915\" y=\"21.89625\"/>\n  </clipPath>\n </defs>\n</svg>\n",
      "image/png": "[encoded data removed]"
     },
     "metadata": {}
    }
   ],
   "metadata": {}
  },
  {
   "cell_type": "markdown",
   "source": [
    "### Associatie regels\n",
    "\n",
    " is unsupervised ML techniek die gebruikt wordt om relaties tussen variabelen in een bepaalde dataset te vinden. Deze methoden worden vaak gebruikt voor marktmandanalyse en aanbevelingsengines, in de trant van \"Klanten die dit artikel kochten, kochten ook\"."
   ],
   "metadata": {}
  },
  {
   "cell_type": "code",
   "execution_count": 2,
   "source": [
    "from pycaret.datasets import get_data\n",
    "data = get_data('france')\n",
    "from pycaret.arules import *\n",
    "exp = setup(data = data, transaction_id = 'InvoiceNo', item_id = 'Description')"
   ],
   "outputs": [
    {
     "output_type": "display_data",
     "data": {
      "text/plain": [
       "  InvoiceNo StockCode                      Description  Quantity  \\\n",
       "0    536370     22728        ALARM CLOCK BAKELIKE PINK        24   \n",
       "1    536370     22727        ALARM CLOCK BAKELIKE RED         24   \n",
       "2    536370     22726       ALARM CLOCK BAKELIKE GREEN        12   \n",
       "3    536370     21724  PANDA AND BUNNIES STICKER SHEET        12   \n",
       "4    536370     21883                 STARS GIFT TAPE         24   \n",
       "\n",
       "      InvoiceDate  UnitPrice  CustomerID Country  \n",
       "0  12/1/2010 8:45       3.75     12583.0  France  \n",
       "1  12/1/2010 8:45       3.75     12583.0  France  \n",
       "2  12/1/2010 8:45       3.75     12583.0  France  \n",
       "3  12/1/2010 8:45       0.85     12583.0  France  \n",
       "4  12/1/2010 8:45       0.65     12583.0  France  "
      ],
      "text/html": [
       "<div>\n",
       "<style scoped>\n",
       "    .dataframe tbody tr th:only-of-type {\n",
       "        vertical-align: middle;\n",
       "    }\n",
       "\n",
       "    .dataframe tbody tr th {\n",
       "        vertical-align: top;\n",
       "    }\n",
       "\n",
       "    .dataframe thead th {\n",
       "        text-align: right;\n",
       "    }\n",
       "</style>\n",
       "<table border=\"1\" class=\"dataframe\">\n",
       "  <thead>\n",
       "    <tr style=\"text-align: right;\">\n",
       "      <th></th>\n",
       "      <th>InvoiceNo</th>\n",
       "      <th>StockCode</th>\n",
       "      <th>Description</th>\n",
       "      <th>Quantity</th>\n",
       "      <th>InvoiceDate</th>\n",
       "      <th>UnitPrice</th>\n",
       "      <th>CustomerID</th>\n",
       "      <th>Country</th>\n",
       "    </tr>\n",
       "  </thead>\n",
       "  <tbody>\n",
       "    <tr>\n",
       "      <th>0</th>\n",
       "      <td>536370</td>\n",
       "      <td>22728</td>\n",
       "      <td>ALARM CLOCK BAKELIKE PINK</td>\n",
       "      <td>24</td>\n",
       "      <td>12/1/2010 8:45</td>\n",
       "      <td>3.75</td>\n",
       "      <td>12583.0</td>\n",
       "      <td>France</td>\n",
       "    </tr>\n",
       "    <tr>\n",
       "      <th>1</th>\n",
       "      <td>536370</td>\n",
       "      <td>22727</td>\n",
       "      <td>ALARM CLOCK BAKELIKE RED</td>\n",
       "      <td>24</td>\n",
       "      <td>12/1/2010 8:45</td>\n",
       "      <td>3.75</td>\n",
       "      <td>12583.0</td>\n",
       "      <td>France</td>\n",
       "    </tr>\n",
       "    <tr>\n",
       "      <th>2</th>\n",
       "      <td>536370</td>\n",
       "      <td>22726</td>\n",
       "      <td>ALARM CLOCK BAKELIKE GREEN</td>\n",
       "      <td>12</td>\n",
       "      <td>12/1/2010 8:45</td>\n",
       "      <td>3.75</td>\n",
       "      <td>12583.0</td>\n",
       "      <td>France</td>\n",
       "    </tr>\n",
       "    <tr>\n",
       "      <th>3</th>\n",
       "      <td>536370</td>\n",
       "      <td>21724</td>\n",
       "      <td>PANDA AND BUNNIES STICKER SHEET</td>\n",
       "      <td>12</td>\n",
       "      <td>12/1/2010 8:45</td>\n",
       "      <td>0.85</td>\n",
       "      <td>12583.0</td>\n",
       "      <td>France</td>\n",
       "    </tr>\n",
       "    <tr>\n",
       "      <th>4</th>\n",
       "      <td>536370</td>\n",
       "      <td>21883</td>\n",
       "      <td>STARS GIFT TAPE</td>\n",
       "      <td>24</td>\n",
       "      <td>12/1/2010 8:45</td>\n",
       "      <td>0.65</td>\n",
       "      <td>12583.0</td>\n",
       "      <td>France</td>\n",
       "    </tr>\n",
       "  </tbody>\n",
       "</table>\n",
       "</div>"
      ]
     },
     "metadata": {}
    },
    {
     "output_type": "display_data",
     "data": {
      "text/plain": [
       "<pandas.io.formats.style.Styler at 0x7f56d4454580>"
      ],
      "text/html": [
       "<style  type=\"text/css\" >\n",
       "</style><table id=\"T_aab80_\" ><thead>    <tr>        <th class=\"col_heading level0 col0\" >Description</th>        <th class=\"col_heading level0 col1\" >Value</th>    </tr></thead><tbody>\n",
       "                <tr>\n",
       "                                <td id=\"T_aab80_row0_col0\" class=\"data row0 col0\" >session_id</td>\n",
       "                        <td id=\"T_aab80_row0_col1\" class=\"data row0 col1\" >3496</td>\n",
       "            </tr>\n",
       "            <tr>\n",
       "                                <td id=\"T_aab80_row1_col0\" class=\"data row1 col0\" ># Transactions</td>\n",
       "                        <td id=\"T_aab80_row1_col1\" class=\"data row1 col1\" >461</td>\n",
       "            </tr>\n",
       "            <tr>\n",
       "                                <td id=\"T_aab80_row2_col0\" class=\"data row2 col0\" ># Items</td>\n",
       "                        <td id=\"T_aab80_row2_col1\" class=\"data row2 col1\" >1565</td>\n",
       "            </tr>\n",
       "            <tr>\n",
       "                                <td id=\"T_aab80_row3_col0\" class=\"data row3 col0\" >Ignore Items</td>\n",
       "                        <td id=\"T_aab80_row3_col1\" class=\"data row3 col1\" >None</td>\n",
       "            </tr>\n",
       "    </tbody></table>"
      ]
     },
     "metadata": {}
    }
   ],
   "metadata": {}
  },
  {
   "cell_type": "code",
   "execution_count": 3,
   "source": [
    "rule1 = create_model(metric='confidence', threshold=0.7, min_support=0.05)"
   ],
   "outputs": [],
   "metadata": {}
  },
  {
   "cell_type": "code",
   "execution_count": 6,
   "source": [
    "plot_model(rule1, plot='3d')"
   ],
   "outputs": [
    {
     "output_type": "display_data",
     "data": {
      "text/html": [
       "        <script type=\"text/javascript\">\n",
       "        window.PlotlyConfig = {MathJaxConfig: 'local'};\n",
       "        if (window.MathJax) {MathJax.Hub.Config({SVG: {font: \"STIX-Web\"}});}\n",
       "        if (typeof require !== 'undefined') {\n",
       "        require.undef(\"plotly\");\n",
       "        requirejs.config({\n",
       "            paths: {\n",
       "                'plotly': ['https://cdn.plot.ly/plotly-2.4.1.min']\n",
       "            }\n",
       "        });\n",
       "        require(['plotly'], function(Plotly) {\n",
       "            window._Plotly = Plotly;\n",
       "        });\n",
       "        }\n",
       "        </script>\n",
       "        "
      ]
     },
     "metadata": {}
    },
    {
     "output_type": "display_data",
     "data": {
      "text/html": [
       "<div>                            <div id=\"c410d21f-9eb2-461b-a22b-3bd4ac8e35b3\" class=\"plotly-graph-div\" style=\"height:800px; width:900px;\"></div>            <script type=\"text/javascript\">                require([\"plotly\"], function(Plotly) {                    window.PLOTLYENV=window.PLOTLYENV || {};                                    if (document.getElementById(\"c410d21f-9eb2-461b-a22b-3bd4ac8e35b3\")) {                    Plotly.newPlot(                        \"c410d21f-9eb2-461b-a22b-3bd4ac8e35b3\",                        [{\"customdata\":[[\"JUMBO BAG WOODLAND ANIMALS\",\"POSTAGE\"],[\"SET/6 RED SPOTTY PAPER PLATES\",\"SET/6 RED SPOTTY PAPER CUPS\"],[\"SET/20 RED RETROSPOT PAPER NAPKINS \",\"SET/6 RED SPOTTY PAPER PLATES\"],[\"SET/6 RED SPOTTY PAPER PLATES\",\"SET/6 RED SPOTTY PAPER CUPS\"],[\"SET/20 RED RETROSPOT PAPER NAPKINS \",\"SET/6 RED SPOTTY PAPER PLATES\"],[\"SET OF 9 BLACK SKULL BALLOONS\",\"POSTAGE\"],[\"PACK OF 6 SKULL PAPER CUPS\",\"POSTAGE\"],[\"SET/6 RED SPOTTY PAPER PLATES\",\"SET/6 RED SPOTTY PAPER CUPS\"],[\"SET/6 RED SPOTTY PAPER PLATES\",\"SET/6 RED SPOTTY PAPER CUPS\"],[\"TEA PARTY BIRTHDAY CARD\",\"POSTAGE\"],[\"STRAWBERRY LUNCH BOX WITH CUTLERY\",\"POSTAGE\"],[\"RED RETROSPOT PICNIC BAG\",\"POSTAGE\"],[\"CHILDRENS CUTLERY SPACEBOY \",\"CHILDRENS CUTLERY DOLLY GIRL \"],[\"SET OF 2 TEA TOWELS APPLE AND PEARS\",\"POSTAGE\"],[\"ASSORTED COLOUR MINI CASES\",\"POSTAGE\"],[\"LUNCH BAG APPLE DESIGN\",\"POSTAGE\"],[\"ALARM CLOCK BAKELIKE RED \",\"POSTAGE\"],[\"ROUND SNACK BOXES SET OF4 WOODLAND \",\"POSTAGE\"],[\"ALARM CLOCK BAKELIKE RED \",\"POSTAGE\"],[\"ALARM CLOCK BAKELIKE RED \",\"POSTAGE\"],[\"WOODLAND CHARLOTTE BAG\",\"POSTAGE\"],[\"SET/6 RED SPOTTY PAPER CUPS\",\"SET/6 RED SPOTTY PAPER PLATES\"],[\"ALARM CLOCK BAKELIKE PINK\",\"POSTAGE\"],[\"PAPER BUNTING RETROSPOT\",\"POSTAGE\"],[\"SET/6 RED SPOTTY PAPER CUPS\",\"SET/6 RED SPOTTY PAPER PLATES\"],[\"RABBIT NIGHT LIGHT\",\"POSTAGE\"],[\"ALARM CLOCK BAKELIKE RED \",\"ALARM CLOCK BAKELIKE GREEN\"],[\"ALARM CLOCK BAKELIKE PINK\",\"ALARM CLOCK BAKELIKE RED \"],[\"CHILDRENS CUTLERY DOLLY GIRL \",\"CHILDRENS CUTLERY SPACEBOY \"],[\"RED TOADSTOOL LED NIGHT LIGHT\",\"POSTAGE\"],[\"ROUND SNACK BOXES SET OF 4 FRUITS \",\"POSTAGE\"],[\"COFFEE MUG APPLES DESIGN\",\"POSTAGE\"],[\"PLASTERS IN TIN CIRCUS PARADE \",\"POSTAGE\"],[\"SET/6 RED SPOTTY PAPER CUPS\",\"POSTAGE\"],[\"LUNCH BAG WOODLAND\",\"POSTAGE\"],[\"POSTAGE\",\"ALARM CLOCK BAKELIKE RED \"],[\"ALARM CLOCK BAKELIKE GREEN\",\"POSTAGE\"],[\"JUMBO BAG RED RETROSPOT\",\"POSTAGE\"],[\"RED RETROSPOT CHARLOTTE BAG\",\"POSTAGE\"],[\"SET/6 RED SPOTTY PAPER PLATES\",\"POSTAGE\"],[\"ALARM CLOCK BAKELIKE RED \",\"ALARM CLOCK BAKELIKE GREEN\"],[\"SET/10 RED POLKADOT PARTY CANDLES\",\"POSTAGE\"],[\"SET/6 RED SPOTTY PAPER PLATES\",\"POSTAGE\"],[\"ALARM CLOCK BAKELIKE PINK\",\"POSTAGE\"],[\"SET/20 RED RETROSPOT PAPER NAPKINS \",\"POSTAGE\"],[\"PACK OF 72 RETROSPOT CAKE CASES\",\"POSTAGE\"],[\"SET/20 RED RETROSPOT PAPER NAPKINS \",\"POSTAGE\"],[\"PLASTERS IN TIN WOODLAND ANIMALS\",\"POSTAGE\"],[\"SET/6 RED SPOTTY PAPER PLATES\",\"POSTAGE\"],[\"ALARM CLOCK BAKELIKE RED \",\"ALARM CLOCK BAKELIKE GREEN\"],[\"SET/6 RED SPOTTY PAPER PLATES\",\"POSTAGE\"],[\"LUNCH BAG APPLE DESIGN\",\"POSTAGE\"],[\"RED RETROSPOT MINI CASES\",\"POSTAGE\"],[\"PLASTERS IN TIN SPACEBOY\",\"POSTAGE\"],[\"SET/6 RED SPOTTY PAPER PLATES\",\"SET/20 RED RETROSPOT PAPER NAPKINS \"],[\"ALARM CLOCK BAKELIKE RED \",\"ALARM CLOCK BAKELIKE PINK\"],[\"PLASTERS IN TIN WOODLAND ANIMALS\",\"POSTAGE\"],[\"PLASTERS IN TIN CIRCUS PARADE \",\"POSTAGE\"],[\"PLASTERS IN TIN WOODLAND ANIMALS\",\"POSTAGE\"],[\"SET/20 RED RETROSPOT PAPER NAPKINS \",\"SET/6 RED SPOTTY PAPER PLATES\"],[\"SET/6 RED SPOTTY PAPER PLATES\",\"SET/6 RED SPOTTY PAPER CUPS\"],[\"SET/6 RED SPOTTY PAPER PLATES\",\"SET/20 RED RETROSPOT PAPER NAPKINS \"],[\"SET/6 RED SPOTTY PAPER PLATES\",\"SET/6 RED SPOTTY PAPER CUPS\"],[\"SET/6 RED SPOTTY PAPER PLATES\",\"SET/20 RED RETROSPOT PAPER NAPKINS \"],[\"ALARM CLOCK BAKELIKE GREEN\",\"ALARM CLOCK BAKELIKE RED \"],[\"LUNCH BOX WITH CUTLERY RETROSPOT \",\"POSTAGE\"],[\"LUNCH BAG RED RETROSPOT\",\"POSTAGE\"],[\"SET/6 RED SPOTTY PAPER PLATES\",\"SET/20 RED RETROSPOT PAPER NAPKINS \"],[\"ALARM CLOCK BAKELIKE RED \",\"ALARM CLOCK BAKELIKE PINK\"],[\"PLASTERS IN TIN STRONGMAN\",\"POSTAGE\"],[\"MINI PAINT SET VINTAGE \",\"POSTAGE\"],[\"SET/6 RED SPOTTY PAPER PLATES\",\"SET/20 RED RETROSPOT PAPER NAPKINS \"],[\"REGENCY CAKESTAND 3 TIER\",\"POSTAGE\"],[\"SPACEBOY LUNCH BOX \",\"POSTAGE\"],[\"SET/20 RED RETROSPOT PAPER NAPKINS \",\"SET/6 RED SPOTTY PAPER PLATES\"],[\"SET/20 RED RETROSPOT PAPER NAPKINS \",\"SET/6 RED SPOTTY PAPER CUPS\"],[\"SET/20 RED RETROSPOT PAPER NAPKINS \",\"SET/6 RED SPOTTY PAPER CUPS\"],[\"SET/20 RED RETROSPOT PAPER NAPKINS \",\"SET/6 RED SPOTTY PAPER PLATES\"],[\"ALARM CLOCK BAKELIKE RED \",\"ALARM CLOCK BAKELIKE PINK\"],[\"SET/6 RED SPOTTY PAPER PLATES\",\"SET/20 RED RETROSPOT PAPER NAPKINS \"],[\"ALARM CLOCK BAKELIKE RED \",\"POSTAGE\"],[\"LUNCH BAG SPACEBOY DESIGN \",\"POSTAGE\"],[\"SET/20 RED RETROSPOT PAPER NAPKINS \",\"SET/6 RED SPOTTY PAPER PLATES\"],[\"PLASTERS IN TIN CIRCUS PARADE \",\"PLASTERS IN TIN WOODLAND ANIMALS\"],[\"PLASTERS IN TIN SPACEBOY\",\"PLASTERS IN TIN WOODLAND ANIMALS\"],[\"SET/20 RED RETROSPOT PAPER NAPKINS \",\"SET/6 RED SPOTTY PAPER PLATES\"],[\"ALARM CLOCK BAKELIKE GREEN\",\"ALARM CLOCK BAKELIKE PINK\"],[\"ALARM CLOCK BAKELIKE PINK\",\"ALARM CLOCK BAKELIKE RED \"],[\"SET/6 RED SPOTTY PAPER CUPS\",\"SET/20 RED RETROSPOT PAPER NAPKINS \"],[\"SET/6 RED SPOTTY PAPER CUPS\",\"SET/6 RED SPOTTY PAPER PLATES\"],[\"PLASTERS IN TIN SPACEBOY\",\"PLASTERS IN TIN WOODLAND ANIMALS\"],[\"POSTAGE\",\"ALARM CLOCK BAKELIKE PINK\"],[\"DOLLY GIRL LUNCH BOX\",\"POSTAGE\"],[\"ALARM CLOCK BAKELIKE PINK\",\"ALARM CLOCK BAKELIKE RED \"],[\"ALARM CLOCK BAKELIKE PINK\",\"ALARM CLOCK BAKELIKE GREEN\"],[\"SET/6 RED SPOTTY PAPER CUPS\",\"SET/6 RED SPOTTY PAPER PLATES\"],[\"ALARM CLOCK BAKELIKE GREEN\",\"ALARM CLOCK BAKELIKE RED \"],[\"SET/6 RED SPOTTY PAPER CUPS\",\"SET/20 RED RETROSPOT PAPER NAPKINS \"],[\"ALARM CLOCK BAKELIKE RED \",\"ALARM CLOCK BAKELIKE PINK\"],[\"DOLLY GIRL LUNCH BOX\",\"SPACEBOY LUNCH BOX \"]],\"hovertemplate\":\"support=%{x}<br>confidence=%{y}<br>lift=%{z}<br>antecedents=%{customdata[0]}<br>consequents=%{customdata[1]}<br>antecedent support=%{marker.color}<extra></extra>\",\"legendgroup\":\"\",\"marker\":{\"color\":[0.0651,0.0868,0.0868,0.0716,0.0716,0.0564,0.0542,0.1085,0.0911,0.0803,0.1041,0.0629,0.0586,0.0586,0.0586,0.0564,0.0803,0.1388,0.0672,0.0629,0.0629,0.1171,0.0868,0.0694,0.0998,0.1627,0.0629,0.0629,0.0629,0.1562,0.0933,0.0607,0.1475,0.1171,0.102,0.0716,0.0846,0.0824,0.0824,0.1085,0.0803,0.0651,0.1041,0.0629,0.1128,0.0868,0.0868,0.0868,0.0868,0.0738,0.0846,0.1085,0.1193,0.1193,0.1041,0.0672,0.1453,0.0781,0.0889,0.0868,0.0868,0.0868,0.1085,0.1085,0.0846,0.1236,0.1323,0.0911,0.0803,0.0694,0.0889,0.1085,0.1171,0.1063,0.1128,0.1128,0.0933,0.0933,0.0738,0.0911,0.0803,0.1041,0.1128,0.0781,0.1193,0.0933,0.0846,0.0759,0.1171,0.1171,0.0976,0.0716,0.0868,0.0868,0.0868,0.1171,0.0846,0.0998,0.0803,0.0868],\"coloraxis\":\"coloraxis\",\"opacity\":0.7,\"symbol\":\"circle\"},\"mode\":\"markers\",\"name\":\"\",\"scene\":\"scene\",\"showlegend\":false,\"type\":\"scatter3d\",\"x\":[0.0651,0.0846,0.0846,0.0694,0.0694,0.0542,0.0521,0.1041,0.0868,0.0759,0.0976,0.0586,0.0542,0.0542,0.0542,0.0521,0.0738,0.1258,0.0607,0.0564,0.0564,0.1041,0.0759,0.0607,0.0868,0.141,0.0542,0.0542,0.0542,0.1345,0.0803,0.0521,0.1258,0.0998,0.0868,0.0607,0.0716,0.0694,0.0694,0.0911,0.0672,0.0542,0.0868,0.0521,0.0933,0.0716,0.0716,0.0716,0.0716,0.0607,0.0694,0.0889,0.0976,0.0976,0.0846,0.0542,0.1171,0.0629,0.0716,0.0694,0.0694,0.0694,0.0868,0.0868,0.0672,0.0976,0.1041,0.0716,0.0629,0.0542,0.0694,0.0846,0.0911,0.0824,0.0868,0.0868,0.0716,0.0716,0.0564,0.0694,0.0607,0.0781,0.0846,0.0586,0.0889,0.0694,0.0629,0.0564,0.0868,0.0868,0.0716,0.0521,0.0629,0.0629,0.0629,0.0846,0.0607,0.0716,0.0564,0.0607],\"y\":[1.0,0.975,0.975,0.9697,0.9697,0.9615,0.96,0.96,0.9524,0.9459,0.9375,0.931,0.9259,0.9259,0.9259,0.9231,0.9189,0.9063,0.9032,0.8966,0.8966,0.8889,0.875,0.875,0.8696,0.8667,0.8621,0.8621,0.8621,0.8611,0.8605,0.8571,0.8529,0.8519,0.8511,0.8485,0.8462,0.8421,0.8421,0.84,0.8378,0.8333,0.8333,0.8276,0.8269,0.825,0.825,0.825,0.825,0.8235,0.8205,0.82,0.8182,0.8182,0.8125,0.8065,0.806,0.8056,0.8049,0.8,0.8,0.8,0.8,0.8,0.7949,0.7895,0.7869,0.7857,0.7838,0.7812,0.7805,0.78,0.7778,0.7755,0.7692,0.7692,0.7674,0.7674,0.7647,0.7619,0.7568,0.75,0.75,0.75,0.7455,0.7442,0.7436,0.7429,0.7407,0.7407,0.7333,0.7273,0.725,0.725,0.725,0.7222,0.7179,0.7174,0.7027,0.7],\"z\":[1.4823,8.3236,8.9895,8.2783,8.9406,1.4253,1.423,8.1956,8.1305,1.4022,1.3897,1.3801,14.719,1.3725,1.3725,1.3683,1.3621,1.3433,1.3389,1.329,1.329,8.1956,1.297,1.297,8.0174,1.2847,10.1901,10.7409,14.719,1.2764,1.2755,1.2706,1.2643,1.2627,1.2615,10.5717,1.2543,1.2483,1.2483,1.2451,9.9037,1.2353,1.2353,1.2267,1.2258,1.2229,1.2229,1.2229,1.2229,9.7345,1.2163,1.2155,1.2128,1.2128,7.2031,9.2944,1.1947,1.1941,1.1931,8.781,8.0174,7.0923,8.0174,7.0923,9.9037,1.1702,1.1664,6.9657,9.0331,1.1581,1.1569,8.9895,1.1529,1.1496,7.0923,6.567,6.5517,7.0758,8.8132,8.781,10.5717,1.1117,7.2031,5.1604,5.1292,7.1473,8.5699,9.2556,6.567,8.1305,5.0458,8.3818,1.0747,9.0331,8.5699,8.3236,9.7345,6.3599,9.2556,6.5857]}],                        {\"coloraxis\":{\"colorbar\":{\"title\":{\"text\":\"antecedent support\"}},\"colorscale\":[[0.0,\"#0d0887\"],[0.1111111111111111,\"#46039f\"],[0.2222222222222222,\"#7201a8\"],[0.3333333333333333,\"#9c179e\"],[0.4444444444444444,\"#bd3786\"],[0.5555555555555556,\"#d8576b\"],[0.6666666666666666,\"#ed7953\"],[0.7777777777777778,\"#fb9f3a\"],[0.8888888888888888,\"#fdca26\"],[1.0,\"#f0f921\"]]},\"height\":800,\"legend\":{\"tracegroupgap\":0},\"scene\":{\"domain\":{\"x\":[0.0,1.0],\"y\":[0.0,1.0]},\"xaxis\":{\"title\":{\"text\":\"support\"}},\"yaxis\":{\"title\":{\"text\":\"confidence\"}},\"zaxis\":{\"title\":{\"text\":\"lift\"}}},\"template\":{\"data\":{\"bar\":[{\"error_x\":{\"color\":\"#2a3f5f\"},\"error_y\":{\"color\":\"#2a3f5f\"},\"marker\":{\"line\":{\"color\":\"#E5ECF6\",\"width\":0.5},\"pattern\":{\"fillmode\":\"overlay\",\"size\":10,\"solidity\":0.2}},\"type\":\"bar\"}],\"barpolar\":[{\"marker\":{\"line\":{\"color\":\"#E5ECF6\",\"width\":0.5},\"pattern\":{\"fillmode\":\"overlay\",\"size\":10,\"solidity\":0.2}},\"type\":\"barpolar\"}],\"carpet\":[{\"aaxis\":{\"endlinecolor\":\"#2a3f5f\",\"gridcolor\":\"white\",\"linecolor\":\"white\",\"minorgridcolor\":\"white\",\"startlinecolor\":\"#2a3f5f\"},\"baxis\":{\"endlinecolor\":\"#2a3f5f\",\"gridcolor\":\"white\",\"linecolor\":\"white\",\"minorgridcolor\":\"white\",\"startlinecolor\":\"#2a3f5f\"},\"type\":\"carpet\"}],\"choropleth\":[{\"colorbar\":{\"outlinewidth\":0,\"ticks\":\"\"},\"type\":\"choropleth\"}],\"contour\":[{\"colorbar\":{\"outlinewidth\":0,\"ticks\":\"\"},\"colorscale\":[[0.0,\"#0d0887\"],[0.1111111111111111,\"#46039f\"],[0.2222222222222222,\"#7201a8\"],[0.3333333333333333,\"#9c179e\"],[0.4444444444444444,\"#bd3786\"],[0.5555555555555556,\"#d8576b\"],[0.6666666666666666,\"#ed7953\"],[0.7777777777777778,\"#fb9f3a\"],[0.8888888888888888,\"#fdca26\"],[1.0,\"#f0f921\"]],\"type\":\"contour\"}],\"contourcarpet\":[{\"colorbar\":{\"outlinewidth\":0,\"ticks\":\"\"},\"type\":\"contourcarpet\"}],\"heatmap\":[{\"colorbar\":{\"outlinewidth\":0,\"ticks\":\"\"},\"colorscale\":[[0.0,\"#0d0887\"],[0.1111111111111111,\"#46039f\"],[0.2222222222222222,\"#7201a8\"],[0.3333333333333333,\"#9c179e\"],[0.4444444444444444,\"#bd3786\"],[0.5555555555555556,\"#d8576b\"],[0.6666666666666666,\"#ed7953\"],[0.7777777777777778,\"#fb9f3a\"],[0.8888888888888888,\"#fdca26\"],[1.0,\"#f0f921\"]],\"type\":\"heatmap\"}],\"heatmapgl\":[{\"colorbar\":{\"outlinewidth\":0,\"ticks\":\"\"},\"colorscale\":[[0.0,\"#0d0887\"],[0.1111111111111111,\"#46039f\"],[0.2222222222222222,\"#7201a8\"],[0.3333333333333333,\"#9c179e\"],[0.4444444444444444,\"#bd3786\"],[0.5555555555555556,\"#d8576b\"],[0.6666666666666666,\"#ed7953\"],[0.7777777777777778,\"#fb9f3a\"],[0.8888888888888888,\"#fdca26\"],[1.0,\"#f0f921\"]],\"type\":\"heatmapgl\"}],\"histogram\":[{\"marker\":{\"pattern\":{\"fillmode\":\"overlay\",\"size\":10,\"solidity\":0.2}},\"type\":\"histogram\"}],\"histogram2d\":[{\"colorbar\":{\"outlinewidth\":0,\"ticks\":\"\"},\"colorscale\":[[0.0,\"#0d0887\"],[0.1111111111111111,\"#46039f\"],[0.2222222222222222,\"#7201a8\"],[0.3333333333333333,\"#9c179e\"],[0.4444444444444444,\"#bd3786\"],[0.5555555555555556,\"#d8576b\"],[0.6666666666666666,\"#ed7953\"],[0.7777777777777778,\"#fb9f3a\"],[0.8888888888888888,\"#fdca26\"],[1.0,\"#f0f921\"]],\"type\":\"histogram2d\"}],\"histogram2dcontour\":[{\"colorbar\":{\"outlinewidth\":0,\"ticks\":\"\"},\"colorscale\":[[0.0,\"#0d0887\"],[0.1111111111111111,\"#46039f\"],[0.2222222222222222,\"#7201a8\"],[0.3333333333333333,\"#9c179e\"],[0.4444444444444444,\"#bd3786\"],[0.5555555555555556,\"#d8576b\"],[0.6666666666666666,\"#ed7953\"],[0.7777777777777778,\"#fb9f3a\"],[0.8888888888888888,\"#fdca26\"],[1.0,\"#f0f921\"]],\"type\":\"histogram2dcontour\"}],\"mesh3d\":[{\"colorbar\":{\"outlinewidth\":0,\"ticks\":\"\"},\"type\":\"mesh3d\"}],\"parcoords\":[{\"line\":{\"colorbar\":{\"outlinewidth\":0,\"ticks\":\"\"}},\"type\":\"parcoords\"}],\"pie\":[{\"automargin\":true,\"type\":\"pie\"}],\"scatter\":[{\"marker\":{\"colorbar\":{\"outlinewidth\":0,\"ticks\":\"\"}},\"type\":\"scatter\"}],\"scatter3d\":[{\"line\":{\"colorbar\":{\"outlinewidth\":0,\"ticks\":\"\"}},\"marker\":{\"colorbar\":{\"outlinewidth\":0,\"ticks\":\"\"}},\"type\":\"scatter3d\"}],\"scattercarpet\":[{\"marker\":{\"colorbar\":{\"outlinewidth\":0,\"ticks\":\"\"}},\"type\":\"scattercarpet\"}],\"scattergeo\":[{\"marker\":{\"colorbar\":{\"outlinewidth\":0,\"ticks\":\"\"}},\"type\":\"scattergeo\"}],\"scattergl\":[{\"marker\":{\"colorbar\":{\"outlinewidth\":0,\"ticks\":\"\"}},\"type\":\"scattergl\"}],\"scattermapbox\":[{\"marker\":{\"colorbar\":{\"outlinewidth\":0,\"ticks\":\"\"}},\"type\":\"scattermapbox\"}],\"scatterpolar\":[{\"marker\":{\"colorbar\":{\"outlinewidth\":0,\"ticks\":\"\"}},\"type\":\"scatterpolar\"}],\"scatterpolargl\":[{\"marker\":{\"colorbar\":{\"outlinewidth\":0,\"ticks\":\"\"}},\"type\":\"scatterpolargl\"}],\"scatterternary\":[{\"marker\":{\"colorbar\":{\"outlinewidth\":0,\"ticks\":\"\"}},\"type\":\"scatterternary\"}],\"surface\":[{\"colorbar\":{\"outlinewidth\":0,\"ticks\":\"\"},\"colorscale\":[[0.0,\"#0d0887\"],[0.1111111111111111,\"#46039f\"],[0.2222222222222222,\"#7201a8\"],[0.3333333333333333,\"#9c179e\"],[0.4444444444444444,\"#bd3786\"],[0.5555555555555556,\"#d8576b\"],[0.6666666666666666,\"#ed7953\"],[0.7777777777777778,\"#fb9f3a\"],[0.8888888888888888,\"#fdca26\"],[1.0,\"#f0f921\"]],\"type\":\"surface\"}],\"table\":[{\"cells\":{\"fill\":{\"color\":\"#EBF0F8\"},\"line\":{\"color\":\"white\"}},\"header\":{\"fill\":{\"color\":\"#C8D4E3\"},\"line\":{\"color\":\"white\"}},\"type\":\"table\"}]},\"layout\":{\"annotationdefaults\":{\"arrowcolor\":\"#2a3f5f\",\"arrowhead\":0,\"arrowwidth\":1},\"autotypenumbers\":\"strict\",\"coloraxis\":{\"colorbar\":{\"outlinewidth\":0,\"ticks\":\"\"}},\"colorscale\":{\"diverging\":[[0,\"#8e0152\"],[0.1,\"#c51b7d\"],[0.2,\"#de77ae\"],[0.3,\"#f1b6da\"],[0.4,\"#fde0ef\"],[0.5,\"#f7f7f7\"],[0.6,\"#e6f5d0\"],[0.7,\"#b8e186\"],[0.8,\"#7fbc41\"],[0.9,\"#4d9221\"],[1,\"#276419\"]],\"sequential\":[[0.0,\"#0d0887\"],[0.1111111111111111,\"#46039f\"],[0.2222222222222222,\"#7201a8\"],[0.3333333333333333,\"#9c179e\"],[0.4444444444444444,\"#bd3786\"],[0.5555555555555556,\"#d8576b\"],[0.6666666666666666,\"#ed7953\"],[0.7777777777777778,\"#fb9f3a\"],[0.8888888888888888,\"#fdca26\"],[1.0,\"#f0f921\"]],\"sequentialminus\":[[0.0,\"#0d0887\"],[0.1111111111111111,\"#46039f\"],[0.2222222222222222,\"#7201a8\"],[0.3333333333333333,\"#9c179e\"],[0.4444444444444444,\"#bd3786\"],[0.5555555555555556,\"#d8576b\"],[0.6666666666666666,\"#ed7953\"],[0.7777777777777778,\"#fb9f3a\"],[0.8888888888888888,\"#fdca26\"],[1.0,\"#f0f921\"]]},\"colorway\":[\"#636efa\",\"#EF553B\",\"#00cc96\",\"#ab63fa\",\"#FFA15A\",\"#19d3f3\",\"#FF6692\",\"#B6E880\",\"#FF97FF\",\"#FECB52\"],\"font\":{\"color\":\"#2a3f5f\"},\"geo\":{\"bgcolor\":\"white\",\"lakecolor\":\"white\",\"landcolor\":\"#E5ECF6\",\"showlakes\":true,\"showland\":true,\"subunitcolor\":\"white\"},\"hoverlabel\":{\"align\":\"left\"},\"hovermode\":\"closest\",\"mapbox\":{\"style\":\"light\"},\"paper_bgcolor\":\"white\",\"plot_bgcolor\":\"#E5ECF6\",\"polar\":{\"angularaxis\":{\"gridcolor\":\"white\",\"linecolor\":\"white\",\"ticks\":\"\"},\"bgcolor\":\"#E5ECF6\",\"radialaxis\":{\"gridcolor\":\"white\",\"linecolor\":\"white\",\"ticks\":\"\"}},\"scene\":{\"xaxis\":{\"backgroundcolor\":\"#E5ECF6\",\"gridcolor\":\"white\",\"gridwidth\":2,\"linecolor\":\"white\",\"showbackground\":true,\"ticks\":\"\",\"zerolinecolor\":\"white\"},\"yaxis\":{\"backgroundcolor\":\"#E5ECF6\",\"gridcolor\":\"white\",\"gridwidth\":2,\"linecolor\":\"white\",\"showbackground\":true,\"ticks\":\"\",\"zerolinecolor\":\"white\"},\"zaxis\":{\"backgroundcolor\":\"#E5ECF6\",\"gridcolor\":\"white\",\"gridwidth\":2,\"linecolor\":\"white\",\"showbackground\":true,\"ticks\":\"\",\"zerolinecolor\":\"white\"}},\"shapedefaults\":{\"line\":{\"color\":\"#2a3f5f\"}},\"ternary\":{\"aaxis\":{\"gridcolor\":\"white\",\"linecolor\":\"white\",\"ticks\":\"\"},\"baxis\":{\"gridcolor\":\"white\",\"linecolor\":\"white\",\"ticks\":\"\"},\"bgcolor\":\"#E5ECF6\",\"caxis\":{\"gridcolor\":\"white\",\"linecolor\":\"white\",\"ticks\":\"\"}},\"title\":{\"x\":0.05},\"xaxis\":{\"automargin\":true,\"gridcolor\":\"white\",\"linecolor\":\"white\",\"ticks\":\"\",\"title\":{\"standoff\":15},\"zerolinecolor\":\"white\",\"zerolinewidth\":2},\"yaxis\":{\"automargin\":true,\"gridcolor\":\"white\",\"linecolor\":\"white\",\"ticks\":\"\",\"title\":{\"standoff\":15},\"zerolinecolor\":\"white\",\"zerolinewidth\":2}}},\"title\":{\"text\":\"3d Plot for Rule Mining\"},\"width\":900},                        {\"responsive\": true}                    ).then(function(){\n",
       "                            \n",
       "var gd = document.getElementById('c410d21f-9eb2-461b-a22b-3bd4ac8e35b3');\n",
       "var x = new MutationObserver(function (mutations, observer) {{\n",
       "        var display = window.getComputedStyle(gd).display;\n",
       "        if (!display || display === 'none') {{\n",
       "            console.log([gd, 'removed!']);\n",
       "            Plotly.purge(gd);\n",
       "            observer.disconnect();\n",
       "        }}\n",
       "}});\n",
       "\n",
       "// Listen for the removal of the full notebook cells\n",
       "var notebookContainer = gd.closest('#notebook-container');\n",
       "if (notebookContainer) {{\n",
       "    x.observe(notebookContainer, {childList: true});\n",
       "}}\n",
       "\n",
       "// Listen for the clearing of the current output cell\n",
       "var outputEl = gd.closest('.output');\n",
       "if (outputEl) {{\n",
       "    x.observe(outputEl, {childList: true});\n",
       "}}\n",
       "\n",
       "                        })                };                });            </script>        </div>"
      ],
      "application/vnd.plotly.v1+json": {
       "config": {
        "plotlyServerURL": "https://plot.ly"
       },
       "data": [
        {
         "customdata": [
          [
           "JUMBO BAG WOODLAND ANIMALS",
           "POSTAGE"
          ],
          [
           "SET/6 RED SPOTTY PAPER PLATES",
           "SET/6 RED SPOTTY PAPER CUPS"
          ],
          [
           "SET/20 RED RETROSPOT PAPER NAPKINS ",
           "SET/6 RED SPOTTY PAPER PLATES"
          ],
          [
           "SET/6 RED SPOTTY PAPER PLATES",
           "SET/6 RED SPOTTY PAPER CUPS"
          ],
          [
           "SET/20 RED RETROSPOT PAPER NAPKINS ",
           "SET/6 RED SPOTTY PAPER PLATES"
          ],
          [
           "SET OF 9 BLACK SKULL BALLOONS",
           "POSTAGE"
          ],
          [
           "PACK OF 6 SKULL PAPER CUPS",
           "POSTAGE"
          ],
          [
           "SET/6 RED SPOTTY PAPER PLATES",
           "SET/6 RED SPOTTY PAPER CUPS"
          ],
          [
           "SET/6 RED SPOTTY PAPER PLATES",
           "SET/6 RED SPOTTY PAPER CUPS"
          ],
          [
           "TEA PARTY BIRTHDAY CARD",
           "POSTAGE"
          ],
          [
           "STRAWBERRY LUNCH BOX WITH CUTLERY",
           "POSTAGE"
          ],
          [
           "RED RETROSPOT PICNIC BAG",
           "POSTAGE"
          ],
          [
           "CHILDRENS CUTLERY SPACEBOY ",
           "CHILDRENS CUTLERY DOLLY GIRL "
          ],
          [
           "SET OF 2 TEA TOWELS APPLE AND PEARS",
           "POSTAGE"
          ],
          [
           "ASSORTED COLOUR MINI CASES",
           "POSTAGE"
          ],
          [
           "LUNCH BAG APPLE DESIGN",
           "POSTAGE"
          ],
          [
           "ALARM CLOCK BAKELIKE RED ",
           "POSTAGE"
          ],
          [
           "ROUND SNACK BOXES SET OF4 WOODLAND ",
           "POSTAGE"
          ],
          [
           "ALARM CLOCK BAKELIKE RED ",
           "POSTAGE"
          ],
          [
           "ALARM CLOCK BAKELIKE RED ",
           "POSTAGE"
          ],
          [
           "WOODLAND CHARLOTTE BAG",
           "POSTAGE"
          ],
          [
           "SET/6 RED SPOTTY PAPER CUPS",
           "SET/6 RED SPOTTY PAPER PLATES"
          ],
          [
           "ALARM CLOCK BAKELIKE PINK",
           "POSTAGE"
          ],
          [
           "PAPER BUNTING RETROSPOT",
           "POSTAGE"
          ],
          [
           "SET/6 RED SPOTTY PAPER CUPS",
           "SET/6 RED SPOTTY PAPER PLATES"
          ],
          [
           "RABBIT NIGHT LIGHT",
           "POSTAGE"
          ],
          [
           "ALARM CLOCK BAKELIKE RED ",
           "ALARM CLOCK BAKELIKE GREEN"
          ],
          [
           "ALARM CLOCK BAKELIKE PINK",
           "ALARM CLOCK BAKELIKE RED "
          ],
          [
           "CHILDRENS CUTLERY DOLLY GIRL ",
           "CHILDRENS CUTLERY SPACEBOY "
          ],
          [
           "RED TOADSTOOL LED NIGHT LIGHT",
           "POSTAGE"
          ],
          [
           "ROUND SNACK BOXES SET OF 4 FRUITS ",
           "POSTAGE"
          ],
          [
           "COFFEE MUG APPLES DESIGN",
           "POSTAGE"
          ],
          [
           "PLASTERS IN TIN CIRCUS PARADE ",
           "POSTAGE"
          ],
          [
           "SET/6 RED SPOTTY PAPER CUPS",
           "POSTAGE"
          ],
          [
           "LUNCH BAG WOODLAND",
           "POSTAGE"
          ],
          [
           "POSTAGE",
           "ALARM CLOCK BAKELIKE RED "
          ],
          [
           "ALARM CLOCK BAKELIKE GREEN",
           "POSTAGE"
          ],
          [
           "JUMBO BAG RED RETROSPOT",
           "POSTAGE"
          ],
          [
           "RED RETROSPOT CHARLOTTE BAG",
           "POSTAGE"
          ],
          [
           "SET/6 RED SPOTTY PAPER PLATES",
           "POSTAGE"
          ],
          [
           "ALARM CLOCK BAKELIKE RED ",
           "ALARM CLOCK BAKELIKE GREEN"
          ],
          [
           "SET/10 RED POLKADOT PARTY CANDLES",
           "POSTAGE"
          ],
          [
           "SET/6 RED SPOTTY PAPER PLATES",
           "POSTAGE"
          ],
          [
           "ALARM CLOCK BAKELIKE PINK",
           "POSTAGE"
          ],
          [
           "SET/20 RED RETROSPOT PAPER NAPKINS ",
           "POSTAGE"
          ],
          [
           "PACK OF 72 RETROSPOT CAKE CASES",
           "POSTAGE"
          ],
          [
           "SET/20 RED RETROSPOT PAPER NAPKINS ",
           "POSTAGE"
          ],
          [
           "PLASTERS IN TIN WOODLAND ANIMALS",
           "POSTAGE"
          ],
          [
           "SET/6 RED SPOTTY PAPER PLATES",
           "POSTAGE"
          ],
          [
           "ALARM CLOCK BAKELIKE RED ",
           "ALARM CLOCK BAKELIKE GREEN"
          ],
          [
           "SET/6 RED SPOTTY PAPER PLATES",
           "POSTAGE"
          ],
          [
           "LUNCH BAG APPLE DESIGN",
           "POSTAGE"
          ],
          [
           "RED RETROSPOT MINI CASES",
           "POSTAGE"
          ],
          [
           "PLASTERS IN TIN SPACEBOY",
           "POSTAGE"
          ],
          [
           "SET/6 RED SPOTTY PAPER PLATES",
           "SET/20 RED RETROSPOT PAPER NAPKINS "
          ],
          [
           "ALARM CLOCK BAKELIKE RED ",
           "ALARM CLOCK BAKELIKE PINK"
          ],
          [
           "PLASTERS IN TIN WOODLAND ANIMALS",
           "POSTAGE"
          ],
          [
           "PLASTERS IN TIN CIRCUS PARADE ",
           "POSTAGE"
          ],
          [
           "PLASTERS IN TIN WOODLAND ANIMALS",
           "POSTAGE"
          ],
          [
           "SET/20 RED RETROSPOT PAPER NAPKINS ",
           "SET/6 RED SPOTTY PAPER PLATES"
          ],
          [
           "SET/6 RED SPOTTY PAPER PLATES",
           "SET/6 RED SPOTTY PAPER CUPS"
          ],
          [
           "SET/6 RED SPOTTY PAPER PLATES",
           "SET/20 RED RETROSPOT PAPER NAPKINS "
          ],
          [
           "SET/6 RED SPOTTY PAPER PLATES",
           "SET/6 RED SPOTTY PAPER CUPS"
          ],
          [
           "SET/6 RED SPOTTY PAPER PLATES",
           "SET/20 RED RETROSPOT PAPER NAPKINS "
          ],
          [
           "ALARM CLOCK BAKELIKE GREEN",
           "ALARM CLOCK BAKELIKE RED "
          ],
          [
           "LUNCH BOX WITH CUTLERY RETROSPOT ",
           "POSTAGE"
          ],
          [
           "LUNCH BAG RED RETROSPOT",
           "POSTAGE"
          ],
          [
           "SET/6 RED SPOTTY PAPER PLATES",
           "SET/20 RED RETROSPOT PAPER NAPKINS "
          ],
          [
           "ALARM CLOCK BAKELIKE RED ",
           "ALARM CLOCK BAKELIKE PINK"
          ],
          [
           "PLASTERS IN TIN STRONGMAN",
           "POSTAGE"
          ],
          [
           "MINI PAINT SET VINTAGE ",
           "POSTAGE"
          ],
          [
           "SET/6 RED SPOTTY PAPER PLATES",
           "SET/20 RED RETROSPOT PAPER NAPKINS "
          ],
          [
           "REGENCY CAKESTAND 3 TIER",
           "POSTAGE"
          ],
          [
           "SPACEBOY LUNCH BOX ",
           "POSTAGE"
          ],
          [
           "SET/20 RED RETROSPOT PAPER NAPKINS ",
           "SET/6 RED SPOTTY PAPER PLATES"
          ],
          [
           "SET/20 RED RETROSPOT PAPER NAPKINS ",
           "SET/6 RED SPOTTY PAPER CUPS"
          ],
          [
           "SET/20 RED RETROSPOT PAPER NAPKINS ",
           "SET/6 RED SPOTTY PAPER CUPS"
          ],
          [
           "SET/20 RED RETROSPOT PAPER NAPKINS ",
           "SET/6 RED SPOTTY PAPER PLATES"
          ],
          [
           "ALARM CLOCK BAKELIKE RED ",
           "ALARM CLOCK BAKELIKE PINK"
          ],
          [
           "SET/6 RED SPOTTY PAPER PLATES",
           "SET/20 RED RETROSPOT PAPER NAPKINS "
          ],
          [
           "ALARM CLOCK BAKELIKE RED ",
           "POSTAGE"
          ],
          [
           "LUNCH BAG SPACEBOY DESIGN ",
           "POSTAGE"
          ],
          [
           "SET/20 RED RETROSPOT PAPER NAPKINS ",
           "SET/6 RED SPOTTY PAPER PLATES"
          ],
          [
           "PLASTERS IN TIN CIRCUS PARADE ",
           "PLASTERS IN TIN WOODLAND ANIMALS"
          ],
          [
           "PLASTERS IN TIN SPACEBOY",
           "PLASTERS IN TIN WOODLAND ANIMALS"
          ],
          [
           "SET/20 RED RETROSPOT PAPER NAPKINS ",
           "SET/6 RED SPOTTY PAPER PLATES"
          ],
          [
           "ALARM CLOCK BAKELIKE GREEN",
           "ALARM CLOCK BAKELIKE PINK"
          ],
          [
           "ALARM CLOCK BAKELIKE PINK",
           "ALARM CLOCK BAKELIKE RED "
          ],
          [
           "SET/6 RED SPOTTY PAPER CUPS",
           "SET/20 RED RETROSPOT PAPER NAPKINS "
          ],
          [
           "SET/6 RED SPOTTY PAPER CUPS",
           "SET/6 RED SPOTTY PAPER PLATES"
          ],
          [
           "PLASTERS IN TIN SPACEBOY",
           "PLASTERS IN TIN WOODLAND ANIMALS"
          ],
          [
           "POSTAGE",
           "ALARM CLOCK BAKELIKE PINK"
          ],
          [
           "DOLLY GIRL LUNCH BOX",
           "POSTAGE"
          ],
          [
           "ALARM CLOCK BAKELIKE PINK",
           "ALARM CLOCK BAKELIKE RED "
          ],
          [
           "ALARM CLOCK BAKELIKE PINK",
           "ALARM CLOCK BAKELIKE GREEN"
          ],
          [
           "SET/6 RED SPOTTY PAPER CUPS",
           "SET/6 RED SPOTTY PAPER PLATES"
          ],
          [
           "ALARM CLOCK BAKELIKE GREEN",
           "ALARM CLOCK BAKELIKE RED "
          ],
          [
           "SET/6 RED SPOTTY PAPER CUPS",
           "SET/20 RED RETROSPOT PAPER NAPKINS "
          ],
          [
           "ALARM CLOCK BAKELIKE RED ",
           "ALARM CLOCK BAKELIKE PINK"
          ],
          [
           "DOLLY GIRL LUNCH BOX",
           "SPACEBOY LUNCH BOX "
          ]
         ],
         "hovertemplate": "support=%{x}<br>confidence=%{y}<br>lift=%{z}<br>antecedents=%{customdata[0]}<br>consequents=%{customdata[1]}<br>antecedent support=%{marker.color}<extra></extra>",
         "legendgroup": "",
         "marker": {
          "color": [
           0.0651,
           0.0868,
           0.0868,
           0.0716,
           0.0716,
           0.0564,
           0.0542,
           0.1085,
           0.0911,
           0.0803,
           0.1041,
           0.0629,
           0.0586,
           0.0586,
           0.0586,
           0.0564,
           0.0803,
           0.1388,
           0.0672,
           0.0629,
           0.0629,
           0.1171,
           0.0868,
           0.0694,
           0.0998,
           0.1627,
           0.0629,
           0.0629,
           0.0629,
           0.1562,
           0.0933,
           0.0607,
           0.1475,
           0.1171,
           0.102,
           0.0716,
           0.0846,
           0.0824,
           0.0824,
           0.1085,
           0.0803,
           0.0651,
           0.1041,
           0.0629,
           0.1128,
           0.0868,
           0.0868,
           0.0868,
           0.0868,
           0.0738,
           0.0846,
           0.1085,
           0.1193,
           0.1193,
           0.1041,
           0.0672,
           0.1453,
           0.0781,
           0.0889,
           0.0868,
           0.0868,
           0.0868,
           0.1085,
           0.1085,
           0.0846,
           0.1236,
           0.1323,
           0.0911,
           0.0803,
           0.0694,
           0.0889,
           0.1085,
           0.1171,
           0.1063,
           0.1128,
           0.1128,
           0.0933,
           0.0933,
           0.0738,
           0.0911,
           0.0803,
           0.1041,
           0.1128,
           0.0781,
           0.1193,
           0.0933,
           0.0846,
           0.0759,
           0.1171,
           0.1171,
           0.0976,
           0.0716,
           0.0868,
           0.0868,
           0.0868,
           0.1171,
           0.0846,
           0.0998,
           0.0803,
           0.0868
          ],
          "coloraxis": "coloraxis",
          "opacity": 0.7,
          "symbol": "circle"
         },
         "mode": "markers",
         "name": "",
         "scene": "scene",
         "showlegend": false,
         "type": "scatter3d",
         "x": [
          0.0651,
          0.0846,
          0.0846,
          0.0694,
          0.0694,
          0.0542,
          0.0521,
          0.1041,
          0.0868,
          0.0759,
          0.0976,
          0.0586,
          0.0542,
          0.0542,
          0.0542,
          0.0521,
          0.0738,
          0.1258,
          0.0607,
          0.0564,
          0.0564,
          0.1041,
          0.0759,
          0.0607,
          0.0868,
          0.141,
          0.0542,
          0.0542,
          0.0542,
          0.1345,
          0.0803,
          0.0521,
          0.1258,
          0.0998,
          0.0868,
          0.0607,
          0.0716,
          0.0694,
          0.0694,
          0.0911,
          0.0672,
          0.0542,
          0.0868,
          0.0521,
          0.0933,
          0.0716,
          0.0716,
          0.0716,
          0.0716,
          0.0607,
          0.0694,
          0.0889,
          0.0976,
          0.0976,
          0.0846,
          0.0542,
          0.1171,
          0.0629,
          0.0716,
          0.0694,
          0.0694,
          0.0694,
          0.0868,
          0.0868,
          0.0672,
          0.0976,
          0.1041,
          0.0716,
          0.0629,
          0.0542,
          0.0694,
          0.0846,
          0.0911,
          0.0824,
          0.0868,
          0.0868,
          0.0716,
          0.0716,
          0.0564,
          0.0694,
          0.0607,
          0.0781,
          0.0846,
          0.0586,
          0.0889,
          0.0694,
          0.0629,
          0.0564,
          0.0868,
          0.0868,
          0.0716,
          0.0521,
          0.0629,
          0.0629,
          0.0629,
          0.0846,
          0.0607,
          0.0716,
          0.0564,
          0.0607
         ],
         "y": [
          1,
          0.975,
          0.975,
          0.9697,
          0.9697,
          0.9615,
          0.96,
          0.96,
          0.9524,
          0.9459,
          0.9375,
          0.931,
          0.9259,
          0.9259,
          0.9259,
          0.9231,
          0.9189,
          0.9063,
          0.9032,
          0.8966,
          0.8966,
          0.8889,
          0.875,
          0.875,
          0.8696,
          0.8667,
          0.8621,
          0.8621,
          0.8621,
          0.8611,
          0.8605,
          0.8571,
          0.8529,
          0.8519,
          0.8511,
          0.8485,
          0.8462,
          0.8421,
          0.8421,
          0.84,
          0.8378,
          0.8333,
          0.8333,
          0.8276,
          0.8269,
          0.825,
          0.825,
          0.825,
          0.825,
          0.8235,
          0.8205,
          0.82,
          0.8182,
          0.8182,
          0.8125,
          0.8065,
          0.806,
          0.8056,
          0.8049,
          0.8,
          0.8,
          0.8,
          0.8,
          0.8,
          0.7949,
          0.7895,
          0.7869,
          0.7857,
          0.7838,
          0.7812,
          0.7805,
          0.78,
          0.7778,
          0.7755,
          0.7692,
          0.7692,
          0.7674,
          0.7674,
          0.7647,
          0.7619,
          0.7568,
          0.75,
          0.75,
          0.75,
          0.7455,
          0.7442,
          0.7436,
          0.7429,
          0.7407,
          0.7407,
          0.7333,
          0.7273,
          0.725,
          0.725,
          0.725,
          0.7222,
          0.7179,
          0.7174,
          0.7027,
          0.7
         ],
         "z": [
          1.4823,
          8.3236,
          8.9895,
          8.2783,
          8.9406,
          1.4253,
          1.423,
          8.1956,
          8.1305,
          1.4022,
          1.3897,
          1.3801,
          14.719,
          1.3725,
          1.3725,
          1.3683,
          1.3621,
          1.3433,
          1.3389,
          1.329,
          1.329,
          8.1956,
          1.297,
          1.297,
          8.0174,
          1.2847,
          10.1901,
          10.7409,
          14.719,
          1.2764,
          1.2755,
          1.2706,
          1.2643,
          1.2627,
          1.2615,
          10.5717,
          1.2543,
          1.2483,
          1.2483,
          1.2451,
          9.9037,
          1.2353,
          1.2353,
          1.2267,
          1.2258,
          1.2229,
          1.2229,
          1.2229,
          1.2229,
          9.7345,
          1.2163,
          1.2155,
          1.2128,
          1.2128,
          7.2031,
          9.2944,
          1.1947,
          1.1941,
          1.1931,
          8.781,
          8.0174,
          7.0923,
          8.0174,
          7.0923,
          9.9037,
          1.1702,
          1.1664,
          6.9657,
          9.0331,
          1.1581,
          1.1569,
          8.9895,
          1.1529,
          1.1496,
          7.0923,
          6.567,
          6.5517,
          7.0758,
          8.8132,
          8.781,
          10.5717,
          1.1117,
          7.2031,
          5.1604,
          5.1292,
          7.1473,
          8.5699,
          9.2556,
          6.567,
          8.1305,
          5.0458,
          8.3818,
          1.0747,
          9.0331,
          8.5699,
          8.3236,
          9.7345,
          6.3599,
          9.2556,
          6.5857
         ]
        }
       ],
       "layout": {
        "coloraxis": {
         "colorbar": {
          "title": {
           "text": "antecedent support"
          }
         },
         "colorscale": [
          [
           0,
           "#0d0887"
          ],
          [
           0.1111111111111111,
           "#46039f"
          ],
          [
           0.2222222222222222,
           "#7201a8"
          ],
          [
           0.3333333333333333,
           "#9c179e"
          ],
          [
           0.4444444444444444,
           "#bd3786"
          ],
          [
           0.5555555555555556,
           "#d8576b"
          ],
          [
           0.6666666666666666,
           "#ed7953"
          ],
          [
           0.7777777777777778,
           "#fb9f3a"
          ],
          [
           0.8888888888888888,
           "#fdca26"
          ],
          [
           1,
           "#f0f921"
          ]
         ]
        },
        "height": 800,
        "legend": {
         "tracegroupgap": 0
        },
        "scene": {
         "domain": {
          "x": [
           0,
           1
          ],
          "y": [
           0,
           1
          ]
         },
         "xaxis": {
          "title": {
           "text": "support"
          }
         },
         "yaxis": {
          "title": {
           "text": "confidence"
          }
         },
         "zaxis": {
          "title": {
           "text": "lift"
          }
         }
        },
        "template": {
         "data": {
          "bar": [
           {
            "error_x": {
             "color": "#2a3f5f"
            },
            "error_y": {
             "color": "#2a3f5f"
            },
            "marker": {
             "line": {
              "color": "#E5ECF6",
              "width": 0.5
             },
             "pattern": {
              "fillmode": "overlay",
              "size": 10,
              "solidity": 0.2
             }
            },
            "type": "bar"
           }
          ],
          "barpolar": [
           {
            "marker": {
             "line": {
              "color": "#E5ECF6",
              "width": 0.5
             },
             "pattern": {
              "fillmode": "overlay",
              "size": 10,
              "solidity": 0.2
             }
            },
            "type": "barpolar"
           }
          ],
          "carpet": [
           {
            "aaxis": {
             "endlinecolor": "#2a3f5f",
             "gridcolor": "white",
             "linecolor": "white",
             "minorgridcolor": "white",
             "startlinecolor": "#2a3f5f"
            },
            "baxis": {
             "endlinecolor": "#2a3f5f",
             "gridcolor": "white",
             "linecolor": "white",
             "minorgridcolor": "white",
             "startlinecolor": "#2a3f5f"
            },
            "type": "carpet"
           }
          ],
          "choropleth": [
           {
            "colorbar": {
             "outlinewidth": 0,
             "ticks": ""
            },
            "type": "choropleth"
           }
          ],
          "contour": [
           {
            "colorbar": {
             "outlinewidth": 0,
             "ticks": ""
            },
            "colorscale": [
             [
              0,
              "#0d0887"
             ],
             [
              0.1111111111111111,
              "#46039f"
             ],
             [
              0.2222222222222222,
              "#7201a8"
             ],
             [
              0.3333333333333333,
              "#9c179e"
             ],
             [
              0.4444444444444444,
              "#bd3786"
             ],
             [
              0.5555555555555556,
              "#d8576b"
             ],
             [
              0.6666666666666666,
              "#ed7953"
             ],
             [
              0.7777777777777778,
              "#fb9f3a"
             ],
             [
              0.8888888888888888,
              "#fdca26"
             ],
             [
              1,
              "#f0f921"
             ]
            ],
            "type": "contour"
           }
          ],
          "contourcarpet": [
           {
            "colorbar": {
             "outlinewidth": 0,
             "ticks": ""
            },
            "type": "contourcarpet"
           }
          ],
          "heatmap": [
           {
            "colorbar": {
             "outlinewidth": 0,
             "ticks": ""
            },
            "colorscale": [
             [
              0,
              "#0d0887"
             ],
             [
              0.1111111111111111,
              "#46039f"
             ],
             [
              0.2222222222222222,
              "#7201a8"
             ],
             [
              0.3333333333333333,
              "#9c179e"
             ],
             [
              0.4444444444444444,
              "#bd3786"
             ],
             [
              0.5555555555555556,
              "#d8576b"
             ],
             [
              0.6666666666666666,
              "#ed7953"
             ],
             [
              0.7777777777777778,
              "#fb9f3a"
             ],
             [
              0.8888888888888888,
              "#fdca26"
             ],
             [
              1,
              "#f0f921"
             ]
            ],
            "type": "heatmap"
           }
          ],
          "heatmapgl": [
           {
            "colorbar": {
             "outlinewidth": 0,
             "ticks": ""
            },
            "colorscale": [
             [
              0,
              "#0d0887"
             ],
             [
              0.1111111111111111,
              "#46039f"
             ],
             [
              0.2222222222222222,
              "#7201a8"
             ],
             [
              0.3333333333333333,
              "#9c179e"
             ],
             [
              0.4444444444444444,
              "#bd3786"
             ],
             [
              0.5555555555555556,
              "#d8576b"
             ],
             [
              0.6666666666666666,
              "#ed7953"
             ],
             [
              0.7777777777777778,
              "#fb9f3a"
             ],
             [
              0.8888888888888888,
              "#fdca26"
             ],
             [
              1,
              "#f0f921"
             ]
            ],
            "type": "heatmapgl"
           }
          ],
          "histogram": [
           {
            "marker": {
             "pattern": {
              "fillmode": "overlay",
              "size": 10,
              "solidity": 0.2
             }
            },
            "type": "histogram"
           }
          ],
          "histogram2d": [
           {
            "colorbar": {
             "outlinewidth": 0,
             "ticks": ""
            },
            "colorscale": [
             [
              0,
              "#0d0887"
             ],
             [
              0.1111111111111111,
              "#46039f"
             ],
             [
              0.2222222222222222,
              "#7201a8"
             ],
             [
              0.3333333333333333,
              "#9c179e"
             ],
             [
              0.4444444444444444,
              "#bd3786"
             ],
             [
              0.5555555555555556,
              "#d8576b"
             ],
             [
              0.6666666666666666,
              "#ed7953"
             ],
             [
              0.7777777777777778,
              "#fb9f3a"
             ],
             [
              0.8888888888888888,
              "#fdca26"
             ],
             [
              1,
              "#f0f921"
             ]
            ],
            "type": "histogram2d"
           }
          ],
          "histogram2dcontour": [
           {
            "colorbar": {
             "outlinewidth": 0,
             "ticks": ""
            },
            "colorscale": [
             [
              0,
              "#0d0887"
             ],
             [
              0.1111111111111111,
              "#46039f"
             ],
             [
              0.2222222222222222,
              "#7201a8"
             ],
             [
              0.3333333333333333,
              "#9c179e"
             ],
             [
              0.4444444444444444,
              "#bd3786"
             ],
             [
              0.5555555555555556,
              "#d8576b"
             ],
             [
              0.6666666666666666,
              "#ed7953"
             ],
             [
              0.7777777777777778,
              "#fb9f3a"
             ],
             [
              0.8888888888888888,
              "#fdca26"
             ],
             [
              1,
              "#f0f921"
             ]
            ],
            "type": "histogram2dcontour"
           }
          ],
          "mesh3d": [
           {
            "colorbar": {
             "outlinewidth": 0,
             "ticks": ""
            },
            "type": "mesh3d"
           }
          ],
          "parcoords": [
           {
            "line": {
             "colorbar": {
              "outlinewidth": 0,
              "ticks": ""
             }
            },
            "type": "parcoords"
           }
          ],
          "pie": [
           {
            "automargin": true,
            "type": "pie"
           }
          ],
          "scatter": [
           {
            "marker": {
             "colorbar": {
              "outlinewidth": 0,
              "ticks": ""
             }
            },
            "type": "scatter"
           }
          ],
          "scatter3d": [
           {
            "line": {
             "colorbar": {
              "outlinewidth": 0,
              "ticks": ""
             }
            },
            "marker": {
             "colorbar": {
              "outlinewidth": 0,
              "ticks": ""
             }
            },
            "type": "scatter3d"
           }
          ],
          "scattercarpet": [
           {
            "marker": {
             "colorbar": {
              "outlinewidth": 0,
              "ticks": ""
             }
            },
            "type": "scattercarpet"
           }
          ],
          "scattergeo": [
           {
            "marker": {
             "colorbar": {
              "outlinewidth": 0,
              "ticks": ""
             }
            },
            "type": "scattergeo"
           }
          ],
          "scattergl": [
           {
            "marker": {
             "colorbar": {
              "outlinewidth": 0,
              "ticks": ""
             }
            },
            "type": "scattergl"
           }
          ],
          "scattermapbox": [
           {
            "marker": {
             "colorbar": {
              "outlinewidth": 0,
              "ticks": ""
             }
            },
            "type": "scattermapbox"
           }
          ],
          "scatterpolar": [
           {
            "marker": {
             "colorbar": {
              "outlinewidth": 0,
              "ticks": ""
             }
            },
            "type": "scatterpolar"
           }
          ],
          "scatterpolargl": [
           {
            "marker": {
             "colorbar": {
              "outlinewidth": 0,
              "ticks": ""
             }
            },
            "type": "scatterpolargl"
           }
          ],
          "scatterternary": [
           {
            "marker": {
             "colorbar": {
              "outlinewidth": 0,
              "ticks": ""
             }
            },
            "type": "scatterternary"
           }
          ],
          "surface": [
           {
            "colorbar": {
             "outlinewidth": 0,
             "ticks": ""
            },
            "colorscale": [
             [
              0,
              "#0d0887"
             ],
             [
              0.1111111111111111,
              "#46039f"
             ],
             [
              0.2222222222222222,
              "#7201a8"
             ],
             [
              0.3333333333333333,
              "#9c179e"
             ],
             [
              0.4444444444444444,
              "#bd3786"
             ],
             [
              0.5555555555555556,
              "#d8576b"
             ],
             [
              0.6666666666666666,
              "#ed7953"
             ],
             [
              0.7777777777777778,
              "#fb9f3a"
             ],
             [
              0.8888888888888888,
              "#fdca26"
             ],
             [
              1,
              "#f0f921"
             ]
            ],
            "type": "surface"
           }
          ],
          "table": [
           {
            "cells": {
             "fill": {
              "color": "#EBF0F8"
             },
             "line": {
              "color": "white"
             }
            },
            "header": {
             "fill": {
              "color": "#C8D4E3"
             },
             "line": {
              "color": "white"
             }
            },
            "type": "table"
           }
          ]
         },
         "layout": {
          "annotationdefaults": {
           "arrowcolor": "#2a3f5f",
           "arrowhead": 0,
           "arrowwidth": 1
          },
          "autotypenumbers": "strict",
          "coloraxis": {
           "colorbar": {
            "outlinewidth": 0,
            "ticks": ""
           }
          },
          "colorscale": {
           "diverging": [
            [
             0,
             "#8e0152"
            ],
            [
             0.1,
             "#c51b7d"
            ],
            [
             0.2,
             "#de77ae"
            ],
            [
             0.3,
             "#f1b6da"
            ],
            [
             0.4,
             "#fde0ef"
            ],
            [
             0.5,
             "#f7f7f7"
            ],
            [
             0.6,
             "#e6f5d0"
            ],
            [
             0.7,
             "#b8e186"
            ],
            [
             0.8,
             "#7fbc41"
            ],
            [
             0.9,
             "#4d9221"
            ],
            [
             1,
             "#276419"
            ]
           ],
           "sequential": [
            [
             0,
             "#0d0887"
            ],
            [
             0.1111111111111111,
             "#46039f"
            ],
            [
             0.2222222222222222,
             "#7201a8"
            ],
            [
             0.3333333333333333,
             "#9c179e"
            ],
            [
             0.4444444444444444,
             "#bd3786"
            ],
            [
             0.5555555555555556,
             "#d8576b"
            ],
            [
             0.6666666666666666,
             "#ed7953"
            ],
            [
             0.7777777777777778,
             "#fb9f3a"
            ],
            [
             0.8888888888888888,
             "#fdca26"
            ],
            [
             1,
             "#f0f921"
            ]
           ],
           "sequentialminus": [
            [
             0,
             "#0d0887"
            ],
            [
             0.1111111111111111,
             "#46039f"
            ],
            [
             0.2222222222222222,
             "#7201a8"
            ],
            [
             0.3333333333333333,
             "#9c179e"
            ],
            [
             0.4444444444444444,
             "#bd3786"
            ],
            [
             0.5555555555555556,
             "#d8576b"
            ],
            [
             0.6666666666666666,
             "#ed7953"
            ],
            [
             0.7777777777777778,
             "#fb9f3a"
            ],
            [
             0.8888888888888888,
             "#fdca26"
            ],
            [
             1,
             "#f0f921"
            ]
           ]
          },
          "colorway": [
           "#636efa",
           "#EF553B",
           "#00cc96",
           "#ab63fa",
           "#FFA15A",
           "#19d3f3",
           "#FF6692",
           "#B6E880",
           "#FF97FF",
           "#FECB52"
          ],
          "font": {
           "color": "#2a3f5f"
          },
          "geo": {
           "bgcolor": "white",
           "lakecolor": "white",
           "landcolor": "#E5ECF6",
           "showlakes": true,
           "showland": true,
           "subunitcolor": "white"
          },
          "hoverlabel": {
           "align": "left"
          },
          "hovermode": "closest",
          "mapbox": {
           "style": "light"
          },
          "paper_bgcolor": "white",
          "plot_bgcolor": "#E5ECF6",
          "polar": {
           "angularaxis": {
            "gridcolor": "white",
            "linecolor": "white",
            "ticks": ""
           },
           "bgcolor": "#E5ECF6",
           "radialaxis": {
            "gridcolor": "white",
            "linecolor": "white",
            "ticks": ""
           }
          },
          "scene": {
           "xaxis": {
            "backgroundcolor": "#E5ECF6",
            "gridcolor": "white",
            "gridwidth": 2,
            "linecolor": "white",
            "showbackground": true,
            "ticks": "",
            "zerolinecolor": "white"
           },
           "yaxis": {
            "backgroundcolor": "#E5ECF6",
            "gridcolor": "white",
            "gridwidth": 2,
            "linecolor": "white",
            "showbackground": true,
            "ticks": "",
            "zerolinecolor": "white"
           },
           "zaxis": {
            "backgroundcolor": "#E5ECF6",
            "gridcolor": "white",
            "gridwidth": 2,
            "linecolor": "white",
            "showbackground": true,
            "ticks": "",
            "zerolinecolor": "white"
           }
          },
          "shapedefaults": {
           "line": {
            "color": "#2a3f5f"
           }
          },
          "ternary": {
           "aaxis": {
            "gridcolor": "white",
            "linecolor": "white",
            "ticks": ""
           },
           "baxis": {
            "gridcolor": "white",
            "linecolor": "white",
            "ticks": ""
           },
           "bgcolor": "#E5ECF6",
           "caxis": {
            "gridcolor": "white",
            "linecolor": "white",
            "ticks": ""
           }
          },
          "title": {
           "x": 0.05
          },
          "xaxis": {
           "automargin": true,
           "gridcolor": "white",
           "linecolor": "white",
           "ticks": "",
           "title": {
            "standoff": 15
           },
           "zerolinecolor": "white",
           "zerolinewidth": 2
          },
          "yaxis": {
           "automargin": true,
           "gridcolor": "white",
           "linecolor": "white",
           "ticks": "",
           "title": {
            "standoff": 15
           },
           "zerolinecolor": "white",
           "zerolinewidth": 2
          }
         }
        },
        "title": {
         "text": "3d Plot for Rule Mining"
        },
        "width": 900
       }
      }
     },
     "metadata": {}
    }
   ],
   "metadata": {}
  },
  {
   "cell_type": "markdown",
   "source": [
    "### Dimensionaliteitsreductie \n",
    "\n",
    "is een leertechniek die wordt gebruikt wanneer het aantal kenmerken (of dimensies) in een bepaalde dataset te hoog is. Het reduceert het aantal tot een beheersbare omvang en behoudt tegelijkertijd de gegevensintegriteit.\n",
    "\n",
    "Dimensionaliteitsreductie technieken worden veel gebruikt bij feature engineering. \n",
    "\n",
    "### Curse of dimensionality  \n",
    "\n",
    "wanneer de dimensionaliteit toeneemt, neemt het volume van de ruimte zo snel toe dat de beschikbare gegevens schaars worden. Deze schaarste is problematisch voor elke methode die statistische significantie vereist\n"
   ],
   "metadata": {}
  },
  {
   "cell_type": "markdown",
   "source": [
    "## Supervised\n",
    "\n",
    "Supervised learning is een machine learning-benadering die wordt gedefinieerd door het gebruik van gelabelde datasets. Deze datasets zijn ontworpen om algoritmen te trainen of te \"superviseren\" om gegevens te classificeren of resultaten nauwkeurig te voorspellen. Met behulp van gelabelde inputs en outputs kan het model zijn nauwkeurigheid meten en in de loop van de tijd leren.\n",
    "\n",
    "Gesuperviseerd leren kan worden onderverdeeld in twee soorten problemen bij datamining: classificatie en regressie:\n",
    "\n",
    "\n"
   ],
   "metadata": {}
  },
  {
   "cell_type": "markdown",
   "source": [
    "## Classification\n",
    "\n",
    "is een algoritme om testgegevens nauwkeurig toe te wijzen aan specifieke categorieën, zoals het scheiden van appels van peren."
   ],
   "metadata": {}
  },
  {
   "cell_type": "markdown",
   "source": [
    "## Regressie \n",
    "\n",
    "Regressiemodellen zijn handig voor het voorspellen van numerieke waarden op basis van verschillende gegevenspunten, zoals projecties van verkoopopbrengsten voor een bepaald bedrijf.Regressie is een ander type begeleide leermethode die een algoritme gebruikt om de relatie tussen afhankelijke en onafhankelijke variabelen te begrijpen. Regressiemodellen zijn handig voor het voorspellen van numerieke waarden op basis van verschillende gegevenspunten, zoals projecties van verkoopopbrengsten voor een bepaald bedrijf. Enkele populaire regressie-algoritmen zijn lineaire regressie, logistische regressie en polynomiale regressie."
   ],
   "metadata": {}
  },
  {
   "cell_type": "markdown",
   "source": [
    "## Models\n",
    "\n",
    "We gaan even kort schetsen hoe de volgende modellen werken. \n",
    "\n",
    "### Lineaire modellen\n",
    "\n",
    "\n",
    "\n",
    "### Decision trees\n",
    "\n"
   ],
   "metadata": {}
  },
  {
   "cell_type": "markdown",
   "source": [
    "## Train/Test"
   ],
   "metadata": {}
  },
  {
   "cell_type": "markdown",
   "source": [
    "## Hyperparameters "
   ],
   "metadata": {}
  },
  {
   "cell_type": "markdown",
   "source": [
    "## Ensembles\n",
    "\n",
    "### Stacking\n",
    "\n",
    "### Bagging\n",
    "\n",
    "### Boosting"
   ],
   "metadata": {}
  },
  {
   "cell_type": "markdown",
   "source": [
    "## Overfitting"
   ],
   "metadata": {}
  }
 ],
 "metadata": {
  "orig_nbformat": 4,
  "language_info": {
   "name": "python",
   "version": "3.8.8",
   "mimetype": "text/x-python",
   "codemirror_mode": {
    "name": "ipython",
    "version": 3
   },
   "pygments_lexer": "ipython3",
   "nbconvert_exporter": "python",
   "file_extension": ".py"
  },
  "kernelspec": {
   "name": "python3",
   "display_name": "Python 3.8.8 64-bit ('base': conda)"
  },
  "interpreter": {
   "hash": "98b0a9b7b4eaaa670588a142fd0a9b87eaafe866f1db4228be72b4211d12040f"
  }
 },
 "nbformat": 4,
 "nbformat_minor": 2
}